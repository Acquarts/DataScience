{
 "cells": [
  {
   "cell_type": "code",
   "execution_count": 31,
   "id": "1e88438f",
   "metadata": {
    "cellUniqueIdByVincent": "9d895"
   },
   "outputs": [],
   "source": [
    "import pandas as pd\n",
    "from xgboost import XGBClassifier\n",
    "import numpy as np\n",
    "from sklearn.model_selection import train_test_split\n",
    "from sklearn.metrics import classification_report, accuracy_score\n",
    "import joblib"
   ]
  },
  {
   "cell_type": "code",
   "execution_count": 32,
   "id": "67d1e1d1",
   "metadata": {
    "cellUniqueIdByVincent": "e1f68"
   },
   "outputs": [],
   "source": [
    "df = pd.read_csv('df_final.csv')"
   ]
  },
  {
   "cell_type": "code",
   "execution_count": 33,
   "id": "92aef950",
   "metadata": {},
   "outputs": [],
   "source": [
    "top_features = [\n",
    "    'Curricular units 2nd sem (credited)',\n",
    "    'Curricular units 2nd sem (evaluations)',\n",
    "    'Curricular units 2nd sem (grade)',\n",
    "    'Admission grade',\n",
    "    'Tuition fees up to date',\n",
    "    'Age at enrollment',\n",
    "    'Previous qualification (grade)',\n",
    "    \n",
    "]"
   ]
  },
  {
   "cell_type": "code",
   "execution_count": 34,
   "id": "0cf66fec",
   "metadata": {
    "cellUniqueIdByVincent": "1e5e5"
   },
   "outputs": [],
   "source": [
    "X = df[top_features]\n",
    "y = df['target']"
   ]
  },
  {
   "cell_type": "code",
   "execution_count": 35,
   "id": "be91eac3",
   "metadata": {
    "cellUniqueIdByVincent": "edb6b"
   },
   "outputs": [],
   "source": [
    "X_train, X_test, y_train, y_test = train_test_split(X, y, test_size=0.15, random_state=42, stratify=y)"
   ]
  },
  {
   "cell_type": "code",
   "execution_count": 36,
   "id": "7ada672b",
   "metadata": {
    "cellUniqueIdByVincent": "273d0"
   },
   "outputs": [],
   "source": [
    "model_XGB_Clf = XGBClassifier(eval_metric='mlogloss', random_state=42)\n",
    "model_XGB_Clf.fit(X_train, y_train)\n",
    "y_pred = model_XGB_Clf.predict(X_test)\n",
    "acc = accuracy_score(y_test, y_pred)"
   ]
  },
  {
   "cell_type": "code",
   "execution_count": 37,
   "id": "78160dcd",
   "metadata": {
    "cellUniqueIdByVincent": "f16a3"
   },
   "outputs": [
    {
     "data": {
      "text/plain": [
       "['Model_XGBoost_Classifier.pkl']"
      ]
     },
     "execution_count": 37,
     "metadata": {},
     "output_type": "execute_result"
    }
   ],
   "source": [
    "joblib.dump(model_XGB_Clf, 'Model_XGBoost_Classifier.pkl')"
   ]
  }
 ],
 "metadata": {
  "kernelspec": {
   "display_name": "Python 3",
   "language": "python",
   "name": "python3"
  },
  "language_info": {
   "codemirror_mode": {
    "name": "ipython",
    "version": 3
   },
   "file_extension": ".py",
   "mimetype": "text/x-python",
   "name": "python",
   "nbconvert_exporter": "python",
   "pygments_lexer": "ipython3",
   "version": "3.12.3"
  },
  "vincent": {
   "sessionId": "d1df26488ea303cbb060c11b_2025-05-29T17-34-32-868Z"
  }
 },
 "nbformat": 4,
 "nbformat_minor": 5
}
