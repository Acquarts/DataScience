{
 "cells": [
  {
   "cell_type": "code",
   "execution_count": 78,
   "id": "209ffc99",
   "metadata": {},
   "outputs": [],
   "source": [
    "import pandas as pd\n",
    "import numpy as np\n",
    "import matplotlib.pyplot as plt\n",
    "import plotly.express as px\n",
    "import seaborn as sns\n",
    "import plotly.graph_objects as go\n",
    "\n",
    "from sklearn.preprocessing import MinMaxScaler, OneHotEncoder, StandardScaler\n",
    "from sklearn.ensemble import RandomForestRegressor, RandomForestClassifier\n",
    "from sklearn.linear_model import LinearRegression\n",
    "from sklearn.model_selection import train_test_split\n",
    "from plotly.subplots import make_subplots\n",
    "from sklearn.preprocessing import LabelEncoder\n",
    "from sklearn.metrics import mean_squared_error, mean_absolute_error, root_mean_squared_error, r2_score\n",
    "\n",
    "import warnings\n",
    "warnings.filterwarnings('ignore')"
   ]
  },
  {
   "cell_type": "code",
   "execution_count": 79,
   "id": "60d1998a",
   "metadata": {},
   "outputs": [],
   "source": [
    "pd.set_option('display.max_columns', 100)"
   ]
  },
  {
   "cell_type": "code",
   "execution_count": 80,
   "id": "2edcb312",
   "metadata": {},
   "outputs": [
    {
     "data": {
      "text/html": [
       "<div>\n",
       "<style scoped>\n",
       "    .dataframe tbody tr th:only-of-type {\n",
       "        vertical-align: middle;\n",
       "    }\n",
       "\n",
       "    .dataframe tbody tr th {\n",
       "        vertical-align: top;\n",
       "    }\n",
       "\n",
       "    .dataframe thead th {\n",
       "        text-align: right;\n",
       "    }\n",
       "</style>\n",
       "<table border=\"1\" class=\"dataframe\">\n",
       "  <thead>\n",
       "    <tr style=\"text-align: right;\">\n",
       "      <th></th>\n",
       "      <th>farm_id</th>\n",
       "      <th>region</th>\n",
       "      <th>crop_type</th>\n",
       "      <th>soil_moisture_%</th>\n",
       "      <th>soil_pH</th>\n",
       "      <th>temperature_C</th>\n",
       "      <th>rainfall_mm</th>\n",
       "      <th>humidity_%</th>\n",
       "      <th>sunlight_hours</th>\n",
       "      <th>irrigation_type</th>\n",
       "      <th>fertilizer_type</th>\n",
       "      <th>pesticide_usage_ml</th>\n",
       "      <th>sowing_date</th>\n",
       "      <th>harvest_date</th>\n",
       "      <th>total_days</th>\n",
       "      <th>yield_kg_per_hectare</th>\n",
       "      <th>sensor_id</th>\n",
       "      <th>timestamp</th>\n",
       "      <th>latitude</th>\n",
       "      <th>longitude</th>\n",
       "      <th>NDVI_index</th>\n",
       "      <th>crop_disease_status</th>\n",
       "    </tr>\n",
       "  </thead>\n",
       "  <tbody>\n",
       "    <tr>\n",
       "      <th>0</th>\n",
       "      <td>FARM0001</td>\n",
       "      <td>North India</td>\n",
       "      <td>Wheat</td>\n",
       "      <td>35.95</td>\n",
       "      <td>5.99</td>\n",
       "      <td>17.79</td>\n",
       "      <td>75.62</td>\n",
       "      <td>77.03</td>\n",
       "      <td>7.27</td>\n",
       "      <td>NaN</td>\n",
       "      <td>Organic</td>\n",
       "      <td>6.34</td>\n",
       "      <td>2024-01-08</td>\n",
       "      <td>2024-05-09</td>\n",
       "      <td>122</td>\n",
       "      <td>4408.07</td>\n",
       "      <td>SENS0001</td>\n",
       "      <td>2024-03-19</td>\n",
       "      <td>14.970941</td>\n",
       "      <td>82.997689</td>\n",
       "      <td>0.63</td>\n",
       "      <td>Mild</td>\n",
       "    </tr>\n",
       "    <tr>\n",
       "      <th>1</th>\n",
       "      <td>FARM0002</td>\n",
       "      <td>South USA</td>\n",
       "      <td>Soybean</td>\n",
       "      <td>19.74</td>\n",
       "      <td>7.24</td>\n",
       "      <td>30.18</td>\n",
       "      <td>89.91</td>\n",
       "      <td>61.13</td>\n",
       "      <td>5.67</td>\n",
       "      <td>Sprinkler</td>\n",
       "      <td>Inorganic</td>\n",
       "      <td>9.60</td>\n",
       "      <td>2024-02-04</td>\n",
       "      <td>2024-05-26</td>\n",
       "      <td>112</td>\n",
       "      <td>5389.98</td>\n",
       "      <td>SENS0002</td>\n",
       "      <td>2024-04-21</td>\n",
       "      <td>16.613022</td>\n",
       "      <td>70.869009</td>\n",
       "      <td>0.58</td>\n",
       "      <td>NaN</td>\n",
       "    </tr>\n",
       "    <tr>\n",
       "      <th>2</th>\n",
       "      <td>FARM0003</td>\n",
       "      <td>South USA</td>\n",
       "      <td>Wheat</td>\n",
       "      <td>29.32</td>\n",
       "      <td>7.16</td>\n",
       "      <td>27.37</td>\n",
       "      <td>265.43</td>\n",
       "      <td>68.87</td>\n",
       "      <td>8.23</td>\n",
       "      <td>Drip</td>\n",
       "      <td>Mixed</td>\n",
       "      <td>15.26</td>\n",
       "      <td>2024-02-03</td>\n",
       "      <td>2024-06-26</td>\n",
       "      <td>144</td>\n",
       "      <td>2931.16</td>\n",
       "      <td>SENS0003</td>\n",
       "      <td>2024-02-28</td>\n",
       "      <td>19.503156</td>\n",
       "      <td>79.068206</td>\n",
       "      <td>0.80</td>\n",
       "      <td>Mild</td>\n",
       "    </tr>\n",
       "    <tr>\n",
       "      <th>3</th>\n",
       "      <td>FARM0004</td>\n",
       "      <td>Central USA</td>\n",
       "      <td>Maize</td>\n",
       "      <td>17.33</td>\n",
       "      <td>6.03</td>\n",
       "      <td>33.73</td>\n",
       "      <td>212.01</td>\n",
       "      <td>70.46</td>\n",
       "      <td>5.03</td>\n",
       "      <td>Sprinkler</td>\n",
       "      <td>Organic</td>\n",
       "      <td>25.80</td>\n",
       "      <td>2024-02-21</td>\n",
       "      <td>2024-07-04</td>\n",
       "      <td>134</td>\n",
       "      <td>4227.80</td>\n",
       "      <td>SENS0004</td>\n",
       "      <td>2024-05-14</td>\n",
       "      <td>31.071298</td>\n",
       "      <td>85.519998</td>\n",
       "      <td>0.44</td>\n",
       "      <td>NaN</td>\n",
       "    </tr>\n",
       "    <tr>\n",
       "      <th>4</th>\n",
       "      <td>FARM0005</td>\n",
       "      <td>Central USA</td>\n",
       "      <td>Cotton</td>\n",
       "      <td>19.37</td>\n",
       "      <td>5.92</td>\n",
       "      <td>33.86</td>\n",
       "      <td>269.09</td>\n",
       "      <td>55.73</td>\n",
       "      <td>7.93</td>\n",
       "      <td>NaN</td>\n",
       "      <td>Mixed</td>\n",
       "      <td>25.65</td>\n",
       "      <td>2024-02-05</td>\n",
       "      <td>2024-05-20</td>\n",
       "      <td>105</td>\n",
       "      <td>4979.96</td>\n",
       "      <td>SENS0005</td>\n",
       "      <td>2024-04-13</td>\n",
       "      <td>16.568540</td>\n",
       "      <td>81.691720</td>\n",
       "      <td>0.84</td>\n",
       "      <td>Severe</td>\n",
       "    </tr>\n",
       "    <tr>\n",
       "      <th>...</th>\n",
       "      <td>...</td>\n",
       "      <td>...</td>\n",
       "      <td>...</td>\n",
       "      <td>...</td>\n",
       "      <td>...</td>\n",
       "      <td>...</td>\n",
       "      <td>...</td>\n",
       "      <td>...</td>\n",
       "      <td>...</td>\n",
       "      <td>...</td>\n",
       "      <td>...</td>\n",
       "      <td>...</td>\n",
       "      <td>...</td>\n",
       "      <td>...</td>\n",
       "      <td>...</td>\n",
       "      <td>...</td>\n",
       "      <td>...</td>\n",
       "      <td>...</td>\n",
       "      <td>...</td>\n",
       "      <td>...</td>\n",
       "      <td>...</td>\n",
       "      <td>...</td>\n",
       "    </tr>\n",
       "    <tr>\n",
       "      <th>495</th>\n",
       "      <td>FARM0496</td>\n",
       "      <td>Central USA</td>\n",
       "      <td>Rice</td>\n",
       "      <td>42.85</td>\n",
       "      <td>6.70</td>\n",
       "      <td>30.85</td>\n",
       "      <td>52.35</td>\n",
       "      <td>79.58</td>\n",
       "      <td>7.25</td>\n",
       "      <td>Manual</td>\n",
       "      <td>Mixed</td>\n",
       "      <td>8.82</td>\n",
       "      <td>2024-01-16</td>\n",
       "      <td>2024-06-02</td>\n",
       "      <td>138</td>\n",
       "      <td>4251.40</td>\n",
       "      <td>SENS0496</td>\n",
       "      <td>2024-05-08</td>\n",
       "      <td>30.386623</td>\n",
       "      <td>76.147700</td>\n",
       "      <td>0.59</td>\n",
       "      <td>Mild</td>\n",
       "    </tr>\n",
       "    <tr>\n",
       "      <th>496</th>\n",
       "      <td>FARM0497</td>\n",
       "      <td>North India</td>\n",
       "      <td>Soybean</td>\n",
       "      <td>34.22</td>\n",
       "      <td>6.75</td>\n",
       "      <td>17.46</td>\n",
       "      <td>256.23</td>\n",
       "      <td>45.14</td>\n",
       "      <td>5.78</td>\n",
       "      <td>NaN</td>\n",
       "      <td>Organic</td>\n",
       "      <td>5.05</td>\n",
       "      <td>2024-01-01</td>\n",
       "      <td>2024-04-14</td>\n",
       "      <td>104</td>\n",
       "      <td>3708.54</td>\n",
       "      <td>SENS0497</td>\n",
       "      <td>2024-01-19</td>\n",
       "      <td>18.832748</td>\n",
       "      <td>75.736924</td>\n",
       "      <td>0.85</td>\n",
       "      <td>Severe</td>\n",
       "    </tr>\n",
       "    <tr>\n",
       "      <th>497</th>\n",
       "      <td>FARM0498</td>\n",
       "      <td>North India</td>\n",
       "      <td>Cotton</td>\n",
       "      <td>15.93</td>\n",
       "      <td>5.72</td>\n",
       "      <td>17.03</td>\n",
       "      <td>288.96</td>\n",
       "      <td>57.87</td>\n",
       "      <td>7.69</td>\n",
       "      <td>Drip</td>\n",
       "      <td>Inorganic</td>\n",
       "      <td>46.55</td>\n",
       "      <td>2024-01-02</td>\n",
       "      <td>2024-05-09</td>\n",
       "      <td>128</td>\n",
       "      <td>2604.41</td>\n",
       "      <td>SENS0498</td>\n",
       "      <td>2024-04-20</td>\n",
       "      <td>23.262016</td>\n",
       "      <td>81.992230</td>\n",
       "      <td>0.71</td>\n",
       "      <td>Mild</td>\n",
       "    </tr>\n",
       "    <tr>\n",
       "      <th>498</th>\n",
       "      <td>FARM0499</td>\n",
       "      <td>Central USA</td>\n",
       "      <td>Soybean</td>\n",
       "      <td>38.61</td>\n",
       "      <td>6.20</td>\n",
       "      <td>17.08</td>\n",
       "      <td>279.06</td>\n",
       "      <td>73.09</td>\n",
       "      <td>9.60</td>\n",
       "      <td>Drip</td>\n",
       "      <td>Organic</td>\n",
       "      <td>43.78</td>\n",
       "      <td>2024-01-25</td>\n",
       "      <td>2024-06-04</td>\n",
       "      <td>131</td>\n",
       "      <td>2586.36</td>\n",
       "      <td>SENS0499</td>\n",
       "      <td>2024-03-02</td>\n",
       "      <td>19.764989</td>\n",
       "      <td>84.426869</td>\n",
       "      <td>0.77</td>\n",
       "      <td>Severe</td>\n",
       "    </tr>\n",
       "    <tr>\n",
       "      <th>499</th>\n",
       "      <td>FARM0500</td>\n",
       "      <td>North India</td>\n",
       "      <td>Wheat</td>\n",
       "      <td>30.22</td>\n",
       "      <td>7.42</td>\n",
       "      <td>20.57</td>\n",
       "      <td>72.61</td>\n",
       "      <td>89.74</td>\n",
       "      <td>5.09</td>\n",
       "      <td>NaN</td>\n",
       "      <td>Inorganic</td>\n",
       "      <td>19.37</td>\n",
       "      <td>2024-02-16</td>\n",
       "      <td>2024-06-29</td>\n",
       "      <td>134</td>\n",
       "      <td>5891.40</td>\n",
       "      <td>SENS0500</td>\n",
       "      <td>2024-05-11</td>\n",
       "      <td>13.455532</td>\n",
       "      <td>88.880605</td>\n",
       "      <td>0.85</td>\n",
       "      <td>Severe</td>\n",
       "    </tr>\n",
       "  </tbody>\n",
       "</table>\n",
       "<p>500 rows × 22 columns</p>\n",
       "</div>"
      ],
      "text/plain": [
       "      farm_id       region crop_type  soil_moisture_%  soil_pH  temperature_C  \\\n",
       "0    FARM0001  North India     Wheat            35.95     5.99          17.79   \n",
       "1    FARM0002    South USA   Soybean            19.74     7.24          30.18   \n",
       "2    FARM0003    South USA     Wheat            29.32     7.16          27.37   \n",
       "3    FARM0004  Central USA     Maize            17.33     6.03          33.73   \n",
       "4    FARM0005  Central USA    Cotton            19.37     5.92          33.86   \n",
       "..        ...          ...       ...              ...      ...            ...   \n",
       "495  FARM0496  Central USA      Rice            42.85     6.70          30.85   \n",
       "496  FARM0497  North India   Soybean            34.22     6.75          17.46   \n",
       "497  FARM0498  North India    Cotton            15.93     5.72          17.03   \n",
       "498  FARM0499  Central USA   Soybean            38.61     6.20          17.08   \n",
       "499  FARM0500  North India     Wheat            30.22     7.42          20.57   \n",
       "\n",
       "     rainfall_mm  humidity_%  sunlight_hours irrigation_type fertilizer_type  \\\n",
       "0          75.62       77.03            7.27             NaN         Organic   \n",
       "1          89.91       61.13            5.67       Sprinkler       Inorganic   \n",
       "2         265.43       68.87            8.23            Drip           Mixed   \n",
       "3         212.01       70.46            5.03       Sprinkler         Organic   \n",
       "4         269.09       55.73            7.93             NaN           Mixed   \n",
       "..           ...         ...             ...             ...             ...   \n",
       "495        52.35       79.58            7.25          Manual           Mixed   \n",
       "496       256.23       45.14            5.78             NaN         Organic   \n",
       "497       288.96       57.87            7.69            Drip       Inorganic   \n",
       "498       279.06       73.09            9.60            Drip         Organic   \n",
       "499        72.61       89.74            5.09             NaN       Inorganic   \n",
       "\n",
       "     pesticide_usage_ml sowing_date harvest_date  total_days  \\\n",
       "0                  6.34  2024-01-08   2024-05-09         122   \n",
       "1                  9.60  2024-02-04   2024-05-26         112   \n",
       "2                 15.26  2024-02-03   2024-06-26         144   \n",
       "3                 25.80  2024-02-21   2024-07-04         134   \n",
       "4                 25.65  2024-02-05   2024-05-20         105   \n",
       "..                  ...         ...          ...         ...   \n",
       "495                8.82  2024-01-16   2024-06-02         138   \n",
       "496                5.05  2024-01-01   2024-04-14         104   \n",
       "497               46.55  2024-01-02   2024-05-09         128   \n",
       "498               43.78  2024-01-25   2024-06-04         131   \n",
       "499               19.37  2024-02-16   2024-06-29         134   \n",
       "\n",
       "     yield_kg_per_hectare sensor_id   timestamp   latitude  longitude  \\\n",
       "0                 4408.07  SENS0001  2024-03-19  14.970941  82.997689   \n",
       "1                 5389.98  SENS0002  2024-04-21  16.613022  70.869009   \n",
       "2                 2931.16  SENS0003  2024-02-28  19.503156  79.068206   \n",
       "3                 4227.80  SENS0004  2024-05-14  31.071298  85.519998   \n",
       "4                 4979.96  SENS0005  2024-04-13  16.568540  81.691720   \n",
       "..                    ...       ...         ...        ...        ...   \n",
       "495               4251.40  SENS0496  2024-05-08  30.386623  76.147700   \n",
       "496               3708.54  SENS0497  2024-01-19  18.832748  75.736924   \n",
       "497               2604.41  SENS0498  2024-04-20  23.262016  81.992230   \n",
       "498               2586.36  SENS0499  2024-03-02  19.764989  84.426869   \n",
       "499               5891.40  SENS0500  2024-05-11  13.455532  88.880605   \n",
       "\n",
       "     NDVI_index crop_disease_status  \n",
       "0          0.63                Mild  \n",
       "1          0.58                 NaN  \n",
       "2          0.80                Mild  \n",
       "3          0.44                 NaN  \n",
       "4          0.84              Severe  \n",
       "..          ...                 ...  \n",
       "495        0.59                Mild  \n",
       "496        0.85              Severe  \n",
       "497        0.71                Mild  \n",
       "498        0.77              Severe  \n",
       "499        0.85              Severe  \n",
       "\n",
       "[500 rows x 22 columns]"
      ]
     },
     "execution_count": 80,
     "metadata": {},
     "output_type": "execute_result"
    }
   ],
   "source": [
    "df = pd.read_csv('Smart_Farming_Crop_Yield_2024.csv')\n",
    "df"
   ]
  },
  {
   "cell_type": "code",
   "execution_count": 81,
   "id": "a9ec20a8",
   "metadata": {},
   "outputs": [
    {
     "name": "stdout",
     "output_type": "stream",
     "text": [
      "<class 'pandas.core.frame.DataFrame'>\n",
      "RangeIndex: 500 entries, 0 to 499\n",
      "Data columns (total 22 columns):\n",
      " #   Column                Non-Null Count  Dtype  \n",
      "---  ------                --------------  -----  \n",
      " 0   farm_id               500 non-null    object \n",
      " 1   region                500 non-null    object \n",
      " 2   crop_type             500 non-null    object \n",
      " 3   soil_moisture_%       500 non-null    float64\n",
      " 4   soil_pH               500 non-null    float64\n",
      " 5   temperature_C         500 non-null    float64\n",
      " 6   rainfall_mm           500 non-null    float64\n",
      " 7   humidity_%            500 non-null    float64\n",
      " 8   sunlight_hours        500 non-null    float64\n",
      " 9   irrigation_type       350 non-null    object \n",
      " 10  fertilizer_type       500 non-null    object \n",
      " 11  pesticide_usage_ml    500 non-null    float64\n",
      " 12  sowing_date           500 non-null    object \n",
      " 13  harvest_date          500 non-null    object \n",
      " 14  total_days            500 non-null    int64  \n",
      " 15  yield_kg_per_hectare  500 non-null    float64\n",
      " 16  sensor_id             500 non-null    object \n",
      " 17  timestamp             500 non-null    object \n",
      " 18  latitude              500 non-null    float64\n",
      " 19  longitude             500 non-null    float64\n",
      " 20  NDVI_index            500 non-null    float64\n",
      " 21  crop_disease_status   370 non-null    object \n",
      "dtypes: float64(11), int64(1), object(10)\n",
      "memory usage: 86.1+ KB\n"
     ]
    }
   ],
   "source": [
    "df.info()"
   ]
  },
  {
   "cell_type": "code",
   "execution_count": 82,
   "id": "253fc300",
   "metadata": {},
   "outputs": [
    {
     "name": "stdout",
     "output_type": "stream",
     "text": [
      "Dataset loaded with 500 rows and 22 columns\n"
     ]
    }
   ],
   "source": [
    "print(f\"Dataset loaded with {df.shape[0]} rows and {df.shape[1]} columns\")"
   ]
  },
  {
   "cell_type": "code",
   "execution_count": 83,
   "id": "80d7e44e",
   "metadata": {},
   "outputs": [
    {
     "data": {
      "text/html": [
       "<style type=\"text/css\">\n",
       "#T_e7641_row0_col0, #T_e7641_row0_col1, #T_e7641_row0_col2, #T_e7641_row0_col3, #T_e7641_row0_col4, #T_e7641_row0_col5, #T_e7641_row0_col6, #T_e7641_row0_col7, #T_e7641_row0_col9, #T_e7641_row0_col10, #T_e7641_row0_col11, #T_e7641_row7_col8 {\n",
       "  background-color: #08306b;\n",
       "  color: #f1f1f1;\n",
       "}\n",
       "#T_e7641_row0_col8, #T_e7641_row1_col11, #T_e7641_row2_col0, #T_e7641_row2_col1, #T_e7641_row2_col2, #T_e7641_row2_col4, #T_e7641_row2_col5, #T_e7641_row2_col7, #T_e7641_row2_col9, #T_e7641_row2_col10, #T_e7641_row2_col11, #T_e7641_row3_col0, #T_e7641_row3_col3, #T_e7641_row3_col6, #T_e7641_row3_col11, #T_e7641_row4_col11, #T_e7641_row5_col11, #T_e7641_row6_col11, #T_e7641_row7_col11 {\n",
       "  background-color: #f7fbff;\n",
       "  color: #000000;\n",
       "}\n",
       "#T_e7641_row1_col0, #T_e7641_row5_col0 {\n",
       "  background-color: #f1f7fd;\n",
       "  color: #000000;\n",
       "}\n",
       "#T_e7641_row1_col1, #T_e7641_row5_col1, #T_e7641_row6_col1, #T_e7641_row6_col5, #T_e7641_row7_col1 {\n",
       "  background-color: #f5f9fe;\n",
       "  color: #000000;\n",
       "}\n",
       "#T_e7641_row1_col2, #T_e7641_row5_col6 {\n",
       "  background-color: #eff6fc;\n",
       "  color: #000000;\n",
       "}\n",
       "#T_e7641_row1_col3 {\n",
       "  background-color: #b9d6ea;\n",
       "  color: #000000;\n",
       "}\n",
       "#T_e7641_row1_col4, #T_e7641_row5_col4 {\n",
       "  background-color: #e3eef8;\n",
       "  color: #000000;\n",
       "}\n",
       "#T_e7641_row1_col5, #T_e7641_row3_col1, #T_e7641_row4_col1, #T_e7641_row4_col5, #T_e7641_row5_col5 {\n",
       "  background-color: #f5fafe;\n",
       "  color: #000000;\n",
       "}\n",
       "#T_e7641_row1_col6, #T_e7641_row2_col3, #T_e7641_row6_col2, #T_e7641_row6_col9 {\n",
       "  background-color: #eef5fc;\n",
       "  color: #000000;\n",
       "}\n",
       "#T_e7641_row1_col7, #T_e7641_row5_col7 {\n",
       "  background-color: #cde0f1;\n",
       "  color: #000000;\n",
       "}\n",
       "#T_e7641_row1_col8 {\n",
       "  background-color: #3d8dc4;\n",
       "  color: #f1f1f1;\n",
       "}\n",
       "#T_e7641_row1_col9, #T_e7641_row4_col2, #T_e7641_row5_col9 {\n",
       "  background-color: #f2f7fd;\n",
       "  color: #000000;\n",
       "}\n",
       "#T_e7641_row1_col10, #T_e7641_row3_col7, #T_e7641_row5_col10 {\n",
       "  background-color: #d9e8f5;\n",
       "  color: #000000;\n",
       "}\n",
       "#T_e7641_row2_col6, #T_e7641_row3_col2, #T_e7641_row4_col0, #T_e7641_row4_col9, #T_e7641_row7_col5 {\n",
       "  background-color: #f4f9fe;\n",
       "  color: #000000;\n",
       "}\n",
       "#T_e7641_row2_col8 {\n",
       "  background-color: #dfebf7;\n",
       "  color: #000000;\n",
       "}\n",
       "#T_e7641_row3_col4, #T_e7641_row6_col0 {\n",
       "  background-color: #edf4fc;\n",
       "  color: #000000;\n",
       "}\n",
       "#T_e7641_row3_col5, #T_e7641_row3_col9 {\n",
       "  background-color: #f6faff;\n",
       "  color: #000000;\n",
       "}\n",
       "#T_e7641_row3_col8, #T_e7641_row7_col7 {\n",
       "  background-color: #bed8ec;\n",
       "  color: #000000;\n",
       "}\n",
       "#T_e7641_row3_col10, #T_e7641_row6_col4 {\n",
       "  background-color: #ddeaf7;\n",
       "  color: #000000;\n",
       "}\n",
       "#T_e7641_row4_col3, #T_e7641_row7_col4 {\n",
       "  background-color: #d9e7f5;\n",
       "  color: #000000;\n",
       "}\n",
       "#T_e7641_row4_col4 {\n",
       "  background-color: #e8f1fa;\n",
       "  color: #000000;\n",
       "}\n",
       "#T_e7641_row4_col6 {\n",
       "  background-color: #f3f8fe;\n",
       "  color: #000000;\n",
       "}\n",
       "#T_e7641_row4_col7 {\n",
       "  background-color: #d3e3f3;\n",
       "  color: #000000;\n",
       "}\n",
       "#T_e7641_row4_col8 {\n",
       "  background-color: #7db8da;\n",
       "  color: #000000;\n",
       "}\n",
       "#T_e7641_row4_col10 {\n",
       "  background-color: #dce9f6;\n",
       "  color: #000000;\n",
       "}\n",
       "#T_e7641_row5_col2 {\n",
       "  background-color: #f0f6fd;\n",
       "  color: #000000;\n",
       "}\n",
       "#T_e7641_row5_col3 {\n",
       "  background-color: #b2d2e8;\n",
       "  color: #000000;\n",
       "}\n",
       "#T_e7641_row5_col8 {\n",
       "  background-color: #3b8bc2;\n",
       "  color: #f1f1f1;\n",
       "}\n",
       "#T_e7641_row6_col3 {\n",
       "  background-color: #8cc0dd;\n",
       "  color: #000000;\n",
       "}\n",
       "#T_e7641_row6_col6 {\n",
       "  background-color: #eaf2fb;\n",
       "  color: #000000;\n",
       "}\n",
       "#T_e7641_row6_col7 {\n",
       "  background-color: #c7dcef;\n",
       "  color: #000000;\n",
       "}\n",
       "#T_e7641_row6_col8 {\n",
       "  background-color: #115ca5;\n",
       "  color: #f1f1f1;\n",
       "}\n",
       "#T_e7641_row6_col10 {\n",
       "  background-color: #d7e6f5;\n",
       "  color: #000000;\n",
       "}\n",
       "#T_e7641_row7_col0 {\n",
       "  background-color: #e9f2fa;\n",
       "  color: #000000;\n",
       "}\n",
       "#T_e7641_row7_col2 {\n",
       "  background-color: #ebf3fb;\n",
       "  color: #000000;\n",
       "}\n",
       "#T_e7641_row7_col3 {\n",
       "  background-color: #5aa2cf;\n",
       "  color: #f1f1f1;\n",
       "}\n",
       "#T_e7641_row7_col6 {\n",
       "  background-color: #e5eff9;\n",
       "  color: #000000;\n",
       "}\n",
       "#T_e7641_row7_col9 {\n",
       "  background-color: #ecf4fb;\n",
       "  color: #000000;\n",
       "}\n",
       "#T_e7641_row7_col10 {\n",
       "  background-color: #d6e5f4;\n",
       "  color: #000000;\n",
       "}\n",
       "</style>\n",
       "<table id=\"T_e7641\">\n",
       "  <thead>\n",
       "    <tr>\n",
       "      <th class=\"blank level0\" >&nbsp;</th>\n",
       "      <th id=\"T_e7641_level0_col0\" class=\"col_heading level0 col0\" >soil_moisture_%</th>\n",
       "      <th id=\"T_e7641_level0_col1\" class=\"col_heading level0 col1\" >soil_pH</th>\n",
       "      <th id=\"T_e7641_level0_col2\" class=\"col_heading level0 col2\" >temperature_C</th>\n",
       "      <th id=\"T_e7641_level0_col3\" class=\"col_heading level0 col3\" >rainfall_mm</th>\n",
       "      <th id=\"T_e7641_level0_col4\" class=\"col_heading level0 col4\" >humidity_%</th>\n",
       "      <th id=\"T_e7641_level0_col5\" class=\"col_heading level0 col5\" >sunlight_hours</th>\n",
       "      <th id=\"T_e7641_level0_col6\" class=\"col_heading level0 col6\" >pesticide_usage_ml</th>\n",
       "      <th id=\"T_e7641_level0_col7\" class=\"col_heading level0 col7\" >total_days</th>\n",
       "      <th id=\"T_e7641_level0_col8\" class=\"col_heading level0 col8\" >yield_kg_per_hectare</th>\n",
       "      <th id=\"T_e7641_level0_col9\" class=\"col_heading level0 col9\" >latitude</th>\n",
       "      <th id=\"T_e7641_level0_col10\" class=\"col_heading level0 col10\" >longitude</th>\n",
       "      <th id=\"T_e7641_level0_col11\" class=\"col_heading level0 col11\" >NDVI_index</th>\n",
       "    </tr>\n",
       "  </thead>\n",
       "  <tbody>\n",
       "    <tr>\n",
       "      <th id=\"T_e7641_level0_row0\" class=\"row_heading level0 row0\" >count</th>\n",
       "      <td id=\"T_e7641_row0_col0\" class=\"data row0 col0\" >500.000000</td>\n",
       "      <td id=\"T_e7641_row0_col1\" class=\"data row0 col1\" >500.000000</td>\n",
       "      <td id=\"T_e7641_row0_col2\" class=\"data row0 col2\" >500.000000</td>\n",
       "      <td id=\"T_e7641_row0_col3\" class=\"data row0 col3\" >500.000000</td>\n",
       "      <td id=\"T_e7641_row0_col4\" class=\"data row0 col4\" >500.000000</td>\n",
       "      <td id=\"T_e7641_row0_col5\" class=\"data row0 col5\" >500.000000</td>\n",
       "      <td id=\"T_e7641_row0_col6\" class=\"data row0 col6\" >500.000000</td>\n",
       "      <td id=\"T_e7641_row0_col7\" class=\"data row0 col7\" >500.000000</td>\n",
       "      <td id=\"T_e7641_row0_col8\" class=\"data row0 col8\" >500.000000</td>\n",
       "      <td id=\"T_e7641_row0_col9\" class=\"data row0 col9\" >500.000000</td>\n",
       "      <td id=\"T_e7641_row0_col10\" class=\"data row0 col10\" >500.000000</td>\n",
       "      <td id=\"T_e7641_row0_col11\" class=\"data row0 col11\" >500.000000</td>\n",
       "    </tr>\n",
       "    <tr>\n",
       "      <th id=\"T_e7641_level0_row1\" class=\"row_heading level0 row1\" >mean</th>\n",
       "      <td id=\"T_e7641_row1_col0\" class=\"data row1 col0\" >26.750140</td>\n",
       "      <td id=\"T_e7641_row1_col1\" class=\"data row1 col1\" >6.523980</td>\n",
       "      <td id=\"T_e7641_row1_col2\" class=\"data row1 col2\" >24.675740</td>\n",
       "      <td id=\"T_e7641_row1_col3\" class=\"data row1 col3\" >181.685740</td>\n",
       "      <td id=\"T_e7641_row1_col4\" class=\"data row1 col4\" >65.194460</td>\n",
       "      <td id=\"T_e7641_row1_col5\" class=\"data row1 col5\" >7.030140</td>\n",
       "      <td id=\"T_e7641_row1_col6\" class=\"data row1 col6\" >26.586980</td>\n",
       "      <td id=\"T_e7641_row1_col7\" class=\"data row1 col7\" >119.496000</td>\n",
       "      <td id=\"T_e7641_row1_col8\" class=\"data row1 col8\" >4032.926940</td>\n",
       "      <td id=\"T_e7641_row1_col9\" class=\"data row1 col9\" >22.442473</td>\n",
       "      <td id=\"T_e7641_row1_col10\" class=\"data row1 col10\" >80.392248</td>\n",
       "      <td id=\"T_e7641_row1_col11\" class=\"data row1 col11\" >0.602060</td>\n",
       "    </tr>\n",
       "    <tr>\n",
       "      <th id=\"T_e7641_level0_row2\" class=\"row_heading level0 row2\" >std</th>\n",
       "      <td id=\"T_e7641_row2_col0\" class=\"data row2 col0\" >10.150053</td>\n",
       "      <td id=\"T_e7641_row2_col1\" class=\"data row2 col1\" >0.585558</td>\n",
       "      <td id=\"T_e7641_row2_col2\" class=\"data row2 col2\" >5.348899</td>\n",
       "      <td id=\"T_e7641_row2_col3\" class=\"data row2 col3\" >72.293091</td>\n",
       "      <td id=\"T_e7641_row2_col4\" class=\"data row2 col4\" >14.642849</td>\n",
       "      <td id=\"T_e7641_row2_col5\" class=\"data row2 col5\" >1.691670</td>\n",
       "      <td id=\"T_e7641_row2_col6\" class=\"data row2 col6\" >13.202429</td>\n",
       "      <td id=\"T_e7641_row2_col7\" class=\"data row2 col7\" >16.798046</td>\n",
       "      <td id=\"T_e7641_row2_col8\" class=\"data row2 col8\" >1174.433040</td>\n",
       "      <td id=\"T_e7641_row2_col9\" class=\"data row2 col9\" >7.283492</td>\n",
       "      <td id=\"T_e7641_row2_col10\" class=\"data row2 col10\" >5.910664</td>\n",
       "      <td id=\"T_e7641_row2_col11\" class=\"data row2 col11\" >0.175402</td>\n",
       "    </tr>\n",
       "    <tr>\n",
       "      <th id=\"T_e7641_level0_row3\" class=\"row_heading level0 row3\" >min</th>\n",
       "      <td id=\"T_e7641_row3_col0\" class=\"data row3 col0\" >10.160000</td>\n",
       "      <td id=\"T_e7641_row3_col1\" class=\"data row3 col1\" >5.510000</td>\n",
       "      <td id=\"T_e7641_row3_col2\" class=\"data row3 col2\" >15.000000</td>\n",
       "      <td id=\"T_e7641_row3_col3\" class=\"data row3 col3\" >50.170000</td>\n",
       "      <td id=\"T_e7641_row3_col4\" class=\"data row3 col4\" >40.230000</td>\n",
       "      <td id=\"T_e7641_row3_col5\" class=\"data row3 col5\" >4.010000</td>\n",
       "      <td id=\"T_e7641_row3_col6\" class=\"data row3 col6\" >5.050000</td>\n",
       "      <td id=\"T_e7641_row3_col7\" class=\"data row3 col7\" >90.000000</td>\n",
       "      <td id=\"T_e7641_row3_col8\" class=\"data row3 col8\" >2023.560000</td>\n",
       "      <td id=\"T_e7641_row3_col9\" class=\"data row3 col9\" >10.004243</td>\n",
       "      <td id=\"T_e7641_row3_col10\" class=\"data row3 col10\" >70.020021</td>\n",
       "      <td id=\"T_e7641_row3_col11\" class=\"data row3 col11\" >0.300000</td>\n",
       "    </tr>\n",
       "    <tr>\n",
       "      <th id=\"T_e7641_level0_row4\" class=\"row_heading level0 row4\" >25%</th>\n",
       "      <td id=\"T_e7641_row4_col0\" class=\"data row4 col0\" >17.890000</td>\n",
       "      <td id=\"T_e7641_row4_col1\" class=\"data row4 col1\" >6.030000</td>\n",
       "      <td id=\"T_e7641_row4_col2\" class=\"data row4 col2\" >20.295000</td>\n",
       "      <td id=\"T_e7641_row4_col3\" class=\"data row4 col3\" >119.217500</td>\n",
       "      <td id=\"T_e7641_row4_col4\" class=\"data row4 col4\" >51.865000</td>\n",
       "      <td id=\"T_e7641_row4_col5\" class=\"data row4 col5\" >5.667500</td>\n",
       "      <td id=\"T_e7641_row4_col6\" class=\"data row4 col6\" >14.945000</td>\n",
       "      <td id=\"T_e7641_row4_col7\" class=\"data row4 col7\" >105.750000</td>\n",
       "      <td id=\"T_e7641_row4_col8\" class=\"data row4 col8\" >2994.820000</td>\n",
       "      <td id=\"T_e7641_row4_col9\" class=\"data row4 col9\" >16.263202</td>\n",
       "      <td id=\"T_e7641_row4_col10\" class=\"data row4 col10\" >75.374713</td>\n",
       "      <td id=\"T_e7641_row4_col11\" class=\"data row4 col11\" >0.447500</td>\n",
       "    </tr>\n",
       "    <tr>\n",
       "      <th id=\"T_e7641_level0_row5\" class=\"row_heading level0 row5\" >50%</th>\n",
       "      <td id=\"T_e7641_row5_col0\" class=\"data row5 col0\" >25.855000</td>\n",
       "      <td id=\"T_e7641_row5_col1\" class=\"data row5 col1\" >6.530000</td>\n",
       "      <td id=\"T_e7641_row5_col2\" class=\"data row5 col2\" >24.655000</td>\n",
       "      <td id=\"T_e7641_row5_col3\" class=\"data row5 col3\" >191.545000</td>\n",
       "      <td id=\"T_e7641_row5_col4\" class=\"data row5 col4\" >65.685000</td>\n",
       "      <td id=\"T_e7641_row5_col5\" class=\"data row5 col5\" >6.995000</td>\n",
       "      <td id=\"T_e7641_row5_col6\" class=\"data row5 col6\" >25.980000</td>\n",
       "      <td id=\"T_e7641_row5_col7\" class=\"data row5 col7\" >119.000000</td>\n",
       "      <td id=\"T_e7641_row5_col8\" class=\"data row5 col8\" >4071.690000</td>\n",
       "      <td id=\"T_e7641_row5_col9\" class=\"data row5 col9\" >21.981743</td>\n",
       "      <td id=\"T_e7641_row5_col10\" class=\"data row5 col10\" >80.650284</td>\n",
       "      <td id=\"T_e7641_row5_col11\" class=\"data row5 col11\" >0.610000</td>\n",
       "    </tr>\n",
       "    <tr>\n",
       "      <th id=\"T_e7641_level0_row6\" class=\"row_heading level0 row6\" >75%</th>\n",
       "      <td id=\"T_e7641_row6_col0\" class=\"data row6 col0\" >36.022500</td>\n",
       "      <td id=\"T_e7641_row6_col1\" class=\"data row6 col1\" >7.040000</td>\n",
       "      <td id=\"T_e7641_row6_col2\" class=\"data row6 col2\" >29.090000</td>\n",
       "      <td id=\"T_e7641_row6_col3\" class=\"data row6 col3\" >239.035000</td>\n",
       "      <td id=\"T_e7641_row6_col4\" class=\"data row6 col4\" >77.995000</td>\n",
       "      <td id=\"T_e7641_row6_col5\" class=\"data row6 col5\" >8.470000</td>\n",
       "      <td id=\"T_e7641_row6_col6\" class=\"data row6 col6\" >38.005000</td>\n",
       "      <td id=\"T_e7641_row6_col7\" class=\"data row6 col7\" >134.000000</td>\n",
       "      <td id=\"T_e7641_row6_col8\" class=\"data row6 col8\" >5062.110000</td>\n",
       "      <td id=\"T_e7641_row6_col9\" class=\"data row6 col9\" >28.528948</td>\n",
       "      <td id=\"T_e7641_row6_col10\" class=\"data row6 col10\" >85.654629</td>\n",
       "      <td id=\"T_e7641_row6_col11\" class=\"data row6 col11\" >0.750000</td>\n",
       "    </tr>\n",
       "    <tr>\n",
       "      <th id=\"T_e7641_level0_row7\" class=\"row_heading level0 row7\" >max</th>\n",
       "      <td id=\"T_e7641_row7_col0\" class=\"data row7 col0\" >44.980000</td>\n",
       "      <td id=\"T_e7641_row7_col1\" class=\"data row7 col1\" >7.500000</td>\n",
       "      <td id=\"T_e7641_row7_col2\" class=\"data row7 col2\" >34.840000</td>\n",
       "      <td id=\"T_e7641_row7_col3\" class=\"data row7 col3\" >298.960000</td>\n",
       "      <td id=\"T_e7641_row7_col4\" class=\"data row7 col4\" >90.000000</td>\n",
       "      <td id=\"T_e7641_row7_col5\" class=\"data row7 col5\" >10.000000</td>\n",
       "      <td id=\"T_e7641_row7_col6\" class=\"data row7 col6\" >49.940000</td>\n",
       "      <td id=\"T_e7641_row7_col7\" class=\"data row7 col7\" >150.000000</td>\n",
       "      <td id=\"T_e7641_row7_col8\" class=\"data row7 col8\" >5998.290000</td>\n",
       "      <td id=\"T_e7641_row7_col9\" class=\"data row7 col9\" >34.981531</td>\n",
       "      <td id=\"T_e7641_row7_col10\" class=\"data row7 col10\" >89.991901</td>\n",
       "      <td id=\"T_e7641_row7_col11\" class=\"data row7 col11\" >0.900000</td>\n",
       "    </tr>\n",
       "  </tbody>\n",
       "</table>\n"
      ],
      "text/plain": [
       "<pandas.io.formats.style.Styler at 0x1ae176ef470>"
      ]
     },
     "execution_count": 83,
     "metadata": {},
     "output_type": "execute_result"
    }
   ],
   "source": [
    "df.describe().style.background_gradient(cmap = \"Blues\")"
   ]
  },
  {
   "cell_type": "code",
   "execution_count": 84,
   "id": "05ce1ae7",
   "metadata": {},
   "outputs": [
    {
     "name": "stdout",
     "output_type": "stream",
     "text": [
      "Missing values:\n",
      "farm_id                   0\n",
      "region                    0\n",
      "crop_type                 0\n",
      "soil_moisture_%           0\n",
      "soil_pH                   0\n",
      "temperature_C             0\n",
      "rainfall_mm               0\n",
      "humidity_%                0\n",
      "sunlight_hours            0\n",
      "irrigation_type         150\n",
      "fertilizer_type           0\n",
      "pesticide_usage_ml        0\n",
      "sowing_date               0\n",
      "harvest_date              0\n",
      "total_days                0\n",
      "yield_kg_per_hectare      0\n",
      "sensor_id                 0\n",
      "timestamp                 0\n",
      "latitude                  0\n",
      "longitude                 0\n",
      "NDVI_index                0\n",
      "crop_disease_status     130\n",
      "dtype: int64\n"
     ]
    }
   ],
   "source": [
    "print(f\"Missing values:\\n{df.isna().sum()}\")"
   ]
  },
  {
   "cell_type": "code",
   "execution_count": 85,
   "id": "5e5d57a5",
   "metadata": {},
   "outputs": [
    {
     "data": {
      "text/plain": [
       "irrigation_type\n",
       "Sprinkler    121\n",
       "Manual       118\n",
       "Drip         111\n",
       "Name: count, dtype: int64"
      ]
     },
     "execution_count": 85,
     "metadata": {},
     "output_type": "execute_result"
    }
   ],
   "source": [
    "df['irrigation_type'].value_counts()"
   ]
  },
  {
   "cell_type": "code",
   "execution_count": 86,
   "id": "ced912f9",
   "metadata": {},
   "outputs": [
    {
     "data": {
      "text/plain": [
       "crop_disease_status\n",
       "Severe      133\n",
       "Mild        125\n",
       "Moderate    112\n",
       "Name: count, dtype: int64"
      ]
     },
     "execution_count": 86,
     "metadata": {},
     "output_type": "execute_result"
    }
   ],
   "source": [
    "df['crop_disease_status'].value_counts()"
   ]
  },
  {
   "cell_type": "code",
   "execution_count": 87,
   "id": "f6cde85d",
   "metadata": {},
   "outputs": [],
   "source": [
    "df['irrigation_type'].fillna(df['irrigation_type'].mode()[0], inplace=True)\n",
    "df['crop_disease_status'].fillna(df['crop_disease_status'].mode()[0], inplace=True)"
   ]
  },
  {
   "cell_type": "code",
   "execution_count": 88,
   "id": "bbea0a55",
   "metadata": {},
   "outputs": [
    {
     "name": "stdout",
     "output_type": "stream",
     "text": [
      "<class 'pandas.core.frame.DataFrame'>\n",
      "RangeIndex: 500 entries, 0 to 499\n",
      "Data columns (total 22 columns):\n",
      " #   Column                Non-Null Count  Dtype  \n",
      "---  ------                --------------  -----  \n",
      " 0   farm_id               500 non-null    object \n",
      " 1   region                500 non-null    object \n",
      " 2   crop_type             500 non-null    object \n",
      " 3   soil_moisture_%       500 non-null    float64\n",
      " 4   soil_pH               500 non-null    float64\n",
      " 5   temperature_C         500 non-null    float64\n",
      " 6   rainfall_mm           500 non-null    float64\n",
      " 7   humidity_%            500 non-null    float64\n",
      " 8   sunlight_hours        500 non-null    float64\n",
      " 9   irrigation_type       500 non-null    object \n",
      " 10  fertilizer_type       500 non-null    object \n",
      " 11  pesticide_usage_ml    500 non-null    float64\n",
      " 12  sowing_date           500 non-null    object \n",
      " 13  harvest_date          500 non-null    object \n",
      " 14  total_days            500 non-null    int64  \n",
      " 15  yield_kg_per_hectare  500 non-null    float64\n",
      " 16  sensor_id             500 non-null    object \n",
      " 17  timestamp             500 non-null    object \n",
      " 18  latitude              500 non-null    float64\n",
      " 19  longitude             500 non-null    float64\n",
      " 20  NDVI_index            500 non-null    float64\n",
      " 21  crop_disease_status   500 non-null    object \n",
      "dtypes: float64(11), int64(1), object(10)\n",
      "memory usage: 86.1+ KB\n"
     ]
    }
   ],
   "source": [
    "df.info()"
   ]
  },
  {
   "cell_type": "code",
   "execution_count": 89,
   "id": "62842012",
   "metadata": {},
   "outputs": [],
   "source": [
    "df.drop(columns=['farm_id', 'sensor_id', 'timestamp'], inplace=True)"
   ]
  },
  {
   "cell_type": "code",
   "execution_count": 90,
   "id": "08a036b3",
   "metadata": {},
   "outputs": [
    {
     "data": {
      "text/plain": [
       "sowing_date     datetime64[ns]\n",
       "harvest_date    datetime64[ns]\n",
       "dtype: object"
      ]
     },
     "execution_count": 90,
     "metadata": {},
     "output_type": "execute_result"
    }
   ],
   "source": [
    "date_features = ['sowing_date', 'harvest_date']\n",
    "for col in date_features:\n",
    "    df[col] = pd.to_datetime(df[col], errors='coerce')\n",
    "    \n",
    "df[date_features].dtypes"
   ]
  },
  {
   "cell_type": "code",
   "execution_count": 91,
   "id": "34265dd9",
   "metadata": {},
   "outputs": [
    {
     "data": {
      "text/plain": [
       "['region',\n",
       " 'crop_type',\n",
       " 'irrigation_type',\n",
       " 'fertilizer_type',\n",
       " 'crop_disease_status']"
      ]
     },
     "execution_count": 91,
     "metadata": {},
     "output_type": "execute_result"
    }
   ],
   "source": [
    "categorical_features = df.select_dtypes(include='object').columns.tolist()\n",
    "categorical_features = [col for col in categorical_features if col not in date_features]\n",
    "categorical_features"
   ]
  },
  {
   "cell_type": "code",
   "execution_count": 92,
   "id": "fbc96ef0",
   "metadata": {},
   "outputs": [
    {
     "data": {
      "text/plain": [
       "['soil_moisture_%',\n",
       " 'soil_pH',\n",
       " 'temperature_C',\n",
       " 'rainfall_mm',\n",
       " 'humidity_%',\n",
       " 'sunlight_hours',\n",
       " 'pesticide_usage_ml',\n",
       " 'yield_kg_per_hectare',\n",
       " 'latitude',\n",
       " 'longitude',\n",
       " 'NDVI_index']"
      ]
     },
     "execution_count": 92,
     "metadata": {},
     "output_type": "execute_result"
    }
   ],
   "source": [
    "numerical_features = df.select_dtypes(include='float64').columns.tolist()\n",
    "numerical_features = [col for col in numerical_features if col not in date_features]\n",
    "numerical_features"
   ]
  },
  {
   "cell_type": "code",
   "execution_count": 112,
   "id": "b6c14f52",
   "metadata": {},
   "outputs": [
    {
     "data": {
      "application/vnd.plotly.v1+json": {
       "config": {
        "plotlyServerURL": "https://plot.ly"
       },
       "data": [
        {
         "alignmentgroup": "True",
         "bingroup": "x",
         "hovertemplate": "Yield (kg per hectare)=%{x}<br>count=%{y}<extra></extra>",
         "legendgroup": "",
         "marker": {
          "color": "lightskyblue",
          "pattern": {
           "shape": ""
          }
         },
         "name": "",
         "nbinsx": 50,
         "offsetgroup": "",
         "orientation": "v",
         "showlegend": false,
         "type": "histogram",
         "x": [
          4408.07,
          5389.98,
          2931.16,
          4227.8,
          4979.96,
          4383.55,
          4501.2,
          5264.09,
          5598.46,
          4893.41,
          2437.08,
          3942.56,
          4942.95,
          4629.49,
          2852.62,
          5755.72,
          3334.23,
          5732.35,
          5723.26,
          3404.58,
          5598.02,
          4788.83,
          3892.74,
          5073.96,
          2200.87,
          5007.11,
          3659.47,
          4938.54,
          2726.92,
          5356.92,
          5632.1,
          2050.61,
          5406.85,
          3105.07,
          3476.08,
          4358.35,
          2049.06,
          3664.7,
          4207.97,
          5633.65,
          2365.31,
          3633.39,
          4170.37,
          3631.96,
          4985.17,
          5051.49,
          5859.3,
          5407.06,
          4776,
          2928.75,
          3932.83,
          3409.28,
          4007.18,
          4146.29,
          3633.18,
          2396.09,
          5392.13,
          4383.93,
          2454.6,
          2431.85,
          4603.67,
          2386.26,
          4626.95,
          2721.66,
          4886.38,
          4712.87,
          4130.33,
          5205.29,
          2775.61,
          5696.62,
          5457,
          2990.97,
          4894.93,
          5252.74,
          2404.56,
          5878.35,
          5205.04,
          5538.52,
          2555.17,
          2443.43,
          5953.33,
          4571.18,
          2764.41,
          2330.45,
          3098.22,
          2613.75,
          2858.28,
          3161.45,
          5536.99,
          4072.41,
          2684.8,
          5826.6,
          5042.66,
          5052.49,
          3142.99,
          2475.24,
          5725.47,
          5187.02,
          5792.82,
          3507.3,
          3919.21,
          4989.35,
          4724.77,
          5528.98,
          5235.26,
          2739.12,
          3621.67,
          5207.98,
          4081.37,
          4313.25,
          5668.46,
          4127.73,
          5488.85,
          2884.17,
          4151.71,
          5317.63,
          5998.29,
          5358.92,
          5773.86,
          2194.06,
          2066.9,
          2972.83,
          5579.16,
          5282.76,
          3362.37,
          2328.15,
          2413.17,
          3073.63,
          3519.56,
          5265.98,
          3010.73,
          2665.35,
          4354.36,
          3809.79,
          4561.92,
          2455.82,
          2471.45,
          3258.32,
          5044.23,
          4943.95,
          2556.94,
          5468.19,
          5509.27,
          5409.69,
          3441.74,
          5952.62,
          2656.47,
          2336.99,
          4375.72,
          4026.44,
          5338.11,
          2655.33,
          4510.13,
          5680.91,
          2275.71,
          2980.51,
          2372.11,
          4802.9,
          2361.68,
          4200.48,
          4583.95,
          3784.05,
          5957.61,
          2400.54,
          4802.24,
          2709.84,
          3747.47,
          5235.23,
          2271.18,
          3274.87,
          3637.12,
          2798.7,
          3758.96,
          2942.57,
          4380.19,
          4330.71,
          2155.13,
          5303.29,
          4097.14,
          3784.41,
          2080.21,
          2872.84,
          5445.97,
          5627.65,
          3883.12,
          4537.59,
          2323.25,
          5861.31,
          2261.15,
          4936.31,
          4189.13,
          5139.04,
          4676.09,
          2463.6,
          3912.98,
          5893.78,
          4802.32,
          3323.58,
          2143.33,
          4866.63,
          3636.84,
          5855.42,
          4770.06,
          3381.17,
          3523.48,
          5459.37,
          5645.95,
          4335.94,
          5827.95,
          4675.75,
          3185.74,
          3740.95,
          2067.56,
          5288.49,
          2167.09,
          5409,
          3943.44,
          3781.43,
          2146.63,
          5856,
          5922.36,
          3411.59,
          3926.07,
          4397.43,
          4742.36,
          2470.07,
          4786.83,
          5217.15,
          5954.03,
          2364.35,
          5402.27,
          4070.97,
          2468.04,
          5154.62,
          2874.26,
          5823.12,
          4102.94,
          3051.4,
          5425.23,
          2395.9,
          4599.46,
          5628.29,
          2938.51,
          5726.36,
          4363.32,
          3876.79,
          3558.89,
          2077.58,
          2126.95,
          5978.14,
          5550.08,
          2994.89,
          3432.67,
          3053.4,
          2616.53,
          3023.75,
          5337.83,
          4697.97,
          4903.47,
          3259.62,
          2308.81,
          2906.87,
          3159.13,
          4463.99,
          5960.64,
          3220.47,
          2681.28,
          5615.49,
          5247.57,
          5638.94,
          2736.54,
          4422.42,
          5058.16,
          5297.31,
          3164.72,
          3572.27,
          4829.12,
          3238.07,
          3640.61,
          5681.54,
          5033.77,
          3148.75,
          5186.93,
          3333.13,
          5135.96,
          4137.09,
          5653.42,
          5459.24,
          3276.6,
          5568.97,
          4851.59,
          5582.8,
          5270.21,
          5920.82,
          5085.37,
          5509.7,
          3128.84,
          2046.41,
          3538.86,
          4920.74,
          2043.13,
          4625.28,
          4636.62,
          4904,
          4121.77,
          4336.71,
          2877.67,
          4641.91,
          3570.54,
          3065.75,
          3211.31,
          3437.04,
          4884.05,
          4530.65,
          2549.32,
          5110.65,
          2150.48,
          2212.28,
          2632.18,
          2882.65,
          2546.01,
          4366.32,
          4016.87,
          4676.14,
          2130.86,
          3465.73,
          3069.43,
          5535.92,
          3386.8,
          2686.95,
          2645.02,
          3997.67,
          2160.32,
          4708.25,
          5970.39,
          2353.79,
          5164.88,
          3744.27,
          4544.99,
          4137.68,
          2524.93,
          5924.44,
          5129.48,
          5052.98,
          4057,
          5904.72,
          2476.87,
          5025.21,
          3992.54,
          3374.46,
          4862.89,
          2512.79,
          3219.65,
          4700.45,
          5218.41,
          3253.41,
          3457.1,
          2454.23,
          5855.15,
          2482.57,
          5879.69,
          5867.22,
          2361,
          5507.04,
          3602.65,
          2794.65,
          2597,
          5980.83,
          4747.41,
          5910.1,
          5486.72,
          2143.45,
          2673.18,
          3494.23,
          5192.59,
          3194.19,
          3736.42,
          2994.61,
          2718.21,
          5486.46,
          5218.56,
          3687.52,
          5394.47,
          2254.04,
          2524.63,
          2837.73,
          4228.09,
          2472.24,
          5236.58,
          3447.1,
          4641.45,
          4789.88,
          5028.19,
          3191.84,
          5114.2,
          4756.07,
          3634.48,
          4958.64,
          4668.88,
          5086.38,
          5147.03,
          5919.14,
          3296.87,
          5654.94,
          3695.01,
          4956.73,
          3366.52,
          4154.6,
          3124.54,
          2681.91,
          4131.77,
          3795.45,
          4505.19,
          3253.12,
          4398.3,
          3684.03,
          3475.32,
          4399.05,
          3922.98,
          2796.49,
          2840.95,
          4349.3,
          3497.06,
          3700.09,
          3268.08,
          2786.59,
          4319.82,
          3715.17,
          5051.37,
          3545.74,
          4097.58,
          4838.69,
          2156.34,
          4794.58,
          2178.54,
          2969.17,
          2137.78,
          3348.47,
          3293.47,
          5836.14,
          4349.87,
          3774.9,
          2889.78,
          3245.85,
          4437.58,
          4248.57,
          3635.15,
          2987.17,
          5667.53,
          2437.1,
          3498.61,
          4545.73,
          4080.3,
          5482.17,
          2066.52,
          3175.45,
          2846.56,
          3967.84,
          2445.53,
          5190.07,
          5396.51,
          5737.73,
          3564.25,
          5588.87,
          2209.89,
          4529.33,
          3193.45,
          4396.41,
          4632.64,
          2752.29,
          5760.8,
          3080.5,
          4913.31,
          5528.08,
          3755.84,
          2229.65,
          2029.16,
          3516.38,
          2023.56,
          3882.79,
          3684.22,
          3555.39,
          3715.81,
          2594.9,
          3708.29,
          3009.05,
          4518.23,
          3672.85,
          2181.78,
          4287.59,
          2531.89,
          4503.82,
          4203.51,
          4590.26,
          5306.25,
          4251.4,
          3708.54,
          2604.41,
          2586.36,
          5891.4
         ],
         "xaxis": "x",
         "yaxis": "y"
        }
       ],
       "layout": {
        "barmode": "relative",
        "legend": {
         "tracegroupgap": 0
        },
        "template": {
         "data": {
          "bar": [
           {
            "error_x": {
             "color": "#2a3f5f"
            },
            "error_y": {
             "color": "#2a3f5f"
            },
            "marker": {
             "line": {
              "color": "#E5ECF6",
              "width": 0.5
             },
             "pattern": {
              "fillmode": "overlay",
              "size": 10,
              "solidity": 0.2
             }
            },
            "type": "bar"
           }
          ],
          "barpolar": [
           {
            "marker": {
             "line": {
              "color": "#E5ECF6",
              "width": 0.5
             },
             "pattern": {
              "fillmode": "overlay",
              "size": 10,
              "solidity": 0.2
             }
            },
            "type": "barpolar"
           }
          ],
          "carpet": [
           {
            "aaxis": {
             "endlinecolor": "#2a3f5f",
             "gridcolor": "white",
             "linecolor": "white",
             "minorgridcolor": "white",
             "startlinecolor": "#2a3f5f"
            },
            "baxis": {
             "endlinecolor": "#2a3f5f",
             "gridcolor": "white",
             "linecolor": "white",
             "minorgridcolor": "white",
             "startlinecolor": "#2a3f5f"
            },
            "type": "carpet"
           }
          ],
          "choropleth": [
           {
            "colorbar": {
             "outlinewidth": 0,
             "ticks": ""
            },
            "type": "choropleth"
           }
          ],
          "contour": [
           {
            "colorbar": {
             "outlinewidth": 0,
             "ticks": ""
            },
            "colorscale": [
             [
              0,
              "#0d0887"
             ],
             [
              0.1111111111111111,
              "#46039f"
             ],
             [
              0.2222222222222222,
              "#7201a8"
             ],
             [
              0.3333333333333333,
              "#9c179e"
             ],
             [
              0.4444444444444444,
              "#bd3786"
             ],
             [
              0.5555555555555556,
              "#d8576b"
             ],
             [
              0.6666666666666666,
              "#ed7953"
             ],
             [
              0.7777777777777778,
              "#fb9f3a"
             ],
             [
              0.8888888888888888,
              "#fdca26"
             ],
             [
              1,
              "#f0f921"
             ]
            ],
            "type": "contour"
           }
          ],
          "contourcarpet": [
           {
            "colorbar": {
             "outlinewidth": 0,
             "ticks": ""
            },
            "type": "contourcarpet"
           }
          ],
          "heatmap": [
           {
            "colorbar": {
             "outlinewidth": 0,
             "ticks": ""
            },
            "colorscale": [
             [
              0,
              "#0d0887"
             ],
             [
              0.1111111111111111,
              "#46039f"
             ],
             [
              0.2222222222222222,
              "#7201a8"
             ],
             [
              0.3333333333333333,
              "#9c179e"
             ],
             [
              0.4444444444444444,
              "#bd3786"
             ],
             [
              0.5555555555555556,
              "#d8576b"
             ],
             [
              0.6666666666666666,
              "#ed7953"
             ],
             [
              0.7777777777777778,
              "#fb9f3a"
             ],
             [
              0.8888888888888888,
              "#fdca26"
             ],
             [
              1,
              "#f0f921"
             ]
            ],
            "type": "heatmap"
           }
          ],
          "heatmapgl": [
           {
            "colorbar": {
             "outlinewidth": 0,
             "ticks": ""
            },
            "colorscale": [
             [
              0,
              "#0d0887"
             ],
             [
              0.1111111111111111,
              "#46039f"
             ],
             [
              0.2222222222222222,
              "#7201a8"
             ],
             [
              0.3333333333333333,
              "#9c179e"
             ],
             [
              0.4444444444444444,
              "#bd3786"
             ],
             [
              0.5555555555555556,
              "#d8576b"
             ],
             [
              0.6666666666666666,
              "#ed7953"
             ],
             [
              0.7777777777777778,
              "#fb9f3a"
             ],
             [
              0.8888888888888888,
              "#fdca26"
             ],
             [
              1,
              "#f0f921"
             ]
            ],
            "type": "heatmapgl"
           }
          ],
          "histogram": [
           {
            "marker": {
             "pattern": {
              "fillmode": "overlay",
              "size": 10,
              "solidity": 0.2
             }
            },
            "type": "histogram"
           }
          ],
          "histogram2d": [
           {
            "colorbar": {
             "outlinewidth": 0,
             "ticks": ""
            },
            "colorscale": [
             [
              0,
              "#0d0887"
             ],
             [
              0.1111111111111111,
              "#46039f"
             ],
             [
              0.2222222222222222,
              "#7201a8"
             ],
             [
              0.3333333333333333,
              "#9c179e"
             ],
             [
              0.4444444444444444,
              "#bd3786"
             ],
             [
              0.5555555555555556,
              "#d8576b"
             ],
             [
              0.6666666666666666,
              "#ed7953"
             ],
             [
              0.7777777777777778,
              "#fb9f3a"
             ],
             [
              0.8888888888888888,
              "#fdca26"
             ],
             [
              1,
              "#f0f921"
             ]
            ],
            "type": "histogram2d"
           }
          ],
          "histogram2dcontour": [
           {
            "colorbar": {
             "outlinewidth": 0,
             "ticks": ""
            },
            "colorscale": [
             [
              0,
              "#0d0887"
             ],
             [
              0.1111111111111111,
              "#46039f"
             ],
             [
              0.2222222222222222,
              "#7201a8"
             ],
             [
              0.3333333333333333,
              "#9c179e"
             ],
             [
              0.4444444444444444,
              "#bd3786"
             ],
             [
              0.5555555555555556,
              "#d8576b"
             ],
             [
              0.6666666666666666,
              "#ed7953"
             ],
             [
              0.7777777777777778,
              "#fb9f3a"
             ],
             [
              0.8888888888888888,
              "#fdca26"
             ],
             [
              1,
              "#f0f921"
             ]
            ],
            "type": "histogram2dcontour"
           }
          ],
          "mesh3d": [
           {
            "colorbar": {
             "outlinewidth": 0,
             "ticks": ""
            },
            "type": "mesh3d"
           }
          ],
          "parcoords": [
           {
            "line": {
             "colorbar": {
              "outlinewidth": 0,
              "ticks": ""
             }
            },
            "type": "parcoords"
           }
          ],
          "pie": [
           {
            "automargin": true,
            "type": "pie"
           }
          ],
          "scatter": [
           {
            "fillpattern": {
             "fillmode": "overlay",
             "size": 10,
             "solidity": 0.2
            },
            "type": "scatter"
           }
          ],
          "scatter3d": [
           {
            "line": {
             "colorbar": {
              "outlinewidth": 0,
              "ticks": ""
             }
            },
            "marker": {
             "colorbar": {
              "outlinewidth": 0,
              "ticks": ""
             }
            },
            "type": "scatter3d"
           }
          ],
          "scattercarpet": [
           {
            "marker": {
             "colorbar": {
              "outlinewidth": 0,
              "ticks": ""
             }
            },
            "type": "scattercarpet"
           }
          ],
          "scattergeo": [
           {
            "marker": {
             "colorbar": {
              "outlinewidth": 0,
              "ticks": ""
             }
            },
            "type": "scattergeo"
           }
          ],
          "scattergl": [
           {
            "marker": {
             "colorbar": {
              "outlinewidth": 0,
              "ticks": ""
             }
            },
            "type": "scattergl"
           }
          ],
          "scattermapbox": [
           {
            "marker": {
             "colorbar": {
              "outlinewidth": 0,
              "ticks": ""
             }
            },
            "type": "scattermapbox"
           }
          ],
          "scatterpolar": [
           {
            "marker": {
             "colorbar": {
              "outlinewidth": 0,
              "ticks": ""
             }
            },
            "type": "scatterpolar"
           }
          ],
          "scatterpolargl": [
           {
            "marker": {
             "colorbar": {
              "outlinewidth": 0,
              "ticks": ""
             }
            },
            "type": "scatterpolargl"
           }
          ],
          "scatterternary": [
           {
            "marker": {
             "colorbar": {
              "outlinewidth": 0,
              "ticks": ""
             }
            },
            "type": "scatterternary"
           }
          ],
          "surface": [
           {
            "colorbar": {
             "outlinewidth": 0,
             "ticks": ""
            },
            "colorscale": [
             [
              0,
              "#0d0887"
             ],
             [
              0.1111111111111111,
              "#46039f"
             ],
             [
              0.2222222222222222,
              "#7201a8"
             ],
             [
              0.3333333333333333,
              "#9c179e"
             ],
             [
              0.4444444444444444,
              "#bd3786"
             ],
             [
              0.5555555555555556,
              "#d8576b"
             ],
             [
              0.6666666666666666,
              "#ed7953"
             ],
             [
              0.7777777777777778,
              "#fb9f3a"
             ],
             [
              0.8888888888888888,
              "#fdca26"
             ],
             [
              1,
              "#f0f921"
             ]
            ],
            "type": "surface"
           }
          ],
          "table": [
           {
            "cells": {
             "fill": {
              "color": "#EBF0F8"
             },
             "line": {
              "color": "white"
             }
            },
            "header": {
             "fill": {
              "color": "#C8D4E3"
             },
             "line": {
              "color": "white"
             }
            },
            "type": "table"
           }
          ]
         },
         "layout": {
          "annotationdefaults": {
           "arrowcolor": "#2a3f5f",
           "arrowhead": 0,
           "arrowwidth": 1
          },
          "autotypenumbers": "strict",
          "coloraxis": {
           "colorbar": {
            "outlinewidth": 0,
            "ticks": ""
           }
          },
          "colorscale": {
           "diverging": [
            [
             0,
             "#8e0152"
            ],
            [
             0.1,
             "#c51b7d"
            ],
            [
             0.2,
             "#de77ae"
            ],
            [
             0.3,
             "#f1b6da"
            ],
            [
             0.4,
             "#fde0ef"
            ],
            [
             0.5,
             "#f7f7f7"
            ],
            [
             0.6,
             "#e6f5d0"
            ],
            [
             0.7,
             "#b8e186"
            ],
            [
             0.8,
             "#7fbc41"
            ],
            [
             0.9,
             "#4d9221"
            ],
            [
             1,
             "#276419"
            ]
           ],
           "sequential": [
            [
             0,
             "#0d0887"
            ],
            [
             0.1111111111111111,
             "#46039f"
            ],
            [
             0.2222222222222222,
             "#7201a8"
            ],
            [
             0.3333333333333333,
             "#9c179e"
            ],
            [
             0.4444444444444444,
             "#bd3786"
            ],
            [
             0.5555555555555556,
             "#d8576b"
            ],
            [
             0.6666666666666666,
             "#ed7953"
            ],
            [
             0.7777777777777778,
             "#fb9f3a"
            ],
            [
             0.8888888888888888,
             "#fdca26"
            ],
            [
             1,
             "#f0f921"
            ]
           ],
           "sequentialminus": [
            [
             0,
             "#0d0887"
            ],
            [
             0.1111111111111111,
             "#46039f"
            ],
            [
             0.2222222222222222,
             "#7201a8"
            ],
            [
             0.3333333333333333,
             "#9c179e"
            ],
            [
             0.4444444444444444,
             "#bd3786"
            ],
            [
             0.5555555555555556,
             "#d8576b"
            ],
            [
             0.6666666666666666,
             "#ed7953"
            ],
            [
             0.7777777777777778,
             "#fb9f3a"
            ],
            [
             0.8888888888888888,
             "#fdca26"
            ],
            [
             1,
             "#f0f921"
            ]
           ]
          },
          "colorway": [
           "#636efa",
           "#EF553B",
           "#00cc96",
           "#ab63fa",
           "#FFA15A",
           "#19d3f3",
           "#FF6692",
           "#B6E880",
           "#FF97FF",
           "#FECB52"
          ],
          "font": {
           "color": "#2a3f5f"
          },
          "geo": {
           "bgcolor": "white",
           "lakecolor": "white",
           "landcolor": "#E5ECF6",
           "showlakes": true,
           "showland": true,
           "subunitcolor": "white"
          },
          "hoverlabel": {
           "align": "left"
          },
          "hovermode": "closest",
          "mapbox": {
           "style": "light"
          },
          "paper_bgcolor": "white",
          "plot_bgcolor": "#E5ECF6",
          "polar": {
           "angularaxis": {
            "gridcolor": "white",
            "linecolor": "white",
            "ticks": ""
           },
           "bgcolor": "#E5ECF6",
           "radialaxis": {
            "gridcolor": "white",
            "linecolor": "white",
            "ticks": ""
           }
          },
          "scene": {
           "xaxis": {
            "backgroundcolor": "#E5ECF6",
            "gridcolor": "white",
            "gridwidth": 2,
            "linecolor": "white",
            "showbackground": true,
            "ticks": "",
            "zerolinecolor": "white"
           },
           "yaxis": {
            "backgroundcolor": "#E5ECF6",
            "gridcolor": "white",
            "gridwidth": 2,
            "linecolor": "white",
            "showbackground": true,
            "ticks": "",
            "zerolinecolor": "white"
           },
           "zaxis": {
            "backgroundcolor": "#E5ECF6",
            "gridcolor": "white",
            "gridwidth": 2,
            "linecolor": "white",
            "showbackground": true,
            "ticks": "",
            "zerolinecolor": "white"
           }
          },
          "shapedefaults": {
           "line": {
            "color": "#2a3f5f"
           }
          },
          "ternary": {
           "aaxis": {
            "gridcolor": "white",
            "linecolor": "white",
            "ticks": ""
           },
           "baxis": {
            "gridcolor": "white",
            "linecolor": "white",
            "ticks": ""
           },
           "bgcolor": "#E5ECF6",
           "caxis": {
            "gridcolor": "white",
            "linecolor": "white",
            "ticks": ""
           }
          },
          "title": {
           "x": 0.05
          },
          "xaxis": {
           "automargin": true,
           "gridcolor": "white",
           "linecolor": "white",
           "ticks": "",
           "title": {
            "standoff": 15
           },
           "zerolinecolor": "white",
           "zerolinewidth": 2
          },
          "yaxis": {
           "automargin": true,
           "gridcolor": "white",
           "linecolor": "white",
           "ticks": "",
           "title": {
            "standoff": 15
           },
           "zerolinecolor": "white",
           "zerolinewidth": 2
          }
         }
        },
        "title": {
         "text": "DISTRIBUTION OF YIELD (kg/ha)"
        },
        "xaxis": {
         "anchor": "y",
         "domain": [
          0,
          1
         ],
         "title": {
          "text": "Yield (kg per hectare)"
         }
        },
        "yaxis": {
         "anchor": "x",
         "domain": [
          0,
          1
         ],
         "title": {
          "text": "count"
         }
        }
       }
      }
     },
     "metadata": {},
     "output_type": "display_data"
    },
    {
     "data": {
      "application/vnd.plotly.v1+json": {
       "config": {
        "plotlyServerURL": "https://plot.ly"
       },
       "data": [
        {
         "alignmentgroup": "True",
         "boxpoints": "outliers",
         "hovertemplate": "Yield (kg per hectare)=%{y}<extra></extra>",
         "legendgroup": "",
         "marker": {
          "color": "lightskyblue"
         },
         "name": "",
         "notched": false,
         "offsetgroup": "",
         "orientation": "v",
         "showlegend": false,
         "type": "box",
         "x0": " ",
         "xaxis": "x",
         "y": [
          4408.07,
          5389.98,
          2931.16,
          4227.8,
          4979.96,
          4383.55,
          4501.2,
          5264.09,
          5598.46,
          4893.41,
          2437.08,
          3942.56,
          4942.95,
          4629.49,
          2852.62,
          5755.72,
          3334.23,
          5732.35,
          5723.26,
          3404.58,
          5598.02,
          4788.83,
          3892.74,
          5073.96,
          2200.87,
          5007.11,
          3659.47,
          4938.54,
          2726.92,
          5356.92,
          5632.1,
          2050.61,
          5406.85,
          3105.07,
          3476.08,
          4358.35,
          2049.06,
          3664.7,
          4207.97,
          5633.65,
          2365.31,
          3633.39,
          4170.37,
          3631.96,
          4985.17,
          5051.49,
          5859.3,
          5407.06,
          4776,
          2928.75,
          3932.83,
          3409.28,
          4007.18,
          4146.29,
          3633.18,
          2396.09,
          5392.13,
          4383.93,
          2454.6,
          2431.85,
          4603.67,
          2386.26,
          4626.95,
          2721.66,
          4886.38,
          4712.87,
          4130.33,
          5205.29,
          2775.61,
          5696.62,
          5457,
          2990.97,
          4894.93,
          5252.74,
          2404.56,
          5878.35,
          5205.04,
          5538.52,
          2555.17,
          2443.43,
          5953.33,
          4571.18,
          2764.41,
          2330.45,
          3098.22,
          2613.75,
          2858.28,
          3161.45,
          5536.99,
          4072.41,
          2684.8,
          5826.6,
          5042.66,
          5052.49,
          3142.99,
          2475.24,
          5725.47,
          5187.02,
          5792.82,
          3507.3,
          3919.21,
          4989.35,
          4724.77,
          5528.98,
          5235.26,
          2739.12,
          3621.67,
          5207.98,
          4081.37,
          4313.25,
          5668.46,
          4127.73,
          5488.85,
          2884.17,
          4151.71,
          5317.63,
          5998.29,
          5358.92,
          5773.86,
          2194.06,
          2066.9,
          2972.83,
          5579.16,
          5282.76,
          3362.37,
          2328.15,
          2413.17,
          3073.63,
          3519.56,
          5265.98,
          3010.73,
          2665.35,
          4354.36,
          3809.79,
          4561.92,
          2455.82,
          2471.45,
          3258.32,
          5044.23,
          4943.95,
          2556.94,
          5468.19,
          5509.27,
          5409.69,
          3441.74,
          5952.62,
          2656.47,
          2336.99,
          4375.72,
          4026.44,
          5338.11,
          2655.33,
          4510.13,
          5680.91,
          2275.71,
          2980.51,
          2372.11,
          4802.9,
          2361.68,
          4200.48,
          4583.95,
          3784.05,
          5957.61,
          2400.54,
          4802.24,
          2709.84,
          3747.47,
          5235.23,
          2271.18,
          3274.87,
          3637.12,
          2798.7,
          3758.96,
          2942.57,
          4380.19,
          4330.71,
          2155.13,
          5303.29,
          4097.14,
          3784.41,
          2080.21,
          2872.84,
          5445.97,
          5627.65,
          3883.12,
          4537.59,
          2323.25,
          5861.31,
          2261.15,
          4936.31,
          4189.13,
          5139.04,
          4676.09,
          2463.6,
          3912.98,
          5893.78,
          4802.32,
          3323.58,
          2143.33,
          4866.63,
          3636.84,
          5855.42,
          4770.06,
          3381.17,
          3523.48,
          5459.37,
          5645.95,
          4335.94,
          5827.95,
          4675.75,
          3185.74,
          3740.95,
          2067.56,
          5288.49,
          2167.09,
          5409,
          3943.44,
          3781.43,
          2146.63,
          5856,
          5922.36,
          3411.59,
          3926.07,
          4397.43,
          4742.36,
          2470.07,
          4786.83,
          5217.15,
          5954.03,
          2364.35,
          5402.27,
          4070.97,
          2468.04,
          5154.62,
          2874.26,
          5823.12,
          4102.94,
          3051.4,
          5425.23,
          2395.9,
          4599.46,
          5628.29,
          2938.51,
          5726.36,
          4363.32,
          3876.79,
          3558.89,
          2077.58,
          2126.95,
          5978.14,
          5550.08,
          2994.89,
          3432.67,
          3053.4,
          2616.53,
          3023.75,
          5337.83,
          4697.97,
          4903.47,
          3259.62,
          2308.81,
          2906.87,
          3159.13,
          4463.99,
          5960.64,
          3220.47,
          2681.28,
          5615.49,
          5247.57,
          5638.94,
          2736.54,
          4422.42,
          5058.16,
          5297.31,
          3164.72,
          3572.27,
          4829.12,
          3238.07,
          3640.61,
          5681.54,
          5033.77,
          3148.75,
          5186.93,
          3333.13,
          5135.96,
          4137.09,
          5653.42,
          5459.24,
          3276.6,
          5568.97,
          4851.59,
          5582.8,
          5270.21,
          5920.82,
          5085.37,
          5509.7,
          3128.84,
          2046.41,
          3538.86,
          4920.74,
          2043.13,
          4625.28,
          4636.62,
          4904,
          4121.77,
          4336.71,
          2877.67,
          4641.91,
          3570.54,
          3065.75,
          3211.31,
          3437.04,
          4884.05,
          4530.65,
          2549.32,
          5110.65,
          2150.48,
          2212.28,
          2632.18,
          2882.65,
          2546.01,
          4366.32,
          4016.87,
          4676.14,
          2130.86,
          3465.73,
          3069.43,
          5535.92,
          3386.8,
          2686.95,
          2645.02,
          3997.67,
          2160.32,
          4708.25,
          5970.39,
          2353.79,
          5164.88,
          3744.27,
          4544.99,
          4137.68,
          2524.93,
          5924.44,
          5129.48,
          5052.98,
          4057,
          5904.72,
          2476.87,
          5025.21,
          3992.54,
          3374.46,
          4862.89,
          2512.79,
          3219.65,
          4700.45,
          5218.41,
          3253.41,
          3457.1,
          2454.23,
          5855.15,
          2482.57,
          5879.69,
          5867.22,
          2361,
          5507.04,
          3602.65,
          2794.65,
          2597,
          5980.83,
          4747.41,
          5910.1,
          5486.72,
          2143.45,
          2673.18,
          3494.23,
          5192.59,
          3194.19,
          3736.42,
          2994.61,
          2718.21,
          5486.46,
          5218.56,
          3687.52,
          5394.47,
          2254.04,
          2524.63,
          2837.73,
          4228.09,
          2472.24,
          5236.58,
          3447.1,
          4641.45,
          4789.88,
          5028.19,
          3191.84,
          5114.2,
          4756.07,
          3634.48,
          4958.64,
          4668.88,
          5086.38,
          5147.03,
          5919.14,
          3296.87,
          5654.94,
          3695.01,
          4956.73,
          3366.52,
          4154.6,
          3124.54,
          2681.91,
          4131.77,
          3795.45,
          4505.19,
          3253.12,
          4398.3,
          3684.03,
          3475.32,
          4399.05,
          3922.98,
          2796.49,
          2840.95,
          4349.3,
          3497.06,
          3700.09,
          3268.08,
          2786.59,
          4319.82,
          3715.17,
          5051.37,
          3545.74,
          4097.58,
          4838.69,
          2156.34,
          4794.58,
          2178.54,
          2969.17,
          2137.78,
          3348.47,
          3293.47,
          5836.14,
          4349.87,
          3774.9,
          2889.78,
          3245.85,
          4437.58,
          4248.57,
          3635.15,
          2987.17,
          5667.53,
          2437.1,
          3498.61,
          4545.73,
          4080.3,
          5482.17,
          2066.52,
          3175.45,
          2846.56,
          3967.84,
          2445.53,
          5190.07,
          5396.51,
          5737.73,
          3564.25,
          5588.87,
          2209.89,
          4529.33,
          3193.45,
          4396.41,
          4632.64,
          2752.29,
          5760.8,
          3080.5,
          4913.31,
          5528.08,
          3755.84,
          2229.65,
          2029.16,
          3516.38,
          2023.56,
          3882.79,
          3684.22,
          3555.39,
          3715.81,
          2594.9,
          3708.29,
          3009.05,
          4518.23,
          3672.85,
          2181.78,
          4287.59,
          2531.89,
          4503.82,
          4203.51,
          4590.26,
          5306.25,
          4251.4,
          3708.54,
          2604.41,
          2586.36,
          5891.4
         ],
         "y0": " ",
         "yaxis": "y"
        }
       ],
       "layout": {
        "boxmode": "group",
        "legend": {
         "tracegroupgap": 0
        },
        "template": {
         "data": {
          "bar": [
           {
            "error_x": {
             "color": "#2a3f5f"
            },
            "error_y": {
             "color": "#2a3f5f"
            },
            "marker": {
             "line": {
              "color": "#E5ECF6",
              "width": 0.5
             },
             "pattern": {
              "fillmode": "overlay",
              "size": 10,
              "solidity": 0.2
             }
            },
            "type": "bar"
           }
          ],
          "barpolar": [
           {
            "marker": {
             "line": {
              "color": "#E5ECF6",
              "width": 0.5
             },
             "pattern": {
              "fillmode": "overlay",
              "size": 10,
              "solidity": 0.2
             }
            },
            "type": "barpolar"
           }
          ],
          "carpet": [
           {
            "aaxis": {
             "endlinecolor": "#2a3f5f",
             "gridcolor": "white",
             "linecolor": "white",
             "minorgridcolor": "white",
             "startlinecolor": "#2a3f5f"
            },
            "baxis": {
             "endlinecolor": "#2a3f5f",
             "gridcolor": "white",
             "linecolor": "white",
             "minorgridcolor": "white",
             "startlinecolor": "#2a3f5f"
            },
            "type": "carpet"
           }
          ],
          "choropleth": [
           {
            "colorbar": {
             "outlinewidth": 0,
             "ticks": ""
            },
            "type": "choropleth"
           }
          ],
          "contour": [
           {
            "colorbar": {
             "outlinewidth": 0,
             "ticks": ""
            },
            "colorscale": [
             [
              0,
              "#0d0887"
             ],
             [
              0.1111111111111111,
              "#46039f"
             ],
             [
              0.2222222222222222,
              "#7201a8"
             ],
             [
              0.3333333333333333,
              "#9c179e"
             ],
             [
              0.4444444444444444,
              "#bd3786"
             ],
             [
              0.5555555555555556,
              "#d8576b"
             ],
             [
              0.6666666666666666,
              "#ed7953"
             ],
             [
              0.7777777777777778,
              "#fb9f3a"
             ],
             [
              0.8888888888888888,
              "#fdca26"
             ],
             [
              1,
              "#f0f921"
             ]
            ],
            "type": "contour"
           }
          ],
          "contourcarpet": [
           {
            "colorbar": {
             "outlinewidth": 0,
             "ticks": ""
            },
            "type": "contourcarpet"
           }
          ],
          "heatmap": [
           {
            "colorbar": {
             "outlinewidth": 0,
             "ticks": ""
            },
            "colorscale": [
             [
              0,
              "#0d0887"
             ],
             [
              0.1111111111111111,
              "#46039f"
             ],
             [
              0.2222222222222222,
              "#7201a8"
             ],
             [
              0.3333333333333333,
              "#9c179e"
             ],
             [
              0.4444444444444444,
              "#bd3786"
             ],
             [
              0.5555555555555556,
              "#d8576b"
             ],
             [
              0.6666666666666666,
              "#ed7953"
             ],
             [
              0.7777777777777778,
              "#fb9f3a"
             ],
             [
              0.8888888888888888,
              "#fdca26"
             ],
             [
              1,
              "#f0f921"
             ]
            ],
            "type": "heatmap"
           }
          ],
          "heatmapgl": [
           {
            "colorbar": {
             "outlinewidth": 0,
             "ticks": ""
            },
            "colorscale": [
             [
              0,
              "#0d0887"
             ],
             [
              0.1111111111111111,
              "#46039f"
             ],
             [
              0.2222222222222222,
              "#7201a8"
             ],
             [
              0.3333333333333333,
              "#9c179e"
             ],
             [
              0.4444444444444444,
              "#bd3786"
             ],
             [
              0.5555555555555556,
              "#d8576b"
             ],
             [
              0.6666666666666666,
              "#ed7953"
             ],
             [
              0.7777777777777778,
              "#fb9f3a"
             ],
             [
              0.8888888888888888,
              "#fdca26"
             ],
             [
              1,
              "#f0f921"
             ]
            ],
            "type": "heatmapgl"
           }
          ],
          "histogram": [
           {
            "marker": {
             "pattern": {
              "fillmode": "overlay",
              "size": 10,
              "solidity": 0.2
             }
            },
            "type": "histogram"
           }
          ],
          "histogram2d": [
           {
            "colorbar": {
             "outlinewidth": 0,
             "ticks": ""
            },
            "colorscale": [
             [
              0,
              "#0d0887"
             ],
             [
              0.1111111111111111,
              "#46039f"
             ],
             [
              0.2222222222222222,
              "#7201a8"
             ],
             [
              0.3333333333333333,
              "#9c179e"
             ],
             [
              0.4444444444444444,
              "#bd3786"
             ],
             [
              0.5555555555555556,
              "#d8576b"
             ],
             [
              0.6666666666666666,
              "#ed7953"
             ],
             [
              0.7777777777777778,
              "#fb9f3a"
             ],
             [
              0.8888888888888888,
              "#fdca26"
             ],
             [
              1,
              "#f0f921"
             ]
            ],
            "type": "histogram2d"
           }
          ],
          "histogram2dcontour": [
           {
            "colorbar": {
             "outlinewidth": 0,
             "ticks": ""
            },
            "colorscale": [
             [
              0,
              "#0d0887"
             ],
             [
              0.1111111111111111,
              "#46039f"
             ],
             [
              0.2222222222222222,
              "#7201a8"
             ],
             [
              0.3333333333333333,
              "#9c179e"
             ],
             [
              0.4444444444444444,
              "#bd3786"
             ],
             [
              0.5555555555555556,
              "#d8576b"
             ],
             [
              0.6666666666666666,
              "#ed7953"
             ],
             [
              0.7777777777777778,
              "#fb9f3a"
             ],
             [
              0.8888888888888888,
              "#fdca26"
             ],
             [
              1,
              "#f0f921"
             ]
            ],
            "type": "histogram2dcontour"
           }
          ],
          "mesh3d": [
           {
            "colorbar": {
             "outlinewidth": 0,
             "ticks": ""
            },
            "type": "mesh3d"
           }
          ],
          "parcoords": [
           {
            "line": {
             "colorbar": {
              "outlinewidth": 0,
              "ticks": ""
             }
            },
            "type": "parcoords"
           }
          ],
          "pie": [
           {
            "automargin": true,
            "type": "pie"
           }
          ],
          "scatter": [
           {
            "fillpattern": {
             "fillmode": "overlay",
             "size": 10,
             "solidity": 0.2
            },
            "type": "scatter"
           }
          ],
          "scatter3d": [
           {
            "line": {
             "colorbar": {
              "outlinewidth": 0,
              "ticks": ""
             }
            },
            "marker": {
             "colorbar": {
              "outlinewidth": 0,
              "ticks": ""
             }
            },
            "type": "scatter3d"
           }
          ],
          "scattercarpet": [
           {
            "marker": {
             "colorbar": {
              "outlinewidth": 0,
              "ticks": ""
             }
            },
            "type": "scattercarpet"
           }
          ],
          "scattergeo": [
           {
            "marker": {
             "colorbar": {
              "outlinewidth": 0,
              "ticks": ""
             }
            },
            "type": "scattergeo"
           }
          ],
          "scattergl": [
           {
            "marker": {
             "colorbar": {
              "outlinewidth": 0,
              "ticks": ""
             }
            },
            "type": "scattergl"
           }
          ],
          "scattermapbox": [
           {
            "marker": {
             "colorbar": {
              "outlinewidth": 0,
              "ticks": ""
             }
            },
            "type": "scattermapbox"
           }
          ],
          "scatterpolar": [
           {
            "marker": {
             "colorbar": {
              "outlinewidth": 0,
              "ticks": ""
             }
            },
            "type": "scatterpolar"
           }
          ],
          "scatterpolargl": [
           {
            "marker": {
             "colorbar": {
              "outlinewidth": 0,
              "ticks": ""
             }
            },
            "type": "scatterpolargl"
           }
          ],
          "scatterternary": [
           {
            "marker": {
             "colorbar": {
              "outlinewidth": 0,
              "ticks": ""
             }
            },
            "type": "scatterternary"
           }
          ],
          "surface": [
           {
            "colorbar": {
             "outlinewidth": 0,
             "ticks": ""
            },
            "colorscale": [
             [
              0,
              "#0d0887"
             ],
             [
              0.1111111111111111,
              "#46039f"
             ],
             [
              0.2222222222222222,
              "#7201a8"
             ],
             [
              0.3333333333333333,
              "#9c179e"
             ],
             [
              0.4444444444444444,
              "#bd3786"
             ],
             [
              0.5555555555555556,
              "#d8576b"
             ],
             [
              0.6666666666666666,
              "#ed7953"
             ],
             [
              0.7777777777777778,
              "#fb9f3a"
             ],
             [
              0.8888888888888888,
              "#fdca26"
             ],
             [
              1,
              "#f0f921"
             ]
            ],
            "type": "surface"
           }
          ],
          "table": [
           {
            "cells": {
             "fill": {
              "color": "#EBF0F8"
             },
             "line": {
              "color": "white"
             }
            },
            "header": {
             "fill": {
              "color": "#C8D4E3"
             },
             "line": {
              "color": "white"
             }
            },
            "type": "table"
           }
          ]
         },
         "layout": {
          "annotationdefaults": {
           "arrowcolor": "#2a3f5f",
           "arrowhead": 0,
           "arrowwidth": 1
          },
          "autotypenumbers": "strict",
          "coloraxis": {
           "colorbar": {
            "outlinewidth": 0,
            "ticks": ""
           }
          },
          "colorscale": {
           "diverging": [
            [
             0,
             "#8e0152"
            ],
            [
             0.1,
             "#c51b7d"
            ],
            [
             0.2,
             "#de77ae"
            ],
            [
             0.3,
             "#f1b6da"
            ],
            [
             0.4,
             "#fde0ef"
            ],
            [
             0.5,
             "#f7f7f7"
            ],
            [
             0.6,
             "#e6f5d0"
            ],
            [
             0.7,
             "#b8e186"
            ],
            [
             0.8,
             "#7fbc41"
            ],
            [
             0.9,
             "#4d9221"
            ],
            [
             1,
             "#276419"
            ]
           ],
           "sequential": [
            [
             0,
             "#0d0887"
            ],
            [
             0.1111111111111111,
             "#46039f"
            ],
            [
             0.2222222222222222,
             "#7201a8"
            ],
            [
             0.3333333333333333,
             "#9c179e"
            ],
            [
             0.4444444444444444,
             "#bd3786"
            ],
            [
             0.5555555555555556,
             "#d8576b"
            ],
            [
             0.6666666666666666,
             "#ed7953"
            ],
            [
             0.7777777777777778,
             "#fb9f3a"
            ],
            [
             0.8888888888888888,
             "#fdca26"
            ],
            [
             1,
             "#f0f921"
            ]
           ],
           "sequentialminus": [
            [
             0,
             "#0d0887"
            ],
            [
             0.1111111111111111,
             "#46039f"
            ],
            [
             0.2222222222222222,
             "#7201a8"
            ],
            [
             0.3333333333333333,
             "#9c179e"
            ],
            [
             0.4444444444444444,
             "#bd3786"
            ],
            [
             0.5555555555555556,
             "#d8576b"
            ],
            [
             0.6666666666666666,
             "#ed7953"
            ],
            [
             0.7777777777777778,
             "#fb9f3a"
            ],
            [
             0.8888888888888888,
             "#fdca26"
            ],
            [
             1,
             "#f0f921"
            ]
           ]
          },
          "colorway": [
           "#636efa",
           "#EF553B",
           "#00cc96",
           "#ab63fa",
           "#FFA15A",
           "#19d3f3",
           "#FF6692",
           "#B6E880",
           "#FF97FF",
           "#FECB52"
          ],
          "font": {
           "color": "#2a3f5f"
          },
          "geo": {
           "bgcolor": "white",
           "lakecolor": "white",
           "landcolor": "#E5ECF6",
           "showlakes": true,
           "showland": true,
           "subunitcolor": "white"
          },
          "hoverlabel": {
           "align": "left"
          },
          "hovermode": "closest",
          "mapbox": {
           "style": "light"
          },
          "paper_bgcolor": "white",
          "plot_bgcolor": "#E5ECF6",
          "polar": {
           "angularaxis": {
            "gridcolor": "white",
            "linecolor": "white",
            "ticks": ""
           },
           "bgcolor": "#E5ECF6",
           "radialaxis": {
            "gridcolor": "white",
            "linecolor": "white",
            "ticks": ""
           }
          },
          "scene": {
           "xaxis": {
            "backgroundcolor": "#E5ECF6",
            "gridcolor": "white",
            "gridwidth": 2,
            "linecolor": "white",
            "showbackground": true,
            "ticks": "",
            "zerolinecolor": "white"
           },
           "yaxis": {
            "backgroundcolor": "#E5ECF6",
            "gridcolor": "white",
            "gridwidth": 2,
            "linecolor": "white",
            "showbackground": true,
            "ticks": "",
            "zerolinecolor": "white"
           },
           "zaxis": {
            "backgroundcolor": "#E5ECF6",
            "gridcolor": "white",
            "gridwidth": 2,
            "linecolor": "white",
            "showbackground": true,
            "ticks": "",
            "zerolinecolor": "white"
           }
          },
          "shapedefaults": {
           "line": {
            "color": "#2a3f5f"
           }
          },
          "ternary": {
           "aaxis": {
            "gridcolor": "white",
            "linecolor": "white",
            "ticks": ""
           },
           "baxis": {
            "gridcolor": "white",
            "linecolor": "white",
            "ticks": ""
           },
           "bgcolor": "#E5ECF6",
           "caxis": {
            "gridcolor": "white",
            "linecolor": "white",
            "ticks": ""
           }
          },
          "title": {
           "x": 0.05
          },
          "xaxis": {
           "automargin": true,
           "gridcolor": "white",
           "linecolor": "white",
           "ticks": "",
           "title": {
            "standoff": 15
           },
           "zerolinecolor": "white",
           "zerolinewidth": 2
          },
          "yaxis": {
           "automargin": true,
           "gridcolor": "white",
           "linecolor": "white",
           "ticks": "",
           "title": {
            "standoff": 15
           },
           "zerolinecolor": "white",
           "zerolinewidth": 2
          }
         }
        },
        "title": {
         "text": "YIELD BOXPLOT"
        },
        "xaxis": {
         "anchor": "y",
         "domain": [
          0,
          1
         ]
        },
        "yaxis": {
         "anchor": "x",
         "domain": [
          0,
          1
         ],
         "title": {
          "text": "Yield (kg per hectare)"
         }
        }
       }
      }
     },
     "metadata": {},
     "output_type": "display_data"
    }
   ],
   "source": [
    "fig = px.histogram(\n",
    "    df,\n",
    "    x='yield_kg_per_hectare',\n",
    "    nbins=50,\n",
    "    title='DISTRIBUTION OF YIELD (kg/ha)',\n",
    "    color_discrete_sequence=['lightskyblue'],\n",
    "    labels={'yield_kg_per_hectare': 'Yield (kg per hectare)'}\n",
    ")\n",
    "fig.show()\n",
    "\n",
    "fig = px.box(\n",
    "    df,\n",
    "    y='yield_kg_per_hectare',\n",
    "    points='outliers',\n",
    "    title='YIELD BOXPLOT',\n",
    "    color_discrete_sequence=['lightskyblue'],\n",
    "    labels={'yield_kg_per_hectare': 'Yield (kg per hectare)'}\n",
    ")\n",
    "fig.show()"
   ]
  },
  {
   "cell_type": "code",
   "execution_count": null,
   "id": "63184c25",
   "metadata": {},
   "outputs": [
    {
     "data": {
      "application/vnd.plotly.v1+json": {
       "config": {
        "plotlyServerURL": "https://plot.ly"
       },
       "data": [
        {
         "alignmentgroup": "True",
         "hovertemplate": "Region=%{x}<br>Frequency=%{y}<extra></extra>",
         "legendgroup": "",
         "marker": {
          "color": "lightskyblue",
          "pattern": {
           "shape": ""
          }
         },
         "name": "",
         "offsetgroup": "",
         "orientation": "v",
         "showlegend": false,
         "textposition": "auto",
         "type": "bar",
         "x": [
          "Central USA",
          "East Africa",
          "North India",
          "South USA",
          "South India"
         ],
         "xaxis": "x",
         "y": [
          109,
          107,
          99,
          94,
          91
         ],
         "yaxis": "y"
        }
       ],
       "layout": {
        "barmode": "relative",
        "legend": {
         "tracegroupgap": 0
        },
        "template": {
         "data": {
          "bar": [
           {
            "error_x": {
             "color": "#2a3f5f"
            },
            "error_y": {
             "color": "#2a3f5f"
            },
            "marker": {
             "line": {
              "color": "#E5ECF6",
              "width": 0.5
             },
             "pattern": {
              "fillmode": "overlay",
              "size": 10,
              "solidity": 0.2
             }
            },
            "type": "bar"
           }
          ],
          "barpolar": [
           {
            "marker": {
             "line": {
              "color": "#E5ECF6",
              "width": 0.5
             },
             "pattern": {
              "fillmode": "overlay",
              "size": 10,
              "solidity": 0.2
             }
            },
            "type": "barpolar"
           }
          ],
          "carpet": [
           {
            "aaxis": {
             "endlinecolor": "#2a3f5f",
             "gridcolor": "white",
             "linecolor": "white",
             "minorgridcolor": "white",
             "startlinecolor": "#2a3f5f"
            },
            "baxis": {
             "endlinecolor": "#2a3f5f",
             "gridcolor": "white",
             "linecolor": "white",
             "minorgridcolor": "white",
             "startlinecolor": "#2a3f5f"
            },
            "type": "carpet"
           }
          ],
          "choropleth": [
           {
            "colorbar": {
             "outlinewidth": 0,
             "ticks": ""
            },
            "type": "choropleth"
           }
          ],
          "contour": [
           {
            "colorbar": {
             "outlinewidth": 0,
             "ticks": ""
            },
            "colorscale": [
             [
              0,
              "#0d0887"
             ],
             [
              0.1111111111111111,
              "#46039f"
             ],
             [
              0.2222222222222222,
              "#7201a8"
             ],
             [
              0.3333333333333333,
              "#9c179e"
             ],
             [
              0.4444444444444444,
              "#bd3786"
             ],
             [
              0.5555555555555556,
              "#d8576b"
             ],
             [
              0.6666666666666666,
              "#ed7953"
             ],
             [
              0.7777777777777778,
              "#fb9f3a"
             ],
             [
              0.8888888888888888,
              "#fdca26"
             ],
             [
              1,
              "#f0f921"
             ]
            ],
            "type": "contour"
           }
          ],
          "contourcarpet": [
           {
            "colorbar": {
             "outlinewidth": 0,
             "ticks": ""
            },
            "type": "contourcarpet"
           }
          ],
          "heatmap": [
           {
            "colorbar": {
             "outlinewidth": 0,
             "ticks": ""
            },
            "colorscale": [
             [
              0,
              "#0d0887"
             ],
             [
              0.1111111111111111,
              "#46039f"
             ],
             [
              0.2222222222222222,
              "#7201a8"
             ],
             [
              0.3333333333333333,
              "#9c179e"
             ],
             [
              0.4444444444444444,
              "#bd3786"
             ],
             [
              0.5555555555555556,
              "#d8576b"
             ],
             [
              0.6666666666666666,
              "#ed7953"
             ],
             [
              0.7777777777777778,
              "#fb9f3a"
             ],
             [
              0.8888888888888888,
              "#fdca26"
             ],
             [
              1,
              "#f0f921"
             ]
            ],
            "type": "heatmap"
           }
          ],
          "heatmapgl": [
           {
            "colorbar": {
             "outlinewidth": 0,
             "ticks": ""
            },
            "colorscale": [
             [
              0,
              "#0d0887"
             ],
             [
              0.1111111111111111,
              "#46039f"
             ],
             [
              0.2222222222222222,
              "#7201a8"
             ],
             [
              0.3333333333333333,
              "#9c179e"
             ],
             [
              0.4444444444444444,
              "#bd3786"
             ],
             [
              0.5555555555555556,
              "#d8576b"
             ],
             [
              0.6666666666666666,
              "#ed7953"
             ],
             [
              0.7777777777777778,
              "#fb9f3a"
             ],
             [
              0.8888888888888888,
              "#fdca26"
             ],
             [
              1,
              "#f0f921"
             ]
            ],
            "type": "heatmapgl"
           }
          ],
          "histogram": [
           {
            "marker": {
             "pattern": {
              "fillmode": "overlay",
              "size": 10,
              "solidity": 0.2
             }
            },
            "type": "histogram"
           }
          ],
          "histogram2d": [
           {
            "colorbar": {
             "outlinewidth": 0,
             "ticks": ""
            },
            "colorscale": [
             [
              0,
              "#0d0887"
             ],
             [
              0.1111111111111111,
              "#46039f"
             ],
             [
              0.2222222222222222,
              "#7201a8"
             ],
             [
              0.3333333333333333,
              "#9c179e"
             ],
             [
              0.4444444444444444,
              "#bd3786"
             ],
             [
              0.5555555555555556,
              "#d8576b"
             ],
             [
              0.6666666666666666,
              "#ed7953"
             ],
             [
              0.7777777777777778,
              "#fb9f3a"
             ],
             [
              0.8888888888888888,
              "#fdca26"
             ],
             [
              1,
              "#f0f921"
             ]
            ],
            "type": "histogram2d"
           }
          ],
          "histogram2dcontour": [
           {
            "colorbar": {
             "outlinewidth": 0,
             "ticks": ""
            },
            "colorscale": [
             [
              0,
              "#0d0887"
             ],
             [
              0.1111111111111111,
              "#46039f"
             ],
             [
              0.2222222222222222,
              "#7201a8"
             ],
             [
              0.3333333333333333,
              "#9c179e"
             ],
             [
              0.4444444444444444,
              "#bd3786"
             ],
             [
              0.5555555555555556,
              "#d8576b"
             ],
             [
              0.6666666666666666,
              "#ed7953"
             ],
             [
              0.7777777777777778,
              "#fb9f3a"
             ],
             [
              0.8888888888888888,
              "#fdca26"
             ],
             [
              1,
              "#f0f921"
             ]
            ],
            "type": "histogram2dcontour"
           }
          ],
          "mesh3d": [
           {
            "colorbar": {
             "outlinewidth": 0,
             "ticks": ""
            },
            "type": "mesh3d"
           }
          ],
          "parcoords": [
           {
            "line": {
             "colorbar": {
              "outlinewidth": 0,
              "ticks": ""
             }
            },
            "type": "parcoords"
           }
          ],
          "pie": [
           {
            "automargin": true,
            "type": "pie"
           }
          ],
          "scatter": [
           {
            "fillpattern": {
             "fillmode": "overlay",
             "size": 10,
             "solidity": 0.2
            },
            "type": "scatter"
           }
          ],
          "scatter3d": [
           {
            "line": {
             "colorbar": {
              "outlinewidth": 0,
              "ticks": ""
             }
            },
            "marker": {
             "colorbar": {
              "outlinewidth": 0,
              "ticks": ""
             }
            },
            "type": "scatter3d"
           }
          ],
          "scattercarpet": [
           {
            "marker": {
             "colorbar": {
              "outlinewidth": 0,
              "ticks": ""
             }
            },
            "type": "scattercarpet"
           }
          ],
          "scattergeo": [
           {
            "marker": {
             "colorbar": {
              "outlinewidth": 0,
              "ticks": ""
             }
            },
            "type": "scattergeo"
           }
          ],
          "scattergl": [
           {
            "marker": {
             "colorbar": {
              "outlinewidth": 0,
              "ticks": ""
             }
            },
            "type": "scattergl"
           }
          ],
          "scattermapbox": [
           {
            "marker": {
             "colorbar": {
              "outlinewidth": 0,
              "ticks": ""
             }
            },
            "type": "scattermapbox"
           }
          ],
          "scatterpolar": [
           {
            "marker": {
             "colorbar": {
              "outlinewidth": 0,
              "ticks": ""
             }
            },
            "type": "scatterpolar"
           }
          ],
          "scatterpolargl": [
           {
            "marker": {
             "colorbar": {
              "outlinewidth": 0,
              "ticks": ""
             }
            },
            "type": "scatterpolargl"
           }
          ],
          "scatterternary": [
           {
            "marker": {
             "colorbar": {
              "outlinewidth": 0,
              "ticks": ""
             }
            },
            "type": "scatterternary"
           }
          ],
          "surface": [
           {
            "colorbar": {
             "outlinewidth": 0,
             "ticks": ""
            },
            "colorscale": [
             [
              0,
              "#0d0887"
             ],
             [
              0.1111111111111111,
              "#46039f"
             ],
             [
              0.2222222222222222,
              "#7201a8"
             ],
             [
              0.3333333333333333,
              "#9c179e"
             ],
             [
              0.4444444444444444,
              "#bd3786"
             ],
             [
              0.5555555555555556,
              "#d8576b"
             ],
             [
              0.6666666666666666,
              "#ed7953"
             ],
             [
              0.7777777777777778,
              "#fb9f3a"
             ],
             [
              0.8888888888888888,
              "#fdca26"
             ],
             [
              1,
              "#f0f921"
             ]
            ],
            "type": "surface"
           }
          ],
          "table": [
           {
            "cells": {
             "fill": {
              "color": "#EBF0F8"
             },
             "line": {
              "color": "white"
             }
            },
            "header": {
             "fill": {
              "color": "#C8D4E3"
             },
             "line": {
              "color": "white"
             }
            },
            "type": "table"
           }
          ]
         },
         "layout": {
          "annotationdefaults": {
           "arrowcolor": "#2a3f5f",
           "arrowhead": 0,
           "arrowwidth": 1
          },
          "autotypenumbers": "strict",
          "coloraxis": {
           "colorbar": {
            "outlinewidth": 0,
            "ticks": ""
           }
          },
          "colorscale": {
           "diverging": [
            [
             0,
             "#8e0152"
            ],
            [
             0.1,
             "#c51b7d"
            ],
            [
             0.2,
             "#de77ae"
            ],
            [
             0.3,
             "#f1b6da"
            ],
            [
             0.4,
             "#fde0ef"
            ],
            [
             0.5,
             "#f7f7f7"
            ],
            [
             0.6,
             "#e6f5d0"
            ],
            [
             0.7,
             "#b8e186"
            ],
            [
             0.8,
             "#7fbc41"
            ],
            [
             0.9,
             "#4d9221"
            ],
            [
             1,
             "#276419"
            ]
           ],
           "sequential": [
            [
             0,
             "#0d0887"
            ],
            [
             0.1111111111111111,
             "#46039f"
            ],
            [
             0.2222222222222222,
             "#7201a8"
            ],
            [
             0.3333333333333333,
             "#9c179e"
            ],
            [
             0.4444444444444444,
             "#bd3786"
            ],
            [
             0.5555555555555556,
             "#d8576b"
            ],
            [
             0.6666666666666666,
             "#ed7953"
            ],
            [
             0.7777777777777778,
             "#fb9f3a"
            ],
            [
             0.8888888888888888,
             "#fdca26"
            ],
            [
             1,
             "#f0f921"
            ]
           ],
           "sequentialminus": [
            [
             0,
             "#0d0887"
            ],
            [
             0.1111111111111111,
             "#46039f"
            ],
            [
             0.2222222222222222,
             "#7201a8"
            ],
            [
             0.3333333333333333,
             "#9c179e"
            ],
            [
             0.4444444444444444,
             "#bd3786"
            ],
            [
             0.5555555555555556,
             "#d8576b"
            ],
            [
             0.6666666666666666,
             "#ed7953"
            ],
            [
             0.7777777777777778,
             "#fb9f3a"
            ],
            [
             0.8888888888888888,
             "#fdca26"
            ],
            [
             1,
             "#f0f921"
            ]
           ]
          },
          "colorway": [
           "#636efa",
           "#EF553B",
           "#00cc96",
           "#ab63fa",
           "#FFA15A",
           "#19d3f3",
           "#FF6692",
           "#B6E880",
           "#FF97FF",
           "#FECB52"
          ],
          "font": {
           "color": "#2a3f5f"
          },
          "geo": {
           "bgcolor": "white",
           "lakecolor": "white",
           "landcolor": "#E5ECF6",
           "showlakes": true,
           "showland": true,
           "subunitcolor": "white"
          },
          "hoverlabel": {
           "align": "left"
          },
          "hovermode": "closest",
          "mapbox": {
           "style": "light"
          },
          "paper_bgcolor": "white",
          "plot_bgcolor": "#E5ECF6",
          "polar": {
           "angularaxis": {
            "gridcolor": "white",
            "linecolor": "white",
            "ticks": ""
           },
           "bgcolor": "#E5ECF6",
           "radialaxis": {
            "gridcolor": "white",
            "linecolor": "white",
            "ticks": ""
           }
          },
          "scene": {
           "xaxis": {
            "backgroundcolor": "#E5ECF6",
            "gridcolor": "white",
            "gridwidth": 2,
            "linecolor": "white",
            "showbackground": true,
            "ticks": "",
            "zerolinecolor": "white"
           },
           "yaxis": {
            "backgroundcolor": "#E5ECF6",
            "gridcolor": "white",
            "gridwidth": 2,
            "linecolor": "white",
            "showbackground": true,
            "ticks": "",
            "zerolinecolor": "white"
           },
           "zaxis": {
            "backgroundcolor": "#E5ECF6",
            "gridcolor": "white",
            "gridwidth": 2,
            "linecolor": "white",
            "showbackground": true,
            "ticks": "",
            "zerolinecolor": "white"
           }
          },
          "shapedefaults": {
           "line": {
            "color": "#2a3f5f"
           }
          },
          "ternary": {
           "aaxis": {
            "gridcolor": "white",
            "linecolor": "white",
            "ticks": ""
           },
           "baxis": {
            "gridcolor": "white",
            "linecolor": "white",
            "ticks": ""
           },
           "bgcolor": "#E5ECF6",
           "caxis": {
            "gridcolor": "white",
            "linecolor": "white",
            "ticks": ""
           }
          },
          "title": {
           "x": 0.05
          },
          "xaxis": {
           "automargin": true,
           "gridcolor": "white",
           "linecolor": "white",
           "ticks": "",
           "title": {
            "standoff": 15
           },
           "zerolinecolor": "white",
           "zerolinewidth": 2
          },
          "yaxis": {
           "automargin": true,
           "gridcolor": "white",
           "linecolor": "white",
           "ticks": "",
           "title": {
            "standoff": 15
           },
           "zerolinecolor": "white",
           "zerolinewidth": 2
          }
         }
        },
        "title": {
         "text": "DISTRIBUTION OF CATEGORICAL FEATURE: region"
        },
        "xaxis": {
         "anchor": "y",
         "domain": [
          0,
          1
         ],
         "title": {
          "text": "Region"
         }
        },
        "yaxis": {
         "anchor": "x",
         "domain": [
          0,
          1
         ],
         "title": {
          "text": "Frequency"
         }
        }
       }
      }
     },
     "metadata": {},
     "output_type": "display_data"
    },
    {
     "data": {
      "application/vnd.plotly.v1+json": {
       "config": {
        "plotlyServerURL": "https://plot.ly"
       },
       "data": [
        {
         "alignmentgroup": "True",
         "hovertemplate": "Crop_type=%{x}<br>Frequency=%{y}<extra></extra>",
         "legendgroup": "",
         "marker": {
          "color": "lightskyblue",
          "pattern": {
           "shape": ""
          }
         },
         "name": "",
         "offsetgroup": "",
         "orientation": "v",
         "showlegend": false,
         "textposition": "auto",
         "type": "bar",
         "x": [
          "Maize",
          "Soybean",
          "Cotton",
          "Wheat",
          "Rice"
         ],
         "xaxis": "x",
         "y": [
          111,
          108,
          107,
          92,
          82
         ],
         "yaxis": "y"
        }
       ],
       "layout": {
        "barmode": "relative",
        "legend": {
         "tracegroupgap": 0
        },
        "template": {
         "data": {
          "bar": [
           {
            "error_x": {
             "color": "#2a3f5f"
            },
            "error_y": {
             "color": "#2a3f5f"
            },
            "marker": {
             "line": {
              "color": "#E5ECF6",
              "width": 0.5
             },
             "pattern": {
              "fillmode": "overlay",
              "size": 10,
              "solidity": 0.2
             }
            },
            "type": "bar"
           }
          ],
          "barpolar": [
           {
            "marker": {
             "line": {
              "color": "#E5ECF6",
              "width": 0.5
             },
             "pattern": {
              "fillmode": "overlay",
              "size": 10,
              "solidity": 0.2
             }
            },
            "type": "barpolar"
           }
          ],
          "carpet": [
           {
            "aaxis": {
             "endlinecolor": "#2a3f5f",
             "gridcolor": "white",
             "linecolor": "white",
             "minorgridcolor": "white",
             "startlinecolor": "#2a3f5f"
            },
            "baxis": {
             "endlinecolor": "#2a3f5f",
             "gridcolor": "white",
             "linecolor": "white",
             "minorgridcolor": "white",
             "startlinecolor": "#2a3f5f"
            },
            "type": "carpet"
           }
          ],
          "choropleth": [
           {
            "colorbar": {
             "outlinewidth": 0,
             "ticks": ""
            },
            "type": "choropleth"
           }
          ],
          "contour": [
           {
            "colorbar": {
             "outlinewidth": 0,
             "ticks": ""
            },
            "colorscale": [
             [
              0,
              "#0d0887"
             ],
             [
              0.1111111111111111,
              "#46039f"
             ],
             [
              0.2222222222222222,
              "#7201a8"
             ],
             [
              0.3333333333333333,
              "#9c179e"
             ],
             [
              0.4444444444444444,
              "#bd3786"
             ],
             [
              0.5555555555555556,
              "#d8576b"
             ],
             [
              0.6666666666666666,
              "#ed7953"
             ],
             [
              0.7777777777777778,
              "#fb9f3a"
             ],
             [
              0.8888888888888888,
              "#fdca26"
             ],
             [
              1,
              "#f0f921"
             ]
            ],
            "type": "contour"
           }
          ],
          "contourcarpet": [
           {
            "colorbar": {
             "outlinewidth": 0,
             "ticks": ""
            },
            "type": "contourcarpet"
           }
          ],
          "heatmap": [
           {
            "colorbar": {
             "outlinewidth": 0,
             "ticks": ""
            },
            "colorscale": [
             [
              0,
              "#0d0887"
             ],
             [
              0.1111111111111111,
              "#46039f"
             ],
             [
              0.2222222222222222,
              "#7201a8"
             ],
             [
              0.3333333333333333,
              "#9c179e"
             ],
             [
              0.4444444444444444,
              "#bd3786"
             ],
             [
              0.5555555555555556,
              "#d8576b"
             ],
             [
              0.6666666666666666,
              "#ed7953"
             ],
             [
              0.7777777777777778,
              "#fb9f3a"
             ],
             [
              0.8888888888888888,
              "#fdca26"
             ],
             [
              1,
              "#f0f921"
             ]
            ],
            "type": "heatmap"
           }
          ],
          "heatmapgl": [
           {
            "colorbar": {
             "outlinewidth": 0,
             "ticks": ""
            },
            "colorscale": [
             [
              0,
              "#0d0887"
             ],
             [
              0.1111111111111111,
              "#46039f"
             ],
             [
              0.2222222222222222,
              "#7201a8"
             ],
             [
              0.3333333333333333,
              "#9c179e"
             ],
             [
              0.4444444444444444,
              "#bd3786"
             ],
             [
              0.5555555555555556,
              "#d8576b"
             ],
             [
              0.6666666666666666,
              "#ed7953"
             ],
             [
              0.7777777777777778,
              "#fb9f3a"
             ],
             [
              0.8888888888888888,
              "#fdca26"
             ],
             [
              1,
              "#f0f921"
             ]
            ],
            "type": "heatmapgl"
           }
          ],
          "histogram": [
           {
            "marker": {
             "pattern": {
              "fillmode": "overlay",
              "size": 10,
              "solidity": 0.2
             }
            },
            "type": "histogram"
           }
          ],
          "histogram2d": [
           {
            "colorbar": {
             "outlinewidth": 0,
             "ticks": ""
            },
            "colorscale": [
             [
              0,
              "#0d0887"
             ],
             [
              0.1111111111111111,
              "#46039f"
             ],
             [
              0.2222222222222222,
              "#7201a8"
             ],
             [
              0.3333333333333333,
              "#9c179e"
             ],
             [
              0.4444444444444444,
              "#bd3786"
             ],
             [
              0.5555555555555556,
              "#d8576b"
             ],
             [
              0.6666666666666666,
              "#ed7953"
             ],
             [
              0.7777777777777778,
              "#fb9f3a"
             ],
             [
              0.8888888888888888,
              "#fdca26"
             ],
             [
              1,
              "#f0f921"
             ]
            ],
            "type": "histogram2d"
           }
          ],
          "histogram2dcontour": [
           {
            "colorbar": {
             "outlinewidth": 0,
             "ticks": ""
            },
            "colorscale": [
             [
              0,
              "#0d0887"
             ],
             [
              0.1111111111111111,
              "#46039f"
             ],
             [
              0.2222222222222222,
              "#7201a8"
             ],
             [
              0.3333333333333333,
              "#9c179e"
             ],
             [
              0.4444444444444444,
              "#bd3786"
             ],
             [
              0.5555555555555556,
              "#d8576b"
             ],
             [
              0.6666666666666666,
              "#ed7953"
             ],
             [
              0.7777777777777778,
              "#fb9f3a"
             ],
             [
              0.8888888888888888,
              "#fdca26"
             ],
             [
              1,
              "#f0f921"
             ]
            ],
            "type": "histogram2dcontour"
           }
          ],
          "mesh3d": [
           {
            "colorbar": {
             "outlinewidth": 0,
             "ticks": ""
            },
            "type": "mesh3d"
           }
          ],
          "parcoords": [
           {
            "line": {
             "colorbar": {
              "outlinewidth": 0,
              "ticks": ""
             }
            },
            "type": "parcoords"
           }
          ],
          "pie": [
           {
            "automargin": true,
            "type": "pie"
           }
          ],
          "scatter": [
           {
            "fillpattern": {
             "fillmode": "overlay",
             "size": 10,
             "solidity": 0.2
            },
            "type": "scatter"
           }
          ],
          "scatter3d": [
           {
            "line": {
             "colorbar": {
              "outlinewidth": 0,
              "ticks": ""
             }
            },
            "marker": {
             "colorbar": {
              "outlinewidth": 0,
              "ticks": ""
             }
            },
            "type": "scatter3d"
           }
          ],
          "scattercarpet": [
           {
            "marker": {
             "colorbar": {
              "outlinewidth": 0,
              "ticks": ""
             }
            },
            "type": "scattercarpet"
           }
          ],
          "scattergeo": [
           {
            "marker": {
             "colorbar": {
              "outlinewidth": 0,
              "ticks": ""
             }
            },
            "type": "scattergeo"
           }
          ],
          "scattergl": [
           {
            "marker": {
             "colorbar": {
              "outlinewidth": 0,
              "ticks": ""
             }
            },
            "type": "scattergl"
           }
          ],
          "scattermapbox": [
           {
            "marker": {
             "colorbar": {
              "outlinewidth": 0,
              "ticks": ""
             }
            },
            "type": "scattermapbox"
           }
          ],
          "scatterpolar": [
           {
            "marker": {
             "colorbar": {
              "outlinewidth": 0,
              "ticks": ""
             }
            },
            "type": "scatterpolar"
           }
          ],
          "scatterpolargl": [
           {
            "marker": {
             "colorbar": {
              "outlinewidth": 0,
              "ticks": ""
             }
            },
            "type": "scatterpolargl"
           }
          ],
          "scatterternary": [
           {
            "marker": {
             "colorbar": {
              "outlinewidth": 0,
              "ticks": ""
             }
            },
            "type": "scatterternary"
           }
          ],
          "surface": [
           {
            "colorbar": {
             "outlinewidth": 0,
             "ticks": ""
            },
            "colorscale": [
             [
              0,
              "#0d0887"
             ],
             [
              0.1111111111111111,
              "#46039f"
             ],
             [
              0.2222222222222222,
              "#7201a8"
             ],
             [
              0.3333333333333333,
              "#9c179e"
             ],
             [
              0.4444444444444444,
              "#bd3786"
             ],
             [
              0.5555555555555556,
              "#d8576b"
             ],
             [
              0.6666666666666666,
              "#ed7953"
             ],
             [
              0.7777777777777778,
              "#fb9f3a"
             ],
             [
              0.8888888888888888,
              "#fdca26"
             ],
             [
              1,
              "#f0f921"
             ]
            ],
            "type": "surface"
           }
          ],
          "table": [
           {
            "cells": {
             "fill": {
              "color": "#EBF0F8"
             },
             "line": {
              "color": "white"
             }
            },
            "header": {
             "fill": {
              "color": "#C8D4E3"
             },
             "line": {
              "color": "white"
             }
            },
            "type": "table"
           }
          ]
         },
         "layout": {
          "annotationdefaults": {
           "arrowcolor": "#2a3f5f",
           "arrowhead": 0,
           "arrowwidth": 1
          },
          "autotypenumbers": "strict",
          "coloraxis": {
           "colorbar": {
            "outlinewidth": 0,
            "ticks": ""
           }
          },
          "colorscale": {
           "diverging": [
            [
             0,
             "#8e0152"
            ],
            [
             0.1,
             "#c51b7d"
            ],
            [
             0.2,
             "#de77ae"
            ],
            [
             0.3,
             "#f1b6da"
            ],
            [
             0.4,
             "#fde0ef"
            ],
            [
             0.5,
             "#f7f7f7"
            ],
            [
             0.6,
             "#e6f5d0"
            ],
            [
             0.7,
             "#b8e186"
            ],
            [
             0.8,
             "#7fbc41"
            ],
            [
             0.9,
             "#4d9221"
            ],
            [
             1,
             "#276419"
            ]
           ],
           "sequential": [
            [
             0,
             "#0d0887"
            ],
            [
             0.1111111111111111,
             "#46039f"
            ],
            [
             0.2222222222222222,
             "#7201a8"
            ],
            [
             0.3333333333333333,
             "#9c179e"
            ],
            [
             0.4444444444444444,
             "#bd3786"
            ],
            [
             0.5555555555555556,
             "#d8576b"
            ],
            [
             0.6666666666666666,
             "#ed7953"
            ],
            [
             0.7777777777777778,
             "#fb9f3a"
            ],
            [
             0.8888888888888888,
             "#fdca26"
            ],
            [
             1,
             "#f0f921"
            ]
           ],
           "sequentialminus": [
            [
             0,
             "#0d0887"
            ],
            [
             0.1111111111111111,
             "#46039f"
            ],
            [
             0.2222222222222222,
             "#7201a8"
            ],
            [
             0.3333333333333333,
             "#9c179e"
            ],
            [
             0.4444444444444444,
             "#bd3786"
            ],
            [
             0.5555555555555556,
             "#d8576b"
            ],
            [
             0.6666666666666666,
             "#ed7953"
            ],
            [
             0.7777777777777778,
             "#fb9f3a"
            ],
            [
             0.8888888888888888,
             "#fdca26"
            ],
            [
             1,
             "#f0f921"
            ]
           ]
          },
          "colorway": [
           "#636efa",
           "#EF553B",
           "#00cc96",
           "#ab63fa",
           "#FFA15A",
           "#19d3f3",
           "#FF6692",
           "#B6E880",
           "#FF97FF",
           "#FECB52"
          ],
          "font": {
           "color": "#2a3f5f"
          },
          "geo": {
           "bgcolor": "white",
           "lakecolor": "white",
           "landcolor": "#E5ECF6",
           "showlakes": true,
           "showland": true,
           "subunitcolor": "white"
          },
          "hoverlabel": {
           "align": "left"
          },
          "hovermode": "closest",
          "mapbox": {
           "style": "light"
          },
          "paper_bgcolor": "white",
          "plot_bgcolor": "#E5ECF6",
          "polar": {
           "angularaxis": {
            "gridcolor": "white",
            "linecolor": "white",
            "ticks": ""
           },
           "bgcolor": "#E5ECF6",
           "radialaxis": {
            "gridcolor": "white",
            "linecolor": "white",
            "ticks": ""
           }
          },
          "scene": {
           "xaxis": {
            "backgroundcolor": "#E5ECF6",
            "gridcolor": "white",
            "gridwidth": 2,
            "linecolor": "white",
            "showbackground": true,
            "ticks": "",
            "zerolinecolor": "white"
           },
           "yaxis": {
            "backgroundcolor": "#E5ECF6",
            "gridcolor": "white",
            "gridwidth": 2,
            "linecolor": "white",
            "showbackground": true,
            "ticks": "",
            "zerolinecolor": "white"
           },
           "zaxis": {
            "backgroundcolor": "#E5ECF6",
            "gridcolor": "white",
            "gridwidth": 2,
            "linecolor": "white",
            "showbackground": true,
            "ticks": "",
            "zerolinecolor": "white"
           }
          },
          "shapedefaults": {
           "line": {
            "color": "#2a3f5f"
           }
          },
          "ternary": {
           "aaxis": {
            "gridcolor": "white",
            "linecolor": "white",
            "ticks": ""
           },
           "baxis": {
            "gridcolor": "white",
            "linecolor": "white",
            "ticks": ""
           },
           "bgcolor": "#E5ECF6",
           "caxis": {
            "gridcolor": "white",
            "linecolor": "white",
            "ticks": ""
           }
          },
          "title": {
           "x": 0.05
          },
          "xaxis": {
           "automargin": true,
           "gridcolor": "white",
           "linecolor": "white",
           "ticks": "",
           "title": {
            "standoff": 15
           },
           "zerolinecolor": "white",
           "zerolinewidth": 2
          },
          "yaxis": {
           "automargin": true,
           "gridcolor": "white",
           "linecolor": "white",
           "ticks": "",
           "title": {
            "standoff": 15
           },
           "zerolinecolor": "white",
           "zerolinewidth": 2
          }
         }
        },
        "title": {
         "text": "DISTRIBUTION OF CATEGORICAL FEATURE: crop_type"
        },
        "xaxis": {
         "anchor": "y",
         "domain": [
          0,
          1
         ],
         "title": {
          "text": "Crop_type"
         }
        },
        "yaxis": {
         "anchor": "x",
         "domain": [
          0,
          1
         ],
         "title": {
          "text": "Frequency"
         }
        }
       }
      }
     },
     "metadata": {},
     "output_type": "display_data"
    },
    {
     "data": {
      "application/vnd.plotly.v1+json": {
       "config": {
        "plotlyServerURL": "https://plot.ly"
       },
       "data": [
        {
         "alignmentgroup": "True",
         "hovertemplate": "Irrigation_type=%{x}<br>Frequency=%{y}<extra></extra>",
         "legendgroup": "",
         "marker": {
          "color": "lightskyblue",
          "pattern": {
           "shape": ""
          }
         },
         "name": "",
         "offsetgroup": "",
         "orientation": "v",
         "showlegend": false,
         "textposition": "auto",
         "type": "bar",
         "x": [
          "Sprinkler",
          "Manual",
          "Drip"
         ],
         "xaxis": "x",
         "y": [
          271,
          118,
          111
         ],
         "yaxis": "y"
        }
       ],
       "layout": {
        "barmode": "relative",
        "legend": {
         "tracegroupgap": 0
        },
        "template": {
         "data": {
          "bar": [
           {
            "error_x": {
             "color": "#2a3f5f"
            },
            "error_y": {
             "color": "#2a3f5f"
            },
            "marker": {
             "line": {
              "color": "#E5ECF6",
              "width": 0.5
             },
             "pattern": {
              "fillmode": "overlay",
              "size": 10,
              "solidity": 0.2
             }
            },
            "type": "bar"
           }
          ],
          "barpolar": [
           {
            "marker": {
             "line": {
              "color": "#E5ECF6",
              "width": 0.5
             },
             "pattern": {
              "fillmode": "overlay",
              "size": 10,
              "solidity": 0.2
             }
            },
            "type": "barpolar"
           }
          ],
          "carpet": [
           {
            "aaxis": {
             "endlinecolor": "#2a3f5f",
             "gridcolor": "white",
             "linecolor": "white",
             "minorgridcolor": "white",
             "startlinecolor": "#2a3f5f"
            },
            "baxis": {
             "endlinecolor": "#2a3f5f",
             "gridcolor": "white",
             "linecolor": "white",
             "minorgridcolor": "white",
             "startlinecolor": "#2a3f5f"
            },
            "type": "carpet"
           }
          ],
          "choropleth": [
           {
            "colorbar": {
             "outlinewidth": 0,
             "ticks": ""
            },
            "type": "choropleth"
           }
          ],
          "contour": [
           {
            "colorbar": {
             "outlinewidth": 0,
             "ticks": ""
            },
            "colorscale": [
             [
              0,
              "#0d0887"
             ],
             [
              0.1111111111111111,
              "#46039f"
             ],
             [
              0.2222222222222222,
              "#7201a8"
             ],
             [
              0.3333333333333333,
              "#9c179e"
             ],
             [
              0.4444444444444444,
              "#bd3786"
             ],
             [
              0.5555555555555556,
              "#d8576b"
             ],
             [
              0.6666666666666666,
              "#ed7953"
             ],
             [
              0.7777777777777778,
              "#fb9f3a"
             ],
             [
              0.8888888888888888,
              "#fdca26"
             ],
             [
              1,
              "#f0f921"
             ]
            ],
            "type": "contour"
           }
          ],
          "contourcarpet": [
           {
            "colorbar": {
             "outlinewidth": 0,
             "ticks": ""
            },
            "type": "contourcarpet"
           }
          ],
          "heatmap": [
           {
            "colorbar": {
             "outlinewidth": 0,
             "ticks": ""
            },
            "colorscale": [
             [
              0,
              "#0d0887"
             ],
             [
              0.1111111111111111,
              "#46039f"
             ],
             [
              0.2222222222222222,
              "#7201a8"
             ],
             [
              0.3333333333333333,
              "#9c179e"
             ],
             [
              0.4444444444444444,
              "#bd3786"
             ],
             [
              0.5555555555555556,
              "#d8576b"
             ],
             [
              0.6666666666666666,
              "#ed7953"
             ],
             [
              0.7777777777777778,
              "#fb9f3a"
             ],
             [
              0.8888888888888888,
              "#fdca26"
             ],
             [
              1,
              "#f0f921"
             ]
            ],
            "type": "heatmap"
           }
          ],
          "heatmapgl": [
           {
            "colorbar": {
             "outlinewidth": 0,
             "ticks": ""
            },
            "colorscale": [
             [
              0,
              "#0d0887"
             ],
             [
              0.1111111111111111,
              "#46039f"
             ],
             [
              0.2222222222222222,
              "#7201a8"
             ],
             [
              0.3333333333333333,
              "#9c179e"
             ],
             [
              0.4444444444444444,
              "#bd3786"
             ],
             [
              0.5555555555555556,
              "#d8576b"
             ],
             [
              0.6666666666666666,
              "#ed7953"
             ],
             [
              0.7777777777777778,
              "#fb9f3a"
             ],
             [
              0.8888888888888888,
              "#fdca26"
             ],
             [
              1,
              "#f0f921"
             ]
            ],
            "type": "heatmapgl"
           }
          ],
          "histogram": [
           {
            "marker": {
             "pattern": {
              "fillmode": "overlay",
              "size": 10,
              "solidity": 0.2
             }
            },
            "type": "histogram"
           }
          ],
          "histogram2d": [
           {
            "colorbar": {
             "outlinewidth": 0,
             "ticks": ""
            },
            "colorscale": [
             [
              0,
              "#0d0887"
             ],
             [
              0.1111111111111111,
              "#46039f"
             ],
             [
              0.2222222222222222,
              "#7201a8"
             ],
             [
              0.3333333333333333,
              "#9c179e"
             ],
             [
              0.4444444444444444,
              "#bd3786"
             ],
             [
              0.5555555555555556,
              "#d8576b"
             ],
             [
              0.6666666666666666,
              "#ed7953"
             ],
             [
              0.7777777777777778,
              "#fb9f3a"
             ],
             [
              0.8888888888888888,
              "#fdca26"
             ],
             [
              1,
              "#f0f921"
             ]
            ],
            "type": "histogram2d"
           }
          ],
          "histogram2dcontour": [
           {
            "colorbar": {
             "outlinewidth": 0,
             "ticks": ""
            },
            "colorscale": [
             [
              0,
              "#0d0887"
             ],
             [
              0.1111111111111111,
              "#46039f"
             ],
             [
              0.2222222222222222,
              "#7201a8"
             ],
             [
              0.3333333333333333,
              "#9c179e"
             ],
             [
              0.4444444444444444,
              "#bd3786"
             ],
             [
              0.5555555555555556,
              "#d8576b"
             ],
             [
              0.6666666666666666,
              "#ed7953"
             ],
             [
              0.7777777777777778,
              "#fb9f3a"
             ],
             [
              0.8888888888888888,
              "#fdca26"
             ],
             [
              1,
              "#f0f921"
             ]
            ],
            "type": "histogram2dcontour"
           }
          ],
          "mesh3d": [
           {
            "colorbar": {
             "outlinewidth": 0,
             "ticks": ""
            },
            "type": "mesh3d"
           }
          ],
          "parcoords": [
           {
            "line": {
             "colorbar": {
              "outlinewidth": 0,
              "ticks": ""
             }
            },
            "type": "parcoords"
           }
          ],
          "pie": [
           {
            "automargin": true,
            "type": "pie"
           }
          ],
          "scatter": [
           {
            "fillpattern": {
             "fillmode": "overlay",
             "size": 10,
             "solidity": 0.2
            },
            "type": "scatter"
           }
          ],
          "scatter3d": [
           {
            "line": {
             "colorbar": {
              "outlinewidth": 0,
              "ticks": ""
             }
            },
            "marker": {
             "colorbar": {
              "outlinewidth": 0,
              "ticks": ""
             }
            },
            "type": "scatter3d"
           }
          ],
          "scattercarpet": [
           {
            "marker": {
             "colorbar": {
              "outlinewidth": 0,
              "ticks": ""
             }
            },
            "type": "scattercarpet"
           }
          ],
          "scattergeo": [
           {
            "marker": {
             "colorbar": {
              "outlinewidth": 0,
              "ticks": ""
             }
            },
            "type": "scattergeo"
           }
          ],
          "scattergl": [
           {
            "marker": {
             "colorbar": {
              "outlinewidth": 0,
              "ticks": ""
             }
            },
            "type": "scattergl"
           }
          ],
          "scattermapbox": [
           {
            "marker": {
             "colorbar": {
              "outlinewidth": 0,
              "ticks": ""
             }
            },
            "type": "scattermapbox"
           }
          ],
          "scatterpolar": [
           {
            "marker": {
             "colorbar": {
              "outlinewidth": 0,
              "ticks": ""
             }
            },
            "type": "scatterpolar"
           }
          ],
          "scatterpolargl": [
           {
            "marker": {
             "colorbar": {
              "outlinewidth": 0,
              "ticks": ""
             }
            },
            "type": "scatterpolargl"
           }
          ],
          "scatterternary": [
           {
            "marker": {
             "colorbar": {
              "outlinewidth": 0,
              "ticks": ""
             }
            },
            "type": "scatterternary"
           }
          ],
          "surface": [
           {
            "colorbar": {
             "outlinewidth": 0,
             "ticks": ""
            },
            "colorscale": [
             [
              0,
              "#0d0887"
             ],
             [
              0.1111111111111111,
              "#46039f"
             ],
             [
              0.2222222222222222,
              "#7201a8"
             ],
             [
              0.3333333333333333,
              "#9c179e"
             ],
             [
              0.4444444444444444,
              "#bd3786"
             ],
             [
              0.5555555555555556,
              "#d8576b"
             ],
             [
              0.6666666666666666,
              "#ed7953"
             ],
             [
              0.7777777777777778,
              "#fb9f3a"
             ],
             [
              0.8888888888888888,
              "#fdca26"
             ],
             [
              1,
              "#f0f921"
             ]
            ],
            "type": "surface"
           }
          ],
          "table": [
           {
            "cells": {
             "fill": {
              "color": "#EBF0F8"
             },
             "line": {
              "color": "white"
             }
            },
            "header": {
             "fill": {
              "color": "#C8D4E3"
             },
             "line": {
              "color": "white"
             }
            },
            "type": "table"
           }
          ]
         },
         "layout": {
          "annotationdefaults": {
           "arrowcolor": "#2a3f5f",
           "arrowhead": 0,
           "arrowwidth": 1
          },
          "autotypenumbers": "strict",
          "coloraxis": {
           "colorbar": {
            "outlinewidth": 0,
            "ticks": ""
           }
          },
          "colorscale": {
           "diverging": [
            [
             0,
             "#8e0152"
            ],
            [
             0.1,
             "#c51b7d"
            ],
            [
             0.2,
             "#de77ae"
            ],
            [
             0.3,
             "#f1b6da"
            ],
            [
             0.4,
             "#fde0ef"
            ],
            [
             0.5,
             "#f7f7f7"
            ],
            [
             0.6,
             "#e6f5d0"
            ],
            [
             0.7,
             "#b8e186"
            ],
            [
             0.8,
             "#7fbc41"
            ],
            [
             0.9,
             "#4d9221"
            ],
            [
             1,
             "#276419"
            ]
           ],
           "sequential": [
            [
             0,
             "#0d0887"
            ],
            [
             0.1111111111111111,
             "#46039f"
            ],
            [
             0.2222222222222222,
             "#7201a8"
            ],
            [
             0.3333333333333333,
             "#9c179e"
            ],
            [
             0.4444444444444444,
             "#bd3786"
            ],
            [
             0.5555555555555556,
             "#d8576b"
            ],
            [
             0.6666666666666666,
             "#ed7953"
            ],
            [
             0.7777777777777778,
             "#fb9f3a"
            ],
            [
             0.8888888888888888,
             "#fdca26"
            ],
            [
             1,
             "#f0f921"
            ]
           ],
           "sequentialminus": [
            [
             0,
             "#0d0887"
            ],
            [
             0.1111111111111111,
             "#46039f"
            ],
            [
             0.2222222222222222,
             "#7201a8"
            ],
            [
             0.3333333333333333,
             "#9c179e"
            ],
            [
             0.4444444444444444,
             "#bd3786"
            ],
            [
             0.5555555555555556,
             "#d8576b"
            ],
            [
             0.6666666666666666,
             "#ed7953"
            ],
            [
             0.7777777777777778,
             "#fb9f3a"
            ],
            [
             0.8888888888888888,
             "#fdca26"
            ],
            [
             1,
             "#f0f921"
            ]
           ]
          },
          "colorway": [
           "#636efa",
           "#EF553B",
           "#00cc96",
           "#ab63fa",
           "#FFA15A",
           "#19d3f3",
           "#FF6692",
           "#B6E880",
           "#FF97FF",
           "#FECB52"
          ],
          "font": {
           "color": "#2a3f5f"
          },
          "geo": {
           "bgcolor": "white",
           "lakecolor": "white",
           "landcolor": "#E5ECF6",
           "showlakes": true,
           "showland": true,
           "subunitcolor": "white"
          },
          "hoverlabel": {
           "align": "left"
          },
          "hovermode": "closest",
          "mapbox": {
           "style": "light"
          },
          "paper_bgcolor": "white",
          "plot_bgcolor": "#E5ECF6",
          "polar": {
           "angularaxis": {
            "gridcolor": "white",
            "linecolor": "white",
            "ticks": ""
           },
           "bgcolor": "#E5ECF6",
           "radialaxis": {
            "gridcolor": "white",
            "linecolor": "white",
            "ticks": ""
           }
          },
          "scene": {
           "xaxis": {
            "backgroundcolor": "#E5ECF6",
            "gridcolor": "white",
            "gridwidth": 2,
            "linecolor": "white",
            "showbackground": true,
            "ticks": "",
            "zerolinecolor": "white"
           },
           "yaxis": {
            "backgroundcolor": "#E5ECF6",
            "gridcolor": "white",
            "gridwidth": 2,
            "linecolor": "white",
            "showbackground": true,
            "ticks": "",
            "zerolinecolor": "white"
           },
           "zaxis": {
            "backgroundcolor": "#E5ECF6",
            "gridcolor": "white",
            "gridwidth": 2,
            "linecolor": "white",
            "showbackground": true,
            "ticks": "",
            "zerolinecolor": "white"
           }
          },
          "shapedefaults": {
           "line": {
            "color": "#2a3f5f"
           }
          },
          "ternary": {
           "aaxis": {
            "gridcolor": "white",
            "linecolor": "white",
            "ticks": ""
           },
           "baxis": {
            "gridcolor": "white",
            "linecolor": "white",
            "ticks": ""
           },
           "bgcolor": "#E5ECF6",
           "caxis": {
            "gridcolor": "white",
            "linecolor": "white",
            "ticks": ""
           }
          },
          "title": {
           "x": 0.05
          },
          "xaxis": {
           "automargin": true,
           "gridcolor": "white",
           "linecolor": "white",
           "ticks": "",
           "title": {
            "standoff": 15
           },
           "zerolinecolor": "white",
           "zerolinewidth": 2
          },
          "yaxis": {
           "automargin": true,
           "gridcolor": "white",
           "linecolor": "white",
           "ticks": "",
           "title": {
            "standoff": 15
           },
           "zerolinecolor": "white",
           "zerolinewidth": 2
          }
         }
        },
        "title": {
         "text": "DISTRIBUTION OF CATEGORICAL FEATURE: irrigation_type"
        },
        "xaxis": {
         "anchor": "y",
         "domain": [
          0,
          1
         ],
         "title": {
          "text": "Irrigation_type"
         }
        },
        "yaxis": {
         "anchor": "x",
         "domain": [
          0,
          1
         ],
         "title": {
          "text": "Frequency"
         }
        }
       }
      }
     },
     "metadata": {},
     "output_type": "display_data"
    },
    {
     "data": {
      "application/vnd.plotly.v1+json": {
       "config": {
        "plotlyServerURL": "https://plot.ly"
       },
       "data": [
        {
         "alignmentgroup": "True",
         "hovertemplate": "Fertilizer_type=%{x}<br>Frequency=%{y}<extra></extra>",
         "legendgroup": "",
         "marker": {
          "color": "lightskyblue",
          "pattern": {
           "shape": ""
          }
         },
         "name": "",
         "offsetgroup": "",
         "orientation": "v",
         "showlegend": false,
         "textposition": "auto",
         "type": "bar",
         "x": [
          "Inorganic",
          "Mixed",
          "Organic"
         ],
         "xaxis": "x",
         "y": [
          167,
          167,
          166
         ],
         "yaxis": "y"
        }
       ],
       "layout": {
        "barmode": "relative",
        "legend": {
         "tracegroupgap": 0
        },
        "template": {
         "data": {
          "bar": [
           {
            "error_x": {
             "color": "#2a3f5f"
            },
            "error_y": {
             "color": "#2a3f5f"
            },
            "marker": {
             "line": {
              "color": "#E5ECF6",
              "width": 0.5
             },
             "pattern": {
              "fillmode": "overlay",
              "size": 10,
              "solidity": 0.2
             }
            },
            "type": "bar"
           }
          ],
          "barpolar": [
           {
            "marker": {
             "line": {
              "color": "#E5ECF6",
              "width": 0.5
             },
             "pattern": {
              "fillmode": "overlay",
              "size": 10,
              "solidity": 0.2
             }
            },
            "type": "barpolar"
           }
          ],
          "carpet": [
           {
            "aaxis": {
             "endlinecolor": "#2a3f5f",
             "gridcolor": "white",
             "linecolor": "white",
             "minorgridcolor": "white",
             "startlinecolor": "#2a3f5f"
            },
            "baxis": {
             "endlinecolor": "#2a3f5f",
             "gridcolor": "white",
             "linecolor": "white",
             "minorgridcolor": "white",
             "startlinecolor": "#2a3f5f"
            },
            "type": "carpet"
           }
          ],
          "choropleth": [
           {
            "colorbar": {
             "outlinewidth": 0,
             "ticks": ""
            },
            "type": "choropleth"
           }
          ],
          "contour": [
           {
            "colorbar": {
             "outlinewidth": 0,
             "ticks": ""
            },
            "colorscale": [
             [
              0,
              "#0d0887"
             ],
             [
              0.1111111111111111,
              "#46039f"
             ],
             [
              0.2222222222222222,
              "#7201a8"
             ],
             [
              0.3333333333333333,
              "#9c179e"
             ],
             [
              0.4444444444444444,
              "#bd3786"
             ],
             [
              0.5555555555555556,
              "#d8576b"
             ],
             [
              0.6666666666666666,
              "#ed7953"
             ],
             [
              0.7777777777777778,
              "#fb9f3a"
             ],
             [
              0.8888888888888888,
              "#fdca26"
             ],
             [
              1,
              "#f0f921"
             ]
            ],
            "type": "contour"
           }
          ],
          "contourcarpet": [
           {
            "colorbar": {
             "outlinewidth": 0,
             "ticks": ""
            },
            "type": "contourcarpet"
           }
          ],
          "heatmap": [
           {
            "colorbar": {
             "outlinewidth": 0,
             "ticks": ""
            },
            "colorscale": [
             [
              0,
              "#0d0887"
             ],
             [
              0.1111111111111111,
              "#46039f"
             ],
             [
              0.2222222222222222,
              "#7201a8"
             ],
             [
              0.3333333333333333,
              "#9c179e"
             ],
             [
              0.4444444444444444,
              "#bd3786"
             ],
             [
              0.5555555555555556,
              "#d8576b"
             ],
             [
              0.6666666666666666,
              "#ed7953"
             ],
             [
              0.7777777777777778,
              "#fb9f3a"
             ],
             [
              0.8888888888888888,
              "#fdca26"
             ],
             [
              1,
              "#f0f921"
             ]
            ],
            "type": "heatmap"
           }
          ],
          "heatmapgl": [
           {
            "colorbar": {
             "outlinewidth": 0,
             "ticks": ""
            },
            "colorscale": [
             [
              0,
              "#0d0887"
             ],
             [
              0.1111111111111111,
              "#46039f"
             ],
             [
              0.2222222222222222,
              "#7201a8"
             ],
             [
              0.3333333333333333,
              "#9c179e"
             ],
             [
              0.4444444444444444,
              "#bd3786"
             ],
             [
              0.5555555555555556,
              "#d8576b"
             ],
             [
              0.6666666666666666,
              "#ed7953"
             ],
             [
              0.7777777777777778,
              "#fb9f3a"
             ],
             [
              0.8888888888888888,
              "#fdca26"
             ],
             [
              1,
              "#f0f921"
             ]
            ],
            "type": "heatmapgl"
           }
          ],
          "histogram": [
           {
            "marker": {
             "pattern": {
              "fillmode": "overlay",
              "size": 10,
              "solidity": 0.2
             }
            },
            "type": "histogram"
           }
          ],
          "histogram2d": [
           {
            "colorbar": {
             "outlinewidth": 0,
             "ticks": ""
            },
            "colorscale": [
             [
              0,
              "#0d0887"
             ],
             [
              0.1111111111111111,
              "#46039f"
             ],
             [
              0.2222222222222222,
              "#7201a8"
             ],
             [
              0.3333333333333333,
              "#9c179e"
             ],
             [
              0.4444444444444444,
              "#bd3786"
             ],
             [
              0.5555555555555556,
              "#d8576b"
             ],
             [
              0.6666666666666666,
              "#ed7953"
             ],
             [
              0.7777777777777778,
              "#fb9f3a"
             ],
             [
              0.8888888888888888,
              "#fdca26"
             ],
             [
              1,
              "#f0f921"
             ]
            ],
            "type": "histogram2d"
           }
          ],
          "histogram2dcontour": [
           {
            "colorbar": {
             "outlinewidth": 0,
             "ticks": ""
            },
            "colorscale": [
             [
              0,
              "#0d0887"
             ],
             [
              0.1111111111111111,
              "#46039f"
             ],
             [
              0.2222222222222222,
              "#7201a8"
             ],
             [
              0.3333333333333333,
              "#9c179e"
             ],
             [
              0.4444444444444444,
              "#bd3786"
             ],
             [
              0.5555555555555556,
              "#d8576b"
             ],
             [
              0.6666666666666666,
              "#ed7953"
             ],
             [
              0.7777777777777778,
              "#fb9f3a"
             ],
             [
              0.8888888888888888,
              "#fdca26"
             ],
             [
              1,
              "#f0f921"
             ]
            ],
            "type": "histogram2dcontour"
           }
          ],
          "mesh3d": [
           {
            "colorbar": {
             "outlinewidth": 0,
             "ticks": ""
            },
            "type": "mesh3d"
           }
          ],
          "parcoords": [
           {
            "line": {
             "colorbar": {
              "outlinewidth": 0,
              "ticks": ""
             }
            },
            "type": "parcoords"
           }
          ],
          "pie": [
           {
            "automargin": true,
            "type": "pie"
           }
          ],
          "scatter": [
           {
            "fillpattern": {
             "fillmode": "overlay",
             "size": 10,
             "solidity": 0.2
            },
            "type": "scatter"
           }
          ],
          "scatter3d": [
           {
            "line": {
             "colorbar": {
              "outlinewidth": 0,
              "ticks": ""
             }
            },
            "marker": {
             "colorbar": {
              "outlinewidth": 0,
              "ticks": ""
             }
            },
            "type": "scatter3d"
           }
          ],
          "scattercarpet": [
           {
            "marker": {
             "colorbar": {
              "outlinewidth": 0,
              "ticks": ""
             }
            },
            "type": "scattercarpet"
           }
          ],
          "scattergeo": [
           {
            "marker": {
             "colorbar": {
              "outlinewidth": 0,
              "ticks": ""
             }
            },
            "type": "scattergeo"
           }
          ],
          "scattergl": [
           {
            "marker": {
             "colorbar": {
              "outlinewidth": 0,
              "ticks": ""
             }
            },
            "type": "scattergl"
           }
          ],
          "scattermapbox": [
           {
            "marker": {
             "colorbar": {
              "outlinewidth": 0,
              "ticks": ""
             }
            },
            "type": "scattermapbox"
           }
          ],
          "scatterpolar": [
           {
            "marker": {
             "colorbar": {
              "outlinewidth": 0,
              "ticks": ""
             }
            },
            "type": "scatterpolar"
           }
          ],
          "scatterpolargl": [
           {
            "marker": {
             "colorbar": {
              "outlinewidth": 0,
              "ticks": ""
             }
            },
            "type": "scatterpolargl"
           }
          ],
          "scatterternary": [
           {
            "marker": {
             "colorbar": {
              "outlinewidth": 0,
              "ticks": ""
             }
            },
            "type": "scatterternary"
           }
          ],
          "surface": [
           {
            "colorbar": {
             "outlinewidth": 0,
             "ticks": ""
            },
            "colorscale": [
             [
              0,
              "#0d0887"
             ],
             [
              0.1111111111111111,
              "#46039f"
             ],
             [
              0.2222222222222222,
              "#7201a8"
             ],
             [
              0.3333333333333333,
              "#9c179e"
             ],
             [
              0.4444444444444444,
              "#bd3786"
             ],
             [
              0.5555555555555556,
              "#d8576b"
             ],
             [
              0.6666666666666666,
              "#ed7953"
             ],
             [
              0.7777777777777778,
              "#fb9f3a"
             ],
             [
              0.8888888888888888,
              "#fdca26"
             ],
             [
              1,
              "#f0f921"
             ]
            ],
            "type": "surface"
           }
          ],
          "table": [
           {
            "cells": {
             "fill": {
              "color": "#EBF0F8"
             },
             "line": {
              "color": "white"
             }
            },
            "header": {
             "fill": {
              "color": "#C8D4E3"
             },
             "line": {
              "color": "white"
             }
            },
            "type": "table"
           }
          ]
         },
         "layout": {
          "annotationdefaults": {
           "arrowcolor": "#2a3f5f",
           "arrowhead": 0,
           "arrowwidth": 1
          },
          "autotypenumbers": "strict",
          "coloraxis": {
           "colorbar": {
            "outlinewidth": 0,
            "ticks": ""
           }
          },
          "colorscale": {
           "diverging": [
            [
             0,
             "#8e0152"
            ],
            [
             0.1,
             "#c51b7d"
            ],
            [
             0.2,
             "#de77ae"
            ],
            [
             0.3,
             "#f1b6da"
            ],
            [
             0.4,
             "#fde0ef"
            ],
            [
             0.5,
             "#f7f7f7"
            ],
            [
             0.6,
             "#e6f5d0"
            ],
            [
             0.7,
             "#b8e186"
            ],
            [
             0.8,
             "#7fbc41"
            ],
            [
             0.9,
             "#4d9221"
            ],
            [
             1,
             "#276419"
            ]
           ],
           "sequential": [
            [
             0,
             "#0d0887"
            ],
            [
             0.1111111111111111,
             "#46039f"
            ],
            [
             0.2222222222222222,
             "#7201a8"
            ],
            [
             0.3333333333333333,
             "#9c179e"
            ],
            [
             0.4444444444444444,
             "#bd3786"
            ],
            [
             0.5555555555555556,
             "#d8576b"
            ],
            [
             0.6666666666666666,
             "#ed7953"
            ],
            [
             0.7777777777777778,
             "#fb9f3a"
            ],
            [
             0.8888888888888888,
             "#fdca26"
            ],
            [
             1,
             "#f0f921"
            ]
           ],
           "sequentialminus": [
            [
             0,
             "#0d0887"
            ],
            [
             0.1111111111111111,
             "#46039f"
            ],
            [
             0.2222222222222222,
             "#7201a8"
            ],
            [
             0.3333333333333333,
             "#9c179e"
            ],
            [
             0.4444444444444444,
             "#bd3786"
            ],
            [
             0.5555555555555556,
             "#d8576b"
            ],
            [
             0.6666666666666666,
             "#ed7953"
            ],
            [
             0.7777777777777778,
             "#fb9f3a"
            ],
            [
             0.8888888888888888,
             "#fdca26"
            ],
            [
             1,
             "#f0f921"
            ]
           ]
          },
          "colorway": [
           "#636efa",
           "#EF553B",
           "#00cc96",
           "#ab63fa",
           "#FFA15A",
           "#19d3f3",
           "#FF6692",
           "#B6E880",
           "#FF97FF",
           "#FECB52"
          ],
          "font": {
           "color": "#2a3f5f"
          },
          "geo": {
           "bgcolor": "white",
           "lakecolor": "white",
           "landcolor": "#E5ECF6",
           "showlakes": true,
           "showland": true,
           "subunitcolor": "white"
          },
          "hoverlabel": {
           "align": "left"
          },
          "hovermode": "closest",
          "mapbox": {
           "style": "light"
          },
          "paper_bgcolor": "white",
          "plot_bgcolor": "#E5ECF6",
          "polar": {
           "angularaxis": {
            "gridcolor": "white",
            "linecolor": "white",
            "ticks": ""
           },
           "bgcolor": "#E5ECF6",
           "radialaxis": {
            "gridcolor": "white",
            "linecolor": "white",
            "ticks": ""
           }
          },
          "scene": {
           "xaxis": {
            "backgroundcolor": "#E5ECF6",
            "gridcolor": "white",
            "gridwidth": 2,
            "linecolor": "white",
            "showbackground": true,
            "ticks": "",
            "zerolinecolor": "white"
           },
           "yaxis": {
            "backgroundcolor": "#E5ECF6",
            "gridcolor": "white",
            "gridwidth": 2,
            "linecolor": "white",
            "showbackground": true,
            "ticks": "",
            "zerolinecolor": "white"
           },
           "zaxis": {
            "backgroundcolor": "#E5ECF6",
            "gridcolor": "white",
            "gridwidth": 2,
            "linecolor": "white",
            "showbackground": true,
            "ticks": "",
            "zerolinecolor": "white"
           }
          },
          "shapedefaults": {
           "line": {
            "color": "#2a3f5f"
           }
          },
          "ternary": {
           "aaxis": {
            "gridcolor": "white",
            "linecolor": "white",
            "ticks": ""
           },
           "baxis": {
            "gridcolor": "white",
            "linecolor": "white",
            "ticks": ""
           },
           "bgcolor": "#E5ECF6",
           "caxis": {
            "gridcolor": "white",
            "linecolor": "white",
            "ticks": ""
           }
          },
          "title": {
           "x": 0.05
          },
          "xaxis": {
           "automargin": true,
           "gridcolor": "white",
           "linecolor": "white",
           "ticks": "",
           "title": {
            "standoff": 15
           },
           "zerolinecolor": "white",
           "zerolinewidth": 2
          },
          "yaxis": {
           "automargin": true,
           "gridcolor": "white",
           "linecolor": "white",
           "ticks": "",
           "title": {
            "standoff": 15
           },
           "zerolinecolor": "white",
           "zerolinewidth": 2
          }
         }
        },
        "title": {
         "text": "DISTRIBUTION OF CATEGORICAL FEATURE: fertilizer_type"
        },
        "xaxis": {
         "anchor": "y",
         "domain": [
          0,
          1
         ],
         "title": {
          "text": "Fertilizer_type"
         }
        },
        "yaxis": {
         "anchor": "x",
         "domain": [
          0,
          1
         ],
         "title": {
          "text": "Frequency"
         }
        }
       }
      }
     },
     "metadata": {},
     "output_type": "display_data"
    },
    {
     "data": {
      "application/vnd.plotly.v1+json": {
       "config": {
        "plotlyServerURL": "https://plot.ly"
       },
       "data": [
        {
         "alignmentgroup": "True",
         "hovertemplate": "Crop_disease_status=%{x}<br>Frequency=%{y}<extra></extra>",
         "legendgroup": "",
         "marker": {
          "color": "lightskyblue",
          "pattern": {
           "shape": ""
          }
         },
         "name": "",
         "offsetgroup": "",
         "orientation": "v",
         "showlegend": false,
         "textposition": "auto",
         "type": "bar",
         "x": [
          "Severe",
          "Mild",
          "Moderate"
         ],
         "xaxis": "x",
         "y": [
          263,
          125,
          112
         ],
         "yaxis": "y"
        }
       ],
       "layout": {
        "barmode": "relative",
        "legend": {
         "tracegroupgap": 0
        },
        "template": {
         "data": {
          "bar": [
           {
            "error_x": {
             "color": "#2a3f5f"
            },
            "error_y": {
             "color": "#2a3f5f"
            },
            "marker": {
             "line": {
              "color": "#E5ECF6",
              "width": 0.5
             },
             "pattern": {
              "fillmode": "overlay",
              "size": 10,
              "solidity": 0.2
             }
            },
            "type": "bar"
           }
          ],
          "barpolar": [
           {
            "marker": {
             "line": {
              "color": "#E5ECF6",
              "width": 0.5
             },
             "pattern": {
              "fillmode": "overlay",
              "size": 10,
              "solidity": 0.2
             }
            },
            "type": "barpolar"
           }
          ],
          "carpet": [
           {
            "aaxis": {
             "endlinecolor": "#2a3f5f",
             "gridcolor": "white",
             "linecolor": "white",
             "minorgridcolor": "white",
             "startlinecolor": "#2a3f5f"
            },
            "baxis": {
             "endlinecolor": "#2a3f5f",
             "gridcolor": "white",
             "linecolor": "white",
             "minorgridcolor": "white",
             "startlinecolor": "#2a3f5f"
            },
            "type": "carpet"
           }
          ],
          "choropleth": [
           {
            "colorbar": {
             "outlinewidth": 0,
             "ticks": ""
            },
            "type": "choropleth"
           }
          ],
          "contour": [
           {
            "colorbar": {
             "outlinewidth": 0,
             "ticks": ""
            },
            "colorscale": [
             [
              0,
              "#0d0887"
             ],
             [
              0.1111111111111111,
              "#46039f"
             ],
             [
              0.2222222222222222,
              "#7201a8"
             ],
             [
              0.3333333333333333,
              "#9c179e"
             ],
             [
              0.4444444444444444,
              "#bd3786"
             ],
             [
              0.5555555555555556,
              "#d8576b"
             ],
             [
              0.6666666666666666,
              "#ed7953"
             ],
             [
              0.7777777777777778,
              "#fb9f3a"
             ],
             [
              0.8888888888888888,
              "#fdca26"
             ],
             [
              1,
              "#f0f921"
             ]
            ],
            "type": "contour"
           }
          ],
          "contourcarpet": [
           {
            "colorbar": {
             "outlinewidth": 0,
             "ticks": ""
            },
            "type": "contourcarpet"
           }
          ],
          "heatmap": [
           {
            "colorbar": {
             "outlinewidth": 0,
             "ticks": ""
            },
            "colorscale": [
             [
              0,
              "#0d0887"
             ],
             [
              0.1111111111111111,
              "#46039f"
             ],
             [
              0.2222222222222222,
              "#7201a8"
             ],
             [
              0.3333333333333333,
              "#9c179e"
             ],
             [
              0.4444444444444444,
              "#bd3786"
             ],
             [
              0.5555555555555556,
              "#d8576b"
             ],
             [
              0.6666666666666666,
              "#ed7953"
             ],
             [
              0.7777777777777778,
              "#fb9f3a"
             ],
             [
              0.8888888888888888,
              "#fdca26"
             ],
             [
              1,
              "#f0f921"
             ]
            ],
            "type": "heatmap"
           }
          ],
          "heatmapgl": [
           {
            "colorbar": {
             "outlinewidth": 0,
             "ticks": ""
            },
            "colorscale": [
             [
              0,
              "#0d0887"
             ],
             [
              0.1111111111111111,
              "#46039f"
             ],
             [
              0.2222222222222222,
              "#7201a8"
             ],
             [
              0.3333333333333333,
              "#9c179e"
             ],
             [
              0.4444444444444444,
              "#bd3786"
             ],
             [
              0.5555555555555556,
              "#d8576b"
             ],
             [
              0.6666666666666666,
              "#ed7953"
             ],
             [
              0.7777777777777778,
              "#fb9f3a"
             ],
             [
              0.8888888888888888,
              "#fdca26"
             ],
             [
              1,
              "#f0f921"
             ]
            ],
            "type": "heatmapgl"
           }
          ],
          "histogram": [
           {
            "marker": {
             "pattern": {
              "fillmode": "overlay",
              "size": 10,
              "solidity": 0.2
             }
            },
            "type": "histogram"
           }
          ],
          "histogram2d": [
           {
            "colorbar": {
             "outlinewidth": 0,
             "ticks": ""
            },
            "colorscale": [
             [
              0,
              "#0d0887"
             ],
             [
              0.1111111111111111,
              "#46039f"
             ],
             [
              0.2222222222222222,
              "#7201a8"
             ],
             [
              0.3333333333333333,
              "#9c179e"
             ],
             [
              0.4444444444444444,
              "#bd3786"
             ],
             [
              0.5555555555555556,
              "#d8576b"
             ],
             [
              0.6666666666666666,
              "#ed7953"
             ],
             [
              0.7777777777777778,
              "#fb9f3a"
             ],
             [
              0.8888888888888888,
              "#fdca26"
             ],
             [
              1,
              "#f0f921"
             ]
            ],
            "type": "histogram2d"
           }
          ],
          "histogram2dcontour": [
           {
            "colorbar": {
             "outlinewidth": 0,
             "ticks": ""
            },
            "colorscale": [
             [
              0,
              "#0d0887"
             ],
             [
              0.1111111111111111,
              "#46039f"
             ],
             [
              0.2222222222222222,
              "#7201a8"
             ],
             [
              0.3333333333333333,
              "#9c179e"
             ],
             [
              0.4444444444444444,
              "#bd3786"
             ],
             [
              0.5555555555555556,
              "#d8576b"
             ],
             [
              0.6666666666666666,
              "#ed7953"
             ],
             [
              0.7777777777777778,
              "#fb9f3a"
             ],
             [
              0.8888888888888888,
              "#fdca26"
             ],
             [
              1,
              "#f0f921"
             ]
            ],
            "type": "histogram2dcontour"
           }
          ],
          "mesh3d": [
           {
            "colorbar": {
             "outlinewidth": 0,
             "ticks": ""
            },
            "type": "mesh3d"
           }
          ],
          "parcoords": [
           {
            "line": {
             "colorbar": {
              "outlinewidth": 0,
              "ticks": ""
             }
            },
            "type": "parcoords"
           }
          ],
          "pie": [
           {
            "automargin": true,
            "type": "pie"
           }
          ],
          "scatter": [
           {
            "fillpattern": {
             "fillmode": "overlay",
             "size": 10,
             "solidity": 0.2
            },
            "type": "scatter"
           }
          ],
          "scatter3d": [
           {
            "line": {
             "colorbar": {
              "outlinewidth": 0,
              "ticks": ""
             }
            },
            "marker": {
             "colorbar": {
              "outlinewidth": 0,
              "ticks": ""
             }
            },
            "type": "scatter3d"
           }
          ],
          "scattercarpet": [
           {
            "marker": {
             "colorbar": {
              "outlinewidth": 0,
              "ticks": ""
             }
            },
            "type": "scattercarpet"
           }
          ],
          "scattergeo": [
           {
            "marker": {
             "colorbar": {
              "outlinewidth": 0,
              "ticks": ""
             }
            },
            "type": "scattergeo"
           }
          ],
          "scattergl": [
           {
            "marker": {
             "colorbar": {
              "outlinewidth": 0,
              "ticks": ""
             }
            },
            "type": "scattergl"
           }
          ],
          "scattermapbox": [
           {
            "marker": {
             "colorbar": {
              "outlinewidth": 0,
              "ticks": ""
             }
            },
            "type": "scattermapbox"
           }
          ],
          "scatterpolar": [
           {
            "marker": {
             "colorbar": {
              "outlinewidth": 0,
              "ticks": ""
             }
            },
            "type": "scatterpolar"
           }
          ],
          "scatterpolargl": [
           {
            "marker": {
             "colorbar": {
              "outlinewidth": 0,
              "ticks": ""
             }
            },
            "type": "scatterpolargl"
           }
          ],
          "scatterternary": [
           {
            "marker": {
             "colorbar": {
              "outlinewidth": 0,
              "ticks": ""
             }
            },
            "type": "scatterternary"
           }
          ],
          "surface": [
           {
            "colorbar": {
             "outlinewidth": 0,
             "ticks": ""
            },
            "colorscale": [
             [
              0,
              "#0d0887"
             ],
             [
              0.1111111111111111,
              "#46039f"
             ],
             [
              0.2222222222222222,
              "#7201a8"
             ],
             [
              0.3333333333333333,
              "#9c179e"
             ],
             [
              0.4444444444444444,
              "#bd3786"
             ],
             [
              0.5555555555555556,
              "#d8576b"
             ],
             [
              0.6666666666666666,
              "#ed7953"
             ],
             [
              0.7777777777777778,
              "#fb9f3a"
             ],
             [
              0.8888888888888888,
              "#fdca26"
             ],
             [
              1,
              "#f0f921"
             ]
            ],
            "type": "surface"
           }
          ],
          "table": [
           {
            "cells": {
             "fill": {
              "color": "#EBF0F8"
             },
             "line": {
              "color": "white"
             }
            },
            "header": {
             "fill": {
              "color": "#C8D4E3"
             },
             "line": {
              "color": "white"
             }
            },
            "type": "table"
           }
          ]
         },
         "layout": {
          "annotationdefaults": {
           "arrowcolor": "#2a3f5f",
           "arrowhead": 0,
           "arrowwidth": 1
          },
          "autotypenumbers": "strict",
          "coloraxis": {
           "colorbar": {
            "outlinewidth": 0,
            "ticks": ""
           }
          },
          "colorscale": {
           "diverging": [
            [
             0,
             "#8e0152"
            ],
            [
             0.1,
             "#c51b7d"
            ],
            [
             0.2,
             "#de77ae"
            ],
            [
             0.3,
             "#f1b6da"
            ],
            [
             0.4,
             "#fde0ef"
            ],
            [
             0.5,
             "#f7f7f7"
            ],
            [
             0.6,
             "#e6f5d0"
            ],
            [
             0.7,
             "#b8e186"
            ],
            [
             0.8,
             "#7fbc41"
            ],
            [
             0.9,
             "#4d9221"
            ],
            [
             1,
             "#276419"
            ]
           ],
           "sequential": [
            [
             0,
             "#0d0887"
            ],
            [
             0.1111111111111111,
             "#46039f"
            ],
            [
             0.2222222222222222,
             "#7201a8"
            ],
            [
             0.3333333333333333,
             "#9c179e"
            ],
            [
             0.4444444444444444,
             "#bd3786"
            ],
            [
             0.5555555555555556,
             "#d8576b"
            ],
            [
             0.6666666666666666,
             "#ed7953"
            ],
            [
             0.7777777777777778,
             "#fb9f3a"
            ],
            [
             0.8888888888888888,
             "#fdca26"
            ],
            [
             1,
             "#f0f921"
            ]
           ],
           "sequentialminus": [
            [
             0,
             "#0d0887"
            ],
            [
             0.1111111111111111,
             "#46039f"
            ],
            [
             0.2222222222222222,
             "#7201a8"
            ],
            [
             0.3333333333333333,
             "#9c179e"
            ],
            [
             0.4444444444444444,
             "#bd3786"
            ],
            [
             0.5555555555555556,
             "#d8576b"
            ],
            [
             0.6666666666666666,
             "#ed7953"
            ],
            [
             0.7777777777777778,
             "#fb9f3a"
            ],
            [
             0.8888888888888888,
             "#fdca26"
            ],
            [
             1,
             "#f0f921"
            ]
           ]
          },
          "colorway": [
           "#636efa",
           "#EF553B",
           "#00cc96",
           "#ab63fa",
           "#FFA15A",
           "#19d3f3",
           "#FF6692",
           "#B6E880",
           "#FF97FF",
           "#FECB52"
          ],
          "font": {
           "color": "#2a3f5f"
          },
          "geo": {
           "bgcolor": "white",
           "lakecolor": "white",
           "landcolor": "#E5ECF6",
           "showlakes": true,
           "showland": true,
           "subunitcolor": "white"
          },
          "hoverlabel": {
           "align": "left"
          },
          "hovermode": "closest",
          "mapbox": {
           "style": "light"
          },
          "paper_bgcolor": "white",
          "plot_bgcolor": "#E5ECF6",
          "polar": {
           "angularaxis": {
            "gridcolor": "white",
            "linecolor": "white",
            "ticks": ""
           },
           "bgcolor": "#E5ECF6",
           "radialaxis": {
            "gridcolor": "white",
            "linecolor": "white",
            "ticks": ""
           }
          },
          "scene": {
           "xaxis": {
            "backgroundcolor": "#E5ECF6",
            "gridcolor": "white",
            "gridwidth": 2,
            "linecolor": "white",
            "showbackground": true,
            "ticks": "",
            "zerolinecolor": "white"
           },
           "yaxis": {
            "backgroundcolor": "#E5ECF6",
            "gridcolor": "white",
            "gridwidth": 2,
            "linecolor": "white",
            "showbackground": true,
            "ticks": "",
            "zerolinecolor": "white"
           },
           "zaxis": {
            "backgroundcolor": "#E5ECF6",
            "gridcolor": "white",
            "gridwidth": 2,
            "linecolor": "white",
            "showbackground": true,
            "ticks": "",
            "zerolinecolor": "white"
           }
          },
          "shapedefaults": {
           "line": {
            "color": "#2a3f5f"
           }
          },
          "ternary": {
           "aaxis": {
            "gridcolor": "white",
            "linecolor": "white",
            "ticks": ""
           },
           "baxis": {
            "gridcolor": "white",
            "linecolor": "white",
            "ticks": ""
           },
           "bgcolor": "#E5ECF6",
           "caxis": {
            "gridcolor": "white",
            "linecolor": "white",
            "ticks": ""
           }
          },
          "title": {
           "x": 0.05
          },
          "xaxis": {
           "automargin": true,
           "gridcolor": "white",
           "linecolor": "white",
           "ticks": "",
           "title": {
            "standoff": 15
           },
           "zerolinecolor": "white",
           "zerolinewidth": 2
          },
          "yaxis": {
           "automargin": true,
           "gridcolor": "white",
           "linecolor": "white",
           "ticks": "",
           "title": {
            "standoff": 15
           },
           "zerolinecolor": "white",
           "zerolinewidth": 2
          }
         }
        },
        "title": {
         "text": "DISTRIBUTION OF CATEGORICAL FEATURE: crop_disease_status"
        },
        "xaxis": {
         "anchor": "y",
         "domain": [
          0,
          1
         ],
         "title": {
          "text": "Crop_disease_status"
         }
        },
        "yaxis": {
         "anchor": "x",
         "domain": [
          0,
          1
         ],
         "title": {
          "text": "Frequency"
         }
        }
       }
      }
     },
     "metadata": {},
     "output_type": "display_data"
    }
   ],
   "source": [
    "# Crear un gráfico de barras para cada columna categórica\n",
    "for col in categorical_features:\n",
    "    value_counts_df = df[col].value_counts().reset_index()\n",
    "    value_counts_df.columns = [col, 'count']\n",
    "\n",
    "    fig = px.bar(\n",
    "        value_counts_df,\n",
    "        x=col,\n",
    "        y='count',\n",
    "        labels={col: col.capitalize(), 'count': 'Frequency'},\n",
    "        title=f'DISTRIBUTION OF CATEGORICAL FEATURE: {col}',\n",
    "        color_discrete_sequence=['lightskyblue']\n",
    "    )\n",
    "\n",
    "    fig.show() "
   ]
  },
  {
   "cell_type": "code",
   "execution_count": 101,
   "id": "bfa0aed1",
   "metadata": {},
   "outputs": [
    {
     "data": {
      "application/vnd.plotly.v1+json": {
       "config": {
        "plotlyServerURL": "https://plot.ly"
       },
       "data": [
        {
         "marker": {
          "color": "lightskyblue"
         },
         "name": "Histogram",
         "nbinsx": 50,
         "type": "histogram",
         "x": [
          35.95,
          19.74,
          29.32,
          17.33,
          19.37,
          44.91,
          36.28,
          27.1,
          40.54,
          10.25,
          13.39,
          40.61,
          42.43,
          12.8,
          23.85,
          15.52,
          31.17,
          13.92,
          40.94,
          16.99,
          16.25,
          12.45,
          20.53,
          21.73,
          18.54,
          30.84,
          12.71,
          43.11,
          35.35,
          18.83,
          36.84,
          39.76,
          16.16,
          33.39,
          36.54,
          18.8,
          16.28,
          13.99,
          20.69,
          20.08,
          26.4,
          36.71,
          38.47,
          17.12,
          42.64,
          19.35,
          18.17,
          41.87,
          31.61,
          18.55,
          15.53,
          19.61,
          20.81,
          38.15,
          33.62,
          41.05,
          25.56,
          18.52,
          33.14,
          17.75,
          31.85,
          35.54,
          22.38,
          17.92,
          33.01,
          11.74,
          10.27,
          25.27,
          25.25,
          15.13,
          32.1,
          32.81,
          23.56,
          42.09,
          22.66,
          30.9,
          41.64,
          34.9,
          17.86,
          29.21,
          25.02,
          22.5,
          11.29,
          25.29,
          12.8,
          43.35,
          23.93,
          25.82,
          17.85,
          12.58,
          39.61,
          11.59,
          15.53,
          14.93,
          43.08,
          11.58,
          31.09,
          27.76,
          17.96,
          27.56,
          26.95,
          23.29,
          31.55,
          32.77,
          40.69,
          37.68,
          36.38,
          31.51,
          28.49,
          14.62,
          11.11,
          16.25,
          38.33,
          27.64,
          27.35,
          24.44,
          35.35,
          21.26,
          19.13,
          35.65,
          27.7,
          42.13,
          23.27,
          42.35,
          23.43,
          27.17,
          13.73,
          20.21,
          18.81,
          31.11,
          43.36,
          28.7,
          13.71,
          14.06,
          42.55,
          23.61,
          30.55,
          14.83,
          38.53,
          29.24,
          40.18,
          15.89,
          27.13,
          39.75,
          14.35,
          25.02,
          20.97,
          40.1,
          31.24,
          33.9,
          28.82,
          13.02,
          36.24,
          18.93,
          18.69,
          10.28,
          36.56,
          30.33,
          13.81,
          13.19,
          14.58,
          11.77,
          40.9,
          16.29,
          39.63,
          16.14,
          40.12,
          38.51,
          22.14,
          40.96,
          21.83,
          13.36,
          37.47,
          38.29,
          16.05,
          29.32,
          40.73,
          10.71,
          35.93,
          25.98,
          10.96,
          38.03,
          44.98,
          36.79,
          34.02,
          17.78,
          24.46,
          17.33,
          16.67,
          22,
          36.99,
          33.16,
          20.34,
          25.99,
          43.43,
          24.56,
          19.16,
          41.22,
          26.07,
          17.24,
          22.43,
          38.86,
          34.21,
          24.45,
          29.68,
          15.12,
          23.56,
          25.71,
          30.89,
          17.74,
          23.35,
          10.26,
          12.56,
          34.53,
          43.6,
          17.41,
          18.77,
          15.9,
          41.2,
          17.82,
          11.41,
          29.05,
          25.4,
          11.51,
          25.72,
          17.08,
          24.72,
          40.69,
          24.82,
          37.41,
          12.8,
          33.59,
          17.92,
          29.71,
          10.34,
          18.22,
          31.72,
          44.18,
          24.67,
          27.49,
          19.09,
          23.34,
          32.56,
          13.34,
          39.35,
          28.89,
          37.93,
          38.31,
          35.03,
          26.46,
          33.85,
          15.86,
          32.56,
          16.64,
          39.99,
          16.25,
          26.38,
          16.63,
          27.66,
          25.66,
          26.11,
          11.31,
          29.77,
          19.19,
          13.14,
          15.46,
          36.26,
          23.6,
          11.39,
          17.9,
          34.1,
          25.51,
          14.69,
          16.2,
          25.81,
          31.46,
          18.75,
          11.54,
          31.79,
          38.7,
          30.03,
          24.48,
          27.37,
          38.21,
          39.18,
          10.66,
          19.5,
          42.33,
          41.12,
          29.59,
          11.88,
          13.25,
          27.06,
          24.03,
          14,
          41.61,
          30.4,
          23.35,
          14.8,
          24.38,
          28.32,
          20.12,
          12.69,
          40.17,
          15.87,
          13.41,
          33.72,
          43.27,
          15.67,
          13.62,
          24.14,
          36.62,
          35.19,
          35.94,
          27.4,
          14.23,
          24.57,
          10.16,
          15.59,
          21.41,
          16.23,
          37.63,
          25.2,
          18.42,
          37.01,
          40.83,
          18.35,
          39.03,
          19.66,
          32.56,
          19.95,
          17.18,
          41.36,
          13.24,
          15.18,
          39.24,
          16.97,
          24.6,
          35.65,
          36.83,
          21.91,
          36.73,
          16.87,
          15.09,
          42.22,
          27.35,
          41.32,
          44.13,
          19.76,
          31.81,
          25.75,
          39.9,
          24.99,
          41.55,
          22.72,
          19.57,
          40.19,
          40.11,
          24.77,
          40.35,
          14.28,
          29.1,
          23.46,
          40.78,
          31.07,
          39.64,
          42.31,
          14.15,
          44.16,
          12.06,
          27.63,
          28.09,
          22.48,
          28.41,
          30.8,
          18.4,
          39.12,
          28.45,
          27.87,
          35.34,
          26.11,
          17.32,
          40.09,
          27.01,
          10.73,
          31.76,
          11.12,
          37.96,
          35.64,
          15.31,
          21.02,
          10.28,
          28.81,
          35.43,
          19.96,
          24.87,
          14.53,
          44.69,
          20.84,
          41.51,
          30.19,
          21.22,
          43.33,
          18.28,
          20.66,
          12.11,
          40.74,
          26.68,
          23.54,
          43.86,
          14.49,
          25.14,
          43.52,
          28.19,
          31.38,
          25.89,
          20.91,
          40.05,
          15.68,
          38.91,
          16.25,
          15.06,
          43.89,
          19.39,
          20.33,
          20.31,
          44.93,
          17.94,
          30.21,
          44.2,
          13.65,
          44.64,
          19.64,
          38.82,
          41.81,
          39.95,
          13.52,
          25.54,
          11.54,
          33.03,
          32.24,
          36.5,
          32.68,
          43.38,
          25.69,
          39.89,
          10.45,
          43.5,
          31.19,
          39.04,
          10.22,
          38.5,
          18.22,
          33.87,
          43.29,
          26.96,
          37.89,
          41.59,
          41.86,
          14.46,
          28.84,
          26.74,
          20.47,
          21.32,
          13.57,
          14.16,
          10.81,
          23.78,
          17.22,
          14.89,
          19.71,
          33.01,
          37.23,
          29.3,
          23.26,
          20.68,
          42.64,
          43.76,
          26.91,
          10.31,
          32.97,
          24.74,
          36.86,
          33.32,
          31.58,
          21.19,
          21.59,
          42.39,
          32.05,
          40.46,
          19.06,
          32.14,
          28.81,
          18.11,
          12.52,
          42.85,
          34.22,
          15.93,
          38.61,
          30.22
         ],
         "xaxis": "x",
         "yaxis": "y"
        },
        {
         "boxpoints": "outliers",
         "marker": {
          "color": "skyblue"
         },
         "name": "Boxplot",
         "orientation": "h",
         "type": "box",
         "x": [
          35.95,
          19.74,
          29.32,
          17.33,
          19.37,
          44.91,
          36.28,
          27.1,
          40.54,
          10.25,
          13.39,
          40.61,
          42.43,
          12.8,
          23.85,
          15.52,
          31.17,
          13.92,
          40.94,
          16.99,
          16.25,
          12.45,
          20.53,
          21.73,
          18.54,
          30.84,
          12.71,
          43.11,
          35.35,
          18.83,
          36.84,
          39.76,
          16.16,
          33.39,
          36.54,
          18.8,
          16.28,
          13.99,
          20.69,
          20.08,
          26.4,
          36.71,
          38.47,
          17.12,
          42.64,
          19.35,
          18.17,
          41.87,
          31.61,
          18.55,
          15.53,
          19.61,
          20.81,
          38.15,
          33.62,
          41.05,
          25.56,
          18.52,
          33.14,
          17.75,
          31.85,
          35.54,
          22.38,
          17.92,
          33.01,
          11.74,
          10.27,
          25.27,
          25.25,
          15.13,
          32.1,
          32.81,
          23.56,
          42.09,
          22.66,
          30.9,
          41.64,
          34.9,
          17.86,
          29.21,
          25.02,
          22.5,
          11.29,
          25.29,
          12.8,
          43.35,
          23.93,
          25.82,
          17.85,
          12.58,
          39.61,
          11.59,
          15.53,
          14.93,
          43.08,
          11.58,
          31.09,
          27.76,
          17.96,
          27.56,
          26.95,
          23.29,
          31.55,
          32.77,
          40.69,
          37.68,
          36.38,
          31.51,
          28.49,
          14.62,
          11.11,
          16.25,
          38.33,
          27.64,
          27.35,
          24.44,
          35.35,
          21.26,
          19.13,
          35.65,
          27.7,
          42.13,
          23.27,
          42.35,
          23.43,
          27.17,
          13.73,
          20.21,
          18.81,
          31.11,
          43.36,
          28.7,
          13.71,
          14.06,
          42.55,
          23.61,
          30.55,
          14.83,
          38.53,
          29.24,
          40.18,
          15.89,
          27.13,
          39.75,
          14.35,
          25.02,
          20.97,
          40.1,
          31.24,
          33.9,
          28.82,
          13.02,
          36.24,
          18.93,
          18.69,
          10.28,
          36.56,
          30.33,
          13.81,
          13.19,
          14.58,
          11.77,
          40.9,
          16.29,
          39.63,
          16.14,
          40.12,
          38.51,
          22.14,
          40.96,
          21.83,
          13.36,
          37.47,
          38.29,
          16.05,
          29.32,
          40.73,
          10.71,
          35.93,
          25.98,
          10.96,
          38.03,
          44.98,
          36.79,
          34.02,
          17.78,
          24.46,
          17.33,
          16.67,
          22,
          36.99,
          33.16,
          20.34,
          25.99,
          43.43,
          24.56,
          19.16,
          41.22,
          26.07,
          17.24,
          22.43,
          38.86,
          34.21,
          24.45,
          29.68,
          15.12,
          23.56,
          25.71,
          30.89,
          17.74,
          23.35,
          10.26,
          12.56,
          34.53,
          43.6,
          17.41,
          18.77,
          15.9,
          41.2,
          17.82,
          11.41,
          29.05,
          25.4,
          11.51,
          25.72,
          17.08,
          24.72,
          40.69,
          24.82,
          37.41,
          12.8,
          33.59,
          17.92,
          29.71,
          10.34,
          18.22,
          31.72,
          44.18,
          24.67,
          27.49,
          19.09,
          23.34,
          32.56,
          13.34,
          39.35,
          28.89,
          37.93,
          38.31,
          35.03,
          26.46,
          33.85,
          15.86,
          32.56,
          16.64,
          39.99,
          16.25,
          26.38,
          16.63,
          27.66,
          25.66,
          26.11,
          11.31,
          29.77,
          19.19,
          13.14,
          15.46,
          36.26,
          23.6,
          11.39,
          17.9,
          34.1,
          25.51,
          14.69,
          16.2,
          25.81,
          31.46,
          18.75,
          11.54,
          31.79,
          38.7,
          30.03,
          24.48,
          27.37,
          38.21,
          39.18,
          10.66,
          19.5,
          42.33,
          41.12,
          29.59,
          11.88,
          13.25,
          27.06,
          24.03,
          14,
          41.61,
          30.4,
          23.35,
          14.8,
          24.38,
          28.32,
          20.12,
          12.69,
          40.17,
          15.87,
          13.41,
          33.72,
          43.27,
          15.67,
          13.62,
          24.14,
          36.62,
          35.19,
          35.94,
          27.4,
          14.23,
          24.57,
          10.16,
          15.59,
          21.41,
          16.23,
          37.63,
          25.2,
          18.42,
          37.01,
          40.83,
          18.35,
          39.03,
          19.66,
          32.56,
          19.95,
          17.18,
          41.36,
          13.24,
          15.18,
          39.24,
          16.97,
          24.6,
          35.65,
          36.83,
          21.91,
          36.73,
          16.87,
          15.09,
          42.22,
          27.35,
          41.32,
          44.13,
          19.76,
          31.81,
          25.75,
          39.9,
          24.99,
          41.55,
          22.72,
          19.57,
          40.19,
          40.11,
          24.77,
          40.35,
          14.28,
          29.1,
          23.46,
          40.78,
          31.07,
          39.64,
          42.31,
          14.15,
          44.16,
          12.06,
          27.63,
          28.09,
          22.48,
          28.41,
          30.8,
          18.4,
          39.12,
          28.45,
          27.87,
          35.34,
          26.11,
          17.32,
          40.09,
          27.01,
          10.73,
          31.76,
          11.12,
          37.96,
          35.64,
          15.31,
          21.02,
          10.28,
          28.81,
          35.43,
          19.96,
          24.87,
          14.53,
          44.69,
          20.84,
          41.51,
          30.19,
          21.22,
          43.33,
          18.28,
          20.66,
          12.11,
          40.74,
          26.68,
          23.54,
          43.86,
          14.49,
          25.14,
          43.52,
          28.19,
          31.38,
          25.89,
          20.91,
          40.05,
          15.68,
          38.91,
          16.25,
          15.06,
          43.89,
          19.39,
          20.33,
          20.31,
          44.93,
          17.94,
          30.21,
          44.2,
          13.65,
          44.64,
          19.64,
          38.82,
          41.81,
          39.95,
          13.52,
          25.54,
          11.54,
          33.03,
          32.24,
          36.5,
          32.68,
          43.38,
          25.69,
          39.89,
          10.45,
          43.5,
          31.19,
          39.04,
          10.22,
          38.5,
          18.22,
          33.87,
          43.29,
          26.96,
          37.89,
          41.59,
          41.86,
          14.46,
          28.84,
          26.74,
          20.47,
          21.32,
          13.57,
          14.16,
          10.81,
          23.78,
          17.22,
          14.89,
          19.71,
          33.01,
          37.23,
          29.3,
          23.26,
          20.68,
          42.64,
          43.76,
          26.91,
          10.31,
          32.97,
          24.74,
          36.86,
          33.32,
          31.58,
          21.19,
          21.59,
          42.39,
          32.05,
          40.46,
          19.06,
          32.14,
          28.81,
          18.11,
          12.52,
          42.85,
          34.22,
          15.93,
          38.61,
          30.22
         ],
         "xaxis": "x2",
         "yaxis": "y2"
        }
       ],
       "layout": {
        "annotations": [
         {
          "font": {
           "size": 16
          },
          "showarrow": false,
          "text": "Histogram of soil_moisture_%",
          "x": 0.5,
          "xanchor": "center",
          "xref": "paper",
          "y": 0.9999999999999999,
          "yanchor": "bottom",
          "yref": "paper"
         },
         {
          "font": {
           "size": 16
          },
          "showarrow": false,
          "text": "Boxplot of soil_moisture_%",
          "x": 0.5,
          "xanchor": "center",
          "xref": "paper",
          "y": 0.285,
          "yanchor": "bottom",
          "yref": "paper"
         }
        ],
        "height": 600,
        "showlegend": false,
        "template": {
         "data": {
          "bar": [
           {
            "error_x": {
             "color": "#2a3f5f"
            },
            "error_y": {
             "color": "#2a3f5f"
            },
            "marker": {
             "line": {
              "color": "#E5ECF6",
              "width": 0.5
             },
             "pattern": {
              "fillmode": "overlay",
              "size": 10,
              "solidity": 0.2
             }
            },
            "type": "bar"
           }
          ],
          "barpolar": [
           {
            "marker": {
             "line": {
              "color": "#E5ECF6",
              "width": 0.5
             },
             "pattern": {
              "fillmode": "overlay",
              "size": 10,
              "solidity": 0.2
             }
            },
            "type": "barpolar"
           }
          ],
          "carpet": [
           {
            "aaxis": {
             "endlinecolor": "#2a3f5f",
             "gridcolor": "white",
             "linecolor": "white",
             "minorgridcolor": "white",
             "startlinecolor": "#2a3f5f"
            },
            "baxis": {
             "endlinecolor": "#2a3f5f",
             "gridcolor": "white",
             "linecolor": "white",
             "minorgridcolor": "white",
             "startlinecolor": "#2a3f5f"
            },
            "type": "carpet"
           }
          ],
          "choropleth": [
           {
            "colorbar": {
             "outlinewidth": 0,
             "ticks": ""
            },
            "type": "choropleth"
           }
          ],
          "contour": [
           {
            "colorbar": {
             "outlinewidth": 0,
             "ticks": ""
            },
            "colorscale": [
             [
              0,
              "#0d0887"
             ],
             [
              0.1111111111111111,
              "#46039f"
             ],
             [
              0.2222222222222222,
              "#7201a8"
             ],
             [
              0.3333333333333333,
              "#9c179e"
             ],
             [
              0.4444444444444444,
              "#bd3786"
             ],
             [
              0.5555555555555556,
              "#d8576b"
             ],
             [
              0.6666666666666666,
              "#ed7953"
             ],
             [
              0.7777777777777778,
              "#fb9f3a"
             ],
             [
              0.8888888888888888,
              "#fdca26"
             ],
             [
              1,
              "#f0f921"
             ]
            ],
            "type": "contour"
           }
          ],
          "contourcarpet": [
           {
            "colorbar": {
             "outlinewidth": 0,
             "ticks": ""
            },
            "type": "contourcarpet"
           }
          ],
          "heatmap": [
           {
            "colorbar": {
             "outlinewidth": 0,
             "ticks": ""
            },
            "colorscale": [
             [
              0,
              "#0d0887"
             ],
             [
              0.1111111111111111,
              "#46039f"
             ],
             [
              0.2222222222222222,
              "#7201a8"
             ],
             [
              0.3333333333333333,
              "#9c179e"
             ],
             [
              0.4444444444444444,
              "#bd3786"
             ],
             [
              0.5555555555555556,
              "#d8576b"
             ],
             [
              0.6666666666666666,
              "#ed7953"
             ],
             [
              0.7777777777777778,
              "#fb9f3a"
             ],
             [
              0.8888888888888888,
              "#fdca26"
             ],
             [
              1,
              "#f0f921"
             ]
            ],
            "type": "heatmap"
           }
          ],
          "heatmapgl": [
           {
            "colorbar": {
             "outlinewidth": 0,
             "ticks": ""
            },
            "colorscale": [
             [
              0,
              "#0d0887"
             ],
             [
              0.1111111111111111,
              "#46039f"
             ],
             [
              0.2222222222222222,
              "#7201a8"
             ],
             [
              0.3333333333333333,
              "#9c179e"
             ],
             [
              0.4444444444444444,
              "#bd3786"
             ],
             [
              0.5555555555555556,
              "#d8576b"
             ],
             [
              0.6666666666666666,
              "#ed7953"
             ],
             [
              0.7777777777777778,
              "#fb9f3a"
             ],
             [
              0.8888888888888888,
              "#fdca26"
             ],
             [
              1,
              "#f0f921"
             ]
            ],
            "type": "heatmapgl"
           }
          ],
          "histogram": [
           {
            "marker": {
             "pattern": {
              "fillmode": "overlay",
              "size": 10,
              "solidity": 0.2
             }
            },
            "type": "histogram"
           }
          ],
          "histogram2d": [
           {
            "colorbar": {
             "outlinewidth": 0,
             "ticks": ""
            },
            "colorscale": [
             [
              0,
              "#0d0887"
             ],
             [
              0.1111111111111111,
              "#46039f"
             ],
             [
              0.2222222222222222,
              "#7201a8"
             ],
             [
              0.3333333333333333,
              "#9c179e"
             ],
             [
              0.4444444444444444,
              "#bd3786"
             ],
             [
              0.5555555555555556,
              "#d8576b"
             ],
             [
              0.6666666666666666,
              "#ed7953"
             ],
             [
              0.7777777777777778,
              "#fb9f3a"
             ],
             [
              0.8888888888888888,
              "#fdca26"
             ],
             [
              1,
              "#f0f921"
             ]
            ],
            "type": "histogram2d"
           }
          ],
          "histogram2dcontour": [
           {
            "colorbar": {
             "outlinewidth": 0,
             "ticks": ""
            },
            "colorscale": [
             [
              0,
              "#0d0887"
             ],
             [
              0.1111111111111111,
              "#46039f"
             ],
             [
              0.2222222222222222,
              "#7201a8"
             ],
             [
              0.3333333333333333,
              "#9c179e"
             ],
             [
              0.4444444444444444,
              "#bd3786"
             ],
             [
              0.5555555555555556,
              "#d8576b"
             ],
             [
              0.6666666666666666,
              "#ed7953"
             ],
             [
              0.7777777777777778,
              "#fb9f3a"
             ],
             [
              0.8888888888888888,
              "#fdca26"
             ],
             [
              1,
              "#f0f921"
             ]
            ],
            "type": "histogram2dcontour"
           }
          ],
          "mesh3d": [
           {
            "colorbar": {
             "outlinewidth": 0,
             "ticks": ""
            },
            "type": "mesh3d"
           }
          ],
          "parcoords": [
           {
            "line": {
             "colorbar": {
              "outlinewidth": 0,
              "ticks": ""
             }
            },
            "type": "parcoords"
           }
          ],
          "pie": [
           {
            "automargin": true,
            "type": "pie"
           }
          ],
          "scatter": [
           {
            "fillpattern": {
             "fillmode": "overlay",
             "size": 10,
             "solidity": 0.2
            },
            "type": "scatter"
           }
          ],
          "scatter3d": [
           {
            "line": {
             "colorbar": {
              "outlinewidth": 0,
              "ticks": ""
             }
            },
            "marker": {
             "colorbar": {
              "outlinewidth": 0,
              "ticks": ""
             }
            },
            "type": "scatter3d"
           }
          ],
          "scattercarpet": [
           {
            "marker": {
             "colorbar": {
              "outlinewidth": 0,
              "ticks": ""
             }
            },
            "type": "scattercarpet"
           }
          ],
          "scattergeo": [
           {
            "marker": {
             "colorbar": {
              "outlinewidth": 0,
              "ticks": ""
             }
            },
            "type": "scattergeo"
           }
          ],
          "scattergl": [
           {
            "marker": {
             "colorbar": {
              "outlinewidth": 0,
              "ticks": ""
             }
            },
            "type": "scattergl"
           }
          ],
          "scattermapbox": [
           {
            "marker": {
             "colorbar": {
              "outlinewidth": 0,
              "ticks": ""
             }
            },
            "type": "scattermapbox"
           }
          ],
          "scatterpolar": [
           {
            "marker": {
             "colorbar": {
              "outlinewidth": 0,
              "ticks": ""
             }
            },
            "type": "scatterpolar"
           }
          ],
          "scatterpolargl": [
           {
            "marker": {
             "colorbar": {
              "outlinewidth": 0,
              "ticks": ""
             }
            },
            "type": "scatterpolargl"
           }
          ],
          "scatterternary": [
           {
            "marker": {
             "colorbar": {
              "outlinewidth": 0,
              "ticks": ""
             }
            },
            "type": "scatterternary"
           }
          ],
          "surface": [
           {
            "colorbar": {
             "outlinewidth": 0,
             "ticks": ""
            },
            "colorscale": [
             [
              0,
              "#0d0887"
             ],
             [
              0.1111111111111111,
              "#46039f"
             ],
             [
              0.2222222222222222,
              "#7201a8"
             ],
             [
              0.3333333333333333,
              "#9c179e"
             ],
             [
              0.4444444444444444,
              "#bd3786"
             ],
             [
              0.5555555555555556,
              "#d8576b"
             ],
             [
              0.6666666666666666,
              "#ed7953"
             ],
             [
              0.7777777777777778,
              "#fb9f3a"
             ],
             [
              0.8888888888888888,
              "#fdca26"
             ],
             [
              1,
              "#f0f921"
             ]
            ],
            "type": "surface"
           }
          ],
          "table": [
           {
            "cells": {
             "fill": {
              "color": "#EBF0F8"
             },
             "line": {
              "color": "white"
             }
            },
            "header": {
             "fill": {
              "color": "#C8D4E3"
             },
             "line": {
              "color": "white"
             }
            },
            "type": "table"
           }
          ]
         },
         "layout": {
          "annotationdefaults": {
           "arrowcolor": "#2a3f5f",
           "arrowhead": 0,
           "arrowwidth": 1
          },
          "autotypenumbers": "strict",
          "coloraxis": {
           "colorbar": {
            "outlinewidth": 0,
            "ticks": ""
           }
          },
          "colorscale": {
           "diverging": [
            [
             0,
             "#8e0152"
            ],
            [
             0.1,
             "#c51b7d"
            ],
            [
             0.2,
             "#de77ae"
            ],
            [
             0.3,
             "#f1b6da"
            ],
            [
             0.4,
             "#fde0ef"
            ],
            [
             0.5,
             "#f7f7f7"
            ],
            [
             0.6,
             "#e6f5d0"
            ],
            [
             0.7,
             "#b8e186"
            ],
            [
             0.8,
             "#7fbc41"
            ],
            [
             0.9,
             "#4d9221"
            ],
            [
             1,
             "#276419"
            ]
           ],
           "sequential": [
            [
             0,
             "#0d0887"
            ],
            [
             0.1111111111111111,
             "#46039f"
            ],
            [
             0.2222222222222222,
             "#7201a8"
            ],
            [
             0.3333333333333333,
             "#9c179e"
            ],
            [
             0.4444444444444444,
             "#bd3786"
            ],
            [
             0.5555555555555556,
             "#d8576b"
            ],
            [
             0.6666666666666666,
             "#ed7953"
            ],
            [
             0.7777777777777778,
             "#fb9f3a"
            ],
            [
             0.8888888888888888,
             "#fdca26"
            ],
            [
             1,
             "#f0f921"
            ]
           ],
           "sequentialminus": [
            [
             0,
             "#0d0887"
            ],
            [
             0.1111111111111111,
             "#46039f"
            ],
            [
             0.2222222222222222,
             "#7201a8"
            ],
            [
             0.3333333333333333,
             "#9c179e"
            ],
            [
             0.4444444444444444,
             "#bd3786"
            ],
            [
             0.5555555555555556,
             "#d8576b"
            ],
            [
             0.6666666666666666,
             "#ed7953"
            ],
            [
             0.7777777777777778,
             "#fb9f3a"
            ],
            [
             0.8888888888888888,
             "#fdca26"
            ],
            [
             1,
             "#f0f921"
            ]
           ]
          },
          "colorway": [
           "#636efa",
           "#EF553B",
           "#00cc96",
           "#ab63fa",
           "#FFA15A",
           "#19d3f3",
           "#FF6692",
           "#B6E880",
           "#FF97FF",
           "#FECB52"
          ],
          "font": {
           "color": "#2a3f5f"
          },
          "geo": {
           "bgcolor": "white",
           "lakecolor": "white",
           "landcolor": "#E5ECF6",
           "showlakes": true,
           "showland": true,
           "subunitcolor": "white"
          },
          "hoverlabel": {
           "align": "left"
          },
          "hovermode": "closest",
          "mapbox": {
           "style": "light"
          },
          "paper_bgcolor": "white",
          "plot_bgcolor": "#E5ECF6",
          "polar": {
           "angularaxis": {
            "gridcolor": "white",
            "linecolor": "white",
            "ticks": ""
           },
           "bgcolor": "#E5ECF6",
           "radialaxis": {
            "gridcolor": "white",
            "linecolor": "white",
            "ticks": ""
           }
          },
          "scene": {
           "xaxis": {
            "backgroundcolor": "#E5ECF6",
            "gridcolor": "white",
            "gridwidth": 2,
            "linecolor": "white",
            "showbackground": true,
            "ticks": "",
            "zerolinecolor": "white"
           },
           "yaxis": {
            "backgroundcolor": "#E5ECF6",
            "gridcolor": "white",
            "gridwidth": 2,
            "linecolor": "white",
            "showbackground": true,
            "ticks": "",
            "zerolinecolor": "white"
           },
           "zaxis": {
            "backgroundcolor": "#E5ECF6",
            "gridcolor": "white",
            "gridwidth": 2,
            "linecolor": "white",
            "showbackground": true,
            "ticks": "",
            "zerolinecolor": "white"
           }
          },
          "shapedefaults": {
           "line": {
            "color": "#2a3f5f"
           }
          },
          "ternary": {
           "aaxis": {
            "gridcolor": "white",
            "linecolor": "white",
            "ticks": ""
           },
           "baxis": {
            "gridcolor": "white",
            "linecolor": "white",
            "ticks": ""
           },
           "bgcolor": "#E5ECF6",
           "caxis": {
            "gridcolor": "white",
            "linecolor": "white",
            "ticks": ""
           }
          },
          "title": {
           "x": 0.05
          },
          "xaxis": {
           "automargin": true,
           "gridcolor": "white",
           "linecolor": "white",
           "ticks": "",
           "title": {
            "standoff": 15
           },
           "zerolinecolor": "white",
           "zerolinewidth": 2
          },
          "yaxis": {
           "automargin": true,
           "gridcolor": "white",
           "linecolor": "white",
           "ticks": "",
           "title": {
            "standoff": 15
           },
           "zerolinecolor": "white",
           "zerolinewidth": 2
          }
         }
        },
        "title": {
         "text": "NUMERICAL FEATURE DISTRIBUTION: soil_moisture_%"
        },
        "xaxis": {
         "anchor": "y",
         "domain": [
          0,
          1
         ],
         "matches": "x2",
         "showticklabels": false
        },
        "xaxis2": {
         "anchor": "y2",
         "domain": [
          0,
          1
         ]
        },
        "yaxis": {
         "anchor": "x",
         "domain": [
          0.33499999999999996,
          0.9999999999999999
         ]
        },
        "yaxis2": {
         "anchor": "x2",
         "domain": [
          0,
          0.285
         ]
        }
       }
      }
     },
     "metadata": {},
     "output_type": "display_data"
    },
    {
     "data": {
      "application/vnd.plotly.v1+json": {
       "config": {
        "plotlyServerURL": "https://plot.ly"
       },
       "data": [
        {
         "marker": {
          "color": "lightskyblue"
         },
         "name": "Histogram",
         "nbinsx": 50,
         "type": "histogram",
         "x": [
          5.99,
          7.24,
          7.16,
          6.03,
          5.92,
          5.78,
          7.04,
          5.72,
          6.35,
          6.92,
          6.36,
          5.65,
          7.07,
          5.87,
          6.84,
          7.17,
          6.94,
          7.39,
          6.31,
          7.34,
          7.43,
          6.83,
          6.6,
          7.14,
          6.81,
          7.4,
          6.07,
          5.54,
          7.18,
          5.66,
          5.84,
          6.7,
          6.54,
          6.17,
          6.88,
          5.74,
          5.53,
          5.63,
          6.74,
          6.07,
          6.11,
          5.85,
          6.6,
          6.6,
          6.08,
          5.51,
          7.05,
          5.53,
          5.97,
          6.32,
          6.38,
          6.63,
          6.38,
          6.44,
          6.44,
          5.77,
          5.97,
          5.75,
          5.55,
          6.73,
          6.67,
          6.13,
          6.83,
          6.36,
          5.64,
          5.66,
          6.1,
          6.42,
          6.3,
          5.89,
          7.09,
          6.14,
          7.05,
          6.12,
          6.23,
          5.81,
          5.89,
          6.53,
          6.14,
          6.95,
          6.73,
          5.64,
          5.9,
          6.3,
          6.82,
          5.79,
          6.8,
          7.3,
          7.47,
          7.44,
          6,
          6.78,
          6.33,
          5.6,
          6.51,
          5.6,
          6.3,
          6.52,
          5.6,
          6.72,
          7.41,
          7.46,
          6.67,
          7.01,
          5.52,
          6.64,
          7.41,
          5.94,
          6.22,
          6.33,
          6.32,
          6.57,
          6.34,
          6.08,
          7.44,
          6.33,
          6.62,
          6.07,
          7.37,
          6.2,
          6.25,
          6.55,
          6.61,
          6.87,
          6.98,
          6.21,
          5.51,
          6.28,
          5.99,
          6.89,
          6.42,
          7.35,
          5.7,
          7.38,
          6.98,
          6.91,
          6.2,
          6.27,
          7.43,
          5.73,
          5.67,
          7.46,
          6.65,
          7.09,
          7.22,
          5.68,
          7.26,
          5.67,
          5.88,
          7.03,
          5.81,
          6.37,
          7.25,
          5.71,
          7.33,
          5.9,
          6.25,
          6.51,
          5.71,
          6,
          7.15,
          7.35,
          6.46,
          6.14,
          7.09,
          5.58,
          7.42,
          6.26,
          6.14,
          6.49,
          7.47,
          6.29,
          6.44,
          6.33,
          7.47,
          7.21,
          6.03,
          7.13,
          7.02,
          7.34,
          5.6,
          5.95,
          7.43,
          7.3,
          6.78,
          5.95,
          7.24,
          7.05,
          6.85,
          7.3,
          6.75,
          6.82,
          5.58,
          7.45,
          6.04,
          6.68,
          6.13,
          6.73,
          7.1,
          6.84,
          6.77,
          5.88,
          5.85,
          6.9,
          6.67,
          5.62,
          7.41,
          7.47,
          7.05,
          5.93,
          7.09,
          5.63,
          5.86,
          5.65,
          5.79,
          7.31,
          5.89,
          6.13,
          5.89,
          7.04,
          7.02,
          5.85,
          5.96,
          6.65,
          7.49,
          7.22,
          7.25,
          6.32,
          6.23,
          7.4,
          5.58,
          6.22,
          7.43,
          7.04,
          7.16,
          5.98,
          6.48,
          6.9,
          7,
          7.49,
          6.22,
          6.07,
          6.04,
          7.37,
          5.56,
          7.11,
          6.69,
          6.33,
          6.95,
          5.88,
          6.12,
          6.05,
          6.9,
          5.87,
          7.05,
          5.56,
          6.78,
          6.55,
          6.82,
          6.29,
          5.81,
          7.12,
          6.15,
          6.3,
          6.84,
          6.96,
          6.6,
          6.04,
          7.34,
          6.18,
          7.3,
          7.37,
          7.19,
          7.41,
          7.15,
          5.61,
          6.88,
          5.84,
          6.01,
          5.92,
          6.62,
          5.92,
          6.96,
          5.92,
          7.34,
          6.65,
          5.67,
          6.96,
          5.71,
          5.7,
          6.35,
          7.1,
          5.63,
          6.33,
          6.69,
          6.77,
          6.72,
          6.59,
          7.11,
          6.59,
          6.72,
          5.57,
          7.07,
          6.19,
          6.3,
          6.56,
          7.49,
          6.78,
          5.65,
          5.65,
          6.96,
          6.08,
          6.69,
          5.97,
          7.1,
          5.78,
          7.11,
          5.97,
          7.35,
          5.9,
          6.25,
          6.78,
          5.94,
          6.62,
          7.25,
          6.97,
          5.73,
          6.44,
          6.89,
          6.32,
          7.41,
          6.91,
          7.44,
          5.61,
          7.21,
          6.7,
          7.16,
          6.48,
          5.54,
          5.87,
          7.32,
          6.18,
          5.57,
          6.99,
          7.2,
          6.22,
          7.1,
          6.18,
          7.04,
          7.02,
          7.21,
          6.51,
          7.48,
          6.03,
          6.37,
          6.63,
          6.65,
          7.32,
          7.31,
          7.3,
          7.11,
          6.45,
          6.78,
          7.03,
          7.13,
          6.87,
          6.79,
          6.93,
          5.97,
          6.17,
          7.36,
          6.37,
          6.92,
          6.64,
          5.51,
          7.04,
          6.53,
          6.79,
          6.33,
          7.01,
          6.31,
          6.8,
          6.67,
          6.68,
          6.08,
          6.06,
          5.63,
          7.43,
          5.7,
          7.01,
          7.46,
          6.06,
          6.28,
          7.47,
          7.07,
          5.76,
          6.91,
          6.11,
          6.4,
          6.18,
          5.61,
          6.68,
          6.86,
          6.52,
          6.31,
          7.34,
          5.92,
          7.3,
          7.18,
          5.57,
          5.63,
          7.49,
          7.33,
          5.97,
          6.36,
          6.16,
          6.37,
          6.34,
          6.41,
          5.51,
          5.54,
          7.35,
          7.27,
          6.3,
          6.54,
          6.5,
          7.5,
          7,
          5.76,
          7.49,
          6.61,
          5.76,
          5.51,
          7.2,
          6.32,
          6.29,
          6.09,
          6.7,
          6.53,
          6.06,
          7.27,
          6.74,
          6.08,
          5.6,
          6.77,
          7.02,
          6.5,
          7.04,
          7.39,
          6.01,
          5.84,
          5.87,
          6.47,
          6.19,
          7,
          6.98,
          6.1,
          7.03,
          6.99,
          6.13,
          6.42,
          7.16,
          7.13,
          7.08,
          7.07,
          6.29,
          6.65,
          7.13,
          5.82,
          6.48,
          6.96,
          7.14,
          5.79,
          6.71,
          6.97,
          7.22,
          5.77,
          6.85,
          6.03,
          6.36,
          6.38,
          6.6,
          5.97,
          6.36,
          5.68,
          5.6,
          6.98,
          5.65,
          5.73,
          7.44,
          7.2,
          7.44,
          7.46,
          6.95,
          5.99,
          6.7,
          6.75,
          5.72,
          6.2,
          7.42
         ],
         "xaxis": "x",
         "yaxis": "y"
        },
        {
         "boxpoints": "outliers",
         "marker": {
          "color": "skyblue"
         },
         "name": "Boxplot",
         "orientation": "h",
         "type": "box",
         "x": [
          5.99,
          7.24,
          7.16,
          6.03,
          5.92,
          5.78,
          7.04,
          5.72,
          6.35,
          6.92,
          6.36,
          5.65,
          7.07,
          5.87,
          6.84,
          7.17,
          6.94,
          7.39,
          6.31,
          7.34,
          7.43,
          6.83,
          6.6,
          7.14,
          6.81,
          7.4,
          6.07,
          5.54,
          7.18,
          5.66,
          5.84,
          6.7,
          6.54,
          6.17,
          6.88,
          5.74,
          5.53,
          5.63,
          6.74,
          6.07,
          6.11,
          5.85,
          6.6,
          6.6,
          6.08,
          5.51,
          7.05,
          5.53,
          5.97,
          6.32,
          6.38,
          6.63,
          6.38,
          6.44,
          6.44,
          5.77,
          5.97,
          5.75,
          5.55,
          6.73,
          6.67,
          6.13,
          6.83,
          6.36,
          5.64,
          5.66,
          6.1,
          6.42,
          6.3,
          5.89,
          7.09,
          6.14,
          7.05,
          6.12,
          6.23,
          5.81,
          5.89,
          6.53,
          6.14,
          6.95,
          6.73,
          5.64,
          5.9,
          6.3,
          6.82,
          5.79,
          6.8,
          7.3,
          7.47,
          7.44,
          6,
          6.78,
          6.33,
          5.6,
          6.51,
          5.6,
          6.3,
          6.52,
          5.6,
          6.72,
          7.41,
          7.46,
          6.67,
          7.01,
          5.52,
          6.64,
          7.41,
          5.94,
          6.22,
          6.33,
          6.32,
          6.57,
          6.34,
          6.08,
          7.44,
          6.33,
          6.62,
          6.07,
          7.37,
          6.2,
          6.25,
          6.55,
          6.61,
          6.87,
          6.98,
          6.21,
          5.51,
          6.28,
          5.99,
          6.89,
          6.42,
          7.35,
          5.7,
          7.38,
          6.98,
          6.91,
          6.2,
          6.27,
          7.43,
          5.73,
          5.67,
          7.46,
          6.65,
          7.09,
          7.22,
          5.68,
          7.26,
          5.67,
          5.88,
          7.03,
          5.81,
          6.37,
          7.25,
          5.71,
          7.33,
          5.9,
          6.25,
          6.51,
          5.71,
          6,
          7.15,
          7.35,
          6.46,
          6.14,
          7.09,
          5.58,
          7.42,
          6.26,
          6.14,
          6.49,
          7.47,
          6.29,
          6.44,
          6.33,
          7.47,
          7.21,
          6.03,
          7.13,
          7.02,
          7.34,
          5.6,
          5.95,
          7.43,
          7.3,
          6.78,
          5.95,
          7.24,
          7.05,
          6.85,
          7.3,
          6.75,
          6.82,
          5.58,
          7.45,
          6.04,
          6.68,
          6.13,
          6.73,
          7.1,
          6.84,
          6.77,
          5.88,
          5.85,
          6.9,
          6.67,
          5.62,
          7.41,
          7.47,
          7.05,
          5.93,
          7.09,
          5.63,
          5.86,
          5.65,
          5.79,
          7.31,
          5.89,
          6.13,
          5.89,
          7.04,
          7.02,
          5.85,
          5.96,
          6.65,
          7.49,
          7.22,
          7.25,
          6.32,
          6.23,
          7.4,
          5.58,
          6.22,
          7.43,
          7.04,
          7.16,
          5.98,
          6.48,
          6.9,
          7,
          7.49,
          6.22,
          6.07,
          6.04,
          7.37,
          5.56,
          7.11,
          6.69,
          6.33,
          6.95,
          5.88,
          6.12,
          6.05,
          6.9,
          5.87,
          7.05,
          5.56,
          6.78,
          6.55,
          6.82,
          6.29,
          5.81,
          7.12,
          6.15,
          6.3,
          6.84,
          6.96,
          6.6,
          6.04,
          7.34,
          6.18,
          7.3,
          7.37,
          7.19,
          7.41,
          7.15,
          5.61,
          6.88,
          5.84,
          6.01,
          5.92,
          6.62,
          5.92,
          6.96,
          5.92,
          7.34,
          6.65,
          5.67,
          6.96,
          5.71,
          5.7,
          6.35,
          7.1,
          5.63,
          6.33,
          6.69,
          6.77,
          6.72,
          6.59,
          7.11,
          6.59,
          6.72,
          5.57,
          7.07,
          6.19,
          6.3,
          6.56,
          7.49,
          6.78,
          5.65,
          5.65,
          6.96,
          6.08,
          6.69,
          5.97,
          7.1,
          5.78,
          7.11,
          5.97,
          7.35,
          5.9,
          6.25,
          6.78,
          5.94,
          6.62,
          7.25,
          6.97,
          5.73,
          6.44,
          6.89,
          6.32,
          7.41,
          6.91,
          7.44,
          5.61,
          7.21,
          6.7,
          7.16,
          6.48,
          5.54,
          5.87,
          7.32,
          6.18,
          5.57,
          6.99,
          7.2,
          6.22,
          7.1,
          6.18,
          7.04,
          7.02,
          7.21,
          6.51,
          7.48,
          6.03,
          6.37,
          6.63,
          6.65,
          7.32,
          7.31,
          7.3,
          7.11,
          6.45,
          6.78,
          7.03,
          7.13,
          6.87,
          6.79,
          6.93,
          5.97,
          6.17,
          7.36,
          6.37,
          6.92,
          6.64,
          5.51,
          7.04,
          6.53,
          6.79,
          6.33,
          7.01,
          6.31,
          6.8,
          6.67,
          6.68,
          6.08,
          6.06,
          5.63,
          7.43,
          5.7,
          7.01,
          7.46,
          6.06,
          6.28,
          7.47,
          7.07,
          5.76,
          6.91,
          6.11,
          6.4,
          6.18,
          5.61,
          6.68,
          6.86,
          6.52,
          6.31,
          7.34,
          5.92,
          7.3,
          7.18,
          5.57,
          5.63,
          7.49,
          7.33,
          5.97,
          6.36,
          6.16,
          6.37,
          6.34,
          6.41,
          5.51,
          5.54,
          7.35,
          7.27,
          6.3,
          6.54,
          6.5,
          7.5,
          7,
          5.76,
          7.49,
          6.61,
          5.76,
          5.51,
          7.2,
          6.32,
          6.29,
          6.09,
          6.7,
          6.53,
          6.06,
          7.27,
          6.74,
          6.08,
          5.6,
          6.77,
          7.02,
          6.5,
          7.04,
          7.39,
          6.01,
          5.84,
          5.87,
          6.47,
          6.19,
          7,
          6.98,
          6.1,
          7.03,
          6.99,
          6.13,
          6.42,
          7.16,
          7.13,
          7.08,
          7.07,
          6.29,
          6.65,
          7.13,
          5.82,
          6.48,
          6.96,
          7.14,
          5.79,
          6.71,
          6.97,
          7.22,
          5.77,
          6.85,
          6.03,
          6.36,
          6.38,
          6.6,
          5.97,
          6.36,
          5.68,
          5.6,
          6.98,
          5.65,
          5.73,
          7.44,
          7.2,
          7.44,
          7.46,
          6.95,
          5.99,
          6.7,
          6.75,
          5.72,
          6.2,
          7.42
         ],
         "xaxis": "x2",
         "yaxis": "y2"
        }
       ],
       "layout": {
        "annotations": [
         {
          "font": {
           "size": 16
          },
          "showarrow": false,
          "text": "Histogram of soil_pH",
          "x": 0.5,
          "xanchor": "center",
          "xref": "paper",
          "y": 0.9999999999999999,
          "yanchor": "bottom",
          "yref": "paper"
         },
         {
          "font": {
           "size": 16
          },
          "showarrow": false,
          "text": "Boxplot of soil_pH",
          "x": 0.5,
          "xanchor": "center",
          "xref": "paper",
          "y": 0.285,
          "yanchor": "bottom",
          "yref": "paper"
         }
        ],
        "height": 600,
        "showlegend": false,
        "template": {
         "data": {
          "bar": [
           {
            "error_x": {
             "color": "#2a3f5f"
            },
            "error_y": {
             "color": "#2a3f5f"
            },
            "marker": {
             "line": {
              "color": "#E5ECF6",
              "width": 0.5
             },
             "pattern": {
              "fillmode": "overlay",
              "size": 10,
              "solidity": 0.2
             }
            },
            "type": "bar"
           }
          ],
          "barpolar": [
           {
            "marker": {
             "line": {
              "color": "#E5ECF6",
              "width": 0.5
             },
             "pattern": {
              "fillmode": "overlay",
              "size": 10,
              "solidity": 0.2
             }
            },
            "type": "barpolar"
           }
          ],
          "carpet": [
           {
            "aaxis": {
             "endlinecolor": "#2a3f5f",
             "gridcolor": "white",
             "linecolor": "white",
             "minorgridcolor": "white",
             "startlinecolor": "#2a3f5f"
            },
            "baxis": {
             "endlinecolor": "#2a3f5f",
             "gridcolor": "white",
             "linecolor": "white",
             "minorgridcolor": "white",
             "startlinecolor": "#2a3f5f"
            },
            "type": "carpet"
           }
          ],
          "choropleth": [
           {
            "colorbar": {
             "outlinewidth": 0,
             "ticks": ""
            },
            "type": "choropleth"
           }
          ],
          "contour": [
           {
            "colorbar": {
             "outlinewidth": 0,
             "ticks": ""
            },
            "colorscale": [
             [
              0,
              "#0d0887"
             ],
             [
              0.1111111111111111,
              "#46039f"
             ],
             [
              0.2222222222222222,
              "#7201a8"
             ],
             [
              0.3333333333333333,
              "#9c179e"
             ],
             [
              0.4444444444444444,
              "#bd3786"
             ],
             [
              0.5555555555555556,
              "#d8576b"
             ],
             [
              0.6666666666666666,
              "#ed7953"
             ],
             [
              0.7777777777777778,
              "#fb9f3a"
             ],
             [
              0.8888888888888888,
              "#fdca26"
             ],
             [
              1,
              "#f0f921"
             ]
            ],
            "type": "contour"
           }
          ],
          "contourcarpet": [
           {
            "colorbar": {
             "outlinewidth": 0,
             "ticks": ""
            },
            "type": "contourcarpet"
           }
          ],
          "heatmap": [
           {
            "colorbar": {
             "outlinewidth": 0,
             "ticks": ""
            },
            "colorscale": [
             [
              0,
              "#0d0887"
             ],
             [
              0.1111111111111111,
              "#46039f"
             ],
             [
              0.2222222222222222,
              "#7201a8"
             ],
             [
              0.3333333333333333,
              "#9c179e"
             ],
             [
              0.4444444444444444,
              "#bd3786"
             ],
             [
              0.5555555555555556,
              "#d8576b"
             ],
             [
              0.6666666666666666,
              "#ed7953"
             ],
             [
              0.7777777777777778,
              "#fb9f3a"
             ],
             [
              0.8888888888888888,
              "#fdca26"
             ],
             [
              1,
              "#f0f921"
             ]
            ],
            "type": "heatmap"
           }
          ],
          "heatmapgl": [
           {
            "colorbar": {
             "outlinewidth": 0,
             "ticks": ""
            },
            "colorscale": [
             [
              0,
              "#0d0887"
             ],
             [
              0.1111111111111111,
              "#46039f"
             ],
             [
              0.2222222222222222,
              "#7201a8"
             ],
             [
              0.3333333333333333,
              "#9c179e"
             ],
             [
              0.4444444444444444,
              "#bd3786"
             ],
             [
              0.5555555555555556,
              "#d8576b"
             ],
             [
              0.6666666666666666,
              "#ed7953"
             ],
             [
              0.7777777777777778,
              "#fb9f3a"
             ],
             [
              0.8888888888888888,
              "#fdca26"
             ],
             [
              1,
              "#f0f921"
             ]
            ],
            "type": "heatmapgl"
           }
          ],
          "histogram": [
           {
            "marker": {
             "pattern": {
              "fillmode": "overlay",
              "size": 10,
              "solidity": 0.2
             }
            },
            "type": "histogram"
           }
          ],
          "histogram2d": [
           {
            "colorbar": {
             "outlinewidth": 0,
             "ticks": ""
            },
            "colorscale": [
             [
              0,
              "#0d0887"
             ],
             [
              0.1111111111111111,
              "#46039f"
             ],
             [
              0.2222222222222222,
              "#7201a8"
             ],
             [
              0.3333333333333333,
              "#9c179e"
             ],
             [
              0.4444444444444444,
              "#bd3786"
             ],
             [
              0.5555555555555556,
              "#d8576b"
             ],
             [
              0.6666666666666666,
              "#ed7953"
             ],
             [
              0.7777777777777778,
              "#fb9f3a"
             ],
             [
              0.8888888888888888,
              "#fdca26"
             ],
             [
              1,
              "#f0f921"
             ]
            ],
            "type": "histogram2d"
           }
          ],
          "histogram2dcontour": [
           {
            "colorbar": {
             "outlinewidth": 0,
             "ticks": ""
            },
            "colorscale": [
             [
              0,
              "#0d0887"
             ],
             [
              0.1111111111111111,
              "#46039f"
             ],
             [
              0.2222222222222222,
              "#7201a8"
             ],
             [
              0.3333333333333333,
              "#9c179e"
             ],
             [
              0.4444444444444444,
              "#bd3786"
             ],
             [
              0.5555555555555556,
              "#d8576b"
             ],
             [
              0.6666666666666666,
              "#ed7953"
             ],
             [
              0.7777777777777778,
              "#fb9f3a"
             ],
             [
              0.8888888888888888,
              "#fdca26"
             ],
             [
              1,
              "#f0f921"
             ]
            ],
            "type": "histogram2dcontour"
           }
          ],
          "mesh3d": [
           {
            "colorbar": {
             "outlinewidth": 0,
             "ticks": ""
            },
            "type": "mesh3d"
           }
          ],
          "parcoords": [
           {
            "line": {
             "colorbar": {
              "outlinewidth": 0,
              "ticks": ""
             }
            },
            "type": "parcoords"
           }
          ],
          "pie": [
           {
            "automargin": true,
            "type": "pie"
           }
          ],
          "scatter": [
           {
            "fillpattern": {
             "fillmode": "overlay",
             "size": 10,
             "solidity": 0.2
            },
            "type": "scatter"
           }
          ],
          "scatter3d": [
           {
            "line": {
             "colorbar": {
              "outlinewidth": 0,
              "ticks": ""
             }
            },
            "marker": {
             "colorbar": {
              "outlinewidth": 0,
              "ticks": ""
             }
            },
            "type": "scatter3d"
           }
          ],
          "scattercarpet": [
           {
            "marker": {
             "colorbar": {
              "outlinewidth": 0,
              "ticks": ""
             }
            },
            "type": "scattercarpet"
           }
          ],
          "scattergeo": [
           {
            "marker": {
             "colorbar": {
              "outlinewidth": 0,
              "ticks": ""
             }
            },
            "type": "scattergeo"
           }
          ],
          "scattergl": [
           {
            "marker": {
             "colorbar": {
              "outlinewidth": 0,
              "ticks": ""
             }
            },
            "type": "scattergl"
           }
          ],
          "scattermapbox": [
           {
            "marker": {
             "colorbar": {
              "outlinewidth": 0,
              "ticks": ""
             }
            },
            "type": "scattermapbox"
           }
          ],
          "scatterpolar": [
           {
            "marker": {
             "colorbar": {
              "outlinewidth": 0,
              "ticks": ""
             }
            },
            "type": "scatterpolar"
           }
          ],
          "scatterpolargl": [
           {
            "marker": {
             "colorbar": {
              "outlinewidth": 0,
              "ticks": ""
             }
            },
            "type": "scatterpolargl"
           }
          ],
          "scatterternary": [
           {
            "marker": {
             "colorbar": {
              "outlinewidth": 0,
              "ticks": ""
             }
            },
            "type": "scatterternary"
           }
          ],
          "surface": [
           {
            "colorbar": {
             "outlinewidth": 0,
             "ticks": ""
            },
            "colorscale": [
             [
              0,
              "#0d0887"
             ],
             [
              0.1111111111111111,
              "#46039f"
             ],
             [
              0.2222222222222222,
              "#7201a8"
             ],
             [
              0.3333333333333333,
              "#9c179e"
             ],
             [
              0.4444444444444444,
              "#bd3786"
             ],
             [
              0.5555555555555556,
              "#d8576b"
             ],
             [
              0.6666666666666666,
              "#ed7953"
             ],
             [
              0.7777777777777778,
              "#fb9f3a"
             ],
             [
              0.8888888888888888,
              "#fdca26"
             ],
             [
              1,
              "#f0f921"
             ]
            ],
            "type": "surface"
           }
          ],
          "table": [
           {
            "cells": {
             "fill": {
              "color": "#EBF0F8"
             },
             "line": {
              "color": "white"
             }
            },
            "header": {
             "fill": {
              "color": "#C8D4E3"
             },
             "line": {
              "color": "white"
             }
            },
            "type": "table"
           }
          ]
         },
         "layout": {
          "annotationdefaults": {
           "arrowcolor": "#2a3f5f",
           "arrowhead": 0,
           "arrowwidth": 1
          },
          "autotypenumbers": "strict",
          "coloraxis": {
           "colorbar": {
            "outlinewidth": 0,
            "ticks": ""
           }
          },
          "colorscale": {
           "diverging": [
            [
             0,
             "#8e0152"
            ],
            [
             0.1,
             "#c51b7d"
            ],
            [
             0.2,
             "#de77ae"
            ],
            [
             0.3,
             "#f1b6da"
            ],
            [
             0.4,
             "#fde0ef"
            ],
            [
             0.5,
             "#f7f7f7"
            ],
            [
             0.6,
             "#e6f5d0"
            ],
            [
             0.7,
             "#b8e186"
            ],
            [
             0.8,
             "#7fbc41"
            ],
            [
             0.9,
             "#4d9221"
            ],
            [
             1,
             "#276419"
            ]
           ],
           "sequential": [
            [
             0,
             "#0d0887"
            ],
            [
             0.1111111111111111,
             "#46039f"
            ],
            [
             0.2222222222222222,
             "#7201a8"
            ],
            [
             0.3333333333333333,
             "#9c179e"
            ],
            [
             0.4444444444444444,
             "#bd3786"
            ],
            [
             0.5555555555555556,
             "#d8576b"
            ],
            [
             0.6666666666666666,
             "#ed7953"
            ],
            [
             0.7777777777777778,
             "#fb9f3a"
            ],
            [
             0.8888888888888888,
             "#fdca26"
            ],
            [
             1,
             "#f0f921"
            ]
           ],
           "sequentialminus": [
            [
             0,
             "#0d0887"
            ],
            [
             0.1111111111111111,
             "#46039f"
            ],
            [
             0.2222222222222222,
             "#7201a8"
            ],
            [
             0.3333333333333333,
             "#9c179e"
            ],
            [
             0.4444444444444444,
             "#bd3786"
            ],
            [
             0.5555555555555556,
             "#d8576b"
            ],
            [
             0.6666666666666666,
             "#ed7953"
            ],
            [
             0.7777777777777778,
             "#fb9f3a"
            ],
            [
             0.8888888888888888,
             "#fdca26"
            ],
            [
             1,
             "#f0f921"
            ]
           ]
          },
          "colorway": [
           "#636efa",
           "#EF553B",
           "#00cc96",
           "#ab63fa",
           "#FFA15A",
           "#19d3f3",
           "#FF6692",
           "#B6E880",
           "#FF97FF",
           "#FECB52"
          ],
          "font": {
           "color": "#2a3f5f"
          },
          "geo": {
           "bgcolor": "white",
           "lakecolor": "white",
           "landcolor": "#E5ECF6",
           "showlakes": true,
           "showland": true,
           "subunitcolor": "white"
          },
          "hoverlabel": {
           "align": "left"
          },
          "hovermode": "closest",
          "mapbox": {
           "style": "light"
          },
          "paper_bgcolor": "white",
          "plot_bgcolor": "#E5ECF6",
          "polar": {
           "angularaxis": {
            "gridcolor": "white",
            "linecolor": "white",
            "ticks": ""
           },
           "bgcolor": "#E5ECF6",
           "radialaxis": {
            "gridcolor": "white",
            "linecolor": "white",
            "ticks": ""
           }
          },
          "scene": {
           "xaxis": {
            "backgroundcolor": "#E5ECF6",
            "gridcolor": "white",
            "gridwidth": 2,
            "linecolor": "white",
            "showbackground": true,
            "ticks": "",
            "zerolinecolor": "white"
           },
           "yaxis": {
            "backgroundcolor": "#E5ECF6",
            "gridcolor": "white",
            "gridwidth": 2,
            "linecolor": "white",
            "showbackground": true,
            "ticks": "",
            "zerolinecolor": "white"
           },
           "zaxis": {
            "backgroundcolor": "#E5ECF6",
            "gridcolor": "white",
            "gridwidth": 2,
            "linecolor": "white",
            "showbackground": true,
            "ticks": "",
            "zerolinecolor": "white"
           }
          },
          "shapedefaults": {
           "line": {
            "color": "#2a3f5f"
           }
          },
          "ternary": {
           "aaxis": {
            "gridcolor": "white",
            "linecolor": "white",
            "ticks": ""
           },
           "baxis": {
            "gridcolor": "white",
            "linecolor": "white",
            "ticks": ""
           },
           "bgcolor": "#E5ECF6",
           "caxis": {
            "gridcolor": "white",
            "linecolor": "white",
            "ticks": ""
           }
          },
          "title": {
           "x": 0.05
          },
          "xaxis": {
           "automargin": true,
           "gridcolor": "white",
           "linecolor": "white",
           "ticks": "",
           "title": {
            "standoff": 15
           },
           "zerolinecolor": "white",
           "zerolinewidth": 2
          },
          "yaxis": {
           "automargin": true,
           "gridcolor": "white",
           "linecolor": "white",
           "ticks": "",
           "title": {
            "standoff": 15
           },
           "zerolinecolor": "white",
           "zerolinewidth": 2
          }
         }
        },
        "title": {
         "text": "NUMERICAL FEATURE DISTRIBUTION: soil_pH"
        },
        "xaxis": {
         "anchor": "y",
         "domain": [
          0,
          1
         ],
         "matches": "x2",
         "showticklabels": false
        },
        "xaxis2": {
         "anchor": "y2",
         "domain": [
          0,
          1
         ]
        },
        "yaxis": {
         "anchor": "x",
         "domain": [
          0.33499999999999996,
          0.9999999999999999
         ]
        },
        "yaxis2": {
         "anchor": "x2",
         "domain": [
          0,
          0.285
         ]
        }
       }
      }
     },
     "metadata": {},
     "output_type": "display_data"
    },
    {
     "data": {
      "application/vnd.plotly.v1+json": {
       "config": {
        "plotlyServerURL": "https://plot.ly"
       },
       "data": [
        {
         "marker": {
          "color": "lightskyblue"
         },
         "name": "Histogram",
         "nbinsx": 50,
         "type": "histogram",
         "x": [
          17.79,
          30.18,
          27.37,
          33.73,
          33.86,
          24.87,
          21.8,
          22.26,
          19.24,
          16.18,
          23.47,
          31.16,
          20.7,
          26.9,
          21,
          29.07,
          19.07,
          28.82,
          27.41,
          21.99,
          20.31,
          21.6,
          15.01,
          30.02,
          15.11,
          32.83,
          20.43,
          32.61,
          33.39,
          15.39,
          27.14,
          17.42,
          28.01,
          24.89,
          27.92,
          18.85,
          25.68,
          24.83,
          27.19,
          32.19,
          23.05,
          25.38,
          24.1,
          33.55,
          29.11,
          29.52,
          15.87,
          17.88,
          28.69,
          28.64,
          21.91,
          28.72,
          26.59,
          16.51,
          27.39,
          24.07,
          22.25,
          26.29,
          15.3,
          29.54,
          29.24,
          21.25,
          30.01,
          26.22,
          29.82,
          23.86,
          19.22,
          16.56,
          16.57,
          27.05,
          26.83,
          24.51,
          28.58,
          28.12,
          18.61,
          18.62,
          28.57,
          17.49,
          16.98,
          25.56,
          19.81,
          19.82,
          30.82,
          23.79,
          21.13,
          27.15,
          19.99,
          23.9,
          30.84,
          27.85,
          27.7,
          26.54,
          24.29,
          33.91,
          34.33,
          26.24,
          15.81,
          24.8,
          24.61,
          24.43,
          20.58,
          31.37,
          19.85,
          20.74,
          26.36,
          30.15,
          21.04,
          17.67,
          33.34,
          26.28,
          30.38,
          25.58,
          30.32,
          31.32,
          33.83,
          25.6,
          24.59,
          24.33,
          26.58,
          17.8,
          27.36,
          19.82,
          16.12,
          20.61,
          30.81,
          33.82,
          21.17,
          16.69,
          27.5,
          24.58,
          29.17,
          32.39,
          19.44,
          17.83,
          25.32,
          19.12,
          31.91,
          18.72,
          25.11,
          17.28,
          32.31,
          20.85,
          20.37,
          22.95,
          23.83,
          16.9,
          17.74,
          17.01,
          22.84,
          34.09,
          16.67,
          24.07,
          29.66,
          26.48,
          21.4,
          26.28,
          29.76,
          27.74,
          23.99,
          22.11,
          22.44,
          23.66,
          16.75,
          19.38,
          22.1,
          16.12,
          22.47,
          29.68,
          27.72,
          22.57,
          32.86,
          25.99,
          32.9,
          30.13,
          34.44,
          25.39,
          28.1,
          21.06,
          32.34,
          29.09,
          32.08,
          27.17,
          31.79,
          31.11,
          24.51,
          32.43,
          18.02,
          26.53,
          27.53,
          22.19,
          26.88,
          20.4,
          24.93,
          20.28,
          29.66,
          31.05,
          29.09,
          15.23,
          23.96,
          34.01,
          31,
          21.76,
          31.3,
          29.97,
          33.85,
          30.69,
          34.52,
          16.49,
          27.51,
          21.64,
          17.27,
          28.41,
          20.04,
          33.56,
          28.55,
          32.03,
          26.61,
          30.71,
          29.67,
          29.66,
          19.63,
          28.07,
          25.29,
          18.22,
          32.35,
          25.09,
          28.95,
          18.78,
          20.51,
          17.01,
          22.69,
          28.1,
          24.1,
          30.15,
          19.97,
          20.31,
          34.71,
          24.2,
          22.3,
          31.99,
          26.15,
          27.63,
          23.9,
          24.46,
          28.27,
          23.84,
          30.94,
          32.07,
          19.66,
          31.83,
          21.46,
          17.39,
          30.83,
          21.95,
          19.78,
          17.14,
          22.22,
          19.98,
          25.68,
          29.53,
          20.3,
          22.63,
          28.96,
          23.69,
          23.47,
          16.72,
          27.46,
          32.04,
          21.1,
          22.86,
          33.19,
          32.88,
          24.38,
          23.79,
          15.85,
          25.34,
          33.14,
          21.7,
          24.17,
          18.7,
          34.33,
          19.18,
          24.95,
          27.81,
          24.58,
          21.63,
          32.54,
          25.47,
          30.32,
          25.85,
          18.58,
          28.97,
          17.26,
          27.42,
          21.51,
          15,
          25.21,
          28.25,
          32.2,
          22.34,
          19.9,
          33.46,
          20.04,
          16.69,
          21.03,
          22.08,
          21.27,
          29.16,
          30.54,
          26.43,
          31.25,
          19.06,
          24.78,
          16.44,
          19.41,
          23.3,
          30.45,
          17.35,
          16.08,
          28.54,
          24.15,
          27.23,
          33.55,
          15.25,
          23.11,
          16.1,
          24.57,
          25.64,
          24.93,
          21.86,
          27.37,
          28.31,
          30.08,
          27.83,
          22.39,
          17.87,
          20.79,
          28.76,
          20.19,
          16.89,
          17.05,
          29.2,
          28.2,
          20.55,
          24.49,
          20.77,
          33.78,
          26.9,
          17.16,
          28.22,
          23.85,
          22.83,
          23.24,
          28.92,
          24.94,
          25.62,
          19.26,
          27.68,
          19.04,
          23.14,
          21.59,
          19.93,
          29.01,
          23.13,
          29.76,
          30.85,
          27.53,
          18.81,
          24.02,
          19.7,
          32.56,
          18.3,
          24.7,
          23.33,
          34.4,
          22.98,
          24.79,
          16.68,
          24.29,
          24,
          28.15,
          27.99,
          19.03,
          27.23,
          18.84,
          29.99,
          23.61,
          30.12,
          27.94,
          23.43,
          18.29,
          25.56,
          29.38,
          17.21,
          29.3,
          19.3,
          32.27,
          24.72,
          21.76,
          15.92,
          26.4,
          24.83,
          16.18,
          25.09,
          16.68,
          20.47,
          25.1,
          28.45,
          31.24,
          24.86,
          20.19,
          20.48,
          18.94,
          16.46,
          17.04,
          18.85,
          34.19,
          18.91,
          30.78,
          15.2,
          31.86,
          30.9,
          19.18,
          33.42,
          19.6,
          25.93,
          30.05,
          24.49,
          33.87,
          26.36,
          15.64,
          23.37,
          17.85,
          23.3,
          30.24,
          15.21,
          25.69,
          15.97,
          31.31,
          27.48,
          21.36,
          16.2,
          15.47,
          34.84,
          20.44,
          33.43,
          29.51,
          30.03,
          17.95,
          21.04,
          24.83,
          16.18,
          30.21,
          21.3,
          19.97,
          30.88,
          28.46,
          19.41,
          29.5,
          22.6,
          17.89,
          24.9,
          33.25,
          32.32,
          32.17,
          21.05,
          26.45,
          30.67,
          26.25,
          21.26,
          23.44,
          27.1,
          30.96,
          32.93,
          16.06,
          33.95,
          24.96,
          32.64,
          15.04,
          18.95,
          17.8,
          31,
          28.57,
          24.48,
          16.02,
          15.82,
          22.23,
          25.93,
          23.72,
          18.31,
          20.93,
          21.49,
          30.56,
          22.37,
          33.18,
          30.85,
          17.46,
          17.03,
          17.08,
          20.57
         ],
         "xaxis": "x",
         "yaxis": "y"
        },
        {
         "boxpoints": "outliers",
         "marker": {
          "color": "skyblue"
         },
         "name": "Boxplot",
         "orientation": "h",
         "type": "box",
         "x": [
          17.79,
          30.18,
          27.37,
          33.73,
          33.86,
          24.87,
          21.8,
          22.26,
          19.24,
          16.18,
          23.47,
          31.16,
          20.7,
          26.9,
          21,
          29.07,
          19.07,
          28.82,
          27.41,
          21.99,
          20.31,
          21.6,
          15.01,
          30.02,
          15.11,
          32.83,
          20.43,
          32.61,
          33.39,
          15.39,
          27.14,
          17.42,
          28.01,
          24.89,
          27.92,
          18.85,
          25.68,
          24.83,
          27.19,
          32.19,
          23.05,
          25.38,
          24.1,
          33.55,
          29.11,
          29.52,
          15.87,
          17.88,
          28.69,
          28.64,
          21.91,
          28.72,
          26.59,
          16.51,
          27.39,
          24.07,
          22.25,
          26.29,
          15.3,
          29.54,
          29.24,
          21.25,
          30.01,
          26.22,
          29.82,
          23.86,
          19.22,
          16.56,
          16.57,
          27.05,
          26.83,
          24.51,
          28.58,
          28.12,
          18.61,
          18.62,
          28.57,
          17.49,
          16.98,
          25.56,
          19.81,
          19.82,
          30.82,
          23.79,
          21.13,
          27.15,
          19.99,
          23.9,
          30.84,
          27.85,
          27.7,
          26.54,
          24.29,
          33.91,
          34.33,
          26.24,
          15.81,
          24.8,
          24.61,
          24.43,
          20.58,
          31.37,
          19.85,
          20.74,
          26.36,
          30.15,
          21.04,
          17.67,
          33.34,
          26.28,
          30.38,
          25.58,
          30.32,
          31.32,
          33.83,
          25.6,
          24.59,
          24.33,
          26.58,
          17.8,
          27.36,
          19.82,
          16.12,
          20.61,
          30.81,
          33.82,
          21.17,
          16.69,
          27.5,
          24.58,
          29.17,
          32.39,
          19.44,
          17.83,
          25.32,
          19.12,
          31.91,
          18.72,
          25.11,
          17.28,
          32.31,
          20.85,
          20.37,
          22.95,
          23.83,
          16.9,
          17.74,
          17.01,
          22.84,
          34.09,
          16.67,
          24.07,
          29.66,
          26.48,
          21.4,
          26.28,
          29.76,
          27.74,
          23.99,
          22.11,
          22.44,
          23.66,
          16.75,
          19.38,
          22.1,
          16.12,
          22.47,
          29.68,
          27.72,
          22.57,
          32.86,
          25.99,
          32.9,
          30.13,
          34.44,
          25.39,
          28.1,
          21.06,
          32.34,
          29.09,
          32.08,
          27.17,
          31.79,
          31.11,
          24.51,
          32.43,
          18.02,
          26.53,
          27.53,
          22.19,
          26.88,
          20.4,
          24.93,
          20.28,
          29.66,
          31.05,
          29.09,
          15.23,
          23.96,
          34.01,
          31,
          21.76,
          31.3,
          29.97,
          33.85,
          30.69,
          34.52,
          16.49,
          27.51,
          21.64,
          17.27,
          28.41,
          20.04,
          33.56,
          28.55,
          32.03,
          26.61,
          30.71,
          29.67,
          29.66,
          19.63,
          28.07,
          25.29,
          18.22,
          32.35,
          25.09,
          28.95,
          18.78,
          20.51,
          17.01,
          22.69,
          28.1,
          24.1,
          30.15,
          19.97,
          20.31,
          34.71,
          24.2,
          22.3,
          31.99,
          26.15,
          27.63,
          23.9,
          24.46,
          28.27,
          23.84,
          30.94,
          32.07,
          19.66,
          31.83,
          21.46,
          17.39,
          30.83,
          21.95,
          19.78,
          17.14,
          22.22,
          19.98,
          25.68,
          29.53,
          20.3,
          22.63,
          28.96,
          23.69,
          23.47,
          16.72,
          27.46,
          32.04,
          21.1,
          22.86,
          33.19,
          32.88,
          24.38,
          23.79,
          15.85,
          25.34,
          33.14,
          21.7,
          24.17,
          18.7,
          34.33,
          19.18,
          24.95,
          27.81,
          24.58,
          21.63,
          32.54,
          25.47,
          30.32,
          25.85,
          18.58,
          28.97,
          17.26,
          27.42,
          21.51,
          15,
          25.21,
          28.25,
          32.2,
          22.34,
          19.9,
          33.46,
          20.04,
          16.69,
          21.03,
          22.08,
          21.27,
          29.16,
          30.54,
          26.43,
          31.25,
          19.06,
          24.78,
          16.44,
          19.41,
          23.3,
          30.45,
          17.35,
          16.08,
          28.54,
          24.15,
          27.23,
          33.55,
          15.25,
          23.11,
          16.1,
          24.57,
          25.64,
          24.93,
          21.86,
          27.37,
          28.31,
          30.08,
          27.83,
          22.39,
          17.87,
          20.79,
          28.76,
          20.19,
          16.89,
          17.05,
          29.2,
          28.2,
          20.55,
          24.49,
          20.77,
          33.78,
          26.9,
          17.16,
          28.22,
          23.85,
          22.83,
          23.24,
          28.92,
          24.94,
          25.62,
          19.26,
          27.68,
          19.04,
          23.14,
          21.59,
          19.93,
          29.01,
          23.13,
          29.76,
          30.85,
          27.53,
          18.81,
          24.02,
          19.7,
          32.56,
          18.3,
          24.7,
          23.33,
          34.4,
          22.98,
          24.79,
          16.68,
          24.29,
          24,
          28.15,
          27.99,
          19.03,
          27.23,
          18.84,
          29.99,
          23.61,
          30.12,
          27.94,
          23.43,
          18.29,
          25.56,
          29.38,
          17.21,
          29.3,
          19.3,
          32.27,
          24.72,
          21.76,
          15.92,
          26.4,
          24.83,
          16.18,
          25.09,
          16.68,
          20.47,
          25.1,
          28.45,
          31.24,
          24.86,
          20.19,
          20.48,
          18.94,
          16.46,
          17.04,
          18.85,
          34.19,
          18.91,
          30.78,
          15.2,
          31.86,
          30.9,
          19.18,
          33.42,
          19.6,
          25.93,
          30.05,
          24.49,
          33.87,
          26.36,
          15.64,
          23.37,
          17.85,
          23.3,
          30.24,
          15.21,
          25.69,
          15.97,
          31.31,
          27.48,
          21.36,
          16.2,
          15.47,
          34.84,
          20.44,
          33.43,
          29.51,
          30.03,
          17.95,
          21.04,
          24.83,
          16.18,
          30.21,
          21.3,
          19.97,
          30.88,
          28.46,
          19.41,
          29.5,
          22.6,
          17.89,
          24.9,
          33.25,
          32.32,
          32.17,
          21.05,
          26.45,
          30.67,
          26.25,
          21.26,
          23.44,
          27.1,
          30.96,
          32.93,
          16.06,
          33.95,
          24.96,
          32.64,
          15.04,
          18.95,
          17.8,
          31,
          28.57,
          24.48,
          16.02,
          15.82,
          22.23,
          25.93,
          23.72,
          18.31,
          20.93,
          21.49,
          30.56,
          22.37,
          33.18,
          30.85,
          17.46,
          17.03,
          17.08,
          20.57
         ],
         "xaxis": "x2",
         "yaxis": "y2"
        }
       ],
       "layout": {
        "annotations": [
         {
          "font": {
           "size": 16
          },
          "showarrow": false,
          "text": "Histogram of temperature_C",
          "x": 0.5,
          "xanchor": "center",
          "xref": "paper",
          "y": 0.9999999999999999,
          "yanchor": "bottom",
          "yref": "paper"
         },
         {
          "font": {
           "size": 16
          },
          "showarrow": false,
          "text": "Boxplot of temperature_C",
          "x": 0.5,
          "xanchor": "center",
          "xref": "paper",
          "y": 0.285,
          "yanchor": "bottom",
          "yref": "paper"
         }
        ],
        "height": 600,
        "showlegend": false,
        "template": {
         "data": {
          "bar": [
           {
            "error_x": {
             "color": "#2a3f5f"
            },
            "error_y": {
             "color": "#2a3f5f"
            },
            "marker": {
             "line": {
              "color": "#E5ECF6",
              "width": 0.5
             },
             "pattern": {
              "fillmode": "overlay",
              "size": 10,
              "solidity": 0.2
             }
            },
            "type": "bar"
           }
          ],
          "barpolar": [
           {
            "marker": {
             "line": {
              "color": "#E5ECF6",
              "width": 0.5
             },
             "pattern": {
              "fillmode": "overlay",
              "size": 10,
              "solidity": 0.2
             }
            },
            "type": "barpolar"
           }
          ],
          "carpet": [
           {
            "aaxis": {
             "endlinecolor": "#2a3f5f",
             "gridcolor": "white",
             "linecolor": "white",
             "minorgridcolor": "white",
             "startlinecolor": "#2a3f5f"
            },
            "baxis": {
             "endlinecolor": "#2a3f5f",
             "gridcolor": "white",
             "linecolor": "white",
             "minorgridcolor": "white",
             "startlinecolor": "#2a3f5f"
            },
            "type": "carpet"
           }
          ],
          "choropleth": [
           {
            "colorbar": {
             "outlinewidth": 0,
             "ticks": ""
            },
            "type": "choropleth"
           }
          ],
          "contour": [
           {
            "colorbar": {
             "outlinewidth": 0,
             "ticks": ""
            },
            "colorscale": [
             [
              0,
              "#0d0887"
             ],
             [
              0.1111111111111111,
              "#46039f"
             ],
             [
              0.2222222222222222,
              "#7201a8"
             ],
             [
              0.3333333333333333,
              "#9c179e"
             ],
             [
              0.4444444444444444,
              "#bd3786"
             ],
             [
              0.5555555555555556,
              "#d8576b"
             ],
             [
              0.6666666666666666,
              "#ed7953"
             ],
             [
              0.7777777777777778,
              "#fb9f3a"
             ],
             [
              0.8888888888888888,
              "#fdca26"
             ],
             [
              1,
              "#f0f921"
             ]
            ],
            "type": "contour"
           }
          ],
          "contourcarpet": [
           {
            "colorbar": {
             "outlinewidth": 0,
             "ticks": ""
            },
            "type": "contourcarpet"
           }
          ],
          "heatmap": [
           {
            "colorbar": {
             "outlinewidth": 0,
             "ticks": ""
            },
            "colorscale": [
             [
              0,
              "#0d0887"
             ],
             [
              0.1111111111111111,
              "#46039f"
             ],
             [
              0.2222222222222222,
              "#7201a8"
             ],
             [
              0.3333333333333333,
              "#9c179e"
             ],
             [
              0.4444444444444444,
              "#bd3786"
             ],
             [
              0.5555555555555556,
              "#d8576b"
             ],
             [
              0.6666666666666666,
              "#ed7953"
             ],
             [
              0.7777777777777778,
              "#fb9f3a"
             ],
             [
              0.8888888888888888,
              "#fdca26"
             ],
             [
              1,
              "#f0f921"
             ]
            ],
            "type": "heatmap"
           }
          ],
          "heatmapgl": [
           {
            "colorbar": {
             "outlinewidth": 0,
             "ticks": ""
            },
            "colorscale": [
             [
              0,
              "#0d0887"
             ],
             [
              0.1111111111111111,
              "#46039f"
             ],
             [
              0.2222222222222222,
              "#7201a8"
             ],
             [
              0.3333333333333333,
              "#9c179e"
             ],
             [
              0.4444444444444444,
              "#bd3786"
             ],
             [
              0.5555555555555556,
              "#d8576b"
             ],
             [
              0.6666666666666666,
              "#ed7953"
             ],
             [
              0.7777777777777778,
              "#fb9f3a"
             ],
             [
              0.8888888888888888,
              "#fdca26"
             ],
             [
              1,
              "#f0f921"
             ]
            ],
            "type": "heatmapgl"
           }
          ],
          "histogram": [
           {
            "marker": {
             "pattern": {
              "fillmode": "overlay",
              "size": 10,
              "solidity": 0.2
             }
            },
            "type": "histogram"
           }
          ],
          "histogram2d": [
           {
            "colorbar": {
             "outlinewidth": 0,
             "ticks": ""
            },
            "colorscale": [
             [
              0,
              "#0d0887"
             ],
             [
              0.1111111111111111,
              "#46039f"
             ],
             [
              0.2222222222222222,
              "#7201a8"
             ],
             [
              0.3333333333333333,
              "#9c179e"
             ],
             [
              0.4444444444444444,
              "#bd3786"
             ],
             [
              0.5555555555555556,
              "#d8576b"
             ],
             [
              0.6666666666666666,
              "#ed7953"
             ],
             [
              0.7777777777777778,
              "#fb9f3a"
             ],
             [
              0.8888888888888888,
              "#fdca26"
             ],
             [
              1,
              "#f0f921"
             ]
            ],
            "type": "histogram2d"
           }
          ],
          "histogram2dcontour": [
           {
            "colorbar": {
             "outlinewidth": 0,
             "ticks": ""
            },
            "colorscale": [
             [
              0,
              "#0d0887"
             ],
             [
              0.1111111111111111,
              "#46039f"
             ],
             [
              0.2222222222222222,
              "#7201a8"
             ],
             [
              0.3333333333333333,
              "#9c179e"
             ],
             [
              0.4444444444444444,
              "#bd3786"
             ],
             [
              0.5555555555555556,
              "#d8576b"
             ],
             [
              0.6666666666666666,
              "#ed7953"
             ],
             [
              0.7777777777777778,
              "#fb9f3a"
             ],
             [
              0.8888888888888888,
              "#fdca26"
             ],
             [
              1,
              "#f0f921"
             ]
            ],
            "type": "histogram2dcontour"
           }
          ],
          "mesh3d": [
           {
            "colorbar": {
             "outlinewidth": 0,
             "ticks": ""
            },
            "type": "mesh3d"
           }
          ],
          "parcoords": [
           {
            "line": {
             "colorbar": {
              "outlinewidth": 0,
              "ticks": ""
             }
            },
            "type": "parcoords"
           }
          ],
          "pie": [
           {
            "automargin": true,
            "type": "pie"
           }
          ],
          "scatter": [
           {
            "fillpattern": {
             "fillmode": "overlay",
             "size": 10,
             "solidity": 0.2
            },
            "type": "scatter"
           }
          ],
          "scatter3d": [
           {
            "line": {
             "colorbar": {
              "outlinewidth": 0,
              "ticks": ""
             }
            },
            "marker": {
             "colorbar": {
              "outlinewidth": 0,
              "ticks": ""
             }
            },
            "type": "scatter3d"
           }
          ],
          "scattercarpet": [
           {
            "marker": {
             "colorbar": {
              "outlinewidth": 0,
              "ticks": ""
             }
            },
            "type": "scattercarpet"
           }
          ],
          "scattergeo": [
           {
            "marker": {
             "colorbar": {
              "outlinewidth": 0,
              "ticks": ""
             }
            },
            "type": "scattergeo"
           }
          ],
          "scattergl": [
           {
            "marker": {
             "colorbar": {
              "outlinewidth": 0,
              "ticks": ""
             }
            },
            "type": "scattergl"
           }
          ],
          "scattermapbox": [
           {
            "marker": {
             "colorbar": {
              "outlinewidth": 0,
              "ticks": ""
             }
            },
            "type": "scattermapbox"
           }
          ],
          "scatterpolar": [
           {
            "marker": {
             "colorbar": {
              "outlinewidth": 0,
              "ticks": ""
             }
            },
            "type": "scatterpolar"
           }
          ],
          "scatterpolargl": [
           {
            "marker": {
             "colorbar": {
              "outlinewidth": 0,
              "ticks": ""
             }
            },
            "type": "scatterpolargl"
           }
          ],
          "scatterternary": [
           {
            "marker": {
             "colorbar": {
              "outlinewidth": 0,
              "ticks": ""
             }
            },
            "type": "scatterternary"
           }
          ],
          "surface": [
           {
            "colorbar": {
             "outlinewidth": 0,
             "ticks": ""
            },
            "colorscale": [
             [
              0,
              "#0d0887"
             ],
             [
              0.1111111111111111,
              "#46039f"
             ],
             [
              0.2222222222222222,
              "#7201a8"
             ],
             [
              0.3333333333333333,
              "#9c179e"
             ],
             [
              0.4444444444444444,
              "#bd3786"
             ],
             [
              0.5555555555555556,
              "#d8576b"
             ],
             [
              0.6666666666666666,
              "#ed7953"
             ],
             [
              0.7777777777777778,
              "#fb9f3a"
             ],
             [
              0.8888888888888888,
              "#fdca26"
             ],
             [
              1,
              "#f0f921"
             ]
            ],
            "type": "surface"
           }
          ],
          "table": [
           {
            "cells": {
             "fill": {
              "color": "#EBF0F8"
             },
             "line": {
              "color": "white"
             }
            },
            "header": {
             "fill": {
              "color": "#C8D4E3"
             },
             "line": {
              "color": "white"
             }
            },
            "type": "table"
           }
          ]
         },
         "layout": {
          "annotationdefaults": {
           "arrowcolor": "#2a3f5f",
           "arrowhead": 0,
           "arrowwidth": 1
          },
          "autotypenumbers": "strict",
          "coloraxis": {
           "colorbar": {
            "outlinewidth": 0,
            "ticks": ""
           }
          },
          "colorscale": {
           "diverging": [
            [
             0,
             "#8e0152"
            ],
            [
             0.1,
             "#c51b7d"
            ],
            [
             0.2,
             "#de77ae"
            ],
            [
             0.3,
             "#f1b6da"
            ],
            [
             0.4,
             "#fde0ef"
            ],
            [
             0.5,
             "#f7f7f7"
            ],
            [
             0.6,
             "#e6f5d0"
            ],
            [
             0.7,
             "#b8e186"
            ],
            [
             0.8,
             "#7fbc41"
            ],
            [
             0.9,
             "#4d9221"
            ],
            [
             1,
             "#276419"
            ]
           ],
           "sequential": [
            [
             0,
             "#0d0887"
            ],
            [
             0.1111111111111111,
             "#46039f"
            ],
            [
             0.2222222222222222,
             "#7201a8"
            ],
            [
             0.3333333333333333,
             "#9c179e"
            ],
            [
             0.4444444444444444,
             "#bd3786"
            ],
            [
             0.5555555555555556,
             "#d8576b"
            ],
            [
             0.6666666666666666,
             "#ed7953"
            ],
            [
             0.7777777777777778,
             "#fb9f3a"
            ],
            [
             0.8888888888888888,
             "#fdca26"
            ],
            [
             1,
             "#f0f921"
            ]
           ],
           "sequentialminus": [
            [
             0,
             "#0d0887"
            ],
            [
             0.1111111111111111,
             "#46039f"
            ],
            [
             0.2222222222222222,
             "#7201a8"
            ],
            [
             0.3333333333333333,
             "#9c179e"
            ],
            [
             0.4444444444444444,
             "#bd3786"
            ],
            [
             0.5555555555555556,
             "#d8576b"
            ],
            [
             0.6666666666666666,
             "#ed7953"
            ],
            [
             0.7777777777777778,
             "#fb9f3a"
            ],
            [
             0.8888888888888888,
             "#fdca26"
            ],
            [
             1,
             "#f0f921"
            ]
           ]
          },
          "colorway": [
           "#636efa",
           "#EF553B",
           "#00cc96",
           "#ab63fa",
           "#FFA15A",
           "#19d3f3",
           "#FF6692",
           "#B6E880",
           "#FF97FF",
           "#FECB52"
          ],
          "font": {
           "color": "#2a3f5f"
          },
          "geo": {
           "bgcolor": "white",
           "lakecolor": "white",
           "landcolor": "#E5ECF6",
           "showlakes": true,
           "showland": true,
           "subunitcolor": "white"
          },
          "hoverlabel": {
           "align": "left"
          },
          "hovermode": "closest",
          "mapbox": {
           "style": "light"
          },
          "paper_bgcolor": "white",
          "plot_bgcolor": "#E5ECF6",
          "polar": {
           "angularaxis": {
            "gridcolor": "white",
            "linecolor": "white",
            "ticks": ""
           },
           "bgcolor": "#E5ECF6",
           "radialaxis": {
            "gridcolor": "white",
            "linecolor": "white",
            "ticks": ""
           }
          },
          "scene": {
           "xaxis": {
            "backgroundcolor": "#E5ECF6",
            "gridcolor": "white",
            "gridwidth": 2,
            "linecolor": "white",
            "showbackground": true,
            "ticks": "",
            "zerolinecolor": "white"
           },
           "yaxis": {
            "backgroundcolor": "#E5ECF6",
            "gridcolor": "white",
            "gridwidth": 2,
            "linecolor": "white",
            "showbackground": true,
            "ticks": "",
            "zerolinecolor": "white"
           },
           "zaxis": {
            "backgroundcolor": "#E5ECF6",
            "gridcolor": "white",
            "gridwidth": 2,
            "linecolor": "white",
            "showbackground": true,
            "ticks": "",
            "zerolinecolor": "white"
           }
          },
          "shapedefaults": {
           "line": {
            "color": "#2a3f5f"
           }
          },
          "ternary": {
           "aaxis": {
            "gridcolor": "white",
            "linecolor": "white",
            "ticks": ""
           },
           "baxis": {
            "gridcolor": "white",
            "linecolor": "white",
            "ticks": ""
           },
           "bgcolor": "#E5ECF6",
           "caxis": {
            "gridcolor": "white",
            "linecolor": "white",
            "ticks": ""
           }
          },
          "title": {
           "x": 0.05
          },
          "xaxis": {
           "automargin": true,
           "gridcolor": "white",
           "linecolor": "white",
           "ticks": "",
           "title": {
            "standoff": 15
           },
           "zerolinecolor": "white",
           "zerolinewidth": 2
          },
          "yaxis": {
           "automargin": true,
           "gridcolor": "white",
           "linecolor": "white",
           "ticks": "",
           "title": {
            "standoff": 15
           },
           "zerolinecolor": "white",
           "zerolinewidth": 2
          }
         }
        },
        "title": {
         "text": "NUMERICAL FEATURE DISTRIBUTION: temperature_C"
        },
        "xaxis": {
         "anchor": "y",
         "domain": [
          0,
          1
         ],
         "matches": "x2",
         "showticklabels": false
        },
        "xaxis2": {
         "anchor": "y2",
         "domain": [
          0,
          1
         ]
        },
        "yaxis": {
         "anchor": "x",
         "domain": [
          0.33499999999999996,
          0.9999999999999999
         ]
        },
        "yaxis2": {
         "anchor": "x2",
         "domain": [
          0,
          0.285
         ]
        }
       }
      }
     },
     "metadata": {},
     "output_type": "display_data"
    },
    {
     "data": {
      "application/vnd.plotly.v1+json": {
       "config": {
        "plotlyServerURL": "https://plot.ly"
       },
       "data": [
        {
         "marker": {
          "color": "lightskyblue"
         },
         "name": "Histogram",
         "nbinsx": 50,
         "type": "histogram",
         "x": [
          75.62,
          89.91,
          265.43,
          212.01,
          269.09,
          238.95,
          123.38,
          296.33,
          184.82,
          66.85,
          166.76,
          263.99,
          224.15,
          218.8,
          129.04,
          202.92,
          208.56,
          87.26,
          88.64,
          255.13,
          77.1,
          128.48,
          121.73,
          218.2,
          237.74,
          203.16,
          129.93,
          193.92,
          295.18,
          184.85,
          236.98,
          295.96,
          203.98,
          131.25,
          172.71,
          79.89,
          118.58,
          194.26,
          235.02,
          67.79,
          118.06,
          160.56,
          128.63,
          159.53,
          153.87,
          259.37,
          236.18,
          267.73,
          121.84,
          95.01,
          196.89,
          236.17,
          233.09,
          238.54,
          285.79,
          217.62,
          295.23,
          67.15,
          247.5,
          277.19,
          145.23,
          113.72,
          267.02,
          241.86,
          292.95,
          156,
          84.31,
          128.27,
          267.63,
          240.05,
          137.99,
          87.72,
          63.09,
          215.53,
          103.55,
          223.21,
          192.6,
          70.97,
          228.68,
          77.8,
          154.14,
          214.28,
          271.45,
          289.12,
          200.66,
          245.33,
          78.36,
          71.95,
          109.18,
          162.49,
          187.71,
          212.78,
          135.05,
          266.04,
          103.79,
          140.63,
          59.73,
          190.73,
          181.06,
          262.09,
          124.62,
          288.65,
          217.46,
          121.35,
          76.83,
          93.87,
          230.72,
          88.3,
          78.05,
          189.7,
          241.46,
          231.96,
          270.94,
          232.88,
          217.84,
          147.1,
          267.37,
          212.18,
          154.39,
          186.64,
          216.69,
          204.95,
          52.36,
          185.76,
          222.33,
          157.96,
          139.98,
          275.28,
          198.45,
          94.41,
          159.61,
          154.58,
          236.71,
          127.97,
          187.98,
          238.08,
          204.34,
          208.88,
          173.74,
          243.78,
          79.35,
          193.18,
          153.56,
          292.03,
          50.17,
          103.36,
          243.37,
          238.11,
          211.54,
          242.59,
          69.76,
          202.21,
          79.51,
          230.69,
          256.5,
          125.98,
          126.88,
          148.59,
          128.51,
          178.36,
          207.57,
          231.11,
          145.75,
          273.94,
          259.81,
          200.42,
          285.48,
          123.63,
          290.77,
          186.51,
          226.13,
          172.74,
          116.25,
          106.88,
          252.12,
          279.29,
          193.01,
          120.09,
          255.25,
          118.49,
          244.96,
          285.75,
          190.36,
          250.59,
          285.17,
          155.12,
          298.09,
          89.61,
          112.21,
          97.11,
          61.99,
          201.41,
          101.92,
          62.52,
          143.16,
          219.6,
          219.48,
          283.59,
          264.15,
          140.84,
          186.92,
          239.29,
          75.89,
          124.73,
          227.53,
          101,
          128.16,
          290.62,
          260.78,
          140.2,
          114.15,
          243.4,
          67.61,
          76.53,
          278.54,
          85.61,
          287.88,
          228.05,
          206.65,
          122.75,
          116.09,
          141.32,
          120.2,
          207.39,
          92.64,
          154.95,
          157.24,
          227.29,
          220.15,
          177.09,
          296.11,
          293.91,
          150.99,
          290.31,
          73.25,
          107.3,
          274.25,
          222.3,
          150.15,
          179.25,
          252.5,
          86.21,
          265.7,
          63.46,
          265.09,
          141.45,
          187.05,
          95.6,
          87.67,
          254.31,
          207.29,
          247.29,
          81.46,
          233.1,
          230.25,
          97.9,
          235.87,
          206.33,
          199.98,
          295.74,
          272.41,
          245.03,
          88.3,
          224.47,
          137.08,
          234.9,
          298.08,
          215.03,
          172.48,
          84.32,
          157.52,
          283.31,
          212.39,
          204.26,
          298.96,
          85.56,
          249.12,
          267.83,
          263.85,
          63.77,
          237.33,
          64.55,
          252,
          222.5,
          168.63,
          279.05,
          142.9,
          243.88,
          236.39,
          187.34,
          199.03,
          74.32,
          169.66,
          186.99,
          74.41,
          86.68,
          261.91,
          168.72,
          273.4,
          294.56,
          207.67,
          237.36,
          203.95,
          86.27,
          236.54,
          261.06,
          52.64,
          79.99,
          145.7,
          112.65,
          67.52,
          188.62,
          65.75,
          233.86,
          251.11,
          224.07,
          223.09,
          182.55,
          141.05,
          131.42,
          98.54,
          92.48,
          286.56,
          232.95,
          247.46,
          286.33,
          284.79,
          256.34,
          268.75,
          211.51,
          90.2,
          294.51,
          298.52,
          195.86,
          143.21,
          125.81,
          172.65,
          111.19,
          195.41,
          238.16,
          88.64,
          57.19,
          198.29,
          194.94,
          224.53,
          230.53,
          141.86,
          297.67,
          112.67,
          179.99,
          59,
          173.67,
          64.11,
          197,
          261.83,
          156.78,
          290.53,
          261.49,
          118.18,
          140.86,
          196.08,
          119.43,
          275.79,
          58.47,
          163.32,
          129.85,
          276.71,
          265.48,
          112.08,
          277.06,
          82.98,
          234.22,
          173.25,
          69.21,
          214.04,
          55.13,
          271.35,
          167.05,
          230.08,
          251.96,
          236.06,
          158.95,
          192.36,
          219.67,
          135.96,
          216.76,
          204.39,
          293.66,
          133.65,
          107.05,
          65.37,
          280.11,
          269.97,
          64.99,
          218.11,
          69.52,
          79.51,
          247.8,
          144.33,
          217.61,
          97.35,
          283.46,
          290.28,
          287.34,
          208.95,
          112.72,
          250.51,
          153.29,
          295.95,
          226.01,
          192.48,
          220.04,
          132.31,
          199.99,
          63.95,
          75.67,
          238.59,
          100.09,
          60.55,
          139.47,
          277.66,
          97.92,
          70.35,
          196,
          60.29,
          69.54,
          234.96,
          178.96,
          52.42,
          249.79,
          222.26,
          235.79,
          65.99,
          94.89,
          80.31,
          78.67,
          147.71,
          144.35,
          130.67,
          60.98,
          262.89,
          143.63,
          261.73,
          284.57,
          245.32,
          198.8,
          172.86,
          137.14,
          111.85,
          291.92,
          74.22,
          95.68,
          52.38,
          109.9,
          162.98,
          137.08,
          187.19,
          114.41,
          213.48,
          234.23,
          285.72,
          226.04,
          89.8,
          63.53,
          144.14,
          199.04,
          118.43,
          182.52,
          262.86,
          277.7,
          187.46,
          154.92,
          118.41,
          92.69,
          231.35,
          151.63,
          221.28,
          180.88,
          207.79,
          182.27,
          236.77,
          228.58,
          135.54,
          245.68,
          151.82,
          63.03,
          244.7,
          135.72,
          170.71,
          237.68,
          117.13,
          286.61,
          245.13,
          275.54,
          292.6,
          52.35,
          256.23,
          288.96,
          279.06,
          72.61
         ],
         "xaxis": "x",
         "yaxis": "y"
        },
        {
         "boxpoints": "outliers",
         "marker": {
          "color": "skyblue"
         },
         "name": "Boxplot",
         "orientation": "h",
         "type": "box",
         "x": [
          75.62,
          89.91,
          265.43,
          212.01,
          269.09,
          238.95,
          123.38,
          296.33,
          184.82,
          66.85,
          166.76,
          263.99,
          224.15,
          218.8,
          129.04,
          202.92,
          208.56,
          87.26,
          88.64,
          255.13,
          77.1,
          128.48,
          121.73,
          218.2,
          237.74,
          203.16,
          129.93,
          193.92,
          295.18,
          184.85,
          236.98,
          295.96,
          203.98,
          131.25,
          172.71,
          79.89,
          118.58,
          194.26,
          235.02,
          67.79,
          118.06,
          160.56,
          128.63,
          159.53,
          153.87,
          259.37,
          236.18,
          267.73,
          121.84,
          95.01,
          196.89,
          236.17,
          233.09,
          238.54,
          285.79,
          217.62,
          295.23,
          67.15,
          247.5,
          277.19,
          145.23,
          113.72,
          267.02,
          241.86,
          292.95,
          156,
          84.31,
          128.27,
          267.63,
          240.05,
          137.99,
          87.72,
          63.09,
          215.53,
          103.55,
          223.21,
          192.6,
          70.97,
          228.68,
          77.8,
          154.14,
          214.28,
          271.45,
          289.12,
          200.66,
          245.33,
          78.36,
          71.95,
          109.18,
          162.49,
          187.71,
          212.78,
          135.05,
          266.04,
          103.79,
          140.63,
          59.73,
          190.73,
          181.06,
          262.09,
          124.62,
          288.65,
          217.46,
          121.35,
          76.83,
          93.87,
          230.72,
          88.3,
          78.05,
          189.7,
          241.46,
          231.96,
          270.94,
          232.88,
          217.84,
          147.1,
          267.37,
          212.18,
          154.39,
          186.64,
          216.69,
          204.95,
          52.36,
          185.76,
          222.33,
          157.96,
          139.98,
          275.28,
          198.45,
          94.41,
          159.61,
          154.58,
          236.71,
          127.97,
          187.98,
          238.08,
          204.34,
          208.88,
          173.74,
          243.78,
          79.35,
          193.18,
          153.56,
          292.03,
          50.17,
          103.36,
          243.37,
          238.11,
          211.54,
          242.59,
          69.76,
          202.21,
          79.51,
          230.69,
          256.5,
          125.98,
          126.88,
          148.59,
          128.51,
          178.36,
          207.57,
          231.11,
          145.75,
          273.94,
          259.81,
          200.42,
          285.48,
          123.63,
          290.77,
          186.51,
          226.13,
          172.74,
          116.25,
          106.88,
          252.12,
          279.29,
          193.01,
          120.09,
          255.25,
          118.49,
          244.96,
          285.75,
          190.36,
          250.59,
          285.17,
          155.12,
          298.09,
          89.61,
          112.21,
          97.11,
          61.99,
          201.41,
          101.92,
          62.52,
          143.16,
          219.6,
          219.48,
          283.59,
          264.15,
          140.84,
          186.92,
          239.29,
          75.89,
          124.73,
          227.53,
          101,
          128.16,
          290.62,
          260.78,
          140.2,
          114.15,
          243.4,
          67.61,
          76.53,
          278.54,
          85.61,
          287.88,
          228.05,
          206.65,
          122.75,
          116.09,
          141.32,
          120.2,
          207.39,
          92.64,
          154.95,
          157.24,
          227.29,
          220.15,
          177.09,
          296.11,
          293.91,
          150.99,
          290.31,
          73.25,
          107.3,
          274.25,
          222.3,
          150.15,
          179.25,
          252.5,
          86.21,
          265.7,
          63.46,
          265.09,
          141.45,
          187.05,
          95.6,
          87.67,
          254.31,
          207.29,
          247.29,
          81.46,
          233.1,
          230.25,
          97.9,
          235.87,
          206.33,
          199.98,
          295.74,
          272.41,
          245.03,
          88.3,
          224.47,
          137.08,
          234.9,
          298.08,
          215.03,
          172.48,
          84.32,
          157.52,
          283.31,
          212.39,
          204.26,
          298.96,
          85.56,
          249.12,
          267.83,
          263.85,
          63.77,
          237.33,
          64.55,
          252,
          222.5,
          168.63,
          279.05,
          142.9,
          243.88,
          236.39,
          187.34,
          199.03,
          74.32,
          169.66,
          186.99,
          74.41,
          86.68,
          261.91,
          168.72,
          273.4,
          294.56,
          207.67,
          237.36,
          203.95,
          86.27,
          236.54,
          261.06,
          52.64,
          79.99,
          145.7,
          112.65,
          67.52,
          188.62,
          65.75,
          233.86,
          251.11,
          224.07,
          223.09,
          182.55,
          141.05,
          131.42,
          98.54,
          92.48,
          286.56,
          232.95,
          247.46,
          286.33,
          284.79,
          256.34,
          268.75,
          211.51,
          90.2,
          294.51,
          298.52,
          195.86,
          143.21,
          125.81,
          172.65,
          111.19,
          195.41,
          238.16,
          88.64,
          57.19,
          198.29,
          194.94,
          224.53,
          230.53,
          141.86,
          297.67,
          112.67,
          179.99,
          59,
          173.67,
          64.11,
          197,
          261.83,
          156.78,
          290.53,
          261.49,
          118.18,
          140.86,
          196.08,
          119.43,
          275.79,
          58.47,
          163.32,
          129.85,
          276.71,
          265.48,
          112.08,
          277.06,
          82.98,
          234.22,
          173.25,
          69.21,
          214.04,
          55.13,
          271.35,
          167.05,
          230.08,
          251.96,
          236.06,
          158.95,
          192.36,
          219.67,
          135.96,
          216.76,
          204.39,
          293.66,
          133.65,
          107.05,
          65.37,
          280.11,
          269.97,
          64.99,
          218.11,
          69.52,
          79.51,
          247.8,
          144.33,
          217.61,
          97.35,
          283.46,
          290.28,
          287.34,
          208.95,
          112.72,
          250.51,
          153.29,
          295.95,
          226.01,
          192.48,
          220.04,
          132.31,
          199.99,
          63.95,
          75.67,
          238.59,
          100.09,
          60.55,
          139.47,
          277.66,
          97.92,
          70.35,
          196,
          60.29,
          69.54,
          234.96,
          178.96,
          52.42,
          249.79,
          222.26,
          235.79,
          65.99,
          94.89,
          80.31,
          78.67,
          147.71,
          144.35,
          130.67,
          60.98,
          262.89,
          143.63,
          261.73,
          284.57,
          245.32,
          198.8,
          172.86,
          137.14,
          111.85,
          291.92,
          74.22,
          95.68,
          52.38,
          109.9,
          162.98,
          137.08,
          187.19,
          114.41,
          213.48,
          234.23,
          285.72,
          226.04,
          89.8,
          63.53,
          144.14,
          199.04,
          118.43,
          182.52,
          262.86,
          277.7,
          187.46,
          154.92,
          118.41,
          92.69,
          231.35,
          151.63,
          221.28,
          180.88,
          207.79,
          182.27,
          236.77,
          228.58,
          135.54,
          245.68,
          151.82,
          63.03,
          244.7,
          135.72,
          170.71,
          237.68,
          117.13,
          286.61,
          245.13,
          275.54,
          292.6,
          52.35,
          256.23,
          288.96,
          279.06,
          72.61
         ],
         "xaxis": "x2",
         "yaxis": "y2"
        }
       ],
       "layout": {
        "annotations": [
         {
          "font": {
           "size": 16
          },
          "showarrow": false,
          "text": "Histogram of rainfall_mm",
          "x": 0.5,
          "xanchor": "center",
          "xref": "paper",
          "y": 0.9999999999999999,
          "yanchor": "bottom",
          "yref": "paper"
         },
         {
          "font": {
           "size": 16
          },
          "showarrow": false,
          "text": "Boxplot of rainfall_mm",
          "x": 0.5,
          "xanchor": "center",
          "xref": "paper",
          "y": 0.285,
          "yanchor": "bottom",
          "yref": "paper"
         }
        ],
        "height": 600,
        "showlegend": false,
        "template": {
         "data": {
          "bar": [
           {
            "error_x": {
             "color": "#2a3f5f"
            },
            "error_y": {
             "color": "#2a3f5f"
            },
            "marker": {
             "line": {
              "color": "#E5ECF6",
              "width": 0.5
             },
             "pattern": {
              "fillmode": "overlay",
              "size": 10,
              "solidity": 0.2
             }
            },
            "type": "bar"
           }
          ],
          "barpolar": [
           {
            "marker": {
             "line": {
              "color": "#E5ECF6",
              "width": 0.5
             },
             "pattern": {
              "fillmode": "overlay",
              "size": 10,
              "solidity": 0.2
             }
            },
            "type": "barpolar"
           }
          ],
          "carpet": [
           {
            "aaxis": {
             "endlinecolor": "#2a3f5f",
             "gridcolor": "white",
             "linecolor": "white",
             "minorgridcolor": "white",
             "startlinecolor": "#2a3f5f"
            },
            "baxis": {
             "endlinecolor": "#2a3f5f",
             "gridcolor": "white",
             "linecolor": "white",
             "minorgridcolor": "white",
             "startlinecolor": "#2a3f5f"
            },
            "type": "carpet"
           }
          ],
          "choropleth": [
           {
            "colorbar": {
             "outlinewidth": 0,
             "ticks": ""
            },
            "type": "choropleth"
           }
          ],
          "contour": [
           {
            "colorbar": {
             "outlinewidth": 0,
             "ticks": ""
            },
            "colorscale": [
             [
              0,
              "#0d0887"
             ],
             [
              0.1111111111111111,
              "#46039f"
             ],
             [
              0.2222222222222222,
              "#7201a8"
             ],
             [
              0.3333333333333333,
              "#9c179e"
             ],
             [
              0.4444444444444444,
              "#bd3786"
             ],
             [
              0.5555555555555556,
              "#d8576b"
             ],
             [
              0.6666666666666666,
              "#ed7953"
             ],
             [
              0.7777777777777778,
              "#fb9f3a"
             ],
             [
              0.8888888888888888,
              "#fdca26"
             ],
             [
              1,
              "#f0f921"
             ]
            ],
            "type": "contour"
           }
          ],
          "contourcarpet": [
           {
            "colorbar": {
             "outlinewidth": 0,
             "ticks": ""
            },
            "type": "contourcarpet"
           }
          ],
          "heatmap": [
           {
            "colorbar": {
             "outlinewidth": 0,
             "ticks": ""
            },
            "colorscale": [
             [
              0,
              "#0d0887"
             ],
             [
              0.1111111111111111,
              "#46039f"
             ],
             [
              0.2222222222222222,
              "#7201a8"
             ],
             [
              0.3333333333333333,
              "#9c179e"
             ],
             [
              0.4444444444444444,
              "#bd3786"
             ],
             [
              0.5555555555555556,
              "#d8576b"
             ],
             [
              0.6666666666666666,
              "#ed7953"
             ],
             [
              0.7777777777777778,
              "#fb9f3a"
             ],
             [
              0.8888888888888888,
              "#fdca26"
             ],
             [
              1,
              "#f0f921"
             ]
            ],
            "type": "heatmap"
           }
          ],
          "heatmapgl": [
           {
            "colorbar": {
             "outlinewidth": 0,
             "ticks": ""
            },
            "colorscale": [
             [
              0,
              "#0d0887"
             ],
             [
              0.1111111111111111,
              "#46039f"
             ],
             [
              0.2222222222222222,
              "#7201a8"
             ],
             [
              0.3333333333333333,
              "#9c179e"
             ],
             [
              0.4444444444444444,
              "#bd3786"
             ],
             [
              0.5555555555555556,
              "#d8576b"
             ],
             [
              0.6666666666666666,
              "#ed7953"
             ],
             [
              0.7777777777777778,
              "#fb9f3a"
             ],
             [
              0.8888888888888888,
              "#fdca26"
             ],
             [
              1,
              "#f0f921"
             ]
            ],
            "type": "heatmapgl"
           }
          ],
          "histogram": [
           {
            "marker": {
             "pattern": {
              "fillmode": "overlay",
              "size": 10,
              "solidity": 0.2
             }
            },
            "type": "histogram"
           }
          ],
          "histogram2d": [
           {
            "colorbar": {
             "outlinewidth": 0,
             "ticks": ""
            },
            "colorscale": [
             [
              0,
              "#0d0887"
             ],
             [
              0.1111111111111111,
              "#46039f"
             ],
             [
              0.2222222222222222,
              "#7201a8"
             ],
             [
              0.3333333333333333,
              "#9c179e"
             ],
             [
              0.4444444444444444,
              "#bd3786"
             ],
             [
              0.5555555555555556,
              "#d8576b"
             ],
             [
              0.6666666666666666,
              "#ed7953"
             ],
             [
              0.7777777777777778,
              "#fb9f3a"
             ],
             [
              0.8888888888888888,
              "#fdca26"
             ],
             [
              1,
              "#f0f921"
             ]
            ],
            "type": "histogram2d"
           }
          ],
          "histogram2dcontour": [
           {
            "colorbar": {
             "outlinewidth": 0,
             "ticks": ""
            },
            "colorscale": [
             [
              0,
              "#0d0887"
             ],
             [
              0.1111111111111111,
              "#46039f"
             ],
             [
              0.2222222222222222,
              "#7201a8"
             ],
             [
              0.3333333333333333,
              "#9c179e"
             ],
             [
              0.4444444444444444,
              "#bd3786"
             ],
             [
              0.5555555555555556,
              "#d8576b"
             ],
             [
              0.6666666666666666,
              "#ed7953"
             ],
             [
              0.7777777777777778,
              "#fb9f3a"
             ],
             [
              0.8888888888888888,
              "#fdca26"
             ],
             [
              1,
              "#f0f921"
             ]
            ],
            "type": "histogram2dcontour"
           }
          ],
          "mesh3d": [
           {
            "colorbar": {
             "outlinewidth": 0,
             "ticks": ""
            },
            "type": "mesh3d"
           }
          ],
          "parcoords": [
           {
            "line": {
             "colorbar": {
              "outlinewidth": 0,
              "ticks": ""
             }
            },
            "type": "parcoords"
           }
          ],
          "pie": [
           {
            "automargin": true,
            "type": "pie"
           }
          ],
          "scatter": [
           {
            "fillpattern": {
             "fillmode": "overlay",
             "size": 10,
             "solidity": 0.2
            },
            "type": "scatter"
           }
          ],
          "scatter3d": [
           {
            "line": {
             "colorbar": {
              "outlinewidth": 0,
              "ticks": ""
             }
            },
            "marker": {
             "colorbar": {
              "outlinewidth": 0,
              "ticks": ""
             }
            },
            "type": "scatter3d"
           }
          ],
          "scattercarpet": [
           {
            "marker": {
             "colorbar": {
              "outlinewidth": 0,
              "ticks": ""
             }
            },
            "type": "scattercarpet"
           }
          ],
          "scattergeo": [
           {
            "marker": {
             "colorbar": {
              "outlinewidth": 0,
              "ticks": ""
             }
            },
            "type": "scattergeo"
           }
          ],
          "scattergl": [
           {
            "marker": {
             "colorbar": {
              "outlinewidth": 0,
              "ticks": ""
             }
            },
            "type": "scattergl"
           }
          ],
          "scattermapbox": [
           {
            "marker": {
             "colorbar": {
              "outlinewidth": 0,
              "ticks": ""
             }
            },
            "type": "scattermapbox"
           }
          ],
          "scatterpolar": [
           {
            "marker": {
             "colorbar": {
              "outlinewidth": 0,
              "ticks": ""
             }
            },
            "type": "scatterpolar"
           }
          ],
          "scatterpolargl": [
           {
            "marker": {
             "colorbar": {
              "outlinewidth": 0,
              "ticks": ""
             }
            },
            "type": "scatterpolargl"
           }
          ],
          "scatterternary": [
           {
            "marker": {
             "colorbar": {
              "outlinewidth": 0,
              "ticks": ""
             }
            },
            "type": "scatterternary"
           }
          ],
          "surface": [
           {
            "colorbar": {
             "outlinewidth": 0,
             "ticks": ""
            },
            "colorscale": [
             [
              0,
              "#0d0887"
             ],
             [
              0.1111111111111111,
              "#46039f"
             ],
             [
              0.2222222222222222,
              "#7201a8"
             ],
             [
              0.3333333333333333,
              "#9c179e"
             ],
             [
              0.4444444444444444,
              "#bd3786"
             ],
             [
              0.5555555555555556,
              "#d8576b"
             ],
             [
              0.6666666666666666,
              "#ed7953"
             ],
             [
              0.7777777777777778,
              "#fb9f3a"
             ],
             [
              0.8888888888888888,
              "#fdca26"
             ],
             [
              1,
              "#f0f921"
             ]
            ],
            "type": "surface"
           }
          ],
          "table": [
           {
            "cells": {
             "fill": {
              "color": "#EBF0F8"
             },
             "line": {
              "color": "white"
             }
            },
            "header": {
             "fill": {
              "color": "#C8D4E3"
             },
             "line": {
              "color": "white"
             }
            },
            "type": "table"
           }
          ]
         },
         "layout": {
          "annotationdefaults": {
           "arrowcolor": "#2a3f5f",
           "arrowhead": 0,
           "arrowwidth": 1
          },
          "autotypenumbers": "strict",
          "coloraxis": {
           "colorbar": {
            "outlinewidth": 0,
            "ticks": ""
           }
          },
          "colorscale": {
           "diverging": [
            [
             0,
             "#8e0152"
            ],
            [
             0.1,
             "#c51b7d"
            ],
            [
             0.2,
             "#de77ae"
            ],
            [
             0.3,
             "#f1b6da"
            ],
            [
             0.4,
             "#fde0ef"
            ],
            [
             0.5,
             "#f7f7f7"
            ],
            [
             0.6,
             "#e6f5d0"
            ],
            [
             0.7,
             "#b8e186"
            ],
            [
             0.8,
             "#7fbc41"
            ],
            [
             0.9,
             "#4d9221"
            ],
            [
             1,
             "#276419"
            ]
           ],
           "sequential": [
            [
             0,
             "#0d0887"
            ],
            [
             0.1111111111111111,
             "#46039f"
            ],
            [
             0.2222222222222222,
             "#7201a8"
            ],
            [
             0.3333333333333333,
             "#9c179e"
            ],
            [
             0.4444444444444444,
             "#bd3786"
            ],
            [
             0.5555555555555556,
             "#d8576b"
            ],
            [
             0.6666666666666666,
             "#ed7953"
            ],
            [
             0.7777777777777778,
             "#fb9f3a"
            ],
            [
             0.8888888888888888,
             "#fdca26"
            ],
            [
             1,
             "#f0f921"
            ]
           ],
           "sequentialminus": [
            [
             0,
             "#0d0887"
            ],
            [
             0.1111111111111111,
             "#46039f"
            ],
            [
             0.2222222222222222,
             "#7201a8"
            ],
            [
             0.3333333333333333,
             "#9c179e"
            ],
            [
             0.4444444444444444,
             "#bd3786"
            ],
            [
             0.5555555555555556,
             "#d8576b"
            ],
            [
             0.6666666666666666,
             "#ed7953"
            ],
            [
             0.7777777777777778,
             "#fb9f3a"
            ],
            [
             0.8888888888888888,
             "#fdca26"
            ],
            [
             1,
             "#f0f921"
            ]
           ]
          },
          "colorway": [
           "#636efa",
           "#EF553B",
           "#00cc96",
           "#ab63fa",
           "#FFA15A",
           "#19d3f3",
           "#FF6692",
           "#B6E880",
           "#FF97FF",
           "#FECB52"
          ],
          "font": {
           "color": "#2a3f5f"
          },
          "geo": {
           "bgcolor": "white",
           "lakecolor": "white",
           "landcolor": "#E5ECF6",
           "showlakes": true,
           "showland": true,
           "subunitcolor": "white"
          },
          "hoverlabel": {
           "align": "left"
          },
          "hovermode": "closest",
          "mapbox": {
           "style": "light"
          },
          "paper_bgcolor": "white",
          "plot_bgcolor": "#E5ECF6",
          "polar": {
           "angularaxis": {
            "gridcolor": "white",
            "linecolor": "white",
            "ticks": ""
           },
           "bgcolor": "#E5ECF6",
           "radialaxis": {
            "gridcolor": "white",
            "linecolor": "white",
            "ticks": ""
           }
          },
          "scene": {
           "xaxis": {
            "backgroundcolor": "#E5ECF6",
            "gridcolor": "white",
            "gridwidth": 2,
            "linecolor": "white",
            "showbackground": true,
            "ticks": "",
            "zerolinecolor": "white"
           },
           "yaxis": {
            "backgroundcolor": "#E5ECF6",
            "gridcolor": "white",
            "gridwidth": 2,
            "linecolor": "white",
            "showbackground": true,
            "ticks": "",
            "zerolinecolor": "white"
           },
           "zaxis": {
            "backgroundcolor": "#E5ECF6",
            "gridcolor": "white",
            "gridwidth": 2,
            "linecolor": "white",
            "showbackground": true,
            "ticks": "",
            "zerolinecolor": "white"
           }
          },
          "shapedefaults": {
           "line": {
            "color": "#2a3f5f"
           }
          },
          "ternary": {
           "aaxis": {
            "gridcolor": "white",
            "linecolor": "white",
            "ticks": ""
           },
           "baxis": {
            "gridcolor": "white",
            "linecolor": "white",
            "ticks": ""
           },
           "bgcolor": "#E5ECF6",
           "caxis": {
            "gridcolor": "white",
            "linecolor": "white",
            "ticks": ""
           }
          },
          "title": {
           "x": 0.05
          },
          "xaxis": {
           "automargin": true,
           "gridcolor": "white",
           "linecolor": "white",
           "ticks": "",
           "title": {
            "standoff": 15
           },
           "zerolinecolor": "white",
           "zerolinewidth": 2
          },
          "yaxis": {
           "automargin": true,
           "gridcolor": "white",
           "linecolor": "white",
           "ticks": "",
           "title": {
            "standoff": 15
           },
           "zerolinecolor": "white",
           "zerolinewidth": 2
          }
         }
        },
        "title": {
         "text": "NUMERICAL FEATURE DISTRIBUTION: rainfall_mm"
        },
        "xaxis": {
         "anchor": "y",
         "domain": [
          0,
          1
         ],
         "matches": "x2",
         "showticklabels": false
        },
        "xaxis2": {
         "anchor": "y2",
         "domain": [
          0,
          1
         ]
        },
        "yaxis": {
         "anchor": "x",
         "domain": [
          0.33499999999999996,
          0.9999999999999999
         ]
        },
        "yaxis2": {
         "anchor": "x2",
         "domain": [
          0,
          0.285
         ]
        }
       }
      }
     },
     "metadata": {},
     "output_type": "display_data"
    },
    {
     "data": {
      "application/vnd.plotly.v1+json": {
       "config": {
        "plotlyServerURL": "https://plot.ly"
       },
       "data": [
        {
         "marker": {
          "color": "lightskyblue"
         },
         "name": "Histogram",
         "nbinsx": 50,
         "type": "histogram",
         "x": [
          77.03,
          61.13,
          68.87,
          70.46,
          55.73,
          83.06,
          47.91,
          80.34,
          76.5,
          41.57,
          76.45,
          44.9,
          76.53,
          51.76,
          77.59,
          89.36,
          53.2,
          41.8,
          86.49,
          83.57,
          61.73,
          82.4,
          61.49,
          51.23,
          78.5,
          75.96,
          67.01,
          63.85,
          66.71,
          90,
          45.73,
          79.13,
          85.98,
          64.38,
          79.65,
          66.79,
          88.71,
          74.32,
          87.38,
          51.67,
          67,
          53.91,
          56.16,
          74.91,
          64.12,
          69,
          75.26,
          88.5,
          51.37,
          48.75,
          71.95,
          42.45,
          44.51,
          51.28,
          56.4,
          77.16,
          58.37,
          78.26,
          51.9,
          72.95,
          69.87,
          87.68,
          76.05,
          71.09,
          44.59,
          70.35,
          52.78,
          61.46,
          77.29,
          72.78,
          43.71,
          43.09,
          71.54,
          46.45,
          87.38,
          71.24,
          62.03,
          48.02,
          56.76,
          54.41,
          73.22,
          45.18,
          55.78,
          56.95,
          61.31,
          41.74,
          76.78,
          74.1,
          64.7,
          74.01,
          46.26,
          78.35,
          47.18,
          60.91,
          57.64,
          54.43,
          75.68,
          63.74,
          76.06,
          76.37,
          87.07,
          80.23,
          66.55,
          42.96,
          89.15,
          82.81,
          40.57,
          77.39,
          81.44,
          73.64,
          88.92,
          51.13,
          40.78,
          55.95,
          79.29,
          52.75,
          56.65,
          55.42,
          47.62,
          49.2,
          70.83,
          52.62,
          48.57,
          72.91,
          43.92,
          73.98,
          53.49,
          85.26,
          49.78,
          59.91,
          54.57,
          41.84,
          67.9,
          62.77,
          56.55,
          80.44,
          80.69,
          74.67,
          74.23,
          81.16,
          80.59,
          87.62,
          62.6,
          81.24,
          87.9,
          43.9,
          77.66,
          69.48,
          79.19,
          40.83,
          86.05,
          55.46,
          84.99,
          51.42,
          68.58,
          71.14,
          50.26,
          69.59,
          46.04,
          73.86,
          72.23,
          64.81,
          60.96,
          78.93,
          82.26,
          41,
          59.78,
          48.89,
          81.08,
          45.07,
          61.57,
          42.73,
          72.09,
          43.05,
          46.31,
          40.62,
          63.65,
          64.58,
          65.76,
          81.18,
          50.72,
          75.64,
          69.69,
          70,
          57.92,
          84.34,
          57.13,
          79.26,
          74.68,
          87.4,
          45.41,
          46.86,
          86.66,
          80.66,
          57.14,
          49.06,
          78.38,
          65.28,
          62.35,
          42.71,
          58.69,
          42.33,
          72.88,
          75.07,
          73.71,
          67.06,
          67.61,
          76.75,
          55.06,
          50.92,
          76.2,
          83.25,
          81.08,
          79.34,
          79.75,
          49.2,
          57.86,
          72.04,
          76.37,
          63.24,
          51.7,
          72.67,
          47.51,
          41.96,
          81.52,
          47.48,
          86.92,
          79.47,
          77.75,
          79.3,
          70.7,
          44.34,
          40.23,
          62.94,
          73.68,
          81.75,
          83.44,
          40.59,
          62.54,
          76.03,
          57.21,
          48.38,
          58.16,
          78.55,
          56.26,
          52.99,
          49.43,
          54.48,
          64.68,
          81.41,
          42.11,
          40.45,
          51.63,
          53.77,
          72.91,
          41.59,
          84.52,
          48.94,
          86.68,
          69.79,
          52.49,
          86.09,
          73.68,
          78.1,
          56.04,
          52.15,
          74.75,
          83.21,
          77.22,
          76.49,
          85.45,
          53.69,
          49.2,
          74.39,
          65.94,
          81.49,
          75.92,
          83.13,
          67.18,
          57.45,
          58.01,
          68.57,
          84.18,
          52.72,
          41.78,
          79.79,
          81.47,
          47.16,
          41.12,
          53.55,
          69.64,
          55.52,
          82.29,
          88.69,
          62.26,
          47.46,
          82.63,
          49.41,
          74.77,
          68.41,
          73.19,
          76.35,
          53.76,
          86.7,
          77.62,
          70.52,
          40.42,
          82.82,
          56.63,
          62.29,
          51.29,
          88.38,
          67.03,
          64.44,
          61.31,
          67.67,
          50.31,
          44.78,
          50.48,
          78.95,
          57.93,
          88.51,
          85.69,
          87.5,
          58.52,
          73.73,
          69.01,
          84.97,
          66.03,
          56.32,
          66.77,
          47.4,
          73.34,
          51.11,
          54.23,
          89.42,
          81.14,
          45.97,
          47.31,
          67.19,
          51.06,
          80.73,
          63.45,
          57.61,
          49.26,
          44.11,
          40.64,
          46.14,
          64.86,
          64.61,
          48.84,
          88.54,
          52.21,
          89.29,
          79.36,
          57.37,
          77.11,
          53.35,
          41.46,
          72.87,
          59.5,
          79.21,
          74.26,
          83.32,
          41.37,
          63.92,
          88.71,
          79.11,
          69.15,
          89.84,
          55.87,
          64.56,
          82.29,
          78.41,
          87.54,
          50.41,
          63.82,
          43.96,
          80.64,
          57.07,
          76.3,
          71.3,
          81.69,
          80.83,
          51.61,
          46.45,
          46.03,
          79.08,
          46.89,
          80.09,
          77.96,
          75.01,
          66.02,
          58.65,
          75.72,
          73.84,
          50.63,
          47.11,
          81.72,
          62.15,
          63.79,
          57,
          49.07,
          53.46,
          50.17,
          74,
          84.2,
          84.76,
          46.24,
          70.3,
          51.4,
          63.33,
          43.14,
          61.93,
          42.61,
          69.76,
          55.56,
          85.43,
          50.97,
          67.73,
          41.05,
          58.91,
          63.53,
          41.83,
          65.61,
          53.82,
          85.62,
          79.3,
          80.52,
          85.69,
          64.43,
          59.45,
          59.96,
          70.89,
          58.44,
          85.86,
          43.88,
          50.09,
          71.34,
          84.27,
          64.11,
          54.83,
          56.56,
          46.28,
          44,
          47.64,
          86.28,
          75.46,
          68.92,
          72.92,
          78.69,
          77.96,
          53.3,
          58.06,
          74.31,
          86.95,
          83.74,
          63.82,
          79.25,
          55.54,
          81.86,
          58.84,
          41.08,
          86.73,
          89.14,
          48.62,
          77.27,
          43.2,
          41.75,
          89.84,
          53.03,
          47.67,
          44.9,
          87.33,
          88.72,
          55.64,
          73.84,
          51.25,
          59.68,
          84.93,
          40.29,
          56.24,
          88.82,
          45.15,
          55.32,
          77.24,
          66.44,
          76.27,
          66.19,
          59.21,
          45.96,
          84.2,
          45.32,
          44.68,
          45.01,
          79.58,
          45.14,
          57.87,
          73.09,
          89.74
         ],
         "xaxis": "x",
         "yaxis": "y"
        },
        {
         "boxpoints": "outliers",
         "marker": {
          "color": "skyblue"
         },
         "name": "Boxplot",
         "orientation": "h",
         "type": "box",
         "x": [
          77.03,
          61.13,
          68.87,
          70.46,
          55.73,
          83.06,
          47.91,
          80.34,
          76.5,
          41.57,
          76.45,
          44.9,
          76.53,
          51.76,
          77.59,
          89.36,
          53.2,
          41.8,
          86.49,
          83.57,
          61.73,
          82.4,
          61.49,
          51.23,
          78.5,
          75.96,
          67.01,
          63.85,
          66.71,
          90,
          45.73,
          79.13,
          85.98,
          64.38,
          79.65,
          66.79,
          88.71,
          74.32,
          87.38,
          51.67,
          67,
          53.91,
          56.16,
          74.91,
          64.12,
          69,
          75.26,
          88.5,
          51.37,
          48.75,
          71.95,
          42.45,
          44.51,
          51.28,
          56.4,
          77.16,
          58.37,
          78.26,
          51.9,
          72.95,
          69.87,
          87.68,
          76.05,
          71.09,
          44.59,
          70.35,
          52.78,
          61.46,
          77.29,
          72.78,
          43.71,
          43.09,
          71.54,
          46.45,
          87.38,
          71.24,
          62.03,
          48.02,
          56.76,
          54.41,
          73.22,
          45.18,
          55.78,
          56.95,
          61.31,
          41.74,
          76.78,
          74.1,
          64.7,
          74.01,
          46.26,
          78.35,
          47.18,
          60.91,
          57.64,
          54.43,
          75.68,
          63.74,
          76.06,
          76.37,
          87.07,
          80.23,
          66.55,
          42.96,
          89.15,
          82.81,
          40.57,
          77.39,
          81.44,
          73.64,
          88.92,
          51.13,
          40.78,
          55.95,
          79.29,
          52.75,
          56.65,
          55.42,
          47.62,
          49.2,
          70.83,
          52.62,
          48.57,
          72.91,
          43.92,
          73.98,
          53.49,
          85.26,
          49.78,
          59.91,
          54.57,
          41.84,
          67.9,
          62.77,
          56.55,
          80.44,
          80.69,
          74.67,
          74.23,
          81.16,
          80.59,
          87.62,
          62.6,
          81.24,
          87.9,
          43.9,
          77.66,
          69.48,
          79.19,
          40.83,
          86.05,
          55.46,
          84.99,
          51.42,
          68.58,
          71.14,
          50.26,
          69.59,
          46.04,
          73.86,
          72.23,
          64.81,
          60.96,
          78.93,
          82.26,
          41,
          59.78,
          48.89,
          81.08,
          45.07,
          61.57,
          42.73,
          72.09,
          43.05,
          46.31,
          40.62,
          63.65,
          64.58,
          65.76,
          81.18,
          50.72,
          75.64,
          69.69,
          70,
          57.92,
          84.34,
          57.13,
          79.26,
          74.68,
          87.4,
          45.41,
          46.86,
          86.66,
          80.66,
          57.14,
          49.06,
          78.38,
          65.28,
          62.35,
          42.71,
          58.69,
          42.33,
          72.88,
          75.07,
          73.71,
          67.06,
          67.61,
          76.75,
          55.06,
          50.92,
          76.2,
          83.25,
          81.08,
          79.34,
          79.75,
          49.2,
          57.86,
          72.04,
          76.37,
          63.24,
          51.7,
          72.67,
          47.51,
          41.96,
          81.52,
          47.48,
          86.92,
          79.47,
          77.75,
          79.3,
          70.7,
          44.34,
          40.23,
          62.94,
          73.68,
          81.75,
          83.44,
          40.59,
          62.54,
          76.03,
          57.21,
          48.38,
          58.16,
          78.55,
          56.26,
          52.99,
          49.43,
          54.48,
          64.68,
          81.41,
          42.11,
          40.45,
          51.63,
          53.77,
          72.91,
          41.59,
          84.52,
          48.94,
          86.68,
          69.79,
          52.49,
          86.09,
          73.68,
          78.1,
          56.04,
          52.15,
          74.75,
          83.21,
          77.22,
          76.49,
          85.45,
          53.69,
          49.2,
          74.39,
          65.94,
          81.49,
          75.92,
          83.13,
          67.18,
          57.45,
          58.01,
          68.57,
          84.18,
          52.72,
          41.78,
          79.79,
          81.47,
          47.16,
          41.12,
          53.55,
          69.64,
          55.52,
          82.29,
          88.69,
          62.26,
          47.46,
          82.63,
          49.41,
          74.77,
          68.41,
          73.19,
          76.35,
          53.76,
          86.7,
          77.62,
          70.52,
          40.42,
          82.82,
          56.63,
          62.29,
          51.29,
          88.38,
          67.03,
          64.44,
          61.31,
          67.67,
          50.31,
          44.78,
          50.48,
          78.95,
          57.93,
          88.51,
          85.69,
          87.5,
          58.52,
          73.73,
          69.01,
          84.97,
          66.03,
          56.32,
          66.77,
          47.4,
          73.34,
          51.11,
          54.23,
          89.42,
          81.14,
          45.97,
          47.31,
          67.19,
          51.06,
          80.73,
          63.45,
          57.61,
          49.26,
          44.11,
          40.64,
          46.14,
          64.86,
          64.61,
          48.84,
          88.54,
          52.21,
          89.29,
          79.36,
          57.37,
          77.11,
          53.35,
          41.46,
          72.87,
          59.5,
          79.21,
          74.26,
          83.32,
          41.37,
          63.92,
          88.71,
          79.11,
          69.15,
          89.84,
          55.87,
          64.56,
          82.29,
          78.41,
          87.54,
          50.41,
          63.82,
          43.96,
          80.64,
          57.07,
          76.3,
          71.3,
          81.69,
          80.83,
          51.61,
          46.45,
          46.03,
          79.08,
          46.89,
          80.09,
          77.96,
          75.01,
          66.02,
          58.65,
          75.72,
          73.84,
          50.63,
          47.11,
          81.72,
          62.15,
          63.79,
          57,
          49.07,
          53.46,
          50.17,
          74,
          84.2,
          84.76,
          46.24,
          70.3,
          51.4,
          63.33,
          43.14,
          61.93,
          42.61,
          69.76,
          55.56,
          85.43,
          50.97,
          67.73,
          41.05,
          58.91,
          63.53,
          41.83,
          65.61,
          53.82,
          85.62,
          79.3,
          80.52,
          85.69,
          64.43,
          59.45,
          59.96,
          70.89,
          58.44,
          85.86,
          43.88,
          50.09,
          71.34,
          84.27,
          64.11,
          54.83,
          56.56,
          46.28,
          44,
          47.64,
          86.28,
          75.46,
          68.92,
          72.92,
          78.69,
          77.96,
          53.3,
          58.06,
          74.31,
          86.95,
          83.74,
          63.82,
          79.25,
          55.54,
          81.86,
          58.84,
          41.08,
          86.73,
          89.14,
          48.62,
          77.27,
          43.2,
          41.75,
          89.84,
          53.03,
          47.67,
          44.9,
          87.33,
          88.72,
          55.64,
          73.84,
          51.25,
          59.68,
          84.93,
          40.29,
          56.24,
          88.82,
          45.15,
          55.32,
          77.24,
          66.44,
          76.27,
          66.19,
          59.21,
          45.96,
          84.2,
          45.32,
          44.68,
          45.01,
          79.58,
          45.14,
          57.87,
          73.09,
          89.74
         ],
         "xaxis": "x2",
         "yaxis": "y2"
        }
       ],
       "layout": {
        "annotations": [
         {
          "font": {
           "size": 16
          },
          "showarrow": false,
          "text": "Histogram of humidity_%",
          "x": 0.5,
          "xanchor": "center",
          "xref": "paper",
          "y": 0.9999999999999999,
          "yanchor": "bottom",
          "yref": "paper"
         },
         {
          "font": {
           "size": 16
          },
          "showarrow": false,
          "text": "Boxplot of humidity_%",
          "x": 0.5,
          "xanchor": "center",
          "xref": "paper",
          "y": 0.285,
          "yanchor": "bottom",
          "yref": "paper"
         }
        ],
        "height": 600,
        "showlegend": false,
        "template": {
         "data": {
          "bar": [
           {
            "error_x": {
             "color": "#2a3f5f"
            },
            "error_y": {
             "color": "#2a3f5f"
            },
            "marker": {
             "line": {
              "color": "#E5ECF6",
              "width": 0.5
             },
             "pattern": {
              "fillmode": "overlay",
              "size": 10,
              "solidity": 0.2
             }
            },
            "type": "bar"
           }
          ],
          "barpolar": [
           {
            "marker": {
             "line": {
              "color": "#E5ECF6",
              "width": 0.5
             },
             "pattern": {
              "fillmode": "overlay",
              "size": 10,
              "solidity": 0.2
             }
            },
            "type": "barpolar"
           }
          ],
          "carpet": [
           {
            "aaxis": {
             "endlinecolor": "#2a3f5f",
             "gridcolor": "white",
             "linecolor": "white",
             "minorgridcolor": "white",
             "startlinecolor": "#2a3f5f"
            },
            "baxis": {
             "endlinecolor": "#2a3f5f",
             "gridcolor": "white",
             "linecolor": "white",
             "minorgridcolor": "white",
             "startlinecolor": "#2a3f5f"
            },
            "type": "carpet"
           }
          ],
          "choropleth": [
           {
            "colorbar": {
             "outlinewidth": 0,
             "ticks": ""
            },
            "type": "choropleth"
           }
          ],
          "contour": [
           {
            "colorbar": {
             "outlinewidth": 0,
             "ticks": ""
            },
            "colorscale": [
             [
              0,
              "#0d0887"
             ],
             [
              0.1111111111111111,
              "#46039f"
             ],
             [
              0.2222222222222222,
              "#7201a8"
             ],
             [
              0.3333333333333333,
              "#9c179e"
             ],
             [
              0.4444444444444444,
              "#bd3786"
             ],
             [
              0.5555555555555556,
              "#d8576b"
             ],
             [
              0.6666666666666666,
              "#ed7953"
             ],
             [
              0.7777777777777778,
              "#fb9f3a"
             ],
             [
              0.8888888888888888,
              "#fdca26"
             ],
             [
              1,
              "#f0f921"
             ]
            ],
            "type": "contour"
           }
          ],
          "contourcarpet": [
           {
            "colorbar": {
             "outlinewidth": 0,
             "ticks": ""
            },
            "type": "contourcarpet"
           }
          ],
          "heatmap": [
           {
            "colorbar": {
             "outlinewidth": 0,
             "ticks": ""
            },
            "colorscale": [
             [
              0,
              "#0d0887"
             ],
             [
              0.1111111111111111,
              "#46039f"
             ],
             [
              0.2222222222222222,
              "#7201a8"
             ],
             [
              0.3333333333333333,
              "#9c179e"
             ],
             [
              0.4444444444444444,
              "#bd3786"
             ],
             [
              0.5555555555555556,
              "#d8576b"
             ],
             [
              0.6666666666666666,
              "#ed7953"
             ],
             [
              0.7777777777777778,
              "#fb9f3a"
             ],
             [
              0.8888888888888888,
              "#fdca26"
             ],
             [
              1,
              "#f0f921"
             ]
            ],
            "type": "heatmap"
           }
          ],
          "heatmapgl": [
           {
            "colorbar": {
             "outlinewidth": 0,
             "ticks": ""
            },
            "colorscale": [
             [
              0,
              "#0d0887"
             ],
             [
              0.1111111111111111,
              "#46039f"
             ],
             [
              0.2222222222222222,
              "#7201a8"
             ],
             [
              0.3333333333333333,
              "#9c179e"
             ],
             [
              0.4444444444444444,
              "#bd3786"
             ],
             [
              0.5555555555555556,
              "#d8576b"
             ],
             [
              0.6666666666666666,
              "#ed7953"
             ],
             [
              0.7777777777777778,
              "#fb9f3a"
             ],
             [
              0.8888888888888888,
              "#fdca26"
             ],
             [
              1,
              "#f0f921"
             ]
            ],
            "type": "heatmapgl"
           }
          ],
          "histogram": [
           {
            "marker": {
             "pattern": {
              "fillmode": "overlay",
              "size": 10,
              "solidity": 0.2
             }
            },
            "type": "histogram"
           }
          ],
          "histogram2d": [
           {
            "colorbar": {
             "outlinewidth": 0,
             "ticks": ""
            },
            "colorscale": [
             [
              0,
              "#0d0887"
             ],
             [
              0.1111111111111111,
              "#46039f"
             ],
             [
              0.2222222222222222,
              "#7201a8"
             ],
             [
              0.3333333333333333,
              "#9c179e"
             ],
             [
              0.4444444444444444,
              "#bd3786"
             ],
             [
              0.5555555555555556,
              "#d8576b"
             ],
             [
              0.6666666666666666,
              "#ed7953"
             ],
             [
              0.7777777777777778,
              "#fb9f3a"
             ],
             [
              0.8888888888888888,
              "#fdca26"
             ],
             [
              1,
              "#f0f921"
             ]
            ],
            "type": "histogram2d"
           }
          ],
          "histogram2dcontour": [
           {
            "colorbar": {
             "outlinewidth": 0,
             "ticks": ""
            },
            "colorscale": [
             [
              0,
              "#0d0887"
             ],
             [
              0.1111111111111111,
              "#46039f"
             ],
             [
              0.2222222222222222,
              "#7201a8"
             ],
             [
              0.3333333333333333,
              "#9c179e"
             ],
             [
              0.4444444444444444,
              "#bd3786"
             ],
             [
              0.5555555555555556,
              "#d8576b"
             ],
             [
              0.6666666666666666,
              "#ed7953"
             ],
             [
              0.7777777777777778,
              "#fb9f3a"
             ],
             [
              0.8888888888888888,
              "#fdca26"
             ],
             [
              1,
              "#f0f921"
             ]
            ],
            "type": "histogram2dcontour"
           }
          ],
          "mesh3d": [
           {
            "colorbar": {
             "outlinewidth": 0,
             "ticks": ""
            },
            "type": "mesh3d"
           }
          ],
          "parcoords": [
           {
            "line": {
             "colorbar": {
              "outlinewidth": 0,
              "ticks": ""
             }
            },
            "type": "parcoords"
           }
          ],
          "pie": [
           {
            "automargin": true,
            "type": "pie"
           }
          ],
          "scatter": [
           {
            "fillpattern": {
             "fillmode": "overlay",
             "size": 10,
             "solidity": 0.2
            },
            "type": "scatter"
           }
          ],
          "scatter3d": [
           {
            "line": {
             "colorbar": {
              "outlinewidth": 0,
              "ticks": ""
             }
            },
            "marker": {
             "colorbar": {
              "outlinewidth": 0,
              "ticks": ""
             }
            },
            "type": "scatter3d"
           }
          ],
          "scattercarpet": [
           {
            "marker": {
             "colorbar": {
              "outlinewidth": 0,
              "ticks": ""
             }
            },
            "type": "scattercarpet"
           }
          ],
          "scattergeo": [
           {
            "marker": {
             "colorbar": {
              "outlinewidth": 0,
              "ticks": ""
             }
            },
            "type": "scattergeo"
           }
          ],
          "scattergl": [
           {
            "marker": {
             "colorbar": {
              "outlinewidth": 0,
              "ticks": ""
             }
            },
            "type": "scattergl"
           }
          ],
          "scattermapbox": [
           {
            "marker": {
             "colorbar": {
              "outlinewidth": 0,
              "ticks": ""
             }
            },
            "type": "scattermapbox"
           }
          ],
          "scatterpolar": [
           {
            "marker": {
             "colorbar": {
              "outlinewidth": 0,
              "ticks": ""
             }
            },
            "type": "scatterpolar"
           }
          ],
          "scatterpolargl": [
           {
            "marker": {
             "colorbar": {
              "outlinewidth": 0,
              "ticks": ""
             }
            },
            "type": "scatterpolargl"
           }
          ],
          "scatterternary": [
           {
            "marker": {
             "colorbar": {
              "outlinewidth": 0,
              "ticks": ""
             }
            },
            "type": "scatterternary"
           }
          ],
          "surface": [
           {
            "colorbar": {
             "outlinewidth": 0,
             "ticks": ""
            },
            "colorscale": [
             [
              0,
              "#0d0887"
             ],
             [
              0.1111111111111111,
              "#46039f"
             ],
             [
              0.2222222222222222,
              "#7201a8"
             ],
             [
              0.3333333333333333,
              "#9c179e"
             ],
             [
              0.4444444444444444,
              "#bd3786"
             ],
             [
              0.5555555555555556,
              "#d8576b"
             ],
             [
              0.6666666666666666,
              "#ed7953"
             ],
             [
              0.7777777777777778,
              "#fb9f3a"
             ],
             [
              0.8888888888888888,
              "#fdca26"
             ],
             [
              1,
              "#f0f921"
             ]
            ],
            "type": "surface"
           }
          ],
          "table": [
           {
            "cells": {
             "fill": {
              "color": "#EBF0F8"
             },
             "line": {
              "color": "white"
             }
            },
            "header": {
             "fill": {
              "color": "#C8D4E3"
             },
             "line": {
              "color": "white"
             }
            },
            "type": "table"
           }
          ]
         },
         "layout": {
          "annotationdefaults": {
           "arrowcolor": "#2a3f5f",
           "arrowhead": 0,
           "arrowwidth": 1
          },
          "autotypenumbers": "strict",
          "coloraxis": {
           "colorbar": {
            "outlinewidth": 0,
            "ticks": ""
           }
          },
          "colorscale": {
           "diverging": [
            [
             0,
             "#8e0152"
            ],
            [
             0.1,
             "#c51b7d"
            ],
            [
             0.2,
             "#de77ae"
            ],
            [
             0.3,
             "#f1b6da"
            ],
            [
             0.4,
             "#fde0ef"
            ],
            [
             0.5,
             "#f7f7f7"
            ],
            [
             0.6,
             "#e6f5d0"
            ],
            [
             0.7,
             "#b8e186"
            ],
            [
             0.8,
             "#7fbc41"
            ],
            [
             0.9,
             "#4d9221"
            ],
            [
             1,
             "#276419"
            ]
           ],
           "sequential": [
            [
             0,
             "#0d0887"
            ],
            [
             0.1111111111111111,
             "#46039f"
            ],
            [
             0.2222222222222222,
             "#7201a8"
            ],
            [
             0.3333333333333333,
             "#9c179e"
            ],
            [
             0.4444444444444444,
             "#bd3786"
            ],
            [
             0.5555555555555556,
             "#d8576b"
            ],
            [
             0.6666666666666666,
             "#ed7953"
            ],
            [
             0.7777777777777778,
             "#fb9f3a"
            ],
            [
             0.8888888888888888,
             "#fdca26"
            ],
            [
             1,
             "#f0f921"
            ]
           ],
           "sequentialminus": [
            [
             0,
             "#0d0887"
            ],
            [
             0.1111111111111111,
             "#46039f"
            ],
            [
             0.2222222222222222,
             "#7201a8"
            ],
            [
             0.3333333333333333,
             "#9c179e"
            ],
            [
             0.4444444444444444,
             "#bd3786"
            ],
            [
             0.5555555555555556,
             "#d8576b"
            ],
            [
             0.6666666666666666,
             "#ed7953"
            ],
            [
             0.7777777777777778,
             "#fb9f3a"
            ],
            [
             0.8888888888888888,
             "#fdca26"
            ],
            [
             1,
             "#f0f921"
            ]
           ]
          },
          "colorway": [
           "#636efa",
           "#EF553B",
           "#00cc96",
           "#ab63fa",
           "#FFA15A",
           "#19d3f3",
           "#FF6692",
           "#B6E880",
           "#FF97FF",
           "#FECB52"
          ],
          "font": {
           "color": "#2a3f5f"
          },
          "geo": {
           "bgcolor": "white",
           "lakecolor": "white",
           "landcolor": "#E5ECF6",
           "showlakes": true,
           "showland": true,
           "subunitcolor": "white"
          },
          "hoverlabel": {
           "align": "left"
          },
          "hovermode": "closest",
          "mapbox": {
           "style": "light"
          },
          "paper_bgcolor": "white",
          "plot_bgcolor": "#E5ECF6",
          "polar": {
           "angularaxis": {
            "gridcolor": "white",
            "linecolor": "white",
            "ticks": ""
           },
           "bgcolor": "#E5ECF6",
           "radialaxis": {
            "gridcolor": "white",
            "linecolor": "white",
            "ticks": ""
           }
          },
          "scene": {
           "xaxis": {
            "backgroundcolor": "#E5ECF6",
            "gridcolor": "white",
            "gridwidth": 2,
            "linecolor": "white",
            "showbackground": true,
            "ticks": "",
            "zerolinecolor": "white"
           },
           "yaxis": {
            "backgroundcolor": "#E5ECF6",
            "gridcolor": "white",
            "gridwidth": 2,
            "linecolor": "white",
            "showbackground": true,
            "ticks": "",
            "zerolinecolor": "white"
           },
           "zaxis": {
            "backgroundcolor": "#E5ECF6",
            "gridcolor": "white",
            "gridwidth": 2,
            "linecolor": "white",
            "showbackground": true,
            "ticks": "",
            "zerolinecolor": "white"
           }
          },
          "shapedefaults": {
           "line": {
            "color": "#2a3f5f"
           }
          },
          "ternary": {
           "aaxis": {
            "gridcolor": "white",
            "linecolor": "white",
            "ticks": ""
           },
           "baxis": {
            "gridcolor": "white",
            "linecolor": "white",
            "ticks": ""
           },
           "bgcolor": "#E5ECF6",
           "caxis": {
            "gridcolor": "white",
            "linecolor": "white",
            "ticks": ""
           }
          },
          "title": {
           "x": 0.05
          },
          "xaxis": {
           "automargin": true,
           "gridcolor": "white",
           "linecolor": "white",
           "ticks": "",
           "title": {
            "standoff": 15
           },
           "zerolinecolor": "white",
           "zerolinewidth": 2
          },
          "yaxis": {
           "automargin": true,
           "gridcolor": "white",
           "linecolor": "white",
           "ticks": "",
           "title": {
            "standoff": 15
           },
           "zerolinecolor": "white",
           "zerolinewidth": 2
          }
         }
        },
        "title": {
         "text": "NUMERICAL FEATURE DISTRIBUTION: humidity_%"
        },
        "xaxis": {
         "anchor": "y",
         "domain": [
          0,
          1
         ],
         "matches": "x2",
         "showticklabels": false
        },
        "xaxis2": {
         "anchor": "y2",
         "domain": [
          0,
          1
         ]
        },
        "yaxis": {
         "anchor": "x",
         "domain": [
          0.33499999999999996,
          0.9999999999999999
         ]
        },
        "yaxis2": {
         "anchor": "x2",
         "domain": [
          0,
          0.285
         ]
        }
       }
      }
     },
     "metadata": {},
     "output_type": "display_data"
    },
    {
     "data": {
      "application/vnd.plotly.v1+json": {
       "config": {
        "plotlyServerURL": "https://plot.ly"
       },
       "data": [
        {
         "marker": {
          "color": "lightskyblue"
         },
         "name": "Histogram",
         "nbinsx": 50,
         "type": "histogram",
         "x": [
          7.27,
          5.67,
          8.23,
          5.03,
          7.93,
          4.92,
          4.02,
          5.44,
          5.21,
          5.98,
          8.04,
          7.91,
          8.7,
          4.72,
          4.44,
          7.92,
          6.93,
          6.22,
          9.19,
          5.34,
          8.37,
          8.32,
          7.48,
          5.19,
          4.64,
          7.03,
          4.83,
          9.66,
          9.44,
          6.1,
          8.92,
          6.08,
          8.65,
          6.13,
          4.56,
          8.57,
          7.32,
          4.91,
          5.25,
          5.59,
          6.63,
          9.98,
          9.82,
          4.73,
          6.83,
          7.96,
          8.87,
          4.45,
          4.54,
          7.66,
          6.55,
          7.64,
          5.77,
          8.06,
          7.66,
          9.68,
          9.41,
          5.24,
          5.94,
          5.81,
          5.77,
          8.12,
          9.81,
          8.05,
          7.18,
          6.49,
          5.97,
          6.43,
          5.33,
          5.06,
          6.77,
          4.62,
          6.01,
          8.25,
          6.92,
          9.42,
          8.62,
          6.7,
          4.88,
          5.81,
          4.51,
          7.49,
          5.86,
          5.12,
          8.14,
          4.4,
          6.99,
          9.07,
          6.17,
          6.07,
          5.82,
          6.5,
          9.17,
          9.78,
          4.3,
          6.32,
          8.82,
          4.1,
          8.65,
          8.23,
          9.89,
          5.74,
          7.83,
          8.61,
          5.71,
          9.38,
          7.92,
          7.63,
          9.42,
          5.85,
          7.88,
          4.02,
          5.24,
          7.59,
          5.91,
          5.98,
          9.74,
          6.16,
          5.98,
          9.34,
          6.9,
          6.13,
          7,
          5.08,
          8.47,
          7.96,
          4.8,
          9.87,
          4.64,
          5.91,
          8.16,
          9.81,
          8.13,
          5.24,
          6.56,
          4.38,
          8.24,
          7.87,
          6.49,
          6.2,
          5.26,
          7.09,
          7.8,
          6.97,
          5.21,
          7.56,
          4.8,
          6.3,
          8.76,
          4.41,
          9.85,
          8.45,
          6.01,
          7.05,
          4.72,
          6.78,
          9.9,
          4.37,
          6.15,
          5.56,
          7.49,
          6.3,
          7.86,
          4.35,
          5.06,
          6.87,
          4.61,
          4.01,
          8.02,
          6.88,
          7.92,
          4.02,
          6.33,
          6.32,
          6.54,
          8.2,
          5.03,
          8.18,
          4.95,
          7.03,
          5.33,
          8.26,
          5.7,
          7.96,
          5.8,
          6.23,
          9.92,
          8.68,
          6.07,
          9.51,
          9.02,
          8.98,
          5.98,
          9.24,
          4.68,
          6.28,
          7.46,
          6.82,
          4.71,
          5.34,
          4.64,
          7.8,
          7.64,
          9.16,
          9.36,
          6.15,
          4.08,
          4.72,
          8.74,
          8.52,
          4.15,
          6.55,
          9.47,
          5.81,
          8.38,
          7.7,
          8.03,
          5.66,
          9.35,
          7.06,
          8.01,
          9.01,
          4.94,
          7.43,
          7.61,
          4.58,
          6.89,
          7.47,
          6.48,
          8.81,
          7.13,
          5.66,
          5.05,
          6.76,
          8.93,
          9.02,
          6.94,
          5.26,
          7.43,
          8.71,
          6.47,
          8.85,
          7.52,
          7.14,
          6.86,
          5.82,
          9.29,
          7.82,
          6.05,
          4.73,
          9.62,
          4.25,
          9.89,
          8.99,
          7.23,
          7.85,
          8.93,
          8.5,
          9.41,
          7.11,
          5.54,
          6.01,
          9.98,
          6.89,
          7.56,
          7.73,
          8.01,
          4.11,
          4.11,
          7.12,
          8.62,
          8.67,
          6.32,
          9.2,
          6.37,
          6.71,
          4.74,
          4.97,
          4.03,
          4.87,
          4.22,
          9.88,
          5.4,
          4.41,
          4.81,
          4.4,
          5.82,
          9.23,
          8.55,
          9.66,
          9.02,
          7.87,
          5.69,
          6.3,
          5.85,
          7.19,
          4.37,
          6.31,
          9.58,
          8.23,
          8.01,
          7.38,
          5.54,
          4.92,
          7.2,
          7.91,
          4.41,
          4.78,
          4.36,
          9.38,
          6.31,
          7.96,
          5.85,
          4.11,
          8.87,
          6.63,
          7.84,
          6.17,
          5.51,
          5.96,
          5.62,
          9.13,
          9.39,
          4.8,
          6.79,
          9.33,
          9.75,
          6.71,
          7.76,
          7.56,
          5.09,
          6.69,
          8.8,
          9.61,
          6.11,
          7.15,
          5.81,
          5.66,
          6.77,
          9.23,
          5.13,
          5.33,
          9.45,
          9.13,
          8.04,
          6.96,
          8.04,
          9.03,
          7.77,
          6.8,
          7.96,
          7.7,
          5.41,
          6.27,
          9.04,
          4.46,
          6.8,
          5.72,
          8.74,
          4.54,
          8.49,
          4.87,
          7.21,
          8.94,
          4.31,
          8.41,
          5.19,
          5.73,
          7.88,
          9.64,
          7.18,
          9.7,
          9.2,
          8.06,
          5.95,
          6.33,
          7.38,
          8.81,
          6.13,
          9.51,
          5.82,
          8.74,
          4.31,
          6.93,
          5.32,
          5.2,
          5.34,
          7.66,
          9.09,
          6.48,
          7.96,
          6.68,
          7.24,
          7.76,
          7.12,
          6.42,
          6.84,
          7.54,
          9,
          5.66,
          9.38,
          5.08,
          8.28,
          5.91,
          9.81,
          10,
          9.67,
          8.22,
          6.22,
          4.04,
          7.14,
          6.17,
          7.75,
          4.57,
          9.1,
          4.41,
          9.31,
          8.71,
          4.02,
          4.85,
          8.06,
          6.25,
          7.98,
          5.32,
          6.02,
          5.37,
          4.05,
          8.55,
          9.01,
          7.44,
          5.12,
          9.42,
          8.85,
          6.59,
          8.53,
          5.96,
          8.58,
          5.5,
          7.75,
          6.47,
          6.01,
          4.91,
          5.45,
          5.04,
          9.84,
          8.36,
          9.64,
          7.81,
          7.98,
          6.3,
          6.51,
          5.56,
          9.73,
          6.39,
          9.22,
          9.65,
          5.01,
          9.39,
          9.8,
          7.54,
          7,
          9.89,
          6.35,
          5.82,
          8.08,
          8.47,
          8.77,
          9.02,
          9.88,
          7.64,
          7.9,
          9.95,
          9.88,
          6.34,
          8.25,
          4.54,
          7.19,
          4.45,
          9.54,
          6.46,
          9.3,
          8.59,
          8.42,
          8.38,
          7.8,
          5.27,
          6.23,
          9.94,
          9.71,
          8.68,
          5.34,
          5.58,
          8.47,
          5.09,
          7.16,
          7.25,
          5.78,
          7.69,
          9.6,
          5.09
         ],
         "xaxis": "x",
         "yaxis": "y"
        },
        {
         "boxpoints": "outliers",
         "marker": {
          "color": "skyblue"
         },
         "name": "Boxplot",
         "orientation": "h",
         "type": "box",
         "x": [
          7.27,
          5.67,
          8.23,
          5.03,
          7.93,
          4.92,
          4.02,
          5.44,
          5.21,
          5.98,
          8.04,
          7.91,
          8.7,
          4.72,
          4.44,
          7.92,
          6.93,
          6.22,
          9.19,
          5.34,
          8.37,
          8.32,
          7.48,
          5.19,
          4.64,
          7.03,
          4.83,
          9.66,
          9.44,
          6.1,
          8.92,
          6.08,
          8.65,
          6.13,
          4.56,
          8.57,
          7.32,
          4.91,
          5.25,
          5.59,
          6.63,
          9.98,
          9.82,
          4.73,
          6.83,
          7.96,
          8.87,
          4.45,
          4.54,
          7.66,
          6.55,
          7.64,
          5.77,
          8.06,
          7.66,
          9.68,
          9.41,
          5.24,
          5.94,
          5.81,
          5.77,
          8.12,
          9.81,
          8.05,
          7.18,
          6.49,
          5.97,
          6.43,
          5.33,
          5.06,
          6.77,
          4.62,
          6.01,
          8.25,
          6.92,
          9.42,
          8.62,
          6.7,
          4.88,
          5.81,
          4.51,
          7.49,
          5.86,
          5.12,
          8.14,
          4.4,
          6.99,
          9.07,
          6.17,
          6.07,
          5.82,
          6.5,
          9.17,
          9.78,
          4.3,
          6.32,
          8.82,
          4.1,
          8.65,
          8.23,
          9.89,
          5.74,
          7.83,
          8.61,
          5.71,
          9.38,
          7.92,
          7.63,
          9.42,
          5.85,
          7.88,
          4.02,
          5.24,
          7.59,
          5.91,
          5.98,
          9.74,
          6.16,
          5.98,
          9.34,
          6.9,
          6.13,
          7,
          5.08,
          8.47,
          7.96,
          4.8,
          9.87,
          4.64,
          5.91,
          8.16,
          9.81,
          8.13,
          5.24,
          6.56,
          4.38,
          8.24,
          7.87,
          6.49,
          6.2,
          5.26,
          7.09,
          7.8,
          6.97,
          5.21,
          7.56,
          4.8,
          6.3,
          8.76,
          4.41,
          9.85,
          8.45,
          6.01,
          7.05,
          4.72,
          6.78,
          9.9,
          4.37,
          6.15,
          5.56,
          7.49,
          6.3,
          7.86,
          4.35,
          5.06,
          6.87,
          4.61,
          4.01,
          8.02,
          6.88,
          7.92,
          4.02,
          6.33,
          6.32,
          6.54,
          8.2,
          5.03,
          8.18,
          4.95,
          7.03,
          5.33,
          8.26,
          5.7,
          7.96,
          5.8,
          6.23,
          9.92,
          8.68,
          6.07,
          9.51,
          9.02,
          8.98,
          5.98,
          9.24,
          4.68,
          6.28,
          7.46,
          6.82,
          4.71,
          5.34,
          4.64,
          7.8,
          7.64,
          9.16,
          9.36,
          6.15,
          4.08,
          4.72,
          8.74,
          8.52,
          4.15,
          6.55,
          9.47,
          5.81,
          8.38,
          7.7,
          8.03,
          5.66,
          9.35,
          7.06,
          8.01,
          9.01,
          4.94,
          7.43,
          7.61,
          4.58,
          6.89,
          7.47,
          6.48,
          8.81,
          7.13,
          5.66,
          5.05,
          6.76,
          8.93,
          9.02,
          6.94,
          5.26,
          7.43,
          8.71,
          6.47,
          8.85,
          7.52,
          7.14,
          6.86,
          5.82,
          9.29,
          7.82,
          6.05,
          4.73,
          9.62,
          4.25,
          9.89,
          8.99,
          7.23,
          7.85,
          8.93,
          8.5,
          9.41,
          7.11,
          5.54,
          6.01,
          9.98,
          6.89,
          7.56,
          7.73,
          8.01,
          4.11,
          4.11,
          7.12,
          8.62,
          8.67,
          6.32,
          9.2,
          6.37,
          6.71,
          4.74,
          4.97,
          4.03,
          4.87,
          4.22,
          9.88,
          5.4,
          4.41,
          4.81,
          4.4,
          5.82,
          9.23,
          8.55,
          9.66,
          9.02,
          7.87,
          5.69,
          6.3,
          5.85,
          7.19,
          4.37,
          6.31,
          9.58,
          8.23,
          8.01,
          7.38,
          5.54,
          4.92,
          7.2,
          7.91,
          4.41,
          4.78,
          4.36,
          9.38,
          6.31,
          7.96,
          5.85,
          4.11,
          8.87,
          6.63,
          7.84,
          6.17,
          5.51,
          5.96,
          5.62,
          9.13,
          9.39,
          4.8,
          6.79,
          9.33,
          9.75,
          6.71,
          7.76,
          7.56,
          5.09,
          6.69,
          8.8,
          9.61,
          6.11,
          7.15,
          5.81,
          5.66,
          6.77,
          9.23,
          5.13,
          5.33,
          9.45,
          9.13,
          8.04,
          6.96,
          8.04,
          9.03,
          7.77,
          6.8,
          7.96,
          7.7,
          5.41,
          6.27,
          9.04,
          4.46,
          6.8,
          5.72,
          8.74,
          4.54,
          8.49,
          4.87,
          7.21,
          8.94,
          4.31,
          8.41,
          5.19,
          5.73,
          7.88,
          9.64,
          7.18,
          9.7,
          9.2,
          8.06,
          5.95,
          6.33,
          7.38,
          8.81,
          6.13,
          9.51,
          5.82,
          8.74,
          4.31,
          6.93,
          5.32,
          5.2,
          5.34,
          7.66,
          9.09,
          6.48,
          7.96,
          6.68,
          7.24,
          7.76,
          7.12,
          6.42,
          6.84,
          7.54,
          9,
          5.66,
          9.38,
          5.08,
          8.28,
          5.91,
          9.81,
          10,
          9.67,
          8.22,
          6.22,
          4.04,
          7.14,
          6.17,
          7.75,
          4.57,
          9.1,
          4.41,
          9.31,
          8.71,
          4.02,
          4.85,
          8.06,
          6.25,
          7.98,
          5.32,
          6.02,
          5.37,
          4.05,
          8.55,
          9.01,
          7.44,
          5.12,
          9.42,
          8.85,
          6.59,
          8.53,
          5.96,
          8.58,
          5.5,
          7.75,
          6.47,
          6.01,
          4.91,
          5.45,
          5.04,
          9.84,
          8.36,
          9.64,
          7.81,
          7.98,
          6.3,
          6.51,
          5.56,
          9.73,
          6.39,
          9.22,
          9.65,
          5.01,
          9.39,
          9.8,
          7.54,
          7,
          9.89,
          6.35,
          5.82,
          8.08,
          8.47,
          8.77,
          9.02,
          9.88,
          7.64,
          7.9,
          9.95,
          9.88,
          6.34,
          8.25,
          4.54,
          7.19,
          4.45,
          9.54,
          6.46,
          9.3,
          8.59,
          8.42,
          8.38,
          7.8,
          5.27,
          6.23,
          9.94,
          9.71,
          8.68,
          5.34,
          5.58,
          8.47,
          5.09,
          7.16,
          7.25,
          5.78,
          7.69,
          9.6,
          5.09
         ],
         "xaxis": "x2",
         "yaxis": "y2"
        }
       ],
       "layout": {
        "annotations": [
         {
          "font": {
           "size": 16
          },
          "showarrow": false,
          "text": "Histogram of sunlight_hours",
          "x": 0.5,
          "xanchor": "center",
          "xref": "paper",
          "y": 0.9999999999999999,
          "yanchor": "bottom",
          "yref": "paper"
         },
         {
          "font": {
           "size": 16
          },
          "showarrow": false,
          "text": "Boxplot of sunlight_hours",
          "x": 0.5,
          "xanchor": "center",
          "xref": "paper",
          "y": 0.285,
          "yanchor": "bottom",
          "yref": "paper"
         }
        ],
        "height": 600,
        "showlegend": false,
        "template": {
         "data": {
          "bar": [
           {
            "error_x": {
             "color": "#2a3f5f"
            },
            "error_y": {
             "color": "#2a3f5f"
            },
            "marker": {
             "line": {
              "color": "#E5ECF6",
              "width": 0.5
             },
             "pattern": {
              "fillmode": "overlay",
              "size": 10,
              "solidity": 0.2
             }
            },
            "type": "bar"
           }
          ],
          "barpolar": [
           {
            "marker": {
             "line": {
              "color": "#E5ECF6",
              "width": 0.5
             },
             "pattern": {
              "fillmode": "overlay",
              "size": 10,
              "solidity": 0.2
             }
            },
            "type": "barpolar"
           }
          ],
          "carpet": [
           {
            "aaxis": {
             "endlinecolor": "#2a3f5f",
             "gridcolor": "white",
             "linecolor": "white",
             "minorgridcolor": "white",
             "startlinecolor": "#2a3f5f"
            },
            "baxis": {
             "endlinecolor": "#2a3f5f",
             "gridcolor": "white",
             "linecolor": "white",
             "minorgridcolor": "white",
             "startlinecolor": "#2a3f5f"
            },
            "type": "carpet"
           }
          ],
          "choropleth": [
           {
            "colorbar": {
             "outlinewidth": 0,
             "ticks": ""
            },
            "type": "choropleth"
           }
          ],
          "contour": [
           {
            "colorbar": {
             "outlinewidth": 0,
             "ticks": ""
            },
            "colorscale": [
             [
              0,
              "#0d0887"
             ],
             [
              0.1111111111111111,
              "#46039f"
             ],
             [
              0.2222222222222222,
              "#7201a8"
             ],
             [
              0.3333333333333333,
              "#9c179e"
             ],
             [
              0.4444444444444444,
              "#bd3786"
             ],
             [
              0.5555555555555556,
              "#d8576b"
             ],
             [
              0.6666666666666666,
              "#ed7953"
             ],
             [
              0.7777777777777778,
              "#fb9f3a"
             ],
             [
              0.8888888888888888,
              "#fdca26"
             ],
             [
              1,
              "#f0f921"
             ]
            ],
            "type": "contour"
           }
          ],
          "contourcarpet": [
           {
            "colorbar": {
             "outlinewidth": 0,
             "ticks": ""
            },
            "type": "contourcarpet"
           }
          ],
          "heatmap": [
           {
            "colorbar": {
             "outlinewidth": 0,
             "ticks": ""
            },
            "colorscale": [
             [
              0,
              "#0d0887"
             ],
             [
              0.1111111111111111,
              "#46039f"
             ],
             [
              0.2222222222222222,
              "#7201a8"
             ],
             [
              0.3333333333333333,
              "#9c179e"
             ],
             [
              0.4444444444444444,
              "#bd3786"
             ],
             [
              0.5555555555555556,
              "#d8576b"
             ],
             [
              0.6666666666666666,
              "#ed7953"
             ],
             [
              0.7777777777777778,
              "#fb9f3a"
             ],
             [
              0.8888888888888888,
              "#fdca26"
             ],
             [
              1,
              "#f0f921"
             ]
            ],
            "type": "heatmap"
           }
          ],
          "heatmapgl": [
           {
            "colorbar": {
             "outlinewidth": 0,
             "ticks": ""
            },
            "colorscale": [
             [
              0,
              "#0d0887"
             ],
             [
              0.1111111111111111,
              "#46039f"
             ],
             [
              0.2222222222222222,
              "#7201a8"
             ],
             [
              0.3333333333333333,
              "#9c179e"
             ],
             [
              0.4444444444444444,
              "#bd3786"
             ],
             [
              0.5555555555555556,
              "#d8576b"
             ],
             [
              0.6666666666666666,
              "#ed7953"
             ],
             [
              0.7777777777777778,
              "#fb9f3a"
             ],
             [
              0.8888888888888888,
              "#fdca26"
             ],
             [
              1,
              "#f0f921"
             ]
            ],
            "type": "heatmapgl"
           }
          ],
          "histogram": [
           {
            "marker": {
             "pattern": {
              "fillmode": "overlay",
              "size": 10,
              "solidity": 0.2
             }
            },
            "type": "histogram"
           }
          ],
          "histogram2d": [
           {
            "colorbar": {
             "outlinewidth": 0,
             "ticks": ""
            },
            "colorscale": [
             [
              0,
              "#0d0887"
             ],
             [
              0.1111111111111111,
              "#46039f"
             ],
             [
              0.2222222222222222,
              "#7201a8"
             ],
             [
              0.3333333333333333,
              "#9c179e"
             ],
             [
              0.4444444444444444,
              "#bd3786"
             ],
             [
              0.5555555555555556,
              "#d8576b"
             ],
             [
              0.6666666666666666,
              "#ed7953"
             ],
             [
              0.7777777777777778,
              "#fb9f3a"
             ],
             [
              0.8888888888888888,
              "#fdca26"
             ],
             [
              1,
              "#f0f921"
             ]
            ],
            "type": "histogram2d"
           }
          ],
          "histogram2dcontour": [
           {
            "colorbar": {
             "outlinewidth": 0,
             "ticks": ""
            },
            "colorscale": [
             [
              0,
              "#0d0887"
             ],
             [
              0.1111111111111111,
              "#46039f"
             ],
             [
              0.2222222222222222,
              "#7201a8"
             ],
             [
              0.3333333333333333,
              "#9c179e"
             ],
             [
              0.4444444444444444,
              "#bd3786"
             ],
             [
              0.5555555555555556,
              "#d8576b"
             ],
             [
              0.6666666666666666,
              "#ed7953"
             ],
             [
              0.7777777777777778,
              "#fb9f3a"
             ],
             [
              0.8888888888888888,
              "#fdca26"
             ],
             [
              1,
              "#f0f921"
             ]
            ],
            "type": "histogram2dcontour"
           }
          ],
          "mesh3d": [
           {
            "colorbar": {
             "outlinewidth": 0,
             "ticks": ""
            },
            "type": "mesh3d"
           }
          ],
          "parcoords": [
           {
            "line": {
             "colorbar": {
              "outlinewidth": 0,
              "ticks": ""
             }
            },
            "type": "parcoords"
           }
          ],
          "pie": [
           {
            "automargin": true,
            "type": "pie"
           }
          ],
          "scatter": [
           {
            "fillpattern": {
             "fillmode": "overlay",
             "size": 10,
             "solidity": 0.2
            },
            "type": "scatter"
           }
          ],
          "scatter3d": [
           {
            "line": {
             "colorbar": {
              "outlinewidth": 0,
              "ticks": ""
             }
            },
            "marker": {
             "colorbar": {
              "outlinewidth": 0,
              "ticks": ""
             }
            },
            "type": "scatter3d"
           }
          ],
          "scattercarpet": [
           {
            "marker": {
             "colorbar": {
              "outlinewidth": 0,
              "ticks": ""
             }
            },
            "type": "scattercarpet"
           }
          ],
          "scattergeo": [
           {
            "marker": {
             "colorbar": {
              "outlinewidth": 0,
              "ticks": ""
             }
            },
            "type": "scattergeo"
           }
          ],
          "scattergl": [
           {
            "marker": {
             "colorbar": {
              "outlinewidth": 0,
              "ticks": ""
             }
            },
            "type": "scattergl"
           }
          ],
          "scattermapbox": [
           {
            "marker": {
             "colorbar": {
              "outlinewidth": 0,
              "ticks": ""
             }
            },
            "type": "scattermapbox"
           }
          ],
          "scatterpolar": [
           {
            "marker": {
             "colorbar": {
              "outlinewidth": 0,
              "ticks": ""
             }
            },
            "type": "scatterpolar"
           }
          ],
          "scatterpolargl": [
           {
            "marker": {
             "colorbar": {
              "outlinewidth": 0,
              "ticks": ""
             }
            },
            "type": "scatterpolargl"
           }
          ],
          "scatterternary": [
           {
            "marker": {
             "colorbar": {
              "outlinewidth": 0,
              "ticks": ""
             }
            },
            "type": "scatterternary"
           }
          ],
          "surface": [
           {
            "colorbar": {
             "outlinewidth": 0,
             "ticks": ""
            },
            "colorscale": [
             [
              0,
              "#0d0887"
             ],
             [
              0.1111111111111111,
              "#46039f"
             ],
             [
              0.2222222222222222,
              "#7201a8"
             ],
             [
              0.3333333333333333,
              "#9c179e"
             ],
             [
              0.4444444444444444,
              "#bd3786"
             ],
             [
              0.5555555555555556,
              "#d8576b"
             ],
             [
              0.6666666666666666,
              "#ed7953"
             ],
             [
              0.7777777777777778,
              "#fb9f3a"
             ],
             [
              0.8888888888888888,
              "#fdca26"
             ],
             [
              1,
              "#f0f921"
             ]
            ],
            "type": "surface"
           }
          ],
          "table": [
           {
            "cells": {
             "fill": {
              "color": "#EBF0F8"
             },
             "line": {
              "color": "white"
             }
            },
            "header": {
             "fill": {
              "color": "#C8D4E3"
             },
             "line": {
              "color": "white"
             }
            },
            "type": "table"
           }
          ]
         },
         "layout": {
          "annotationdefaults": {
           "arrowcolor": "#2a3f5f",
           "arrowhead": 0,
           "arrowwidth": 1
          },
          "autotypenumbers": "strict",
          "coloraxis": {
           "colorbar": {
            "outlinewidth": 0,
            "ticks": ""
           }
          },
          "colorscale": {
           "diverging": [
            [
             0,
             "#8e0152"
            ],
            [
             0.1,
             "#c51b7d"
            ],
            [
             0.2,
             "#de77ae"
            ],
            [
             0.3,
             "#f1b6da"
            ],
            [
             0.4,
             "#fde0ef"
            ],
            [
             0.5,
             "#f7f7f7"
            ],
            [
             0.6,
             "#e6f5d0"
            ],
            [
             0.7,
             "#b8e186"
            ],
            [
             0.8,
             "#7fbc41"
            ],
            [
             0.9,
             "#4d9221"
            ],
            [
             1,
             "#276419"
            ]
           ],
           "sequential": [
            [
             0,
             "#0d0887"
            ],
            [
             0.1111111111111111,
             "#46039f"
            ],
            [
             0.2222222222222222,
             "#7201a8"
            ],
            [
             0.3333333333333333,
             "#9c179e"
            ],
            [
             0.4444444444444444,
             "#bd3786"
            ],
            [
             0.5555555555555556,
             "#d8576b"
            ],
            [
             0.6666666666666666,
             "#ed7953"
            ],
            [
             0.7777777777777778,
             "#fb9f3a"
            ],
            [
             0.8888888888888888,
             "#fdca26"
            ],
            [
             1,
             "#f0f921"
            ]
           ],
           "sequentialminus": [
            [
             0,
             "#0d0887"
            ],
            [
             0.1111111111111111,
             "#46039f"
            ],
            [
             0.2222222222222222,
             "#7201a8"
            ],
            [
             0.3333333333333333,
             "#9c179e"
            ],
            [
             0.4444444444444444,
             "#bd3786"
            ],
            [
             0.5555555555555556,
             "#d8576b"
            ],
            [
             0.6666666666666666,
             "#ed7953"
            ],
            [
             0.7777777777777778,
             "#fb9f3a"
            ],
            [
             0.8888888888888888,
             "#fdca26"
            ],
            [
             1,
             "#f0f921"
            ]
           ]
          },
          "colorway": [
           "#636efa",
           "#EF553B",
           "#00cc96",
           "#ab63fa",
           "#FFA15A",
           "#19d3f3",
           "#FF6692",
           "#B6E880",
           "#FF97FF",
           "#FECB52"
          ],
          "font": {
           "color": "#2a3f5f"
          },
          "geo": {
           "bgcolor": "white",
           "lakecolor": "white",
           "landcolor": "#E5ECF6",
           "showlakes": true,
           "showland": true,
           "subunitcolor": "white"
          },
          "hoverlabel": {
           "align": "left"
          },
          "hovermode": "closest",
          "mapbox": {
           "style": "light"
          },
          "paper_bgcolor": "white",
          "plot_bgcolor": "#E5ECF6",
          "polar": {
           "angularaxis": {
            "gridcolor": "white",
            "linecolor": "white",
            "ticks": ""
           },
           "bgcolor": "#E5ECF6",
           "radialaxis": {
            "gridcolor": "white",
            "linecolor": "white",
            "ticks": ""
           }
          },
          "scene": {
           "xaxis": {
            "backgroundcolor": "#E5ECF6",
            "gridcolor": "white",
            "gridwidth": 2,
            "linecolor": "white",
            "showbackground": true,
            "ticks": "",
            "zerolinecolor": "white"
           },
           "yaxis": {
            "backgroundcolor": "#E5ECF6",
            "gridcolor": "white",
            "gridwidth": 2,
            "linecolor": "white",
            "showbackground": true,
            "ticks": "",
            "zerolinecolor": "white"
           },
           "zaxis": {
            "backgroundcolor": "#E5ECF6",
            "gridcolor": "white",
            "gridwidth": 2,
            "linecolor": "white",
            "showbackground": true,
            "ticks": "",
            "zerolinecolor": "white"
           }
          },
          "shapedefaults": {
           "line": {
            "color": "#2a3f5f"
           }
          },
          "ternary": {
           "aaxis": {
            "gridcolor": "white",
            "linecolor": "white",
            "ticks": ""
           },
           "baxis": {
            "gridcolor": "white",
            "linecolor": "white",
            "ticks": ""
           },
           "bgcolor": "#E5ECF6",
           "caxis": {
            "gridcolor": "white",
            "linecolor": "white",
            "ticks": ""
           }
          },
          "title": {
           "x": 0.05
          },
          "xaxis": {
           "automargin": true,
           "gridcolor": "white",
           "linecolor": "white",
           "ticks": "",
           "title": {
            "standoff": 15
           },
           "zerolinecolor": "white",
           "zerolinewidth": 2
          },
          "yaxis": {
           "automargin": true,
           "gridcolor": "white",
           "linecolor": "white",
           "ticks": "",
           "title": {
            "standoff": 15
           },
           "zerolinecolor": "white",
           "zerolinewidth": 2
          }
         }
        },
        "title": {
         "text": "NUMERICAL FEATURE DISTRIBUTION: sunlight_hours"
        },
        "xaxis": {
         "anchor": "y",
         "domain": [
          0,
          1
         ],
         "matches": "x2",
         "showticklabels": false
        },
        "xaxis2": {
         "anchor": "y2",
         "domain": [
          0,
          1
         ]
        },
        "yaxis": {
         "anchor": "x",
         "domain": [
          0.33499999999999996,
          0.9999999999999999
         ]
        },
        "yaxis2": {
         "anchor": "x2",
         "domain": [
          0,
          0.285
         ]
        }
       }
      }
     },
     "metadata": {},
     "output_type": "display_data"
    },
    {
     "data": {
      "application/vnd.plotly.v1+json": {
       "config": {
        "plotlyServerURL": "https://plot.ly"
       },
       "data": [
        {
         "marker": {
          "color": "lightskyblue"
         },
         "name": "Histogram",
         "nbinsx": 50,
         "type": "histogram",
         "x": [
          6.34,
          9.6,
          15.26,
          25.8,
          25.65,
          24,
          39.29,
          47.61,
          49.78,
          35.1,
          23.12,
          46.69,
          13.55,
          31.75,
          49.93,
          41.77,
          33.54,
          10.74,
          6.12,
          19.77,
          32.28,
          18.92,
          24.88,
          16.02,
          12.91,
          38.46,
          36.23,
          43.41,
          33.92,
          6.81,
          31.04,
          21.68,
          42.16,
          17.58,
          36.13,
          14.74,
          44.08,
          49.73,
          34.72,
          10.16,
          38.05,
          41.64,
          42.12,
          12.13,
          11.51,
          29.24,
          40.66,
          33.05,
          36.68,
          35.74,
          43.04,
          39.91,
          14.04,
          21.46,
          42.07,
          38.4,
          22.92,
          19.79,
          7.36,
          49.94,
          40.69,
          9.11,
          9.66,
          46.81,
          25.41,
          10.12,
          38.62,
          10.18,
          27.97,
          38.95,
          21.59,
          8.79,
          30.11,
          30.15,
          11.97,
          23.49,
          28.74,
          9.13,
          46.28,
          23.89,
          47.9,
          7,
          26.3,
          46.59,
          6.91,
          22.23,
          10.3,
          20.63,
          41.16,
          24.47,
          33.84,
          45,
          49.46,
          47.02,
          44.71,
          17.59,
          32.28,
          9.93,
          41.97,
          19.63,
          14.33,
          8.56,
          23.6,
          38.24,
          43.3,
          19.76,
          35.05,
          29.72,
          29.15,
          16.45,
          49.68,
          25.84,
          6.51,
          18.58,
          11.71,
          43.12,
          47.17,
          9.44,
          42.5,
          6.52,
          5.3,
          21.79,
          40.3,
          48.27,
          9.4,
          18.29,
          25.2,
          22.13,
          47.7,
          40.19,
          27.47,
          39.6,
          21.84,
          26.43,
          40.9,
          13.41,
          31.56,
          12.51,
          12.53,
          24.86,
          32.46,
          48.32,
          28.2,
          20.2,
          18.58,
          5.36,
          28.87,
          40.6,
          22.36,
          6.79,
          19.7,
          5.57,
          28.57,
          16,
          15.04,
          37.96,
          48.25,
          18.13,
          18.87,
          47.84,
          5.98,
          20.93,
          49.73,
          21.08,
          36.39,
          14.07,
          11.14,
          6.46,
          5.51,
          25.31,
          7.41,
          42.08,
          21.62,
          35.92,
          49.88,
          23.65,
          32.82,
          11.05,
          27.81,
          6.38,
          14.3,
          45.3,
          7.87,
          6.15,
          44.44,
          43.3,
          19.24,
          24.52,
          22.26,
          15.28,
          10.21,
          37.34,
          35.22,
          41.07,
          17.23,
          6.3,
          44.29,
          8.37,
          34.4,
          30.21,
          11.32,
          25.58,
          44.66,
          14.44,
          41.37,
          32.72,
          32.93,
          17.56,
          40.28,
          42.07,
          41.13,
          29.2,
          25.3,
          39.44,
          29.91,
          10.16,
          17.83,
          35.58,
          31.05,
          27.6,
          26.14,
          48.77,
          15.37,
          16.62,
          34.68,
          31.99,
          31.51,
          5.32,
          21.66,
          22.51,
          33.81,
          35.13,
          8.26,
          10.23,
          46.91,
          40.05,
          14.99,
          21.27,
          37.44,
          30.3,
          48.34,
          33.41,
          12.53,
          16.81,
          25.02,
          41.69,
          16.25,
          36.52,
          49.91,
          39.71,
          26.66,
          31.83,
          37.99,
          28.9,
          28.58,
          27.05,
          16.96,
          9.75,
          23.56,
          18.52,
          30.67,
          46.86,
          30.89,
          22.79,
          12.62,
          5.62,
          45.77,
          49.09,
          33.14,
          15.82,
          8.05,
          13.31,
          12.37,
          23.22,
          22.43,
          40.04,
          25.22,
          39.61,
          14.76,
          31.01,
          21.59,
          37.58,
          5.07,
          29.75,
          25.73,
          42.83,
          10.05,
          37.61,
          14.02,
          16.02,
          21,
          15.43,
          30.86,
          41.63,
          31.92,
          31.01,
          36.65,
          11.94,
          27.92,
          26.67,
          7.37,
          26.29,
          12.86,
          39.67,
          36.75,
          17.16,
          28.64,
          36.3,
          24.83,
          33.82,
          30.53,
          22.55,
          6.67,
          36.56,
          10.44,
          9.5,
          15.77,
          39.66,
          9.7,
          38.2,
          6.44,
          43.56,
          6.8,
          34.14,
          8.18,
          21.45,
          39.24,
          47.54,
          48.63,
          18.68,
          36.18,
          18.57,
          36.01,
          6.01,
          8.94,
          46.99,
          30.17,
          38.55,
          12.35,
          35.84,
          25.72,
          15.2,
          18.57,
          30.66,
          42.56,
          25.56,
          24.71,
          39.42,
          9.48,
          27.41,
          12.39,
          19.42,
          8.82,
          30.76,
          16.93,
          41.19,
          37.7,
          35.91,
          29.78,
          10.04,
          14.81,
          21.55,
          22.48,
          38.16,
          24.95,
          35.94,
          23.05,
          10.86,
          26.1,
          16.41,
          10.26,
          13.5,
          9.21,
          17.79,
          43.85,
          34.12,
          39.04,
          49.29,
          5.73,
          13.33,
          35.32,
          18.54,
          33.37,
          5.86,
          43.41,
          40.71,
          40.32,
          6.89,
          39.61,
          47.83,
          7.6,
          33.1,
          28.03,
          7.15,
          19.75,
          31.29,
          21.62,
          45.01,
          27.71,
          36.82,
          47.13,
          19.28,
          9.44,
          26.79,
          49.34,
          42.83,
          25.37,
          8.65,
          5.42,
          44.15,
          43.15,
          15.1,
          24.44,
          10.62,
          32.78,
          10.67,
          26.13,
          35.05,
          15.36,
          33.41,
          40.43,
          16,
          27.89,
          43.84,
          24.46,
          21.21,
          42,
          40.64,
          23.86,
          14.19,
          17.77,
          44.17,
          44.57,
          13.25,
          25.29,
          25.76,
          24.83,
          9.11,
          10.44,
          37.06,
          28,
          6.71,
          49.48,
          27.83,
          12.55,
          25.86,
          27.03,
          7.6,
          10.25,
          23.52,
          17.98,
          33.21,
          14.5,
          44.29,
          13.46,
          43.57,
          26.7,
          11.11,
          15.06,
          49.09,
          32.07,
          42.25,
          26.3,
          11.19,
          9.32,
          43.92,
          26.79,
          48.46,
          48.48,
          9.46,
          25.52,
          6.17,
          47.83,
          35.5,
          32.39,
          37.85,
          5.63,
          20.9,
          45.16,
          12,
          13.53,
          37.67,
          18.03,
          49.66,
          20.13,
          45.88,
          31.29,
          37.43,
          31.96,
          17.22,
          6.76,
          45.43,
          16.58,
          13.5,
          9.49,
          8.82,
          5.05,
          46.55,
          43.78,
          19.37
         ],
         "xaxis": "x",
         "yaxis": "y"
        },
        {
         "boxpoints": "outliers",
         "marker": {
          "color": "skyblue"
         },
         "name": "Boxplot",
         "orientation": "h",
         "type": "box",
         "x": [
          6.34,
          9.6,
          15.26,
          25.8,
          25.65,
          24,
          39.29,
          47.61,
          49.78,
          35.1,
          23.12,
          46.69,
          13.55,
          31.75,
          49.93,
          41.77,
          33.54,
          10.74,
          6.12,
          19.77,
          32.28,
          18.92,
          24.88,
          16.02,
          12.91,
          38.46,
          36.23,
          43.41,
          33.92,
          6.81,
          31.04,
          21.68,
          42.16,
          17.58,
          36.13,
          14.74,
          44.08,
          49.73,
          34.72,
          10.16,
          38.05,
          41.64,
          42.12,
          12.13,
          11.51,
          29.24,
          40.66,
          33.05,
          36.68,
          35.74,
          43.04,
          39.91,
          14.04,
          21.46,
          42.07,
          38.4,
          22.92,
          19.79,
          7.36,
          49.94,
          40.69,
          9.11,
          9.66,
          46.81,
          25.41,
          10.12,
          38.62,
          10.18,
          27.97,
          38.95,
          21.59,
          8.79,
          30.11,
          30.15,
          11.97,
          23.49,
          28.74,
          9.13,
          46.28,
          23.89,
          47.9,
          7,
          26.3,
          46.59,
          6.91,
          22.23,
          10.3,
          20.63,
          41.16,
          24.47,
          33.84,
          45,
          49.46,
          47.02,
          44.71,
          17.59,
          32.28,
          9.93,
          41.97,
          19.63,
          14.33,
          8.56,
          23.6,
          38.24,
          43.3,
          19.76,
          35.05,
          29.72,
          29.15,
          16.45,
          49.68,
          25.84,
          6.51,
          18.58,
          11.71,
          43.12,
          47.17,
          9.44,
          42.5,
          6.52,
          5.3,
          21.79,
          40.3,
          48.27,
          9.4,
          18.29,
          25.2,
          22.13,
          47.7,
          40.19,
          27.47,
          39.6,
          21.84,
          26.43,
          40.9,
          13.41,
          31.56,
          12.51,
          12.53,
          24.86,
          32.46,
          48.32,
          28.2,
          20.2,
          18.58,
          5.36,
          28.87,
          40.6,
          22.36,
          6.79,
          19.7,
          5.57,
          28.57,
          16,
          15.04,
          37.96,
          48.25,
          18.13,
          18.87,
          47.84,
          5.98,
          20.93,
          49.73,
          21.08,
          36.39,
          14.07,
          11.14,
          6.46,
          5.51,
          25.31,
          7.41,
          42.08,
          21.62,
          35.92,
          49.88,
          23.65,
          32.82,
          11.05,
          27.81,
          6.38,
          14.3,
          45.3,
          7.87,
          6.15,
          44.44,
          43.3,
          19.24,
          24.52,
          22.26,
          15.28,
          10.21,
          37.34,
          35.22,
          41.07,
          17.23,
          6.3,
          44.29,
          8.37,
          34.4,
          30.21,
          11.32,
          25.58,
          44.66,
          14.44,
          41.37,
          32.72,
          32.93,
          17.56,
          40.28,
          42.07,
          41.13,
          29.2,
          25.3,
          39.44,
          29.91,
          10.16,
          17.83,
          35.58,
          31.05,
          27.6,
          26.14,
          48.77,
          15.37,
          16.62,
          34.68,
          31.99,
          31.51,
          5.32,
          21.66,
          22.51,
          33.81,
          35.13,
          8.26,
          10.23,
          46.91,
          40.05,
          14.99,
          21.27,
          37.44,
          30.3,
          48.34,
          33.41,
          12.53,
          16.81,
          25.02,
          41.69,
          16.25,
          36.52,
          49.91,
          39.71,
          26.66,
          31.83,
          37.99,
          28.9,
          28.58,
          27.05,
          16.96,
          9.75,
          23.56,
          18.52,
          30.67,
          46.86,
          30.89,
          22.79,
          12.62,
          5.62,
          45.77,
          49.09,
          33.14,
          15.82,
          8.05,
          13.31,
          12.37,
          23.22,
          22.43,
          40.04,
          25.22,
          39.61,
          14.76,
          31.01,
          21.59,
          37.58,
          5.07,
          29.75,
          25.73,
          42.83,
          10.05,
          37.61,
          14.02,
          16.02,
          21,
          15.43,
          30.86,
          41.63,
          31.92,
          31.01,
          36.65,
          11.94,
          27.92,
          26.67,
          7.37,
          26.29,
          12.86,
          39.67,
          36.75,
          17.16,
          28.64,
          36.3,
          24.83,
          33.82,
          30.53,
          22.55,
          6.67,
          36.56,
          10.44,
          9.5,
          15.77,
          39.66,
          9.7,
          38.2,
          6.44,
          43.56,
          6.8,
          34.14,
          8.18,
          21.45,
          39.24,
          47.54,
          48.63,
          18.68,
          36.18,
          18.57,
          36.01,
          6.01,
          8.94,
          46.99,
          30.17,
          38.55,
          12.35,
          35.84,
          25.72,
          15.2,
          18.57,
          30.66,
          42.56,
          25.56,
          24.71,
          39.42,
          9.48,
          27.41,
          12.39,
          19.42,
          8.82,
          30.76,
          16.93,
          41.19,
          37.7,
          35.91,
          29.78,
          10.04,
          14.81,
          21.55,
          22.48,
          38.16,
          24.95,
          35.94,
          23.05,
          10.86,
          26.1,
          16.41,
          10.26,
          13.5,
          9.21,
          17.79,
          43.85,
          34.12,
          39.04,
          49.29,
          5.73,
          13.33,
          35.32,
          18.54,
          33.37,
          5.86,
          43.41,
          40.71,
          40.32,
          6.89,
          39.61,
          47.83,
          7.6,
          33.1,
          28.03,
          7.15,
          19.75,
          31.29,
          21.62,
          45.01,
          27.71,
          36.82,
          47.13,
          19.28,
          9.44,
          26.79,
          49.34,
          42.83,
          25.37,
          8.65,
          5.42,
          44.15,
          43.15,
          15.1,
          24.44,
          10.62,
          32.78,
          10.67,
          26.13,
          35.05,
          15.36,
          33.41,
          40.43,
          16,
          27.89,
          43.84,
          24.46,
          21.21,
          42,
          40.64,
          23.86,
          14.19,
          17.77,
          44.17,
          44.57,
          13.25,
          25.29,
          25.76,
          24.83,
          9.11,
          10.44,
          37.06,
          28,
          6.71,
          49.48,
          27.83,
          12.55,
          25.86,
          27.03,
          7.6,
          10.25,
          23.52,
          17.98,
          33.21,
          14.5,
          44.29,
          13.46,
          43.57,
          26.7,
          11.11,
          15.06,
          49.09,
          32.07,
          42.25,
          26.3,
          11.19,
          9.32,
          43.92,
          26.79,
          48.46,
          48.48,
          9.46,
          25.52,
          6.17,
          47.83,
          35.5,
          32.39,
          37.85,
          5.63,
          20.9,
          45.16,
          12,
          13.53,
          37.67,
          18.03,
          49.66,
          20.13,
          45.88,
          31.29,
          37.43,
          31.96,
          17.22,
          6.76,
          45.43,
          16.58,
          13.5,
          9.49,
          8.82,
          5.05,
          46.55,
          43.78,
          19.37
         ],
         "xaxis": "x2",
         "yaxis": "y2"
        }
       ],
       "layout": {
        "annotations": [
         {
          "font": {
           "size": 16
          },
          "showarrow": false,
          "text": "Histogram of pesticide_usage_ml",
          "x": 0.5,
          "xanchor": "center",
          "xref": "paper",
          "y": 0.9999999999999999,
          "yanchor": "bottom",
          "yref": "paper"
         },
         {
          "font": {
           "size": 16
          },
          "showarrow": false,
          "text": "Boxplot of pesticide_usage_ml",
          "x": 0.5,
          "xanchor": "center",
          "xref": "paper",
          "y": 0.285,
          "yanchor": "bottom",
          "yref": "paper"
         }
        ],
        "height": 600,
        "showlegend": false,
        "template": {
         "data": {
          "bar": [
           {
            "error_x": {
             "color": "#2a3f5f"
            },
            "error_y": {
             "color": "#2a3f5f"
            },
            "marker": {
             "line": {
              "color": "#E5ECF6",
              "width": 0.5
             },
             "pattern": {
              "fillmode": "overlay",
              "size": 10,
              "solidity": 0.2
             }
            },
            "type": "bar"
           }
          ],
          "barpolar": [
           {
            "marker": {
             "line": {
              "color": "#E5ECF6",
              "width": 0.5
             },
             "pattern": {
              "fillmode": "overlay",
              "size": 10,
              "solidity": 0.2
             }
            },
            "type": "barpolar"
           }
          ],
          "carpet": [
           {
            "aaxis": {
             "endlinecolor": "#2a3f5f",
             "gridcolor": "white",
             "linecolor": "white",
             "minorgridcolor": "white",
             "startlinecolor": "#2a3f5f"
            },
            "baxis": {
             "endlinecolor": "#2a3f5f",
             "gridcolor": "white",
             "linecolor": "white",
             "minorgridcolor": "white",
             "startlinecolor": "#2a3f5f"
            },
            "type": "carpet"
           }
          ],
          "choropleth": [
           {
            "colorbar": {
             "outlinewidth": 0,
             "ticks": ""
            },
            "type": "choropleth"
           }
          ],
          "contour": [
           {
            "colorbar": {
             "outlinewidth": 0,
             "ticks": ""
            },
            "colorscale": [
             [
              0,
              "#0d0887"
             ],
             [
              0.1111111111111111,
              "#46039f"
             ],
             [
              0.2222222222222222,
              "#7201a8"
             ],
             [
              0.3333333333333333,
              "#9c179e"
             ],
             [
              0.4444444444444444,
              "#bd3786"
             ],
             [
              0.5555555555555556,
              "#d8576b"
             ],
             [
              0.6666666666666666,
              "#ed7953"
             ],
             [
              0.7777777777777778,
              "#fb9f3a"
             ],
             [
              0.8888888888888888,
              "#fdca26"
             ],
             [
              1,
              "#f0f921"
             ]
            ],
            "type": "contour"
           }
          ],
          "contourcarpet": [
           {
            "colorbar": {
             "outlinewidth": 0,
             "ticks": ""
            },
            "type": "contourcarpet"
           }
          ],
          "heatmap": [
           {
            "colorbar": {
             "outlinewidth": 0,
             "ticks": ""
            },
            "colorscale": [
             [
              0,
              "#0d0887"
             ],
             [
              0.1111111111111111,
              "#46039f"
             ],
             [
              0.2222222222222222,
              "#7201a8"
             ],
             [
              0.3333333333333333,
              "#9c179e"
             ],
             [
              0.4444444444444444,
              "#bd3786"
             ],
             [
              0.5555555555555556,
              "#d8576b"
             ],
             [
              0.6666666666666666,
              "#ed7953"
             ],
             [
              0.7777777777777778,
              "#fb9f3a"
             ],
             [
              0.8888888888888888,
              "#fdca26"
             ],
             [
              1,
              "#f0f921"
             ]
            ],
            "type": "heatmap"
           }
          ],
          "heatmapgl": [
           {
            "colorbar": {
             "outlinewidth": 0,
             "ticks": ""
            },
            "colorscale": [
             [
              0,
              "#0d0887"
             ],
             [
              0.1111111111111111,
              "#46039f"
             ],
             [
              0.2222222222222222,
              "#7201a8"
             ],
             [
              0.3333333333333333,
              "#9c179e"
             ],
             [
              0.4444444444444444,
              "#bd3786"
             ],
             [
              0.5555555555555556,
              "#d8576b"
             ],
             [
              0.6666666666666666,
              "#ed7953"
             ],
             [
              0.7777777777777778,
              "#fb9f3a"
             ],
             [
              0.8888888888888888,
              "#fdca26"
             ],
             [
              1,
              "#f0f921"
             ]
            ],
            "type": "heatmapgl"
           }
          ],
          "histogram": [
           {
            "marker": {
             "pattern": {
              "fillmode": "overlay",
              "size": 10,
              "solidity": 0.2
             }
            },
            "type": "histogram"
           }
          ],
          "histogram2d": [
           {
            "colorbar": {
             "outlinewidth": 0,
             "ticks": ""
            },
            "colorscale": [
             [
              0,
              "#0d0887"
             ],
             [
              0.1111111111111111,
              "#46039f"
             ],
             [
              0.2222222222222222,
              "#7201a8"
             ],
             [
              0.3333333333333333,
              "#9c179e"
             ],
             [
              0.4444444444444444,
              "#bd3786"
             ],
             [
              0.5555555555555556,
              "#d8576b"
             ],
             [
              0.6666666666666666,
              "#ed7953"
             ],
             [
              0.7777777777777778,
              "#fb9f3a"
             ],
             [
              0.8888888888888888,
              "#fdca26"
             ],
             [
              1,
              "#f0f921"
             ]
            ],
            "type": "histogram2d"
           }
          ],
          "histogram2dcontour": [
           {
            "colorbar": {
             "outlinewidth": 0,
             "ticks": ""
            },
            "colorscale": [
             [
              0,
              "#0d0887"
             ],
             [
              0.1111111111111111,
              "#46039f"
             ],
             [
              0.2222222222222222,
              "#7201a8"
             ],
             [
              0.3333333333333333,
              "#9c179e"
             ],
             [
              0.4444444444444444,
              "#bd3786"
             ],
             [
              0.5555555555555556,
              "#d8576b"
             ],
             [
              0.6666666666666666,
              "#ed7953"
             ],
             [
              0.7777777777777778,
              "#fb9f3a"
             ],
             [
              0.8888888888888888,
              "#fdca26"
             ],
             [
              1,
              "#f0f921"
             ]
            ],
            "type": "histogram2dcontour"
           }
          ],
          "mesh3d": [
           {
            "colorbar": {
             "outlinewidth": 0,
             "ticks": ""
            },
            "type": "mesh3d"
           }
          ],
          "parcoords": [
           {
            "line": {
             "colorbar": {
              "outlinewidth": 0,
              "ticks": ""
             }
            },
            "type": "parcoords"
           }
          ],
          "pie": [
           {
            "automargin": true,
            "type": "pie"
           }
          ],
          "scatter": [
           {
            "fillpattern": {
             "fillmode": "overlay",
             "size": 10,
             "solidity": 0.2
            },
            "type": "scatter"
           }
          ],
          "scatter3d": [
           {
            "line": {
             "colorbar": {
              "outlinewidth": 0,
              "ticks": ""
             }
            },
            "marker": {
             "colorbar": {
              "outlinewidth": 0,
              "ticks": ""
             }
            },
            "type": "scatter3d"
           }
          ],
          "scattercarpet": [
           {
            "marker": {
             "colorbar": {
              "outlinewidth": 0,
              "ticks": ""
             }
            },
            "type": "scattercarpet"
           }
          ],
          "scattergeo": [
           {
            "marker": {
             "colorbar": {
              "outlinewidth": 0,
              "ticks": ""
             }
            },
            "type": "scattergeo"
           }
          ],
          "scattergl": [
           {
            "marker": {
             "colorbar": {
              "outlinewidth": 0,
              "ticks": ""
             }
            },
            "type": "scattergl"
           }
          ],
          "scattermapbox": [
           {
            "marker": {
             "colorbar": {
              "outlinewidth": 0,
              "ticks": ""
             }
            },
            "type": "scattermapbox"
           }
          ],
          "scatterpolar": [
           {
            "marker": {
             "colorbar": {
              "outlinewidth": 0,
              "ticks": ""
             }
            },
            "type": "scatterpolar"
           }
          ],
          "scatterpolargl": [
           {
            "marker": {
             "colorbar": {
              "outlinewidth": 0,
              "ticks": ""
             }
            },
            "type": "scatterpolargl"
           }
          ],
          "scatterternary": [
           {
            "marker": {
             "colorbar": {
              "outlinewidth": 0,
              "ticks": ""
             }
            },
            "type": "scatterternary"
           }
          ],
          "surface": [
           {
            "colorbar": {
             "outlinewidth": 0,
             "ticks": ""
            },
            "colorscale": [
             [
              0,
              "#0d0887"
             ],
             [
              0.1111111111111111,
              "#46039f"
             ],
             [
              0.2222222222222222,
              "#7201a8"
             ],
             [
              0.3333333333333333,
              "#9c179e"
             ],
             [
              0.4444444444444444,
              "#bd3786"
             ],
             [
              0.5555555555555556,
              "#d8576b"
             ],
             [
              0.6666666666666666,
              "#ed7953"
             ],
             [
              0.7777777777777778,
              "#fb9f3a"
             ],
             [
              0.8888888888888888,
              "#fdca26"
             ],
             [
              1,
              "#f0f921"
             ]
            ],
            "type": "surface"
           }
          ],
          "table": [
           {
            "cells": {
             "fill": {
              "color": "#EBF0F8"
             },
             "line": {
              "color": "white"
             }
            },
            "header": {
             "fill": {
              "color": "#C8D4E3"
             },
             "line": {
              "color": "white"
             }
            },
            "type": "table"
           }
          ]
         },
         "layout": {
          "annotationdefaults": {
           "arrowcolor": "#2a3f5f",
           "arrowhead": 0,
           "arrowwidth": 1
          },
          "autotypenumbers": "strict",
          "coloraxis": {
           "colorbar": {
            "outlinewidth": 0,
            "ticks": ""
           }
          },
          "colorscale": {
           "diverging": [
            [
             0,
             "#8e0152"
            ],
            [
             0.1,
             "#c51b7d"
            ],
            [
             0.2,
             "#de77ae"
            ],
            [
             0.3,
             "#f1b6da"
            ],
            [
             0.4,
             "#fde0ef"
            ],
            [
             0.5,
             "#f7f7f7"
            ],
            [
             0.6,
             "#e6f5d0"
            ],
            [
             0.7,
             "#b8e186"
            ],
            [
             0.8,
             "#7fbc41"
            ],
            [
             0.9,
             "#4d9221"
            ],
            [
             1,
             "#276419"
            ]
           ],
           "sequential": [
            [
             0,
             "#0d0887"
            ],
            [
             0.1111111111111111,
             "#46039f"
            ],
            [
             0.2222222222222222,
             "#7201a8"
            ],
            [
             0.3333333333333333,
             "#9c179e"
            ],
            [
             0.4444444444444444,
             "#bd3786"
            ],
            [
             0.5555555555555556,
             "#d8576b"
            ],
            [
             0.6666666666666666,
             "#ed7953"
            ],
            [
             0.7777777777777778,
             "#fb9f3a"
            ],
            [
             0.8888888888888888,
             "#fdca26"
            ],
            [
             1,
             "#f0f921"
            ]
           ],
           "sequentialminus": [
            [
             0,
             "#0d0887"
            ],
            [
             0.1111111111111111,
             "#46039f"
            ],
            [
             0.2222222222222222,
             "#7201a8"
            ],
            [
             0.3333333333333333,
             "#9c179e"
            ],
            [
             0.4444444444444444,
             "#bd3786"
            ],
            [
             0.5555555555555556,
             "#d8576b"
            ],
            [
             0.6666666666666666,
             "#ed7953"
            ],
            [
             0.7777777777777778,
             "#fb9f3a"
            ],
            [
             0.8888888888888888,
             "#fdca26"
            ],
            [
             1,
             "#f0f921"
            ]
           ]
          },
          "colorway": [
           "#636efa",
           "#EF553B",
           "#00cc96",
           "#ab63fa",
           "#FFA15A",
           "#19d3f3",
           "#FF6692",
           "#B6E880",
           "#FF97FF",
           "#FECB52"
          ],
          "font": {
           "color": "#2a3f5f"
          },
          "geo": {
           "bgcolor": "white",
           "lakecolor": "white",
           "landcolor": "#E5ECF6",
           "showlakes": true,
           "showland": true,
           "subunitcolor": "white"
          },
          "hoverlabel": {
           "align": "left"
          },
          "hovermode": "closest",
          "mapbox": {
           "style": "light"
          },
          "paper_bgcolor": "white",
          "plot_bgcolor": "#E5ECF6",
          "polar": {
           "angularaxis": {
            "gridcolor": "white",
            "linecolor": "white",
            "ticks": ""
           },
           "bgcolor": "#E5ECF6",
           "radialaxis": {
            "gridcolor": "white",
            "linecolor": "white",
            "ticks": ""
           }
          },
          "scene": {
           "xaxis": {
            "backgroundcolor": "#E5ECF6",
            "gridcolor": "white",
            "gridwidth": 2,
            "linecolor": "white",
            "showbackground": true,
            "ticks": "",
            "zerolinecolor": "white"
           },
           "yaxis": {
            "backgroundcolor": "#E5ECF6",
            "gridcolor": "white",
            "gridwidth": 2,
            "linecolor": "white",
            "showbackground": true,
            "ticks": "",
            "zerolinecolor": "white"
           },
           "zaxis": {
            "backgroundcolor": "#E5ECF6",
            "gridcolor": "white",
            "gridwidth": 2,
            "linecolor": "white",
            "showbackground": true,
            "ticks": "",
            "zerolinecolor": "white"
           }
          },
          "shapedefaults": {
           "line": {
            "color": "#2a3f5f"
           }
          },
          "ternary": {
           "aaxis": {
            "gridcolor": "white",
            "linecolor": "white",
            "ticks": ""
           },
           "baxis": {
            "gridcolor": "white",
            "linecolor": "white",
            "ticks": ""
           },
           "bgcolor": "#E5ECF6",
           "caxis": {
            "gridcolor": "white",
            "linecolor": "white",
            "ticks": ""
           }
          },
          "title": {
           "x": 0.05
          },
          "xaxis": {
           "automargin": true,
           "gridcolor": "white",
           "linecolor": "white",
           "ticks": "",
           "title": {
            "standoff": 15
           },
           "zerolinecolor": "white",
           "zerolinewidth": 2
          },
          "yaxis": {
           "automargin": true,
           "gridcolor": "white",
           "linecolor": "white",
           "ticks": "",
           "title": {
            "standoff": 15
           },
           "zerolinecolor": "white",
           "zerolinewidth": 2
          }
         }
        },
        "title": {
         "text": "NUMERICAL FEATURE DISTRIBUTION: pesticide_usage_ml"
        },
        "xaxis": {
         "anchor": "y",
         "domain": [
          0,
          1
         ],
         "matches": "x2",
         "showticklabels": false
        },
        "xaxis2": {
         "anchor": "y2",
         "domain": [
          0,
          1
         ]
        },
        "yaxis": {
         "anchor": "x",
         "domain": [
          0.33499999999999996,
          0.9999999999999999
         ]
        },
        "yaxis2": {
         "anchor": "x2",
         "domain": [
          0,
          0.285
         ]
        }
       }
      }
     },
     "metadata": {},
     "output_type": "display_data"
    },
    {
     "data": {
      "application/vnd.plotly.v1+json": {
       "config": {
        "plotlyServerURL": "https://plot.ly"
       },
       "data": [
        {
         "marker": {
          "color": "lightskyblue"
         },
         "name": "Histogram",
         "nbinsx": 50,
         "type": "histogram",
         "x": [
          4408.07,
          5389.98,
          2931.16,
          4227.8,
          4979.96,
          4383.55,
          4501.2,
          5264.09,
          5598.46,
          4893.41,
          2437.08,
          3942.56,
          4942.95,
          4629.49,
          2852.62,
          5755.72,
          3334.23,
          5732.35,
          5723.26,
          3404.58,
          5598.02,
          4788.83,
          3892.74,
          5073.96,
          2200.87,
          5007.11,
          3659.47,
          4938.54,
          2726.92,
          5356.92,
          5632.1,
          2050.61,
          5406.85,
          3105.07,
          3476.08,
          4358.35,
          2049.06,
          3664.7,
          4207.97,
          5633.65,
          2365.31,
          3633.39,
          4170.37,
          3631.96,
          4985.17,
          5051.49,
          5859.3,
          5407.06,
          4776,
          2928.75,
          3932.83,
          3409.28,
          4007.18,
          4146.29,
          3633.18,
          2396.09,
          5392.13,
          4383.93,
          2454.6,
          2431.85,
          4603.67,
          2386.26,
          4626.95,
          2721.66,
          4886.38,
          4712.87,
          4130.33,
          5205.29,
          2775.61,
          5696.62,
          5457,
          2990.97,
          4894.93,
          5252.74,
          2404.56,
          5878.35,
          5205.04,
          5538.52,
          2555.17,
          2443.43,
          5953.33,
          4571.18,
          2764.41,
          2330.45,
          3098.22,
          2613.75,
          2858.28,
          3161.45,
          5536.99,
          4072.41,
          2684.8,
          5826.6,
          5042.66,
          5052.49,
          3142.99,
          2475.24,
          5725.47,
          5187.02,
          5792.82,
          3507.3,
          3919.21,
          4989.35,
          4724.77,
          5528.98,
          5235.26,
          2739.12,
          3621.67,
          5207.98,
          4081.37,
          4313.25,
          5668.46,
          4127.73,
          5488.85,
          2884.17,
          4151.71,
          5317.63,
          5998.29,
          5358.92,
          5773.86,
          2194.06,
          2066.9,
          2972.83,
          5579.16,
          5282.76,
          3362.37,
          2328.15,
          2413.17,
          3073.63,
          3519.56,
          5265.98,
          3010.73,
          2665.35,
          4354.36,
          3809.79,
          4561.92,
          2455.82,
          2471.45,
          3258.32,
          5044.23,
          4943.95,
          2556.94,
          5468.19,
          5509.27,
          5409.69,
          3441.74,
          5952.62,
          2656.47,
          2336.99,
          4375.72,
          4026.44,
          5338.11,
          2655.33,
          4510.13,
          5680.91,
          2275.71,
          2980.51,
          2372.11,
          4802.9,
          2361.68,
          4200.48,
          4583.95,
          3784.05,
          5957.61,
          2400.54,
          4802.24,
          2709.84,
          3747.47,
          5235.23,
          2271.18,
          3274.87,
          3637.12,
          2798.7,
          3758.96,
          2942.57,
          4380.19,
          4330.71,
          2155.13,
          5303.29,
          4097.14,
          3784.41,
          2080.21,
          2872.84,
          5445.97,
          5627.65,
          3883.12,
          4537.59,
          2323.25,
          5861.31,
          2261.15,
          4936.31,
          4189.13,
          5139.04,
          4676.09,
          2463.6,
          3912.98,
          5893.78,
          4802.32,
          3323.58,
          2143.33,
          4866.63,
          3636.84,
          5855.42,
          4770.06,
          3381.17,
          3523.48,
          5459.37,
          5645.95,
          4335.94,
          5827.95,
          4675.75,
          3185.74,
          3740.95,
          2067.56,
          5288.49,
          2167.09,
          5409,
          3943.44,
          3781.43,
          2146.63,
          5856,
          5922.36,
          3411.59,
          3926.07,
          4397.43,
          4742.36,
          2470.07,
          4786.83,
          5217.15,
          5954.03,
          2364.35,
          5402.27,
          4070.97,
          2468.04,
          5154.62,
          2874.26,
          5823.12,
          4102.94,
          3051.4,
          5425.23,
          2395.9,
          4599.46,
          5628.29,
          2938.51,
          5726.36,
          4363.32,
          3876.79,
          3558.89,
          2077.58,
          2126.95,
          5978.14,
          5550.08,
          2994.89,
          3432.67,
          3053.4,
          2616.53,
          3023.75,
          5337.83,
          4697.97,
          4903.47,
          3259.62,
          2308.81,
          2906.87,
          3159.13,
          4463.99,
          5960.64,
          3220.47,
          2681.28,
          5615.49,
          5247.57,
          5638.94,
          2736.54,
          4422.42,
          5058.16,
          5297.31,
          3164.72,
          3572.27,
          4829.12,
          3238.07,
          3640.61,
          5681.54,
          5033.77,
          3148.75,
          5186.93,
          3333.13,
          5135.96,
          4137.09,
          5653.42,
          5459.24,
          3276.6,
          5568.97,
          4851.59,
          5582.8,
          5270.21,
          5920.82,
          5085.37,
          5509.7,
          3128.84,
          2046.41,
          3538.86,
          4920.74,
          2043.13,
          4625.28,
          4636.62,
          4904,
          4121.77,
          4336.71,
          2877.67,
          4641.91,
          3570.54,
          3065.75,
          3211.31,
          3437.04,
          4884.05,
          4530.65,
          2549.32,
          5110.65,
          2150.48,
          2212.28,
          2632.18,
          2882.65,
          2546.01,
          4366.32,
          4016.87,
          4676.14,
          2130.86,
          3465.73,
          3069.43,
          5535.92,
          3386.8,
          2686.95,
          2645.02,
          3997.67,
          2160.32,
          4708.25,
          5970.39,
          2353.79,
          5164.88,
          3744.27,
          4544.99,
          4137.68,
          2524.93,
          5924.44,
          5129.48,
          5052.98,
          4057,
          5904.72,
          2476.87,
          5025.21,
          3992.54,
          3374.46,
          4862.89,
          2512.79,
          3219.65,
          4700.45,
          5218.41,
          3253.41,
          3457.1,
          2454.23,
          5855.15,
          2482.57,
          5879.69,
          5867.22,
          2361,
          5507.04,
          3602.65,
          2794.65,
          2597,
          5980.83,
          4747.41,
          5910.1,
          5486.72,
          2143.45,
          2673.18,
          3494.23,
          5192.59,
          3194.19,
          3736.42,
          2994.61,
          2718.21,
          5486.46,
          5218.56,
          3687.52,
          5394.47,
          2254.04,
          2524.63,
          2837.73,
          4228.09,
          2472.24,
          5236.58,
          3447.1,
          4641.45,
          4789.88,
          5028.19,
          3191.84,
          5114.2,
          4756.07,
          3634.48,
          4958.64,
          4668.88,
          5086.38,
          5147.03,
          5919.14,
          3296.87,
          5654.94,
          3695.01,
          4956.73,
          3366.52,
          4154.6,
          3124.54,
          2681.91,
          4131.77,
          3795.45,
          4505.19,
          3253.12,
          4398.3,
          3684.03,
          3475.32,
          4399.05,
          3922.98,
          2796.49,
          2840.95,
          4349.3,
          3497.06,
          3700.09,
          3268.08,
          2786.59,
          4319.82,
          3715.17,
          5051.37,
          3545.74,
          4097.58,
          4838.69,
          2156.34,
          4794.58,
          2178.54,
          2969.17,
          2137.78,
          3348.47,
          3293.47,
          5836.14,
          4349.87,
          3774.9,
          2889.78,
          3245.85,
          4437.58,
          4248.57,
          3635.15,
          2987.17,
          5667.53,
          2437.1,
          3498.61,
          4545.73,
          4080.3,
          5482.17,
          2066.52,
          3175.45,
          2846.56,
          3967.84,
          2445.53,
          5190.07,
          5396.51,
          5737.73,
          3564.25,
          5588.87,
          2209.89,
          4529.33,
          3193.45,
          4396.41,
          4632.64,
          2752.29,
          5760.8,
          3080.5,
          4913.31,
          5528.08,
          3755.84,
          2229.65,
          2029.16,
          3516.38,
          2023.56,
          3882.79,
          3684.22,
          3555.39,
          3715.81,
          2594.9,
          3708.29,
          3009.05,
          4518.23,
          3672.85,
          2181.78,
          4287.59,
          2531.89,
          4503.82,
          4203.51,
          4590.26,
          5306.25,
          4251.4,
          3708.54,
          2604.41,
          2586.36,
          5891.4
         ],
         "xaxis": "x",
         "yaxis": "y"
        },
        {
         "boxpoints": "outliers",
         "marker": {
          "color": "skyblue"
         },
         "name": "Boxplot",
         "orientation": "h",
         "type": "box",
         "x": [
          4408.07,
          5389.98,
          2931.16,
          4227.8,
          4979.96,
          4383.55,
          4501.2,
          5264.09,
          5598.46,
          4893.41,
          2437.08,
          3942.56,
          4942.95,
          4629.49,
          2852.62,
          5755.72,
          3334.23,
          5732.35,
          5723.26,
          3404.58,
          5598.02,
          4788.83,
          3892.74,
          5073.96,
          2200.87,
          5007.11,
          3659.47,
          4938.54,
          2726.92,
          5356.92,
          5632.1,
          2050.61,
          5406.85,
          3105.07,
          3476.08,
          4358.35,
          2049.06,
          3664.7,
          4207.97,
          5633.65,
          2365.31,
          3633.39,
          4170.37,
          3631.96,
          4985.17,
          5051.49,
          5859.3,
          5407.06,
          4776,
          2928.75,
          3932.83,
          3409.28,
          4007.18,
          4146.29,
          3633.18,
          2396.09,
          5392.13,
          4383.93,
          2454.6,
          2431.85,
          4603.67,
          2386.26,
          4626.95,
          2721.66,
          4886.38,
          4712.87,
          4130.33,
          5205.29,
          2775.61,
          5696.62,
          5457,
          2990.97,
          4894.93,
          5252.74,
          2404.56,
          5878.35,
          5205.04,
          5538.52,
          2555.17,
          2443.43,
          5953.33,
          4571.18,
          2764.41,
          2330.45,
          3098.22,
          2613.75,
          2858.28,
          3161.45,
          5536.99,
          4072.41,
          2684.8,
          5826.6,
          5042.66,
          5052.49,
          3142.99,
          2475.24,
          5725.47,
          5187.02,
          5792.82,
          3507.3,
          3919.21,
          4989.35,
          4724.77,
          5528.98,
          5235.26,
          2739.12,
          3621.67,
          5207.98,
          4081.37,
          4313.25,
          5668.46,
          4127.73,
          5488.85,
          2884.17,
          4151.71,
          5317.63,
          5998.29,
          5358.92,
          5773.86,
          2194.06,
          2066.9,
          2972.83,
          5579.16,
          5282.76,
          3362.37,
          2328.15,
          2413.17,
          3073.63,
          3519.56,
          5265.98,
          3010.73,
          2665.35,
          4354.36,
          3809.79,
          4561.92,
          2455.82,
          2471.45,
          3258.32,
          5044.23,
          4943.95,
          2556.94,
          5468.19,
          5509.27,
          5409.69,
          3441.74,
          5952.62,
          2656.47,
          2336.99,
          4375.72,
          4026.44,
          5338.11,
          2655.33,
          4510.13,
          5680.91,
          2275.71,
          2980.51,
          2372.11,
          4802.9,
          2361.68,
          4200.48,
          4583.95,
          3784.05,
          5957.61,
          2400.54,
          4802.24,
          2709.84,
          3747.47,
          5235.23,
          2271.18,
          3274.87,
          3637.12,
          2798.7,
          3758.96,
          2942.57,
          4380.19,
          4330.71,
          2155.13,
          5303.29,
          4097.14,
          3784.41,
          2080.21,
          2872.84,
          5445.97,
          5627.65,
          3883.12,
          4537.59,
          2323.25,
          5861.31,
          2261.15,
          4936.31,
          4189.13,
          5139.04,
          4676.09,
          2463.6,
          3912.98,
          5893.78,
          4802.32,
          3323.58,
          2143.33,
          4866.63,
          3636.84,
          5855.42,
          4770.06,
          3381.17,
          3523.48,
          5459.37,
          5645.95,
          4335.94,
          5827.95,
          4675.75,
          3185.74,
          3740.95,
          2067.56,
          5288.49,
          2167.09,
          5409,
          3943.44,
          3781.43,
          2146.63,
          5856,
          5922.36,
          3411.59,
          3926.07,
          4397.43,
          4742.36,
          2470.07,
          4786.83,
          5217.15,
          5954.03,
          2364.35,
          5402.27,
          4070.97,
          2468.04,
          5154.62,
          2874.26,
          5823.12,
          4102.94,
          3051.4,
          5425.23,
          2395.9,
          4599.46,
          5628.29,
          2938.51,
          5726.36,
          4363.32,
          3876.79,
          3558.89,
          2077.58,
          2126.95,
          5978.14,
          5550.08,
          2994.89,
          3432.67,
          3053.4,
          2616.53,
          3023.75,
          5337.83,
          4697.97,
          4903.47,
          3259.62,
          2308.81,
          2906.87,
          3159.13,
          4463.99,
          5960.64,
          3220.47,
          2681.28,
          5615.49,
          5247.57,
          5638.94,
          2736.54,
          4422.42,
          5058.16,
          5297.31,
          3164.72,
          3572.27,
          4829.12,
          3238.07,
          3640.61,
          5681.54,
          5033.77,
          3148.75,
          5186.93,
          3333.13,
          5135.96,
          4137.09,
          5653.42,
          5459.24,
          3276.6,
          5568.97,
          4851.59,
          5582.8,
          5270.21,
          5920.82,
          5085.37,
          5509.7,
          3128.84,
          2046.41,
          3538.86,
          4920.74,
          2043.13,
          4625.28,
          4636.62,
          4904,
          4121.77,
          4336.71,
          2877.67,
          4641.91,
          3570.54,
          3065.75,
          3211.31,
          3437.04,
          4884.05,
          4530.65,
          2549.32,
          5110.65,
          2150.48,
          2212.28,
          2632.18,
          2882.65,
          2546.01,
          4366.32,
          4016.87,
          4676.14,
          2130.86,
          3465.73,
          3069.43,
          5535.92,
          3386.8,
          2686.95,
          2645.02,
          3997.67,
          2160.32,
          4708.25,
          5970.39,
          2353.79,
          5164.88,
          3744.27,
          4544.99,
          4137.68,
          2524.93,
          5924.44,
          5129.48,
          5052.98,
          4057,
          5904.72,
          2476.87,
          5025.21,
          3992.54,
          3374.46,
          4862.89,
          2512.79,
          3219.65,
          4700.45,
          5218.41,
          3253.41,
          3457.1,
          2454.23,
          5855.15,
          2482.57,
          5879.69,
          5867.22,
          2361,
          5507.04,
          3602.65,
          2794.65,
          2597,
          5980.83,
          4747.41,
          5910.1,
          5486.72,
          2143.45,
          2673.18,
          3494.23,
          5192.59,
          3194.19,
          3736.42,
          2994.61,
          2718.21,
          5486.46,
          5218.56,
          3687.52,
          5394.47,
          2254.04,
          2524.63,
          2837.73,
          4228.09,
          2472.24,
          5236.58,
          3447.1,
          4641.45,
          4789.88,
          5028.19,
          3191.84,
          5114.2,
          4756.07,
          3634.48,
          4958.64,
          4668.88,
          5086.38,
          5147.03,
          5919.14,
          3296.87,
          5654.94,
          3695.01,
          4956.73,
          3366.52,
          4154.6,
          3124.54,
          2681.91,
          4131.77,
          3795.45,
          4505.19,
          3253.12,
          4398.3,
          3684.03,
          3475.32,
          4399.05,
          3922.98,
          2796.49,
          2840.95,
          4349.3,
          3497.06,
          3700.09,
          3268.08,
          2786.59,
          4319.82,
          3715.17,
          5051.37,
          3545.74,
          4097.58,
          4838.69,
          2156.34,
          4794.58,
          2178.54,
          2969.17,
          2137.78,
          3348.47,
          3293.47,
          5836.14,
          4349.87,
          3774.9,
          2889.78,
          3245.85,
          4437.58,
          4248.57,
          3635.15,
          2987.17,
          5667.53,
          2437.1,
          3498.61,
          4545.73,
          4080.3,
          5482.17,
          2066.52,
          3175.45,
          2846.56,
          3967.84,
          2445.53,
          5190.07,
          5396.51,
          5737.73,
          3564.25,
          5588.87,
          2209.89,
          4529.33,
          3193.45,
          4396.41,
          4632.64,
          2752.29,
          5760.8,
          3080.5,
          4913.31,
          5528.08,
          3755.84,
          2229.65,
          2029.16,
          3516.38,
          2023.56,
          3882.79,
          3684.22,
          3555.39,
          3715.81,
          2594.9,
          3708.29,
          3009.05,
          4518.23,
          3672.85,
          2181.78,
          4287.59,
          2531.89,
          4503.82,
          4203.51,
          4590.26,
          5306.25,
          4251.4,
          3708.54,
          2604.41,
          2586.36,
          5891.4
         ],
         "xaxis": "x2",
         "yaxis": "y2"
        }
       ],
       "layout": {
        "annotations": [
         {
          "font": {
           "size": 16
          },
          "showarrow": false,
          "text": "Histogram of yield_kg_per_hectare",
          "x": 0.5,
          "xanchor": "center",
          "xref": "paper",
          "y": 0.9999999999999999,
          "yanchor": "bottom",
          "yref": "paper"
         },
         {
          "font": {
           "size": 16
          },
          "showarrow": false,
          "text": "Boxplot of yield_kg_per_hectare",
          "x": 0.5,
          "xanchor": "center",
          "xref": "paper",
          "y": 0.285,
          "yanchor": "bottom",
          "yref": "paper"
         }
        ],
        "height": 600,
        "showlegend": false,
        "template": {
         "data": {
          "bar": [
           {
            "error_x": {
             "color": "#2a3f5f"
            },
            "error_y": {
             "color": "#2a3f5f"
            },
            "marker": {
             "line": {
              "color": "#E5ECF6",
              "width": 0.5
             },
             "pattern": {
              "fillmode": "overlay",
              "size": 10,
              "solidity": 0.2
             }
            },
            "type": "bar"
           }
          ],
          "barpolar": [
           {
            "marker": {
             "line": {
              "color": "#E5ECF6",
              "width": 0.5
             },
             "pattern": {
              "fillmode": "overlay",
              "size": 10,
              "solidity": 0.2
             }
            },
            "type": "barpolar"
           }
          ],
          "carpet": [
           {
            "aaxis": {
             "endlinecolor": "#2a3f5f",
             "gridcolor": "white",
             "linecolor": "white",
             "minorgridcolor": "white",
             "startlinecolor": "#2a3f5f"
            },
            "baxis": {
             "endlinecolor": "#2a3f5f",
             "gridcolor": "white",
             "linecolor": "white",
             "minorgridcolor": "white",
             "startlinecolor": "#2a3f5f"
            },
            "type": "carpet"
           }
          ],
          "choropleth": [
           {
            "colorbar": {
             "outlinewidth": 0,
             "ticks": ""
            },
            "type": "choropleth"
           }
          ],
          "contour": [
           {
            "colorbar": {
             "outlinewidth": 0,
             "ticks": ""
            },
            "colorscale": [
             [
              0,
              "#0d0887"
             ],
             [
              0.1111111111111111,
              "#46039f"
             ],
             [
              0.2222222222222222,
              "#7201a8"
             ],
             [
              0.3333333333333333,
              "#9c179e"
             ],
             [
              0.4444444444444444,
              "#bd3786"
             ],
             [
              0.5555555555555556,
              "#d8576b"
             ],
             [
              0.6666666666666666,
              "#ed7953"
             ],
             [
              0.7777777777777778,
              "#fb9f3a"
             ],
             [
              0.8888888888888888,
              "#fdca26"
             ],
             [
              1,
              "#f0f921"
             ]
            ],
            "type": "contour"
           }
          ],
          "contourcarpet": [
           {
            "colorbar": {
             "outlinewidth": 0,
             "ticks": ""
            },
            "type": "contourcarpet"
           }
          ],
          "heatmap": [
           {
            "colorbar": {
             "outlinewidth": 0,
             "ticks": ""
            },
            "colorscale": [
             [
              0,
              "#0d0887"
             ],
             [
              0.1111111111111111,
              "#46039f"
             ],
             [
              0.2222222222222222,
              "#7201a8"
             ],
             [
              0.3333333333333333,
              "#9c179e"
             ],
             [
              0.4444444444444444,
              "#bd3786"
             ],
             [
              0.5555555555555556,
              "#d8576b"
             ],
             [
              0.6666666666666666,
              "#ed7953"
             ],
             [
              0.7777777777777778,
              "#fb9f3a"
             ],
             [
              0.8888888888888888,
              "#fdca26"
             ],
             [
              1,
              "#f0f921"
             ]
            ],
            "type": "heatmap"
           }
          ],
          "heatmapgl": [
           {
            "colorbar": {
             "outlinewidth": 0,
             "ticks": ""
            },
            "colorscale": [
             [
              0,
              "#0d0887"
             ],
             [
              0.1111111111111111,
              "#46039f"
             ],
             [
              0.2222222222222222,
              "#7201a8"
             ],
             [
              0.3333333333333333,
              "#9c179e"
             ],
             [
              0.4444444444444444,
              "#bd3786"
             ],
             [
              0.5555555555555556,
              "#d8576b"
             ],
             [
              0.6666666666666666,
              "#ed7953"
             ],
             [
              0.7777777777777778,
              "#fb9f3a"
             ],
             [
              0.8888888888888888,
              "#fdca26"
             ],
             [
              1,
              "#f0f921"
             ]
            ],
            "type": "heatmapgl"
           }
          ],
          "histogram": [
           {
            "marker": {
             "pattern": {
              "fillmode": "overlay",
              "size": 10,
              "solidity": 0.2
             }
            },
            "type": "histogram"
           }
          ],
          "histogram2d": [
           {
            "colorbar": {
             "outlinewidth": 0,
             "ticks": ""
            },
            "colorscale": [
             [
              0,
              "#0d0887"
             ],
             [
              0.1111111111111111,
              "#46039f"
             ],
             [
              0.2222222222222222,
              "#7201a8"
             ],
             [
              0.3333333333333333,
              "#9c179e"
             ],
             [
              0.4444444444444444,
              "#bd3786"
             ],
             [
              0.5555555555555556,
              "#d8576b"
             ],
             [
              0.6666666666666666,
              "#ed7953"
             ],
             [
              0.7777777777777778,
              "#fb9f3a"
             ],
             [
              0.8888888888888888,
              "#fdca26"
             ],
             [
              1,
              "#f0f921"
             ]
            ],
            "type": "histogram2d"
           }
          ],
          "histogram2dcontour": [
           {
            "colorbar": {
             "outlinewidth": 0,
             "ticks": ""
            },
            "colorscale": [
             [
              0,
              "#0d0887"
             ],
             [
              0.1111111111111111,
              "#46039f"
             ],
             [
              0.2222222222222222,
              "#7201a8"
             ],
             [
              0.3333333333333333,
              "#9c179e"
             ],
             [
              0.4444444444444444,
              "#bd3786"
             ],
             [
              0.5555555555555556,
              "#d8576b"
             ],
             [
              0.6666666666666666,
              "#ed7953"
             ],
             [
              0.7777777777777778,
              "#fb9f3a"
             ],
             [
              0.8888888888888888,
              "#fdca26"
             ],
             [
              1,
              "#f0f921"
             ]
            ],
            "type": "histogram2dcontour"
           }
          ],
          "mesh3d": [
           {
            "colorbar": {
             "outlinewidth": 0,
             "ticks": ""
            },
            "type": "mesh3d"
           }
          ],
          "parcoords": [
           {
            "line": {
             "colorbar": {
              "outlinewidth": 0,
              "ticks": ""
             }
            },
            "type": "parcoords"
           }
          ],
          "pie": [
           {
            "automargin": true,
            "type": "pie"
           }
          ],
          "scatter": [
           {
            "fillpattern": {
             "fillmode": "overlay",
             "size": 10,
             "solidity": 0.2
            },
            "type": "scatter"
           }
          ],
          "scatter3d": [
           {
            "line": {
             "colorbar": {
              "outlinewidth": 0,
              "ticks": ""
             }
            },
            "marker": {
             "colorbar": {
              "outlinewidth": 0,
              "ticks": ""
             }
            },
            "type": "scatter3d"
           }
          ],
          "scattercarpet": [
           {
            "marker": {
             "colorbar": {
              "outlinewidth": 0,
              "ticks": ""
             }
            },
            "type": "scattercarpet"
           }
          ],
          "scattergeo": [
           {
            "marker": {
             "colorbar": {
              "outlinewidth": 0,
              "ticks": ""
             }
            },
            "type": "scattergeo"
           }
          ],
          "scattergl": [
           {
            "marker": {
             "colorbar": {
              "outlinewidth": 0,
              "ticks": ""
             }
            },
            "type": "scattergl"
           }
          ],
          "scattermapbox": [
           {
            "marker": {
             "colorbar": {
              "outlinewidth": 0,
              "ticks": ""
             }
            },
            "type": "scattermapbox"
           }
          ],
          "scatterpolar": [
           {
            "marker": {
             "colorbar": {
              "outlinewidth": 0,
              "ticks": ""
             }
            },
            "type": "scatterpolar"
           }
          ],
          "scatterpolargl": [
           {
            "marker": {
             "colorbar": {
              "outlinewidth": 0,
              "ticks": ""
             }
            },
            "type": "scatterpolargl"
           }
          ],
          "scatterternary": [
           {
            "marker": {
             "colorbar": {
              "outlinewidth": 0,
              "ticks": ""
             }
            },
            "type": "scatterternary"
           }
          ],
          "surface": [
           {
            "colorbar": {
             "outlinewidth": 0,
             "ticks": ""
            },
            "colorscale": [
             [
              0,
              "#0d0887"
             ],
             [
              0.1111111111111111,
              "#46039f"
             ],
             [
              0.2222222222222222,
              "#7201a8"
             ],
             [
              0.3333333333333333,
              "#9c179e"
             ],
             [
              0.4444444444444444,
              "#bd3786"
             ],
             [
              0.5555555555555556,
              "#d8576b"
             ],
             [
              0.6666666666666666,
              "#ed7953"
             ],
             [
              0.7777777777777778,
              "#fb9f3a"
             ],
             [
              0.8888888888888888,
              "#fdca26"
             ],
             [
              1,
              "#f0f921"
             ]
            ],
            "type": "surface"
           }
          ],
          "table": [
           {
            "cells": {
             "fill": {
              "color": "#EBF0F8"
             },
             "line": {
              "color": "white"
             }
            },
            "header": {
             "fill": {
              "color": "#C8D4E3"
             },
             "line": {
              "color": "white"
             }
            },
            "type": "table"
           }
          ]
         },
         "layout": {
          "annotationdefaults": {
           "arrowcolor": "#2a3f5f",
           "arrowhead": 0,
           "arrowwidth": 1
          },
          "autotypenumbers": "strict",
          "coloraxis": {
           "colorbar": {
            "outlinewidth": 0,
            "ticks": ""
           }
          },
          "colorscale": {
           "diverging": [
            [
             0,
             "#8e0152"
            ],
            [
             0.1,
             "#c51b7d"
            ],
            [
             0.2,
             "#de77ae"
            ],
            [
             0.3,
             "#f1b6da"
            ],
            [
             0.4,
             "#fde0ef"
            ],
            [
             0.5,
             "#f7f7f7"
            ],
            [
             0.6,
             "#e6f5d0"
            ],
            [
             0.7,
             "#b8e186"
            ],
            [
             0.8,
             "#7fbc41"
            ],
            [
             0.9,
             "#4d9221"
            ],
            [
             1,
             "#276419"
            ]
           ],
           "sequential": [
            [
             0,
             "#0d0887"
            ],
            [
             0.1111111111111111,
             "#46039f"
            ],
            [
             0.2222222222222222,
             "#7201a8"
            ],
            [
             0.3333333333333333,
             "#9c179e"
            ],
            [
             0.4444444444444444,
             "#bd3786"
            ],
            [
             0.5555555555555556,
             "#d8576b"
            ],
            [
             0.6666666666666666,
             "#ed7953"
            ],
            [
             0.7777777777777778,
             "#fb9f3a"
            ],
            [
             0.8888888888888888,
             "#fdca26"
            ],
            [
             1,
             "#f0f921"
            ]
           ],
           "sequentialminus": [
            [
             0,
             "#0d0887"
            ],
            [
             0.1111111111111111,
             "#46039f"
            ],
            [
             0.2222222222222222,
             "#7201a8"
            ],
            [
             0.3333333333333333,
             "#9c179e"
            ],
            [
             0.4444444444444444,
             "#bd3786"
            ],
            [
             0.5555555555555556,
             "#d8576b"
            ],
            [
             0.6666666666666666,
             "#ed7953"
            ],
            [
             0.7777777777777778,
             "#fb9f3a"
            ],
            [
             0.8888888888888888,
             "#fdca26"
            ],
            [
             1,
             "#f0f921"
            ]
           ]
          },
          "colorway": [
           "#636efa",
           "#EF553B",
           "#00cc96",
           "#ab63fa",
           "#FFA15A",
           "#19d3f3",
           "#FF6692",
           "#B6E880",
           "#FF97FF",
           "#FECB52"
          ],
          "font": {
           "color": "#2a3f5f"
          },
          "geo": {
           "bgcolor": "white",
           "lakecolor": "white",
           "landcolor": "#E5ECF6",
           "showlakes": true,
           "showland": true,
           "subunitcolor": "white"
          },
          "hoverlabel": {
           "align": "left"
          },
          "hovermode": "closest",
          "mapbox": {
           "style": "light"
          },
          "paper_bgcolor": "white",
          "plot_bgcolor": "#E5ECF6",
          "polar": {
           "angularaxis": {
            "gridcolor": "white",
            "linecolor": "white",
            "ticks": ""
           },
           "bgcolor": "#E5ECF6",
           "radialaxis": {
            "gridcolor": "white",
            "linecolor": "white",
            "ticks": ""
           }
          },
          "scene": {
           "xaxis": {
            "backgroundcolor": "#E5ECF6",
            "gridcolor": "white",
            "gridwidth": 2,
            "linecolor": "white",
            "showbackground": true,
            "ticks": "",
            "zerolinecolor": "white"
           },
           "yaxis": {
            "backgroundcolor": "#E5ECF6",
            "gridcolor": "white",
            "gridwidth": 2,
            "linecolor": "white",
            "showbackground": true,
            "ticks": "",
            "zerolinecolor": "white"
           },
           "zaxis": {
            "backgroundcolor": "#E5ECF6",
            "gridcolor": "white",
            "gridwidth": 2,
            "linecolor": "white",
            "showbackground": true,
            "ticks": "",
            "zerolinecolor": "white"
           }
          },
          "shapedefaults": {
           "line": {
            "color": "#2a3f5f"
           }
          },
          "ternary": {
           "aaxis": {
            "gridcolor": "white",
            "linecolor": "white",
            "ticks": ""
           },
           "baxis": {
            "gridcolor": "white",
            "linecolor": "white",
            "ticks": ""
           },
           "bgcolor": "#E5ECF6",
           "caxis": {
            "gridcolor": "white",
            "linecolor": "white",
            "ticks": ""
           }
          },
          "title": {
           "x": 0.05
          },
          "xaxis": {
           "automargin": true,
           "gridcolor": "white",
           "linecolor": "white",
           "ticks": "",
           "title": {
            "standoff": 15
           },
           "zerolinecolor": "white",
           "zerolinewidth": 2
          },
          "yaxis": {
           "automargin": true,
           "gridcolor": "white",
           "linecolor": "white",
           "ticks": "",
           "title": {
            "standoff": 15
           },
           "zerolinecolor": "white",
           "zerolinewidth": 2
          }
         }
        },
        "title": {
         "text": "NUMERICAL FEATURE DISTRIBUTION: yield_kg_per_hectare"
        },
        "xaxis": {
         "anchor": "y",
         "domain": [
          0,
          1
         ],
         "matches": "x2",
         "showticklabels": false
        },
        "xaxis2": {
         "anchor": "y2",
         "domain": [
          0,
          1
         ]
        },
        "yaxis": {
         "anchor": "x",
         "domain": [
          0.33499999999999996,
          0.9999999999999999
         ]
        },
        "yaxis2": {
         "anchor": "x2",
         "domain": [
          0,
          0.285
         ]
        }
       }
      }
     },
     "metadata": {},
     "output_type": "display_data"
    },
    {
     "data": {
      "application/vnd.plotly.v1+json": {
       "config": {
        "plotlyServerURL": "https://plot.ly"
       },
       "data": [
        {
         "marker": {
          "color": "lightskyblue"
         },
         "name": "Histogram",
         "nbinsx": 50,
         "type": "histogram",
         "x": [
          14.970941,
          16.613022,
          19.503156,
          31.071298,
          16.56854,
          23.227859,
          25.224255,
          23.317654,
          13.025105,
          24.405291,
          14.755223,
          31.61626,
          28.699389,
          23.069568,
          13.311414,
          16.611648,
          25.927834,
          32.473116,
          16.670143,
          19.99196,
          16.368063,
          13.182195,
          33.9958,
          20.361025,
          32.93675,
          16.932784,
          23.565279,
          22.205737,
          19.477597,
          13.809559,
          19.916361,
          30.558273,
          33.365547,
          22.915681,
          20.637595,
          24.919769,
          21.734924,
          29.392338,
          10.066893,
          11.785246,
          30.898965,
          26.753338,
          11.355102,
          34.806428,
          31.600673,
          21.383615,
          22.557279,
          31.483555,
          11.149774,
          16.349433,
          19.534107,
          25.522279,
          30.761815,
          19.214641,
          11.13367,
          25.391305,
          12.291836,
          31.460153,
          21.906149,
          11.837268,
          20.751749,
          19.316171,
          31.181871,
          29.060238,
          33.535186,
          22.165819,
          22.506559,
          21.502423,
          18.734382,
          31.606172,
          25.37521,
          34.774651,
          34.110251,
          27.570772,
          30.877996,
          17.123198,
          31.825048,
          20.372423,
          21.215037,
          24.918476,
          19.761343,
          34.52048,
          31.553463,
          11.973175,
          33.697609,
          33.720588,
          17.139422,
          31.284051,
          17.732268,
          14.116427,
          28.015819,
          16.121948,
          24.04128,
          34.899235,
          31.179309,
          19.847593,
          14.062551,
          31.802478,
          14.769608,
          14.329561,
          33.342509,
          15.0517,
          10.129536,
          33.348065,
          14.062357,
          21.936352,
          33.07765,
          15.460291,
          27.007381,
          20.592435,
          19.391138,
          15.741602,
          28.513527,
          16.878848,
          31.233523,
          16.71154,
          32.861032,
          19.267623,
          16.433169,
          20.309806,
          23.393453,
          15.646431,
          15.744162,
          33.221874,
          33.87146,
          19.5,
          18.847857,
          11.581679,
          21.005573,
          19.125388,
          27.88091,
          11.107417,
          13.768623,
          17.506602,
          19.889559,
          31.565914,
          12.923723,
          25.485249,
          10.817377,
          28.783637,
          30.338247,
          27.535663,
          33.756352,
          18.593491,
          19.296094,
          27.350775,
          28.060801,
          29.474241,
          34.672063,
          27.815727,
          17.754237,
          23.075134,
          21.379944,
          33.279002,
          31.650806,
          33.309938,
          32.432187,
          18.156289,
          17.605375,
          21.551081,
          12.299466,
          10.866236,
          18.977803,
          16.02882,
          24.077722,
          11.488899,
          26.229507,
          25.991169,
          29.6755,
          11.85501,
          28.050953,
          15.173825,
          15.656057,
          11.973876,
          32.770112,
          33.123204,
          31.973941,
          28.219985,
          14.343434,
          24.672006,
          34.178459,
          26.929904,
          26.40299,
          19.706873,
          16.466296,
          21.805492,
          25.775819,
          10.116728,
          17.455056,
          22.615839,
          27.546705,
          14.966167,
          33.73615,
          10.241808,
          26.221162,
          22.076991,
          20.821198,
          11.258768,
          10.004243,
          27.897838,
          25.271294,
          23.259109,
          16.839897,
          34.533387,
          26.756354,
          26.177986,
          27.738636,
          10.141128,
          11.704412,
          16.008697,
          14.81281,
          28.672271,
          12.957644,
          21.849692,
          24.916372,
          28.776045,
          25.408561,
          17.636795,
          23.586733,
          28.930152,
          12.580625,
          18.625808,
          21.975529,
          25.940568,
          24.913334,
          26.484815,
          20.637235,
          19.056745,
          18.608908,
          21.791717,
          22.953832,
          27.590548,
          33.917734,
          26.922824,
          16.726895,
          25.345674,
          21.958002,
          21.783634,
          13.646093,
          11.500909,
          14.363471,
          14.049987,
          33.510933,
          17.734266,
          25.776188,
          27.194249,
          15.514811,
          34.242905,
          31.088657,
          21.520866,
          26.66737,
          12.285039,
          16.267406,
          21.351974,
          18.065001,
          15.51807,
          33.615087,
          26.631059,
          24.078618,
          32.977802,
          29.822605,
          25.847178,
          13.70031,
          23.106195,
          25.579554,
          10.568703,
          15.017401,
          31.669319,
          16.441984,
          21.22923,
          28.176988,
          15.772784,
          33.135877,
          19.853768,
          32.109939,
          21.272146,
          29.776665,
          34.024153,
          25.030414,
          12.722191,
          11.623147,
          16.491501,
          29.989109,
          28.109916,
          33.194749,
          24.274541,
          22.649867,
          10.102747,
          26.778101,
          11.268155,
          30.232496,
          32.82154,
          12.674532,
          23.613172,
          18.185206,
          24.25691,
          15.881029,
          10.392695,
          14.644776,
          34.589477,
          22.816578,
          30.222394,
          30.196017,
          15.271419,
          10.296576,
          29.328775,
          16.297403,
          25.969513,
          12.710762,
          18.245772,
          25.806813,
          32.130354,
          12.954678,
          30.518481,
          34.11731,
          31.990674,
          27.929969,
          29.915324,
          22.126535,
          24.627306,
          21.464473,
          16.979272,
          23.278043,
          27.582612,
          28.8222,
          23.969761,
          16.928633,
          12.00426,
          28.442731,
          15.669548,
          11.028786,
          33.694726,
          12.921902,
          34.395988,
          17.21585,
          25.97015,
          16.566926,
          25.699901,
          11.217873,
          30.58287,
          21.987956,
          27.270453,
          15.13503,
          27.895291,
          12.821137,
          15.646836,
          20.015607,
          26.095779,
          34.301814,
          23.513225,
          29.100278,
          18.72192,
          14.244481,
          22.418285,
          28.572201,
          20.057524,
          16.009349,
          10.692604,
          29.555844,
          33.741863,
          20.209389,
          31.036824,
          28.916698,
          12.509889,
          17.638688,
          19.189989,
          14.253072,
          28.167702,
          19.587386,
          19.27253,
          17.025016,
          14.088874,
          30.564294,
          30.92443,
          11.768102,
          28.397232,
          12.323687,
          17.387041,
          31.072746,
          20.844973,
          13.127237,
          14.152637,
          24.466532,
          26.207507,
          28.074875,
          34.981531,
          31.335204,
          32.774644,
          17.168957,
          21.064467,
          34.316529,
          30.295777,
          10.585544,
          10.130335,
          12.449696,
          28.292924,
          19.239649,
          13.058198,
          31.658639,
          24.026109,
          30.742264,
          14.2039,
          33.539438,
          16.728993,
          21.29355,
          11.74838,
          33.974817,
          21.129419,
          14.787792,
          26.495961,
          27.017009,
          19.796472,
          31.01269,
          27.334092,
          21.335281,
          25.521272,
          22.942015,
          31.300217,
          33.814706,
          14.353665,
          16.003748,
          29.739695,
          21.606682,
          24.28426,
          10.617955,
          16.250591,
          21.8001,
          20.442197,
          23.4401,
          12.715959,
          11.43633,
          13.969531,
          17.197795,
          15.992381,
          11.829887,
          13.506394,
          21.051454,
          26.998988,
          20.053487,
          18.108857,
          15.815148,
          13.356675,
          23.036798,
          14.938407,
          29.008112,
          11.798491,
          34.811812,
          10.862689,
          27.651744,
          29.417278,
          13.358302,
          17.32814,
          33.30321,
          28.130505,
          31.835862,
          27.798549,
          33.605247,
          31.798515,
          28.51453,
          13.157684,
          24.972008,
          27.510185,
          28.168865,
          15.453412,
          26.252445,
          19.183076,
          12.486031,
          10.1331,
          17.514999,
          31.402129,
          23.397608,
          12.749753,
          24.720676,
          21.921547,
          29.961722,
          17.146272,
          27.564793,
          34.24321,
          18.213795,
          17.482124,
          32.524945,
          33.941965,
          28.231214,
          13.307395,
          17.60725,
          19.089531,
          13.008859,
          16.313138,
          11.519835,
          27.418044,
          26.060328,
          30.598295,
          15.515976,
          17.754006,
          30.762928,
          30.386623,
          18.832748,
          23.262016,
          19.764989,
          13.455532
         ],
         "xaxis": "x",
         "yaxis": "y"
        },
        {
         "boxpoints": "outliers",
         "marker": {
          "color": "skyblue"
         },
         "name": "Boxplot",
         "orientation": "h",
         "type": "box",
         "x": [
          14.970941,
          16.613022,
          19.503156,
          31.071298,
          16.56854,
          23.227859,
          25.224255,
          23.317654,
          13.025105,
          24.405291,
          14.755223,
          31.61626,
          28.699389,
          23.069568,
          13.311414,
          16.611648,
          25.927834,
          32.473116,
          16.670143,
          19.99196,
          16.368063,
          13.182195,
          33.9958,
          20.361025,
          32.93675,
          16.932784,
          23.565279,
          22.205737,
          19.477597,
          13.809559,
          19.916361,
          30.558273,
          33.365547,
          22.915681,
          20.637595,
          24.919769,
          21.734924,
          29.392338,
          10.066893,
          11.785246,
          30.898965,
          26.753338,
          11.355102,
          34.806428,
          31.600673,
          21.383615,
          22.557279,
          31.483555,
          11.149774,
          16.349433,
          19.534107,
          25.522279,
          30.761815,
          19.214641,
          11.13367,
          25.391305,
          12.291836,
          31.460153,
          21.906149,
          11.837268,
          20.751749,
          19.316171,
          31.181871,
          29.060238,
          33.535186,
          22.165819,
          22.506559,
          21.502423,
          18.734382,
          31.606172,
          25.37521,
          34.774651,
          34.110251,
          27.570772,
          30.877996,
          17.123198,
          31.825048,
          20.372423,
          21.215037,
          24.918476,
          19.761343,
          34.52048,
          31.553463,
          11.973175,
          33.697609,
          33.720588,
          17.139422,
          31.284051,
          17.732268,
          14.116427,
          28.015819,
          16.121948,
          24.04128,
          34.899235,
          31.179309,
          19.847593,
          14.062551,
          31.802478,
          14.769608,
          14.329561,
          33.342509,
          15.0517,
          10.129536,
          33.348065,
          14.062357,
          21.936352,
          33.07765,
          15.460291,
          27.007381,
          20.592435,
          19.391138,
          15.741602,
          28.513527,
          16.878848,
          31.233523,
          16.71154,
          32.861032,
          19.267623,
          16.433169,
          20.309806,
          23.393453,
          15.646431,
          15.744162,
          33.221874,
          33.87146,
          19.5,
          18.847857,
          11.581679,
          21.005573,
          19.125388,
          27.88091,
          11.107417,
          13.768623,
          17.506602,
          19.889559,
          31.565914,
          12.923723,
          25.485249,
          10.817377,
          28.783637,
          30.338247,
          27.535663,
          33.756352,
          18.593491,
          19.296094,
          27.350775,
          28.060801,
          29.474241,
          34.672063,
          27.815727,
          17.754237,
          23.075134,
          21.379944,
          33.279002,
          31.650806,
          33.309938,
          32.432187,
          18.156289,
          17.605375,
          21.551081,
          12.299466,
          10.866236,
          18.977803,
          16.02882,
          24.077722,
          11.488899,
          26.229507,
          25.991169,
          29.6755,
          11.85501,
          28.050953,
          15.173825,
          15.656057,
          11.973876,
          32.770112,
          33.123204,
          31.973941,
          28.219985,
          14.343434,
          24.672006,
          34.178459,
          26.929904,
          26.40299,
          19.706873,
          16.466296,
          21.805492,
          25.775819,
          10.116728,
          17.455056,
          22.615839,
          27.546705,
          14.966167,
          33.73615,
          10.241808,
          26.221162,
          22.076991,
          20.821198,
          11.258768,
          10.004243,
          27.897838,
          25.271294,
          23.259109,
          16.839897,
          34.533387,
          26.756354,
          26.177986,
          27.738636,
          10.141128,
          11.704412,
          16.008697,
          14.81281,
          28.672271,
          12.957644,
          21.849692,
          24.916372,
          28.776045,
          25.408561,
          17.636795,
          23.586733,
          28.930152,
          12.580625,
          18.625808,
          21.975529,
          25.940568,
          24.913334,
          26.484815,
          20.637235,
          19.056745,
          18.608908,
          21.791717,
          22.953832,
          27.590548,
          33.917734,
          26.922824,
          16.726895,
          25.345674,
          21.958002,
          21.783634,
          13.646093,
          11.500909,
          14.363471,
          14.049987,
          33.510933,
          17.734266,
          25.776188,
          27.194249,
          15.514811,
          34.242905,
          31.088657,
          21.520866,
          26.66737,
          12.285039,
          16.267406,
          21.351974,
          18.065001,
          15.51807,
          33.615087,
          26.631059,
          24.078618,
          32.977802,
          29.822605,
          25.847178,
          13.70031,
          23.106195,
          25.579554,
          10.568703,
          15.017401,
          31.669319,
          16.441984,
          21.22923,
          28.176988,
          15.772784,
          33.135877,
          19.853768,
          32.109939,
          21.272146,
          29.776665,
          34.024153,
          25.030414,
          12.722191,
          11.623147,
          16.491501,
          29.989109,
          28.109916,
          33.194749,
          24.274541,
          22.649867,
          10.102747,
          26.778101,
          11.268155,
          30.232496,
          32.82154,
          12.674532,
          23.613172,
          18.185206,
          24.25691,
          15.881029,
          10.392695,
          14.644776,
          34.589477,
          22.816578,
          30.222394,
          30.196017,
          15.271419,
          10.296576,
          29.328775,
          16.297403,
          25.969513,
          12.710762,
          18.245772,
          25.806813,
          32.130354,
          12.954678,
          30.518481,
          34.11731,
          31.990674,
          27.929969,
          29.915324,
          22.126535,
          24.627306,
          21.464473,
          16.979272,
          23.278043,
          27.582612,
          28.8222,
          23.969761,
          16.928633,
          12.00426,
          28.442731,
          15.669548,
          11.028786,
          33.694726,
          12.921902,
          34.395988,
          17.21585,
          25.97015,
          16.566926,
          25.699901,
          11.217873,
          30.58287,
          21.987956,
          27.270453,
          15.13503,
          27.895291,
          12.821137,
          15.646836,
          20.015607,
          26.095779,
          34.301814,
          23.513225,
          29.100278,
          18.72192,
          14.244481,
          22.418285,
          28.572201,
          20.057524,
          16.009349,
          10.692604,
          29.555844,
          33.741863,
          20.209389,
          31.036824,
          28.916698,
          12.509889,
          17.638688,
          19.189989,
          14.253072,
          28.167702,
          19.587386,
          19.27253,
          17.025016,
          14.088874,
          30.564294,
          30.92443,
          11.768102,
          28.397232,
          12.323687,
          17.387041,
          31.072746,
          20.844973,
          13.127237,
          14.152637,
          24.466532,
          26.207507,
          28.074875,
          34.981531,
          31.335204,
          32.774644,
          17.168957,
          21.064467,
          34.316529,
          30.295777,
          10.585544,
          10.130335,
          12.449696,
          28.292924,
          19.239649,
          13.058198,
          31.658639,
          24.026109,
          30.742264,
          14.2039,
          33.539438,
          16.728993,
          21.29355,
          11.74838,
          33.974817,
          21.129419,
          14.787792,
          26.495961,
          27.017009,
          19.796472,
          31.01269,
          27.334092,
          21.335281,
          25.521272,
          22.942015,
          31.300217,
          33.814706,
          14.353665,
          16.003748,
          29.739695,
          21.606682,
          24.28426,
          10.617955,
          16.250591,
          21.8001,
          20.442197,
          23.4401,
          12.715959,
          11.43633,
          13.969531,
          17.197795,
          15.992381,
          11.829887,
          13.506394,
          21.051454,
          26.998988,
          20.053487,
          18.108857,
          15.815148,
          13.356675,
          23.036798,
          14.938407,
          29.008112,
          11.798491,
          34.811812,
          10.862689,
          27.651744,
          29.417278,
          13.358302,
          17.32814,
          33.30321,
          28.130505,
          31.835862,
          27.798549,
          33.605247,
          31.798515,
          28.51453,
          13.157684,
          24.972008,
          27.510185,
          28.168865,
          15.453412,
          26.252445,
          19.183076,
          12.486031,
          10.1331,
          17.514999,
          31.402129,
          23.397608,
          12.749753,
          24.720676,
          21.921547,
          29.961722,
          17.146272,
          27.564793,
          34.24321,
          18.213795,
          17.482124,
          32.524945,
          33.941965,
          28.231214,
          13.307395,
          17.60725,
          19.089531,
          13.008859,
          16.313138,
          11.519835,
          27.418044,
          26.060328,
          30.598295,
          15.515976,
          17.754006,
          30.762928,
          30.386623,
          18.832748,
          23.262016,
          19.764989,
          13.455532
         ],
         "xaxis": "x2",
         "yaxis": "y2"
        }
       ],
       "layout": {
        "annotations": [
         {
          "font": {
           "size": 16
          },
          "showarrow": false,
          "text": "Histogram of latitude",
          "x": 0.5,
          "xanchor": "center",
          "xref": "paper",
          "y": 0.9999999999999999,
          "yanchor": "bottom",
          "yref": "paper"
         },
         {
          "font": {
           "size": 16
          },
          "showarrow": false,
          "text": "Boxplot of latitude",
          "x": 0.5,
          "xanchor": "center",
          "xref": "paper",
          "y": 0.285,
          "yanchor": "bottom",
          "yref": "paper"
         }
        ],
        "height": 600,
        "showlegend": false,
        "template": {
         "data": {
          "bar": [
           {
            "error_x": {
             "color": "#2a3f5f"
            },
            "error_y": {
             "color": "#2a3f5f"
            },
            "marker": {
             "line": {
              "color": "#E5ECF6",
              "width": 0.5
             },
             "pattern": {
              "fillmode": "overlay",
              "size": 10,
              "solidity": 0.2
             }
            },
            "type": "bar"
           }
          ],
          "barpolar": [
           {
            "marker": {
             "line": {
              "color": "#E5ECF6",
              "width": 0.5
             },
             "pattern": {
              "fillmode": "overlay",
              "size": 10,
              "solidity": 0.2
             }
            },
            "type": "barpolar"
           }
          ],
          "carpet": [
           {
            "aaxis": {
             "endlinecolor": "#2a3f5f",
             "gridcolor": "white",
             "linecolor": "white",
             "minorgridcolor": "white",
             "startlinecolor": "#2a3f5f"
            },
            "baxis": {
             "endlinecolor": "#2a3f5f",
             "gridcolor": "white",
             "linecolor": "white",
             "minorgridcolor": "white",
             "startlinecolor": "#2a3f5f"
            },
            "type": "carpet"
           }
          ],
          "choropleth": [
           {
            "colorbar": {
             "outlinewidth": 0,
             "ticks": ""
            },
            "type": "choropleth"
           }
          ],
          "contour": [
           {
            "colorbar": {
             "outlinewidth": 0,
             "ticks": ""
            },
            "colorscale": [
             [
              0,
              "#0d0887"
             ],
             [
              0.1111111111111111,
              "#46039f"
             ],
             [
              0.2222222222222222,
              "#7201a8"
             ],
             [
              0.3333333333333333,
              "#9c179e"
             ],
             [
              0.4444444444444444,
              "#bd3786"
             ],
             [
              0.5555555555555556,
              "#d8576b"
             ],
             [
              0.6666666666666666,
              "#ed7953"
             ],
             [
              0.7777777777777778,
              "#fb9f3a"
             ],
             [
              0.8888888888888888,
              "#fdca26"
             ],
             [
              1,
              "#f0f921"
             ]
            ],
            "type": "contour"
           }
          ],
          "contourcarpet": [
           {
            "colorbar": {
             "outlinewidth": 0,
             "ticks": ""
            },
            "type": "contourcarpet"
           }
          ],
          "heatmap": [
           {
            "colorbar": {
             "outlinewidth": 0,
             "ticks": ""
            },
            "colorscale": [
             [
              0,
              "#0d0887"
             ],
             [
              0.1111111111111111,
              "#46039f"
             ],
             [
              0.2222222222222222,
              "#7201a8"
             ],
             [
              0.3333333333333333,
              "#9c179e"
             ],
             [
              0.4444444444444444,
              "#bd3786"
             ],
             [
              0.5555555555555556,
              "#d8576b"
             ],
             [
              0.6666666666666666,
              "#ed7953"
             ],
             [
              0.7777777777777778,
              "#fb9f3a"
             ],
             [
              0.8888888888888888,
              "#fdca26"
             ],
             [
              1,
              "#f0f921"
             ]
            ],
            "type": "heatmap"
           }
          ],
          "heatmapgl": [
           {
            "colorbar": {
             "outlinewidth": 0,
             "ticks": ""
            },
            "colorscale": [
             [
              0,
              "#0d0887"
             ],
             [
              0.1111111111111111,
              "#46039f"
             ],
             [
              0.2222222222222222,
              "#7201a8"
             ],
             [
              0.3333333333333333,
              "#9c179e"
             ],
             [
              0.4444444444444444,
              "#bd3786"
             ],
             [
              0.5555555555555556,
              "#d8576b"
             ],
             [
              0.6666666666666666,
              "#ed7953"
             ],
             [
              0.7777777777777778,
              "#fb9f3a"
             ],
             [
              0.8888888888888888,
              "#fdca26"
             ],
             [
              1,
              "#f0f921"
             ]
            ],
            "type": "heatmapgl"
           }
          ],
          "histogram": [
           {
            "marker": {
             "pattern": {
              "fillmode": "overlay",
              "size": 10,
              "solidity": 0.2
             }
            },
            "type": "histogram"
           }
          ],
          "histogram2d": [
           {
            "colorbar": {
             "outlinewidth": 0,
             "ticks": ""
            },
            "colorscale": [
             [
              0,
              "#0d0887"
             ],
             [
              0.1111111111111111,
              "#46039f"
             ],
             [
              0.2222222222222222,
              "#7201a8"
             ],
             [
              0.3333333333333333,
              "#9c179e"
             ],
             [
              0.4444444444444444,
              "#bd3786"
             ],
             [
              0.5555555555555556,
              "#d8576b"
             ],
             [
              0.6666666666666666,
              "#ed7953"
             ],
             [
              0.7777777777777778,
              "#fb9f3a"
             ],
             [
              0.8888888888888888,
              "#fdca26"
             ],
             [
              1,
              "#f0f921"
             ]
            ],
            "type": "histogram2d"
           }
          ],
          "histogram2dcontour": [
           {
            "colorbar": {
             "outlinewidth": 0,
             "ticks": ""
            },
            "colorscale": [
             [
              0,
              "#0d0887"
             ],
             [
              0.1111111111111111,
              "#46039f"
             ],
             [
              0.2222222222222222,
              "#7201a8"
             ],
             [
              0.3333333333333333,
              "#9c179e"
             ],
             [
              0.4444444444444444,
              "#bd3786"
             ],
             [
              0.5555555555555556,
              "#d8576b"
             ],
             [
              0.6666666666666666,
              "#ed7953"
             ],
             [
              0.7777777777777778,
              "#fb9f3a"
             ],
             [
              0.8888888888888888,
              "#fdca26"
             ],
             [
              1,
              "#f0f921"
             ]
            ],
            "type": "histogram2dcontour"
           }
          ],
          "mesh3d": [
           {
            "colorbar": {
             "outlinewidth": 0,
             "ticks": ""
            },
            "type": "mesh3d"
           }
          ],
          "parcoords": [
           {
            "line": {
             "colorbar": {
              "outlinewidth": 0,
              "ticks": ""
             }
            },
            "type": "parcoords"
           }
          ],
          "pie": [
           {
            "automargin": true,
            "type": "pie"
           }
          ],
          "scatter": [
           {
            "fillpattern": {
             "fillmode": "overlay",
             "size": 10,
             "solidity": 0.2
            },
            "type": "scatter"
           }
          ],
          "scatter3d": [
           {
            "line": {
             "colorbar": {
              "outlinewidth": 0,
              "ticks": ""
             }
            },
            "marker": {
             "colorbar": {
              "outlinewidth": 0,
              "ticks": ""
             }
            },
            "type": "scatter3d"
           }
          ],
          "scattercarpet": [
           {
            "marker": {
             "colorbar": {
              "outlinewidth": 0,
              "ticks": ""
             }
            },
            "type": "scattercarpet"
           }
          ],
          "scattergeo": [
           {
            "marker": {
             "colorbar": {
              "outlinewidth": 0,
              "ticks": ""
             }
            },
            "type": "scattergeo"
           }
          ],
          "scattergl": [
           {
            "marker": {
             "colorbar": {
              "outlinewidth": 0,
              "ticks": ""
             }
            },
            "type": "scattergl"
           }
          ],
          "scattermapbox": [
           {
            "marker": {
             "colorbar": {
              "outlinewidth": 0,
              "ticks": ""
             }
            },
            "type": "scattermapbox"
           }
          ],
          "scatterpolar": [
           {
            "marker": {
             "colorbar": {
              "outlinewidth": 0,
              "ticks": ""
             }
            },
            "type": "scatterpolar"
           }
          ],
          "scatterpolargl": [
           {
            "marker": {
             "colorbar": {
              "outlinewidth": 0,
              "ticks": ""
             }
            },
            "type": "scatterpolargl"
           }
          ],
          "scatterternary": [
           {
            "marker": {
             "colorbar": {
              "outlinewidth": 0,
              "ticks": ""
             }
            },
            "type": "scatterternary"
           }
          ],
          "surface": [
           {
            "colorbar": {
             "outlinewidth": 0,
             "ticks": ""
            },
            "colorscale": [
             [
              0,
              "#0d0887"
             ],
             [
              0.1111111111111111,
              "#46039f"
             ],
             [
              0.2222222222222222,
              "#7201a8"
             ],
             [
              0.3333333333333333,
              "#9c179e"
             ],
             [
              0.4444444444444444,
              "#bd3786"
             ],
             [
              0.5555555555555556,
              "#d8576b"
             ],
             [
              0.6666666666666666,
              "#ed7953"
             ],
             [
              0.7777777777777778,
              "#fb9f3a"
             ],
             [
              0.8888888888888888,
              "#fdca26"
             ],
             [
              1,
              "#f0f921"
             ]
            ],
            "type": "surface"
           }
          ],
          "table": [
           {
            "cells": {
             "fill": {
              "color": "#EBF0F8"
             },
             "line": {
              "color": "white"
             }
            },
            "header": {
             "fill": {
              "color": "#C8D4E3"
             },
             "line": {
              "color": "white"
             }
            },
            "type": "table"
           }
          ]
         },
         "layout": {
          "annotationdefaults": {
           "arrowcolor": "#2a3f5f",
           "arrowhead": 0,
           "arrowwidth": 1
          },
          "autotypenumbers": "strict",
          "coloraxis": {
           "colorbar": {
            "outlinewidth": 0,
            "ticks": ""
           }
          },
          "colorscale": {
           "diverging": [
            [
             0,
             "#8e0152"
            ],
            [
             0.1,
             "#c51b7d"
            ],
            [
             0.2,
             "#de77ae"
            ],
            [
             0.3,
             "#f1b6da"
            ],
            [
             0.4,
             "#fde0ef"
            ],
            [
             0.5,
             "#f7f7f7"
            ],
            [
             0.6,
             "#e6f5d0"
            ],
            [
             0.7,
             "#b8e186"
            ],
            [
             0.8,
             "#7fbc41"
            ],
            [
             0.9,
             "#4d9221"
            ],
            [
             1,
             "#276419"
            ]
           ],
           "sequential": [
            [
             0,
             "#0d0887"
            ],
            [
             0.1111111111111111,
             "#46039f"
            ],
            [
             0.2222222222222222,
             "#7201a8"
            ],
            [
             0.3333333333333333,
             "#9c179e"
            ],
            [
             0.4444444444444444,
             "#bd3786"
            ],
            [
             0.5555555555555556,
             "#d8576b"
            ],
            [
             0.6666666666666666,
             "#ed7953"
            ],
            [
             0.7777777777777778,
             "#fb9f3a"
            ],
            [
             0.8888888888888888,
             "#fdca26"
            ],
            [
             1,
             "#f0f921"
            ]
           ],
           "sequentialminus": [
            [
             0,
             "#0d0887"
            ],
            [
             0.1111111111111111,
             "#46039f"
            ],
            [
             0.2222222222222222,
             "#7201a8"
            ],
            [
             0.3333333333333333,
             "#9c179e"
            ],
            [
             0.4444444444444444,
             "#bd3786"
            ],
            [
             0.5555555555555556,
             "#d8576b"
            ],
            [
             0.6666666666666666,
             "#ed7953"
            ],
            [
             0.7777777777777778,
             "#fb9f3a"
            ],
            [
             0.8888888888888888,
             "#fdca26"
            ],
            [
             1,
             "#f0f921"
            ]
           ]
          },
          "colorway": [
           "#636efa",
           "#EF553B",
           "#00cc96",
           "#ab63fa",
           "#FFA15A",
           "#19d3f3",
           "#FF6692",
           "#B6E880",
           "#FF97FF",
           "#FECB52"
          ],
          "font": {
           "color": "#2a3f5f"
          },
          "geo": {
           "bgcolor": "white",
           "lakecolor": "white",
           "landcolor": "#E5ECF6",
           "showlakes": true,
           "showland": true,
           "subunitcolor": "white"
          },
          "hoverlabel": {
           "align": "left"
          },
          "hovermode": "closest",
          "mapbox": {
           "style": "light"
          },
          "paper_bgcolor": "white",
          "plot_bgcolor": "#E5ECF6",
          "polar": {
           "angularaxis": {
            "gridcolor": "white",
            "linecolor": "white",
            "ticks": ""
           },
           "bgcolor": "#E5ECF6",
           "radialaxis": {
            "gridcolor": "white",
            "linecolor": "white",
            "ticks": ""
           }
          },
          "scene": {
           "xaxis": {
            "backgroundcolor": "#E5ECF6",
            "gridcolor": "white",
            "gridwidth": 2,
            "linecolor": "white",
            "showbackground": true,
            "ticks": "",
            "zerolinecolor": "white"
           },
           "yaxis": {
            "backgroundcolor": "#E5ECF6",
            "gridcolor": "white",
            "gridwidth": 2,
            "linecolor": "white",
            "showbackground": true,
            "ticks": "",
            "zerolinecolor": "white"
           },
           "zaxis": {
            "backgroundcolor": "#E5ECF6",
            "gridcolor": "white",
            "gridwidth": 2,
            "linecolor": "white",
            "showbackground": true,
            "ticks": "",
            "zerolinecolor": "white"
           }
          },
          "shapedefaults": {
           "line": {
            "color": "#2a3f5f"
           }
          },
          "ternary": {
           "aaxis": {
            "gridcolor": "white",
            "linecolor": "white",
            "ticks": ""
           },
           "baxis": {
            "gridcolor": "white",
            "linecolor": "white",
            "ticks": ""
           },
           "bgcolor": "#E5ECF6",
           "caxis": {
            "gridcolor": "white",
            "linecolor": "white",
            "ticks": ""
           }
          },
          "title": {
           "x": 0.05
          },
          "xaxis": {
           "automargin": true,
           "gridcolor": "white",
           "linecolor": "white",
           "ticks": "",
           "title": {
            "standoff": 15
           },
           "zerolinecolor": "white",
           "zerolinewidth": 2
          },
          "yaxis": {
           "automargin": true,
           "gridcolor": "white",
           "linecolor": "white",
           "ticks": "",
           "title": {
            "standoff": 15
           },
           "zerolinecolor": "white",
           "zerolinewidth": 2
          }
         }
        },
        "title": {
         "text": "NUMERICAL FEATURE DISTRIBUTION: latitude"
        },
        "xaxis": {
         "anchor": "y",
         "domain": [
          0,
          1
         ],
         "matches": "x2",
         "showticklabels": false
        },
        "xaxis2": {
         "anchor": "y2",
         "domain": [
          0,
          1
         ]
        },
        "yaxis": {
         "anchor": "x",
         "domain": [
          0.33499999999999996,
          0.9999999999999999
         ]
        },
        "yaxis2": {
         "anchor": "x2",
         "domain": [
          0,
          0.285
         ]
        }
       }
      }
     },
     "metadata": {},
     "output_type": "display_data"
    },
    {
     "data": {
      "application/vnd.plotly.v1+json": {
       "config": {
        "plotlyServerURL": "https://plot.ly"
       },
       "data": [
        {
         "marker": {
          "color": "lightskyblue"
         },
         "name": "Histogram",
         "nbinsx": 50,
         "type": "histogram",
         "x": [
          82.997689,
          70.869009,
          79.068206,
          85.519998,
          81.69172,
          89.421568,
          73.056785,
          72.51521,
          74.493947,
          74.859945,
          78.972271,
          88.048857,
          71.143305,
          88.694125,
          76.980177,
          87.794254,
          75.239105,
          74.201531,
          85.74749,
          89.622994,
          84.175706,
          78.408927,
          84.719229,
          82.595308,
          72.427172,
          85.553497,
          78.315485,
          75.458706,
          74.233206,
          72.524419,
          84.300294,
          72.110777,
          75.578565,
          73.821128,
          84.918709,
          89.610213,
          78.809376,
          77.607561,
          79.010074,
          73.318456,
          81.503982,
          87.154662,
          80.368788,
          88.258598,
          75.524948,
          76.435547,
          81.803609,
          77.600188,
          85.922869,
          75.106534,
          77.179183,
          83.555289,
          75.139402,
          84.980232,
          70.744243,
          88.781061,
          74.242116,
          72.89376,
          85.560341,
          71.61581,
          87.76182,
          72.602309,
          77.00228,
          88.43075,
          81.924475,
          83.342651,
          86.667084,
          83.792201,
          84.547582,
          82.544348,
          80.141356,
          80.481371,
          82.054016,
          88.942172,
          87.673643,
          84.97073,
          71.043596,
          77.929079,
          70.105024,
          70.328707,
          79.402702,
          79.570623,
          70.956081,
          82.049066,
          71.500823,
          77.440268,
          88.329578,
          84.236182,
          89.991901,
          76.453215,
          82.102778,
          86.146986,
          76.382318,
          79.336302,
          78.618555,
          85.897945,
          89.812315,
          82.58521,
          78.820771,
          88.242483,
          85.908107,
          80.771558,
          81.007051,
          70.726797,
          79.178289,
          88.716508,
          87.756028,
          74.949309,
          84.338359,
          84.007698,
          83.654607,
          79.212506,
          78.045307,
          81.134362,
          76.014728,
          83.473438,
          83.912526,
          78.278603,
          86.431839,
          86.850894,
          75.733771,
          83.680833,
          88.025459,
          75.985538,
          77.934061,
          85.677806,
          71.861285,
          78.693525,
          78.612324,
          88.641343,
          85.781535,
          89.672164,
          89.954055,
          86.203719,
          84.747767,
          80.5543,
          77.466121,
          87.310445,
          74.496868,
          75.954179,
          86.10881,
          72.653817,
          76.545786,
          83.651039,
          88.076005,
          79.554005,
          82.561601,
          83.809522,
          88.678488,
          85.3422,
          78.749721,
          85.659742,
          77.202478,
          87.149704,
          85.47055,
          70.478205,
          80.395184,
          79.055157,
          84.094096,
          86.077935,
          86.945509,
          82.383531,
          80.890356,
          80.673791,
          73.764673,
          72.95424,
          73.484053,
          72.082205,
          84.408272,
          73.402104,
          84.59948,
          82.763813,
          75.37124,
          88.055544,
          88.283479,
          81.253675,
          83.810275,
          82.099583,
          87.503611,
          76.995198,
          83.643995,
          86.486216,
          89.043756,
          70.70638,
          86.166877,
          73.890876,
          73.536485,
          80.675652,
          75.816556,
          72.46324,
          74.109898,
          73.994988,
          85.590524,
          72.767889,
          85.938191,
          79.762456,
          84.533039,
          74.45413,
          71.817911,
          72.280467,
          73.750868,
          70.971432,
          89.271871,
          83.001728,
          73.998048,
          77.777733,
          77.354822,
          79.326627,
          80.102807,
          82.845287,
          80.277894,
          73.075092,
          70.117979,
          80.669355,
          80.743041,
          89.801528,
          76.11351,
          81.033437,
          89.974564,
          72.807414,
          89.368828,
          85.853149,
          81.815818,
          87.57018,
          71.376858,
          88.039695,
          75.090361,
          73.095572,
          84.109892,
          82.004909,
          73.89493,
          88.383548,
          87.522261,
          74.598603,
          88.942362,
          85.284884,
          80.815359,
          82.261681,
          89.182958,
          86.276361,
          85.606182,
          74.564359,
          84.013939,
          74.94793,
          82.717023,
          79.838633,
          71.584195,
          70.442618,
          89.032881,
          85.419919,
          89.465481,
          82.372897,
          70.789771,
          85.518358,
          82.818079,
          84.356904,
          89.211735,
          87.65648,
          74.278563,
          80.22543,
          73.45805,
          82.643872,
          76.723364,
          74.846302,
          78.809268,
          74.180191,
          83.930534,
          80.631213,
          77.743412,
          72.635443,
          85.3087,
          74.643651,
          89.003961,
          88.782783,
          85.47354,
          73.577572,
          80.233329,
          75.775611,
          70.13146,
          89.874704,
          79.416337,
          81.502854,
          89.97974,
          82.319867,
          71.120446,
          77.791325,
          85.980506,
          88.646747,
          75.453084,
          70.579854,
          71.570912,
          77.841538,
          81.122997,
          74.723086,
          82.899782,
          88.264085,
          84.044438,
          84.426785,
          82.091465,
          89.673368,
          79.384648,
          82.48634,
          75.225052,
          84.687222,
          88.544451,
          84.981818,
          70.680835,
          88.453908,
          80.812643,
          77.826607,
          89.176478,
          78.759675,
          86.142074,
          71.945845,
          74.264637,
          71.614452,
          82.240996,
          83.704875,
          72.321302,
          71.086787,
          73.424026,
          84.600355,
          79.585387,
          87.158442,
          83.9611,
          71.340118,
          71.267384,
          87.958917,
          70.429646,
          77.438046,
          76.332517,
          88.556226,
          70.495912,
          77.888472,
          86.113456,
          75.466577,
          89.120532,
          79.520814,
          75.833282,
          70.257953,
          76.231469,
          85.680594,
          88.023497,
          89.285276,
          89.692255,
          78.145644,
          81.811145,
          78.004711,
          77.65266,
          70.353408,
          81.377104,
          84.841143,
          80.768336,
          86.229144,
          71.839157,
          82.499278,
          84.92867,
          85.940895,
          71.106545,
          88.631113,
          87.257999,
          83.244469,
          75.948458,
          73.206867,
          81.516187,
          77.869884,
          81.344858,
          73.787263,
          78.465819,
          89.361156,
          77.211844,
          79.342657,
          81.264948,
          73.075509,
          89.038004,
          88.433996,
          80.266829,
          70.954565,
          70.905174,
          70.358304,
          70.277518,
          73.048445,
          84.621571,
          87.782812,
          77.807425,
          77.175735,
          87.473914,
          73.140651,
          73.425236,
          85.403037,
          78.386106,
          82.97514,
          87.806387,
          76.779606,
          84.232808,
          78.338447,
          75.791812,
          76.972979,
          76.504326,
          72.475632,
          86.778349,
          72.880685,
          87.99003,
          89.269494,
          70.020021,
          71.794302,
          76.569145,
          72.468312,
          86.325616,
          81.314141,
          87.662039,
          76.694116,
          74.943071,
          85.652925,
          79.284182,
          73.718468,
          83.153536,
          81.321938,
          76.630302,
          87.707645,
          86.189755,
          76.553612,
          76.436463,
          88.709978,
          78.83377,
          84.904227,
          80.252939,
          78.773616,
          76.52159,
          81.3903,
          80.370634,
          81.501828,
          87.619881,
          87.410792,
          83.889714,
          86.408534,
          70.95512,
          71.26343,
          76.324804,
          82.617478,
          82.326973,
          76.350773,
          73.670909,
          78.480336,
          86.392076,
          72.733127,
          72.48955,
          86.262528,
          89.482912,
          76.887856,
          79.729425,
          77.554571,
          79.464636,
          87.759411,
          89.391952,
          87.397174,
          83.99818,
          88.635599,
          88.744213,
          83.274856,
          76.177829,
          71.051326,
          75.647282,
          84.96765,
          81.867848,
          72.400008,
          71.269966,
          78.944658,
          88.924292,
          74.304259,
          71.411161,
          80.967376,
          86.135963,
          72.551444,
          80.044585,
          88.59178,
          84.993359,
          76.759172,
          77.077855,
          78.566829,
          73.20625,
          85.854259,
          73.737205,
          70.767329,
          75.384922,
          76.087134,
          81.731229,
          87.541507,
          89.44948,
          87.5831,
          74.980161,
          74.385592,
          75.37587,
          87.705061,
          88.693555,
          76.1477,
          75.736924,
          81.99223,
          84.426869,
          88.880605
         ],
         "xaxis": "x",
         "yaxis": "y"
        },
        {
         "boxpoints": "outliers",
         "marker": {
          "color": "skyblue"
         },
         "name": "Boxplot",
         "orientation": "h",
         "type": "box",
         "x": [
          82.997689,
          70.869009,
          79.068206,
          85.519998,
          81.69172,
          89.421568,
          73.056785,
          72.51521,
          74.493947,
          74.859945,
          78.972271,
          88.048857,
          71.143305,
          88.694125,
          76.980177,
          87.794254,
          75.239105,
          74.201531,
          85.74749,
          89.622994,
          84.175706,
          78.408927,
          84.719229,
          82.595308,
          72.427172,
          85.553497,
          78.315485,
          75.458706,
          74.233206,
          72.524419,
          84.300294,
          72.110777,
          75.578565,
          73.821128,
          84.918709,
          89.610213,
          78.809376,
          77.607561,
          79.010074,
          73.318456,
          81.503982,
          87.154662,
          80.368788,
          88.258598,
          75.524948,
          76.435547,
          81.803609,
          77.600188,
          85.922869,
          75.106534,
          77.179183,
          83.555289,
          75.139402,
          84.980232,
          70.744243,
          88.781061,
          74.242116,
          72.89376,
          85.560341,
          71.61581,
          87.76182,
          72.602309,
          77.00228,
          88.43075,
          81.924475,
          83.342651,
          86.667084,
          83.792201,
          84.547582,
          82.544348,
          80.141356,
          80.481371,
          82.054016,
          88.942172,
          87.673643,
          84.97073,
          71.043596,
          77.929079,
          70.105024,
          70.328707,
          79.402702,
          79.570623,
          70.956081,
          82.049066,
          71.500823,
          77.440268,
          88.329578,
          84.236182,
          89.991901,
          76.453215,
          82.102778,
          86.146986,
          76.382318,
          79.336302,
          78.618555,
          85.897945,
          89.812315,
          82.58521,
          78.820771,
          88.242483,
          85.908107,
          80.771558,
          81.007051,
          70.726797,
          79.178289,
          88.716508,
          87.756028,
          74.949309,
          84.338359,
          84.007698,
          83.654607,
          79.212506,
          78.045307,
          81.134362,
          76.014728,
          83.473438,
          83.912526,
          78.278603,
          86.431839,
          86.850894,
          75.733771,
          83.680833,
          88.025459,
          75.985538,
          77.934061,
          85.677806,
          71.861285,
          78.693525,
          78.612324,
          88.641343,
          85.781535,
          89.672164,
          89.954055,
          86.203719,
          84.747767,
          80.5543,
          77.466121,
          87.310445,
          74.496868,
          75.954179,
          86.10881,
          72.653817,
          76.545786,
          83.651039,
          88.076005,
          79.554005,
          82.561601,
          83.809522,
          88.678488,
          85.3422,
          78.749721,
          85.659742,
          77.202478,
          87.149704,
          85.47055,
          70.478205,
          80.395184,
          79.055157,
          84.094096,
          86.077935,
          86.945509,
          82.383531,
          80.890356,
          80.673791,
          73.764673,
          72.95424,
          73.484053,
          72.082205,
          84.408272,
          73.402104,
          84.59948,
          82.763813,
          75.37124,
          88.055544,
          88.283479,
          81.253675,
          83.810275,
          82.099583,
          87.503611,
          76.995198,
          83.643995,
          86.486216,
          89.043756,
          70.70638,
          86.166877,
          73.890876,
          73.536485,
          80.675652,
          75.816556,
          72.46324,
          74.109898,
          73.994988,
          85.590524,
          72.767889,
          85.938191,
          79.762456,
          84.533039,
          74.45413,
          71.817911,
          72.280467,
          73.750868,
          70.971432,
          89.271871,
          83.001728,
          73.998048,
          77.777733,
          77.354822,
          79.326627,
          80.102807,
          82.845287,
          80.277894,
          73.075092,
          70.117979,
          80.669355,
          80.743041,
          89.801528,
          76.11351,
          81.033437,
          89.974564,
          72.807414,
          89.368828,
          85.853149,
          81.815818,
          87.57018,
          71.376858,
          88.039695,
          75.090361,
          73.095572,
          84.109892,
          82.004909,
          73.89493,
          88.383548,
          87.522261,
          74.598603,
          88.942362,
          85.284884,
          80.815359,
          82.261681,
          89.182958,
          86.276361,
          85.606182,
          74.564359,
          84.013939,
          74.94793,
          82.717023,
          79.838633,
          71.584195,
          70.442618,
          89.032881,
          85.419919,
          89.465481,
          82.372897,
          70.789771,
          85.518358,
          82.818079,
          84.356904,
          89.211735,
          87.65648,
          74.278563,
          80.22543,
          73.45805,
          82.643872,
          76.723364,
          74.846302,
          78.809268,
          74.180191,
          83.930534,
          80.631213,
          77.743412,
          72.635443,
          85.3087,
          74.643651,
          89.003961,
          88.782783,
          85.47354,
          73.577572,
          80.233329,
          75.775611,
          70.13146,
          89.874704,
          79.416337,
          81.502854,
          89.97974,
          82.319867,
          71.120446,
          77.791325,
          85.980506,
          88.646747,
          75.453084,
          70.579854,
          71.570912,
          77.841538,
          81.122997,
          74.723086,
          82.899782,
          88.264085,
          84.044438,
          84.426785,
          82.091465,
          89.673368,
          79.384648,
          82.48634,
          75.225052,
          84.687222,
          88.544451,
          84.981818,
          70.680835,
          88.453908,
          80.812643,
          77.826607,
          89.176478,
          78.759675,
          86.142074,
          71.945845,
          74.264637,
          71.614452,
          82.240996,
          83.704875,
          72.321302,
          71.086787,
          73.424026,
          84.600355,
          79.585387,
          87.158442,
          83.9611,
          71.340118,
          71.267384,
          87.958917,
          70.429646,
          77.438046,
          76.332517,
          88.556226,
          70.495912,
          77.888472,
          86.113456,
          75.466577,
          89.120532,
          79.520814,
          75.833282,
          70.257953,
          76.231469,
          85.680594,
          88.023497,
          89.285276,
          89.692255,
          78.145644,
          81.811145,
          78.004711,
          77.65266,
          70.353408,
          81.377104,
          84.841143,
          80.768336,
          86.229144,
          71.839157,
          82.499278,
          84.92867,
          85.940895,
          71.106545,
          88.631113,
          87.257999,
          83.244469,
          75.948458,
          73.206867,
          81.516187,
          77.869884,
          81.344858,
          73.787263,
          78.465819,
          89.361156,
          77.211844,
          79.342657,
          81.264948,
          73.075509,
          89.038004,
          88.433996,
          80.266829,
          70.954565,
          70.905174,
          70.358304,
          70.277518,
          73.048445,
          84.621571,
          87.782812,
          77.807425,
          77.175735,
          87.473914,
          73.140651,
          73.425236,
          85.403037,
          78.386106,
          82.97514,
          87.806387,
          76.779606,
          84.232808,
          78.338447,
          75.791812,
          76.972979,
          76.504326,
          72.475632,
          86.778349,
          72.880685,
          87.99003,
          89.269494,
          70.020021,
          71.794302,
          76.569145,
          72.468312,
          86.325616,
          81.314141,
          87.662039,
          76.694116,
          74.943071,
          85.652925,
          79.284182,
          73.718468,
          83.153536,
          81.321938,
          76.630302,
          87.707645,
          86.189755,
          76.553612,
          76.436463,
          88.709978,
          78.83377,
          84.904227,
          80.252939,
          78.773616,
          76.52159,
          81.3903,
          80.370634,
          81.501828,
          87.619881,
          87.410792,
          83.889714,
          86.408534,
          70.95512,
          71.26343,
          76.324804,
          82.617478,
          82.326973,
          76.350773,
          73.670909,
          78.480336,
          86.392076,
          72.733127,
          72.48955,
          86.262528,
          89.482912,
          76.887856,
          79.729425,
          77.554571,
          79.464636,
          87.759411,
          89.391952,
          87.397174,
          83.99818,
          88.635599,
          88.744213,
          83.274856,
          76.177829,
          71.051326,
          75.647282,
          84.96765,
          81.867848,
          72.400008,
          71.269966,
          78.944658,
          88.924292,
          74.304259,
          71.411161,
          80.967376,
          86.135963,
          72.551444,
          80.044585,
          88.59178,
          84.993359,
          76.759172,
          77.077855,
          78.566829,
          73.20625,
          85.854259,
          73.737205,
          70.767329,
          75.384922,
          76.087134,
          81.731229,
          87.541507,
          89.44948,
          87.5831,
          74.980161,
          74.385592,
          75.37587,
          87.705061,
          88.693555,
          76.1477,
          75.736924,
          81.99223,
          84.426869,
          88.880605
         ],
         "xaxis": "x2",
         "yaxis": "y2"
        }
       ],
       "layout": {
        "annotations": [
         {
          "font": {
           "size": 16
          },
          "showarrow": false,
          "text": "Histogram of longitude",
          "x": 0.5,
          "xanchor": "center",
          "xref": "paper",
          "y": 0.9999999999999999,
          "yanchor": "bottom",
          "yref": "paper"
         },
         {
          "font": {
           "size": 16
          },
          "showarrow": false,
          "text": "Boxplot of longitude",
          "x": 0.5,
          "xanchor": "center",
          "xref": "paper",
          "y": 0.285,
          "yanchor": "bottom",
          "yref": "paper"
         }
        ],
        "height": 600,
        "showlegend": false,
        "template": {
         "data": {
          "bar": [
           {
            "error_x": {
             "color": "#2a3f5f"
            },
            "error_y": {
             "color": "#2a3f5f"
            },
            "marker": {
             "line": {
              "color": "#E5ECF6",
              "width": 0.5
             },
             "pattern": {
              "fillmode": "overlay",
              "size": 10,
              "solidity": 0.2
             }
            },
            "type": "bar"
           }
          ],
          "barpolar": [
           {
            "marker": {
             "line": {
              "color": "#E5ECF6",
              "width": 0.5
             },
             "pattern": {
              "fillmode": "overlay",
              "size": 10,
              "solidity": 0.2
             }
            },
            "type": "barpolar"
           }
          ],
          "carpet": [
           {
            "aaxis": {
             "endlinecolor": "#2a3f5f",
             "gridcolor": "white",
             "linecolor": "white",
             "minorgridcolor": "white",
             "startlinecolor": "#2a3f5f"
            },
            "baxis": {
             "endlinecolor": "#2a3f5f",
             "gridcolor": "white",
             "linecolor": "white",
             "minorgridcolor": "white",
             "startlinecolor": "#2a3f5f"
            },
            "type": "carpet"
           }
          ],
          "choropleth": [
           {
            "colorbar": {
             "outlinewidth": 0,
             "ticks": ""
            },
            "type": "choropleth"
           }
          ],
          "contour": [
           {
            "colorbar": {
             "outlinewidth": 0,
             "ticks": ""
            },
            "colorscale": [
             [
              0,
              "#0d0887"
             ],
             [
              0.1111111111111111,
              "#46039f"
             ],
             [
              0.2222222222222222,
              "#7201a8"
             ],
             [
              0.3333333333333333,
              "#9c179e"
             ],
             [
              0.4444444444444444,
              "#bd3786"
             ],
             [
              0.5555555555555556,
              "#d8576b"
             ],
             [
              0.6666666666666666,
              "#ed7953"
             ],
             [
              0.7777777777777778,
              "#fb9f3a"
             ],
             [
              0.8888888888888888,
              "#fdca26"
             ],
             [
              1,
              "#f0f921"
             ]
            ],
            "type": "contour"
           }
          ],
          "contourcarpet": [
           {
            "colorbar": {
             "outlinewidth": 0,
             "ticks": ""
            },
            "type": "contourcarpet"
           }
          ],
          "heatmap": [
           {
            "colorbar": {
             "outlinewidth": 0,
             "ticks": ""
            },
            "colorscale": [
             [
              0,
              "#0d0887"
             ],
             [
              0.1111111111111111,
              "#46039f"
             ],
             [
              0.2222222222222222,
              "#7201a8"
             ],
             [
              0.3333333333333333,
              "#9c179e"
             ],
             [
              0.4444444444444444,
              "#bd3786"
             ],
             [
              0.5555555555555556,
              "#d8576b"
             ],
             [
              0.6666666666666666,
              "#ed7953"
             ],
             [
              0.7777777777777778,
              "#fb9f3a"
             ],
             [
              0.8888888888888888,
              "#fdca26"
             ],
             [
              1,
              "#f0f921"
             ]
            ],
            "type": "heatmap"
           }
          ],
          "heatmapgl": [
           {
            "colorbar": {
             "outlinewidth": 0,
             "ticks": ""
            },
            "colorscale": [
             [
              0,
              "#0d0887"
             ],
             [
              0.1111111111111111,
              "#46039f"
             ],
             [
              0.2222222222222222,
              "#7201a8"
             ],
             [
              0.3333333333333333,
              "#9c179e"
             ],
             [
              0.4444444444444444,
              "#bd3786"
             ],
             [
              0.5555555555555556,
              "#d8576b"
             ],
             [
              0.6666666666666666,
              "#ed7953"
             ],
             [
              0.7777777777777778,
              "#fb9f3a"
             ],
             [
              0.8888888888888888,
              "#fdca26"
             ],
             [
              1,
              "#f0f921"
             ]
            ],
            "type": "heatmapgl"
           }
          ],
          "histogram": [
           {
            "marker": {
             "pattern": {
              "fillmode": "overlay",
              "size": 10,
              "solidity": 0.2
             }
            },
            "type": "histogram"
           }
          ],
          "histogram2d": [
           {
            "colorbar": {
             "outlinewidth": 0,
             "ticks": ""
            },
            "colorscale": [
             [
              0,
              "#0d0887"
             ],
             [
              0.1111111111111111,
              "#46039f"
             ],
             [
              0.2222222222222222,
              "#7201a8"
             ],
             [
              0.3333333333333333,
              "#9c179e"
             ],
             [
              0.4444444444444444,
              "#bd3786"
             ],
             [
              0.5555555555555556,
              "#d8576b"
             ],
             [
              0.6666666666666666,
              "#ed7953"
             ],
             [
              0.7777777777777778,
              "#fb9f3a"
             ],
             [
              0.8888888888888888,
              "#fdca26"
             ],
             [
              1,
              "#f0f921"
             ]
            ],
            "type": "histogram2d"
           }
          ],
          "histogram2dcontour": [
           {
            "colorbar": {
             "outlinewidth": 0,
             "ticks": ""
            },
            "colorscale": [
             [
              0,
              "#0d0887"
             ],
             [
              0.1111111111111111,
              "#46039f"
             ],
             [
              0.2222222222222222,
              "#7201a8"
             ],
             [
              0.3333333333333333,
              "#9c179e"
             ],
             [
              0.4444444444444444,
              "#bd3786"
             ],
             [
              0.5555555555555556,
              "#d8576b"
             ],
             [
              0.6666666666666666,
              "#ed7953"
             ],
             [
              0.7777777777777778,
              "#fb9f3a"
             ],
             [
              0.8888888888888888,
              "#fdca26"
             ],
             [
              1,
              "#f0f921"
             ]
            ],
            "type": "histogram2dcontour"
           }
          ],
          "mesh3d": [
           {
            "colorbar": {
             "outlinewidth": 0,
             "ticks": ""
            },
            "type": "mesh3d"
           }
          ],
          "parcoords": [
           {
            "line": {
             "colorbar": {
              "outlinewidth": 0,
              "ticks": ""
             }
            },
            "type": "parcoords"
           }
          ],
          "pie": [
           {
            "automargin": true,
            "type": "pie"
           }
          ],
          "scatter": [
           {
            "fillpattern": {
             "fillmode": "overlay",
             "size": 10,
             "solidity": 0.2
            },
            "type": "scatter"
           }
          ],
          "scatter3d": [
           {
            "line": {
             "colorbar": {
              "outlinewidth": 0,
              "ticks": ""
             }
            },
            "marker": {
             "colorbar": {
              "outlinewidth": 0,
              "ticks": ""
             }
            },
            "type": "scatter3d"
           }
          ],
          "scattercarpet": [
           {
            "marker": {
             "colorbar": {
              "outlinewidth": 0,
              "ticks": ""
             }
            },
            "type": "scattercarpet"
           }
          ],
          "scattergeo": [
           {
            "marker": {
             "colorbar": {
              "outlinewidth": 0,
              "ticks": ""
             }
            },
            "type": "scattergeo"
           }
          ],
          "scattergl": [
           {
            "marker": {
             "colorbar": {
              "outlinewidth": 0,
              "ticks": ""
             }
            },
            "type": "scattergl"
           }
          ],
          "scattermapbox": [
           {
            "marker": {
             "colorbar": {
              "outlinewidth": 0,
              "ticks": ""
             }
            },
            "type": "scattermapbox"
           }
          ],
          "scatterpolar": [
           {
            "marker": {
             "colorbar": {
              "outlinewidth": 0,
              "ticks": ""
             }
            },
            "type": "scatterpolar"
           }
          ],
          "scatterpolargl": [
           {
            "marker": {
             "colorbar": {
              "outlinewidth": 0,
              "ticks": ""
             }
            },
            "type": "scatterpolargl"
           }
          ],
          "scatterternary": [
           {
            "marker": {
             "colorbar": {
              "outlinewidth": 0,
              "ticks": ""
             }
            },
            "type": "scatterternary"
           }
          ],
          "surface": [
           {
            "colorbar": {
             "outlinewidth": 0,
             "ticks": ""
            },
            "colorscale": [
             [
              0,
              "#0d0887"
             ],
             [
              0.1111111111111111,
              "#46039f"
             ],
             [
              0.2222222222222222,
              "#7201a8"
             ],
             [
              0.3333333333333333,
              "#9c179e"
             ],
             [
              0.4444444444444444,
              "#bd3786"
             ],
             [
              0.5555555555555556,
              "#d8576b"
             ],
             [
              0.6666666666666666,
              "#ed7953"
             ],
             [
              0.7777777777777778,
              "#fb9f3a"
             ],
             [
              0.8888888888888888,
              "#fdca26"
             ],
             [
              1,
              "#f0f921"
             ]
            ],
            "type": "surface"
           }
          ],
          "table": [
           {
            "cells": {
             "fill": {
              "color": "#EBF0F8"
             },
             "line": {
              "color": "white"
             }
            },
            "header": {
             "fill": {
              "color": "#C8D4E3"
             },
             "line": {
              "color": "white"
             }
            },
            "type": "table"
           }
          ]
         },
         "layout": {
          "annotationdefaults": {
           "arrowcolor": "#2a3f5f",
           "arrowhead": 0,
           "arrowwidth": 1
          },
          "autotypenumbers": "strict",
          "coloraxis": {
           "colorbar": {
            "outlinewidth": 0,
            "ticks": ""
           }
          },
          "colorscale": {
           "diverging": [
            [
             0,
             "#8e0152"
            ],
            [
             0.1,
             "#c51b7d"
            ],
            [
             0.2,
             "#de77ae"
            ],
            [
             0.3,
             "#f1b6da"
            ],
            [
             0.4,
             "#fde0ef"
            ],
            [
             0.5,
             "#f7f7f7"
            ],
            [
             0.6,
             "#e6f5d0"
            ],
            [
             0.7,
             "#b8e186"
            ],
            [
             0.8,
             "#7fbc41"
            ],
            [
             0.9,
             "#4d9221"
            ],
            [
             1,
             "#276419"
            ]
           ],
           "sequential": [
            [
             0,
             "#0d0887"
            ],
            [
             0.1111111111111111,
             "#46039f"
            ],
            [
             0.2222222222222222,
             "#7201a8"
            ],
            [
             0.3333333333333333,
             "#9c179e"
            ],
            [
             0.4444444444444444,
             "#bd3786"
            ],
            [
             0.5555555555555556,
             "#d8576b"
            ],
            [
             0.6666666666666666,
             "#ed7953"
            ],
            [
             0.7777777777777778,
             "#fb9f3a"
            ],
            [
             0.8888888888888888,
             "#fdca26"
            ],
            [
             1,
             "#f0f921"
            ]
           ],
           "sequentialminus": [
            [
             0,
             "#0d0887"
            ],
            [
             0.1111111111111111,
             "#46039f"
            ],
            [
             0.2222222222222222,
             "#7201a8"
            ],
            [
             0.3333333333333333,
             "#9c179e"
            ],
            [
             0.4444444444444444,
             "#bd3786"
            ],
            [
             0.5555555555555556,
             "#d8576b"
            ],
            [
             0.6666666666666666,
             "#ed7953"
            ],
            [
             0.7777777777777778,
             "#fb9f3a"
            ],
            [
             0.8888888888888888,
             "#fdca26"
            ],
            [
             1,
             "#f0f921"
            ]
           ]
          },
          "colorway": [
           "#636efa",
           "#EF553B",
           "#00cc96",
           "#ab63fa",
           "#FFA15A",
           "#19d3f3",
           "#FF6692",
           "#B6E880",
           "#FF97FF",
           "#FECB52"
          ],
          "font": {
           "color": "#2a3f5f"
          },
          "geo": {
           "bgcolor": "white",
           "lakecolor": "white",
           "landcolor": "#E5ECF6",
           "showlakes": true,
           "showland": true,
           "subunitcolor": "white"
          },
          "hoverlabel": {
           "align": "left"
          },
          "hovermode": "closest",
          "mapbox": {
           "style": "light"
          },
          "paper_bgcolor": "white",
          "plot_bgcolor": "#E5ECF6",
          "polar": {
           "angularaxis": {
            "gridcolor": "white",
            "linecolor": "white",
            "ticks": ""
           },
           "bgcolor": "#E5ECF6",
           "radialaxis": {
            "gridcolor": "white",
            "linecolor": "white",
            "ticks": ""
           }
          },
          "scene": {
           "xaxis": {
            "backgroundcolor": "#E5ECF6",
            "gridcolor": "white",
            "gridwidth": 2,
            "linecolor": "white",
            "showbackground": true,
            "ticks": "",
            "zerolinecolor": "white"
           },
           "yaxis": {
            "backgroundcolor": "#E5ECF6",
            "gridcolor": "white",
            "gridwidth": 2,
            "linecolor": "white",
            "showbackground": true,
            "ticks": "",
            "zerolinecolor": "white"
           },
           "zaxis": {
            "backgroundcolor": "#E5ECF6",
            "gridcolor": "white",
            "gridwidth": 2,
            "linecolor": "white",
            "showbackground": true,
            "ticks": "",
            "zerolinecolor": "white"
           }
          },
          "shapedefaults": {
           "line": {
            "color": "#2a3f5f"
           }
          },
          "ternary": {
           "aaxis": {
            "gridcolor": "white",
            "linecolor": "white",
            "ticks": ""
           },
           "baxis": {
            "gridcolor": "white",
            "linecolor": "white",
            "ticks": ""
           },
           "bgcolor": "#E5ECF6",
           "caxis": {
            "gridcolor": "white",
            "linecolor": "white",
            "ticks": ""
           }
          },
          "title": {
           "x": 0.05
          },
          "xaxis": {
           "automargin": true,
           "gridcolor": "white",
           "linecolor": "white",
           "ticks": "",
           "title": {
            "standoff": 15
           },
           "zerolinecolor": "white",
           "zerolinewidth": 2
          },
          "yaxis": {
           "automargin": true,
           "gridcolor": "white",
           "linecolor": "white",
           "ticks": "",
           "title": {
            "standoff": 15
           },
           "zerolinecolor": "white",
           "zerolinewidth": 2
          }
         }
        },
        "title": {
         "text": "NUMERICAL FEATURE DISTRIBUTION: longitude"
        },
        "xaxis": {
         "anchor": "y",
         "domain": [
          0,
          1
         ],
         "matches": "x2",
         "showticklabels": false
        },
        "xaxis2": {
         "anchor": "y2",
         "domain": [
          0,
          1
         ]
        },
        "yaxis": {
         "anchor": "x",
         "domain": [
          0.33499999999999996,
          0.9999999999999999
         ]
        },
        "yaxis2": {
         "anchor": "x2",
         "domain": [
          0,
          0.285
         ]
        }
       }
      }
     },
     "metadata": {},
     "output_type": "display_data"
    },
    {
     "data": {
      "application/vnd.plotly.v1+json": {
       "config": {
        "plotlyServerURL": "https://plot.ly"
       },
       "data": [
        {
         "marker": {
          "color": "lightskyblue"
         },
         "name": "Histogram",
         "nbinsx": 50,
         "type": "histogram",
         "x": [
          0.63,
          0.58,
          0.8,
          0.44,
          0.84,
          0.82,
          0.76,
          0.7,
          0.5,
          0.58,
          0.55,
          0.4,
          0.65,
          0.42,
          0.34,
          0.75,
          0.74,
          0.45,
          0.36,
          0.62,
          0.3,
          0.86,
          0.7,
          0.42,
          0.38,
          0.59,
          0.42,
          0.59,
          0.5,
          0.7,
          0.35,
          0.88,
          0.57,
          0.44,
          0.5,
          0.8,
          0.41,
          0.85,
          0.66,
          0.48,
          0.87,
          0.5,
          0.67,
          0.58,
          0.77,
          0.41,
          0.82,
          0.49,
          0.48,
          0.31,
          0.48,
          0.73,
          0.79,
          0.46,
          0.9,
          0.47,
          0.68,
          0.38,
          0.61,
          0.66,
          0.55,
          0.34,
          0.63,
          0.51,
          0.83,
          0.33,
          0.78,
          0.52,
          0.79,
          0.39,
          0.58,
          0.67,
          0.39,
          0.9,
          0.32,
          0.57,
          0.59,
          0.52,
          0.35,
          0.61,
          0.68,
          0.41,
          0.69,
          0.79,
          0.68,
          0.76,
          0.59,
          0.86,
          0.73,
          0.73,
          0.81,
          0.54,
          0.58,
          0.83,
          0.83,
          0.5,
          0.74,
          0.66,
          0.55,
          0.51,
          0.46,
          0.86,
          0.86,
          0.8,
          0.45,
          0.3,
          0.76,
          0.75,
          0.59,
          0.62,
          0.7,
          0.39,
          0.44,
          0.66,
          0.72,
          0.66,
          0.72,
          0.64,
          0.88,
          0.44,
          0.6,
          0.81,
          0.72,
          0.64,
          0.76,
          0.39,
          0.66,
          0.55,
          0.79,
          0.42,
          0.34,
          0.71,
          0.59,
          0.37,
          0.83,
          0.68,
          0.38,
          0.87,
          0.47,
          0.9,
          0.64,
          0.39,
          0.3,
          0.33,
          0.4,
          0.44,
          0.39,
          0.81,
          0.38,
          0.55,
          0.87,
          0.73,
          0.6,
          0.63,
          0.49,
          0.62,
          0.72,
          0.44,
          0.66,
          0.38,
          0.79,
          0.45,
          0.59,
          0.77,
          0.89,
          0.72,
          0.88,
          0.6,
          0.33,
          0.53,
          0.46,
          0.89,
          0.34,
          0.73,
          0.34,
          0.36,
          0.33,
          0.35,
          0.42,
          0.4,
          0.58,
          0.54,
          0.69,
          0.72,
          0.76,
          0.37,
          0.68,
          0.74,
          0.74,
          0.73,
          0.71,
          0.46,
          0.35,
          0.69,
          0.37,
          0.83,
          0.59,
          0.69,
          0.66,
          0.76,
          0.86,
          0.86,
          0.88,
          0.87,
          0.75,
          0.61,
          0.65,
          0.86,
          0.55,
          0.85,
          0.87,
          0.58,
          0.73,
          0.38,
          0.87,
          0.63,
          0.65,
          0.41,
          0.58,
          0.4,
          0.68,
          0.83,
          0.69,
          0.74,
          0.53,
          0.62,
          0.76,
          0.69,
          0.74,
          0.35,
          0.77,
          0.63,
          0.79,
          0.49,
          0.71,
          0.62,
          0.6,
          0.52,
          0.39,
          0.59,
          0.51,
          0.49,
          0.35,
          0.47,
          0.64,
          0.75,
          0.68,
          0.88,
          0.33,
          0.61,
          0.44,
          0.86,
          0.72,
          0.6,
          0.37,
          0.31,
          0.36,
          0.4,
          0.76,
          0.64,
          0.8,
          0.33,
          0.59,
          0.46,
          0.85,
          0.62,
          0.46,
          0.41,
          0.9,
          0.69,
          0.83,
          0.71,
          0.43,
          0.64,
          0.47,
          0.65,
          0.87,
          0.41,
          0.83,
          0.4,
          0.37,
          0.67,
          0.55,
          0.32,
          0.61,
          0.66,
          0.84,
          0.71,
          0.39,
          0.84,
          0.85,
          0.72,
          0.34,
          0.7,
          0.34,
          0.48,
          0.54,
          0.59,
          0.65,
          0.77,
          0.74,
          0.47,
          0.72,
          0.51,
          0.57,
          0.74,
          0.67,
          0.47,
          0.56,
          0.3,
          0.35,
          0.41,
          0.7,
          0.67,
          0.33,
          0.3,
          0.35,
          0.88,
          0.84,
          0.56,
          0.51,
          0.74,
          0.78,
          0.75,
          0.67,
          0.73,
          0.51,
          0.47,
          0.41,
          0.47,
          0.38,
          0.39,
          0.67,
          0.59,
          0.88,
          0.4,
          0.8,
          0.72,
          0.68,
          0.61,
          0.52,
          0.35,
          0.41,
          0.4,
          0.37,
          0.89,
          0.36,
          0.59,
          0.71,
          0.76,
          0.59,
          0.32,
          0.32,
          0.7,
          0.81,
          0.57,
          0.76,
          0.49,
          0.84,
          0.45,
          0.33,
          0.86,
          0.82,
          0.46,
          0.37,
          0.53,
          0.31,
          0.41,
          0.66,
          0.64,
          0.56,
          0.37,
          0.7,
          0.35,
          0.53,
          0.84,
          0.88,
          0.35,
          0.55,
          0.54,
          0.37,
          0.72,
          0.9,
          0.37,
          0.55,
          0.46,
          0.66,
          0.48,
          0.46,
          0.73,
          0.83,
          0.77,
          0.62,
          0.44,
          0.8,
          0.4,
          0.61,
          0.82,
          0.78,
          0.64,
          0.65,
          0.45,
          0.33,
          0.71,
          0.58,
          0.72,
          0.85,
          0.88,
          0.68,
          0.71,
          0.3,
          0.83,
          0.58,
          0.34,
          0.56,
          0.38,
          0.39,
          0.5,
          0.74,
          0.73,
          0.7,
          0.33,
          0.52,
          0.52,
          0.46,
          0.76,
          0.76,
          0.81,
          0.31,
          0.57,
          0.4,
          0.49,
          0.57,
          0.46,
          0.75,
          0.8,
          0.68,
          0.88,
          0.53,
          0.53,
          0.84,
          0.77,
          0.68,
          0.66,
          0.78,
          0.58,
          0.86,
          0.68,
          0.35,
          0.39,
          0.6,
          0.47,
          0.5,
          0.38,
          0.74,
          0.83,
          0.36,
          0.76,
          0.75,
          0.65,
          0.89,
          0.82,
          0.85,
          0.74,
          0.88,
          0.35,
          0.85,
          0.49,
          0.61,
          0.38,
          0.74,
          0.34,
          0.36,
          0.31,
          0.47,
          0.79,
          0.45,
          0.71,
          0.3,
          0.41,
          0.42,
          0.38,
          0.47,
          0.89,
          0.47,
          0.36,
          0.85,
          0.81,
          0.41,
          0.77,
          0.79,
          0.88,
          0.65,
          0.79,
          0.38,
          0.59,
          0.85,
          0.71,
          0.77,
          0.85
         ],
         "xaxis": "x",
         "yaxis": "y"
        },
        {
         "boxpoints": "outliers",
         "marker": {
          "color": "skyblue"
         },
         "name": "Boxplot",
         "orientation": "h",
         "type": "box",
         "x": [
          0.63,
          0.58,
          0.8,
          0.44,
          0.84,
          0.82,
          0.76,
          0.7,
          0.5,
          0.58,
          0.55,
          0.4,
          0.65,
          0.42,
          0.34,
          0.75,
          0.74,
          0.45,
          0.36,
          0.62,
          0.3,
          0.86,
          0.7,
          0.42,
          0.38,
          0.59,
          0.42,
          0.59,
          0.5,
          0.7,
          0.35,
          0.88,
          0.57,
          0.44,
          0.5,
          0.8,
          0.41,
          0.85,
          0.66,
          0.48,
          0.87,
          0.5,
          0.67,
          0.58,
          0.77,
          0.41,
          0.82,
          0.49,
          0.48,
          0.31,
          0.48,
          0.73,
          0.79,
          0.46,
          0.9,
          0.47,
          0.68,
          0.38,
          0.61,
          0.66,
          0.55,
          0.34,
          0.63,
          0.51,
          0.83,
          0.33,
          0.78,
          0.52,
          0.79,
          0.39,
          0.58,
          0.67,
          0.39,
          0.9,
          0.32,
          0.57,
          0.59,
          0.52,
          0.35,
          0.61,
          0.68,
          0.41,
          0.69,
          0.79,
          0.68,
          0.76,
          0.59,
          0.86,
          0.73,
          0.73,
          0.81,
          0.54,
          0.58,
          0.83,
          0.83,
          0.5,
          0.74,
          0.66,
          0.55,
          0.51,
          0.46,
          0.86,
          0.86,
          0.8,
          0.45,
          0.3,
          0.76,
          0.75,
          0.59,
          0.62,
          0.7,
          0.39,
          0.44,
          0.66,
          0.72,
          0.66,
          0.72,
          0.64,
          0.88,
          0.44,
          0.6,
          0.81,
          0.72,
          0.64,
          0.76,
          0.39,
          0.66,
          0.55,
          0.79,
          0.42,
          0.34,
          0.71,
          0.59,
          0.37,
          0.83,
          0.68,
          0.38,
          0.87,
          0.47,
          0.9,
          0.64,
          0.39,
          0.3,
          0.33,
          0.4,
          0.44,
          0.39,
          0.81,
          0.38,
          0.55,
          0.87,
          0.73,
          0.6,
          0.63,
          0.49,
          0.62,
          0.72,
          0.44,
          0.66,
          0.38,
          0.79,
          0.45,
          0.59,
          0.77,
          0.89,
          0.72,
          0.88,
          0.6,
          0.33,
          0.53,
          0.46,
          0.89,
          0.34,
          0.73,
          0.34,
          0.36,
          0.33,
          0.35,
          0.42,
          0.4,
          0.58,
          0.54,
          0.69,
          0.72,
          0.76,
          0.37,
          0.68,
          0.74,
          0.74,
          0.73,
          0.71,
          0.46,
          0.35,
          0.69,
          0.37,
          0.83,
          0.59,
          0.69,
          0.66,
          0.76,
          0.86,
          0.86,
          0.88,
          0.87,
          0.75,
          0.61,
          0.65,
          0.86,
          0.55,
          0.85,
          0.87,
          0.58,
          0.73,
          0.38,
          0.87,
          0.63,
          0.65,
          0.41,
          0.58,
          0.4,
          0.68,
          0.83,
          0.69,
          0.74,
          0.53,
          0.62,
          0.76,
          0.69,
          0.74,
          0.35,
          0.77,
          0.63,
          0.79,
          0.49,
          0.71,
          0.62,
          0.6,
          0.52,
          0.39,
          0.59,
          0.51,
          0.49,
          0.35,
          0.47,
          0.64,
          0.75,
          0.68,
          0.88,
          0.33,
          0.61,
          0.44,
          0.86,
          0.72,
          0.6,
          0.37,
          0.31,
          0.36,
          0.4,
          0.76,
          0.64,
          0.8,
          0.33,
          0.59,
          0.46,
          0.85,
          0.62,
          0.46,
          0.41,
          0.9,
          0.69,
          0.83,
          0.71,
          0.43,
          0.64,
          0.47,
          0.65,
          0.87,
          0.41,
          0.83,
          0.4,
          0.37,
          0.67,
          0.55,
          0.32,
          0.61,
          0.66,
          0.84,
          0.71,
          0.39,
          0.84,
          0.85,
          0.72,
          0.34,
          0.7,
          0.34,
          0.48,
          0.54,
          0.59,
          0.65,
          0.77,
          0.74,
          0.47,
          0.72,
          0.51,
          0.57,
          0.74,
          0.67,
          0.47,
          0.56,
          0.3,
          0.35,
          0.41,
          0.7,
          0.67,
          0.33,
          0.3,
          0.35,
          0.88,
          0.84,
          0.56,
          0.51,
          0.74,
          0.78,
          0.75,
          0.67,
          0.73,
          0.51,
          0.47,
          0.41,
          0.47,
          0.38,
          0.39,
          0.67,
          0.59,
          0.88,
          0.4,
          0.8,
          0.72,
          0.68,
          0.61,
          0.52,
          0.35,
          0.41,
          0.4,
          0.37,
          0.89,
          0.36,
          0.59,
          0.71,
          0.76,
          0.59,
          0.32,
          0.32,
          0.7,
          0.81,
          0.57,
          0.76,
          0.49,
          0.84,
          0.45,
          0.33,
          0.86,
          0.82,
          0.46,
          0.37,
          0.53,
          0.31,
          0.41,
          0.66,
          0.64,
          0.56,
          0.37,
          0.7,
          0.35,
          0.53,
          0.84,
          0.88,
          0.35,
          0.55,
          0.54,
          0.37,
          0.72,
          0.9,
          0.37,
          0.55,
          0.46,
          0.66,
          0.48,
          0.46,
          0.73,
          0.83,
          0.77,
          0.62,
          0.44,
          0.8,
          0.4,
          0.61,
          0.82,
          0.78,
          0.64,
          0.65,
          0.45,
          0.33,
          0.71,
          0.58,
          0.72,
          0.85,
          0.88,
          0.68,
          0.71,
          0.3,
          0.83,
          0.58,
          0.34,
          0.56,
          0.38,
          0.39,
          0.5,
          0.74,
          0.73,
          0.7,
          0.33,
          0.52,
          0.52,
          0.46,
          0.76,
          0.76,
          0.81,
          0.31,
          0.57,
          0.4,
          0.49,
          0.57,
          0.46,
          0.75,
          0.8,
          0.68,
          0.88,
          0.53,
          0.53,
          0.84,
          0.77,
          0.68,
          0.66,
          0.78,
          0.58,
          0.86,
          0.68,
          0.35,
          0.39,
          0.6,
          0.47,
          0.5,
          0.38,
          0.74,
          0.83,
          0.36,
          0.76,
          0.75,
          0.65,
          0.89,
          0.82,
          0.85,
          0.74,
          0.88,
          0.35,
          0.85,
          0.49,
          0.61,
          0.38,
          0.74,
          0.34,
          0.36,
          0.31,
          0.47,
          0.79,
          0.45,
          0.71,
          0.3,
          0.41,
          0.42,
          0.38,
          0.47,
          0.89,
          0.47,
          0.36,
          0.85,
          0.81,
          0.41,
          0.77,
          0.79,
          0.88,
          0.65,
          0.79,
          0.38,
          0.59,
          0.85,
          0.71,
          0.77,
          0.85
         ],
         "xaxis": "x2",
         "yaxis": "y2"
        }
       ],
       "layout": {
        "annotations": [
         {
          "font": {
           "size": 16
          },
          "showarrow": false,
          "text": "Histogram of NDVI_index",
          "x": 0.5,
          "xanchor": "center",
          "xref": "paper",
          "y": 0.9999999999999999,
          "yanchor": "bottom",
          "yref": "paper"
         },
         {
          "font": {
           "size": 16
          },
          "showarrow": false,
          "text": "Boxplot of NDVI_index",
          "x": 0.5,
          "xanchor": "center",
          "xref": "paper",
          "y": 0.285,
          "yanchor": "bottom",
          "yref": "paper"
         }
        ],
        "height": 600,
        "showlegend": false,
        "template": {
         "data": {
          "bar": [
           {
            "error_x": {
             "color": "#2a3f5f"
            },
            "error_y": {
             "color": "#2a3f5f"
            },
            "marker": {
             "line": {
              "color": "#E5ECF6",
              "width": 0.5
             },
             "pattern": {
              "fillmode": "overlay",
              "size": 10,
              "solidity": 0.2
             }
            },
            "type": "bar"
           }
          ],
          "barpolar": [
           {
            "marker": {
             "line": {
              "color": "#E5ECF6",
              "width": 0.5
             },
             "pattern": {
              "fillmode": "overlay",
              "size": 10,
              "solidity": 0.2
             }
            },
            "type": "barpolar"
           }
          ],
          "carpet": [
           {
            "aaxis": {
             "endlinecolor": "#2a3f5f",
             "gridcolor": "white",
             "linecolor": "white",
             "minorgridcolor": "white",
             "startlinecolor": "#2a3f5f"
            },
            "baxis": {
             "endlinecolor": "#2a3f5f",
             "gridcolor": "white",
             "linecolor": "white",
             "minorgridcolor": "white",
             "startlinecolor": "#2a3f5f"
            },
            "type": "carpet"
           }
          ],
          "choropleth": [
           {
            "colorbar": {
             "outlinewidth": 0,
             "ticks": ""
            },
            "type": "choropleth"
           }
          ],
          "contour": [
           {
            "colorbar": {
             "outlinewidth": 0,
             "ticks": ""
            },
            "colorscale": [
             [
              0,
              "#0d0887"
             ],
             [
              0.1111111111111111,
              "#46039f"
             ],
             [
              0.2222222222222222,
              "#7201a8"
             ],
             [
              0.3333333333333333,
              "#9c179e"
             ],
             [
              0.4444444444444444,
              "#bd3786"
             ],
             [
              0.5555555555555556,
              "#d8576b"
             ],
             [
              0.6666666666666666,
              "#ed7953"
             ],
             [
              0.7777777777777778,
              "#fb9f3a"
             ],
             [
              0.8888888888888888,
              "#fdca26"
             ],
             [
              1,
              "#f0f921"
             ]
            ],
            "type": "contour"
           }
          ],
          "contourcarpet": [
           {
            "colorbar": {
             "outlinewidth": 0,
             "ticks": ""
            },
            "type": "contourcarpet"
           }
          ],
          "heatmap": [
           {
            "colorbar": {
             "outlinewidth": 0,
             "ticks": ""
            },
            "colorscale": [
             [
              0,
              "#0d0887"
             ],
             [
              0.1111111111111111,
              "#46039f"
             ],
             [
              0.2222222222222222,
              "#7201a8"
             ],
             [
              0.3333333333333333,
              "#9c179e"
             ],
             [
              0.4444444444444444,
              "#bd3786"
             ],
             [
              0.5555555555555556,
              "#d8576b"
             ],
             [
              0.6666666666666666,
              "#ed7953"
             ],
             [
              0.7777777777777778,
              "#fb9f3a"
             ],
             [
              0.8888888888888888,
              "#fdca26"
             ],
             [
              1,
              "#f0f921"
             ]
            ],
            "type": "heatmap"
           }
          ],
          "heatmapgl": [
           {
            "colorbar": {
             "outlinewidth": 0,
             "ticks": ""
            },
            "colorscale": [
             [
              0,
              "#0d0887"
             ],
             [
              0.1111111111111111,
              "#46039f"
             ],
             [
              0.2222222222222222,
              "#7201a8"
             ],
             [
              0.3333333333333333,
              "#9c179e"
             ],
             [
              0.4444444444444444,
              "#bd3786"
             ],
             [
              0.5555555555555556,
              "#d8576b"
             ],
             [
              0.6666666666666666,
              "#ed7953"
             ],
             [
              0.7777777777777778,
              "#fb9f3a"
             ],
             [
              0.8888888888888888,
              "#fdca26"
             ],
             [
              1,
              "#f0f921"
             ]
            ],
            "type": "heatmapgl"
           }
          ],
          "histogram": [
           {
            "marker": {
             "pattern": {
              "fillmode": "overlay",
              "size": 10,
              "solidity": 0.2
             }
            },
            "type": "histogram"
           }
          ],
          "histogram2d": [
           {
            "colorbar": {
             "outlinewidth": 0,
             "ticks": ""
            },
            "colorscale": [
             [
              0,
              "#0d0887"
             ],
             [
              0.1111111111111111,
              "#46039f"
             ],
             [
              0.2222222222222222,
              "#7201a8"
             ],
             [
              0.3333333333333333,
              "#9c179e"
             ],
             [
              0.4444444444444444,
              "#bd3786"
             ],
             [
              0.5555555555555556,
              "#d8576b"
             ],
             [
              0.6666666666666666,
              "#ed7953"
             ],
             [
              0.7777777777777778,
              "#fb9f3a"
             ],
             [
              0.8888888888888888,
              "#fdca26"
             ],
             [
              1,
              "#f0f921"
             ]
            ],
            "type": "histogram2d"
           }
          ],
          "histogram2dcontour": [
           {
            "colorbar": {
             "outlinewidth": 0,
             "ticks": ""
            },
            "colorscale": [
             [
              0,
              "#0d0887"
             ],
             [
              0.1111111111111111,
              "#46039f"
             ],
             [
              0.2222222222222222,
              "#7201a8"
             ],
             [
              0.3333333333333333,
              "#9c179e"
             ],
             [
              0.4444444444444444,
              "#bd3786"
             ],
             [
              0.5555555555555556,
              "#d8576b"
             ],
             [
              0.6666666666666666,
              "#ed7953"
             ],
             [
              0.7777777777777778,
              "#fb9f3a"
             ],
             [
              0.8888888888888888,
              "#fdca26"
             ],
             [
              1,
              "#f0f921"
             ]
            ],
            "type": "histogram2dcontour"
           }
          ],
          "mesh3d": [
           {
            "colorbar": {
             "outlinewidth": 0,
             "ticks": ""
            },
            "type": "mesh3d"
           }
          ],
          "parcoords": [
           {
            "line": {
             "colorbar": {
              "outlinewidth": 0,
              "ticks": ""
             }
            },
            "type": "parcoords"
           }
          ],
          "pie": [
           {
            "automargin": true,
            "type": "pie"
           }
          ],
          "scatter": [
           {
            "fillpattern": {
             "fillmode": "overlay",
             "size": 10,
             "solidity": 0.2
            },
            "type": "scatter"
           }
          ],
          "scatter3d": [
           {
            "line": {
             "colorbar": {
              "outlinewidth": 0,
              "ticks": ""
             }
            },
            "marker": {
             "colorbar": {
              "outlinewidth": 0,
              "ticks": ""
             }
            },
            "type": "scatter3d"
           }
          ],
          "scattercarpet": [
           {
            "marker": {
             "colorbar": {
              "outlinewidth": 0,
              "ticks": ""
             }
            },
            "type": "scattercarpet"
           }
          ],
          "scattergeo": [
           {
            "marker": {
             "colorbar": {
              "outlinewidth": 0,
              "ticks": ""
             }
            },
            "type": "scattergeo"
           }
          ],
          "scattergl": [
           {
            "marker": {
             "colorbar": {
              "outlinewidth": 0,
              "ticks": ""
             }
            },
            "type": "scattergl"
           }
          ],
          "scattermapbox": [
           {
            "marker": {
             "colorbar": {
              "outlinewidth": 0,
              "ticks": ""
             }
            },
            "type": "scattermapbox"
           }
          ],
          "scatterpolar": [
           {
            "marker": {
             "colorbar": {
              "outlinewidth": 0,
              "ticks": ""
             }
            },
            "type": "scatterpolar"
           }
          ],
          "scatterpolargl": [
           {
            "marker": {
             "colorbar": {
              "outlinewidth": 0,
              "ticks": ""
             }
            },
            "type": "scatterpolargl"
           }
          ],
          "scatterternary": [
           {
            "marker": {
             "colorbar": {
              "outlinewidth": 0,
              "ticks": ""
             }
            },
            "type": "scatterternary"
           }
          ],
          "surface": [
           {
            "colorbar": {
             "outlinewidth": 0,
             "ticks": ""
            },
            "colorscale": [
             [
              0,
              "#0d0887"
             ],
             [
              0.1111111111111111,
              "#46039f"
             ],
             [
              0.2222222222222222,
              "#7201a8"
             ],
             [
              0.3333333333333333,
              "#9c179e"
             ],
             [
              0.4444444444444444,
              "#bd3786"
             ],
             [
              0.5555555555555556,
              "#d8576b"
             ],
             [
              0.6666666666666666,
              "#ed7953"
             ],
             [
              0.7777777777777778,
              "#fb9f3a"
             ],
             [
              0.8888888888888888,
              "#fdca26"
             ],
             [
              1,
              "#f0f921"
             ]
            ],
            "type": "surface"
           }
          ],
          "table": [
           {
            "cells": {
             "fill": {
              "color": "#EBF0F8"
             },
             "line": {
              "color": "white"
             }
            },
            "header": {
             "fill": {
              "color": "#C8D4E3"
             },
             "line": {
              "color": "white"
             }
            },
            "type": "table"
           }
          ]
         },
         "layout": {
          "annotationdefaults": {
           "arrowcolor": "#2a3f5f",
           "arrowhead": 0,
           "arrowwidth": 1
          },
          "autotypenumbers": "strict",
          "coloraxis": {
           "colorbar": {
            "outlinewidth": 0,
            "ticks": ""
           }
          },
          "colorscale": {
           "diverging": [
            [
             0,
             "#8e0152"
            ],
            [
             0.1,
             "#c51b7d"
            ],
            [
             0.2,
             "#de77ae"
            ],
            [
             0.3,
             "#f1b6da"
            ],
            [
             0.4,
             "#fde0ef"
            ],
            [
             0.5,
             "#f7f7f7"
            ],
            [
             0.6,
             "#e6f5d0"
            ],
            [
             0.7,
             "#b8e186"
            ],
            [
             0.8,
             "#7fbc41"
            ],
            [
             0.9,
             "#4d9221"
            ],
            [
             1,
             "#276419"
            ]
           ],
           "sequential": [
            [
             0,
             "#0d0887"
            ],
            [
             0.1111111111111111,
             "#46039f"
            ],
            [
             0.2222222222222222,
             "#7201a8"
            ],
            [
             0.3333333333333333,
             "#9c179e"
            ],
            [
             0.4444444444444444,
             "#bd3786"
            ],
            [
             0.5555555555555556,
             "#d8576b"
            ],
            [
             0.6666666666666666,
             "#ed7953"
            ],
            [
             0.7777777777777778,
             "#fb9f3a"
            ],
            [
             0.8888888888888888,
             "#fdca26"
            ],
            [
             1,
             "#f0f921"
            ]
           ],
           "sequentialminus": [
            [
             0,
             "#0d0887"
            ],
            [
             0.1111111111111111,
             "#46039f"
            ],
            [
             0.2222222222222222,
             "#7201a8"
            ],
            [
             0.3333333333333333,
             "#9c179e"
            ],
            [
             0.4444444444444444,
             "#bd3786"
            ],
            [
             0.5555555555555556,
             "#d8576b"
            ],
            [
             0.6666666666666666,
             "#ed7953"
            ],
            [
             0.7777777777777778,
             "#fb9f3a"
            ],
            [
             0.8888888888888888,
             "#fdca26"
            ],
            [
             1,
             "#f0f921"
            ]
           ]
          },
          "colorway": [
           "#636efa",
           "#EF553B",
           "#00cc96",
           "#ab63fa",
           "#FFA15A",
           "#19d3f3",
           "#FF6692",
           "#B6E880",
           "#FF97FF",
           "#FECB52"
          ],
          "font": {
           "color": "#2a3f5f"
          },
          "geo": {
           "bgcolor": "white",
           "lakecolor": "white",
           "landcolor": "#E5ECF6",
           "showlakes": true,
           "showland": true,
           "subunitcolor": "white"
          },
          "hoverlabel": {
           "align": "left"
          },
          "hovermode": "closest",
          "mapbox": {
           "style": "light"
          },
          "paper_bgcolor": "white",
          "plot_bgcolor": "#E5ECF6",
          "polar": {
           "angularaxis": {
            "gridcolor": "white",
            "linecolor": "white",
            "ticks": ""
           },
           "bgcolor": "#E5ECF6",
           "radialaxis": {
            "gridcolor": "white",
            "linecolor": "white",
            "ticks": ""
           }
          },
          "scene": {
           "xaxis": {
            "backgroundcolor": "#E5ECF6",
            "gridcolor": "white",
            "gridwidth": 2,
            "linecolor": "white",
            "showbackground": true,
            "ticks": "",
            "zerolinecolor": "white"
           },
           "yaxis": {
            "backgroundcolor": "#E5ECF6",
            "gridcolor": "white",
            "gridwidth": 2,
            "linecolor": "white",
            "showbackground": true,
            "ticks": "",
            "zerolinecolor": "white"
           },
           "zaxis": {
            "backgroundcolor": "#E5ECF6",
            "gridcolor": "white",
            "gridwidth": 2,
            "linecolor": "white",
            "showbackground": true,
            "ticks": "",
            "zerolinecolor": "white"
           }
          },
          "shapedefaults": {
           "line": {
            "color": "#2a3f5f"
           }
          },
          "ternary": {
           "aaxis": {
            "gridcolor": "white",
            "linecolor": "white",
            "ticks": ""
           },
           "baxis": {
            "gridcolor": "white",
            "linecolor": "white",
            "ticks": ""
           },
           "bgcolor": "#E5ECF6",
           "caxis": {
            "gridcolor": "white",
            "linecolor": "white",
            "ticks": ""
           }
          },
          "title": {
           "x": 0.05
          },
          "xaxis": {
           "automargin": true,
           "gridcolor": "white",
           "linecolor": "white",
           "ticks": "",
           "title": {
            "standoff": 15
           },
           "zerolinecolor": "white",
           "zerolinewidth": 2
          },
          "yaxis": {
           "automargin": true,
           "gridcolor": "white",
           "linecolor": "white",
           "ticks": "",
           "title": {
            "standoff": 15
           },
           "zerolinecolor": "white",
           "zerolinewidth": 2
          }
         }
        },
        "title": {
         "text": "NUMERICAL FEATURE DISTRIBUTION: NDVI_index"
        },
        "xaxis": {
         "anchor": "y",
         "domain": [
          0,
          1
         ],
         "matches": "x2",
         "showticklabels": false
        },
        "xaxis2": {
         "anchor": "y2",
         "domain": [
          0,
          1
         ]
        },
        "yaxis": {
         "anchor": "x",
         "domain": [
          0.33499999999999996,
          0.9999999999999999
         ]
        },
        "yaxis2": {
         "anchor": "x2",
         "domain": [
          0,
          0.285
         ]
        }
       }
      }
     },
     "metadata": {},
     "output_type": "display_data"
    }
   ],
   "source": [
    "for col in numerical_features:\n",
    "    # Crear figura con 2 filas: histograma arriba, boxplot abajo\n",
    "    fig = make_subplots(\n",
    "        rows=2, cols=1,\n",
    "        shared_xaxes=True,\n",
    "        row_heights=[0.7, 0.3],  # más espacio al histograma\n",
    "        vertical_spacing=0.05,\n",
    "        subplot_titles=[f'Histogram of {col}', f'Boxplot of {col}']\n",
    "    )\n",
    "\n",
    "    # Histograma (fila 1)\n",
    "    fig.add_trace(go.Histogram(\n",
    "        x=df[col],\n",
    "        nbinsx=50,\n",
    "        name='Histogram',\n",
    "        marker_color='lightskyblue'\n",
    "    ), row=1, col=1)\n",
    "\n",
    "    # Boxplot (fila 2)\n",
    "    fig.add_trace(go.Box(\n",
    "        x=df[col],\n",
    "        name='Boxplot',\n",
    "        marker_color='skyblue',\n",
    "        boxpoints='outliers',\n",
    "        orientation='h'\n",
    "    ), row=2, col=1)\n",
    "\n",
    "    fig.update_layout(\n",
    "        height=600,\n",
    "        title_text=f'NUMERICAL FEATURE DISTRIBUTION: {col}',\n",
    "        showlegend=False\n",
    "    )\n",
    "\n",
    "    fig.show()"
   ]
  },
  {
   "cell_type": "code",
   "execution_count": 96,
   "id": "2864c613",
   "metadata": {},
   "outputs": [
    {
     "data": {
      "application/vnd.plotly.v1+json": {
       "config": {
        "plotlyServerURL": "https://plot.ly"
       },
       "data": [
        {
         "alignmentgroup": "True",
         "hovertemplate": "Region=%{x}<br>Yield (kg per hectare)=%{y}<extra></extra>",
         "legendgroup": "Central USA",
         "marker": {
          "color": "lightskyblue",
          "pattern": {
           "shape": ""
          }
         },
         "name": "Central USA",
         "offsetgroup": "Central USA",
         "orientation": "v",
         "showlegend": true,
         "textposition": "auto",
         "type": "bar",
         "x": [
          "Central USA"
         ],
         "xaxis": "x",
         "y": [
          4013.083486238532
         ],
         "yaxis": "y"
        },
        {
         "alignmentgroup": "True",
         "hovertemplate": "Region=%{x}<br>Yield (kg per hectare)=%{y}<extra></extra>",
         "legendgroup": "East Africa",
         "marker": {
          "color": "lightskyblue",
          "pattern": {
           "shape": ""
          }
         },
         "name": "East Africa",
         "offsetgroup": "East Africa",
         "orientation": "v",
         "showlegend": true,
         "textposition": "auto",
         "type": "bar",
         "x": [
          "East Africa"
         ],
         "xaxis": "x",
         "y": [
          4053.184485981308
         ],
         "yaxis": "y"
        },
        {
         "alignmentgroup": "True",
         "hovertemplate": "Region=%{x}<br>Yield (kg per hectare)=%{y}<extra></extra>",
         "legendgroup": "North India",
         "marker": {
          "color": "lightskyblue",
          "pattern": {
           "shape": ""
          }
         },
         "name": "North India",
         "offsetgroup": "North India",
         "orientation": "v",
         "showlegend": true,
         "textposition": "auto",
         "type": "bar",
         "x": [
          "North India"
         ],
         "xaxis": "x",
         "y": [
          3996.221616161616
         ],
         "yaxis": "y"
        },
        {
         "alignmentgroup": "True",
         "hovertemplate": "Region=%{x}<br>Yield (kg per hectare)=%{y}<extra></extra>",
         "legendgroup": "South India",
         "marker": {
          "color": "lightskyblue",
          "pattern": {
           "shape": ""
          }
         },
         "name": "South India",
         "offsetgroup": "South India",
         "orientation": "v",
         "showlegend": true,
         "textposition": "auto",
         "type": "bar",
         "x": [
          "South India"
         ],
         "xaxis": "x",
         "y": [
          4122.884615384615
         ],
         "yaxis": "y"
        },
        {
         "alignmentgroup": "True",
         "hovertemplate": "Region=%{x}<br>Yield (kg per hectare)=%{y}<extra></extra>",
         "legendgroup": "South USA",
         "marker": {
          "color": "lightskyblue",
          "pattern": {
           "shape": ""
          }
         },
         "name": "South USA",
         "offsetgroup": "South USA",
         "orientation": "v",
         "showlegend": true,
         "textposition": "auto",
         "type": "bar",
         "x": [
          "South USA"
         ],
         "xaxis": "x",
         "y": [
          3984.448829787234
         ],
         "yaxis": "y"
        }
       ],
       "layout": {
        "barmode": "relative",
        "legend": {
         "title": {
          "text": "Region"
         },
         "tracegroupgap": 0
        },
        "showlegend": false,
        "template": {
         "data": {
          "bar": [
           {
            "error_x": {
             "color": "#2a3f5f"
            },
            "error_y": {
             "color": "#2a3f5f"
            },
            "marker": {
             "line": {
              "color": "#E5ECF6",
              "width": 0.5
             },
             "pattern": {
              "fillmode": "overlay",
              "size": 10,
              "solidity": 0.2
             }
            },
            "type": "bar"
           }
          ],
          "barpolar": [
           {
            "marker": {
             "line": {
              "color": "#E5ECF6",
              "width": 0.5
             },
             "pattern": {
              "fillmode": "overlay",
              "size": 10,
              "solidity": 0.2
             }
            },
            "type": "barpolar"
           }
          ],
          "carpet": [
           {
            "aaxis": {
             "endlinecolor": "#2a3f5f",
             "gridcolor": "white",
             "linecolor": "white",
             "minorgridcolor": "white",
             "startlinecolor": "#2a3f5f"
            },
            "baxis": {
             "endlinecolor": "#2a3f5f",
             "gridcolor": "white",
             "linecolor": "white",
             "minorgridcolor": "white",
             "startlinecolor": "#2a3f5f"
            },
            "type": "carpet"
           }
          ],
          "choropleth": [
           {
            "colorbar": {
             "outlinewidth": 0,
             "ticks": ""
            },
            "type": "choropleth"
           }
          ],
          "contour": [
           {
            "colorbar": {
             "outlinewidth": 0,
             "ticks": ""
            },
            "colorscale": [
             [
              0,
              "#0d0887"
             ],
             [
              0.1111111111111111,
              "#46039f"
             ],
             [
              0.2222222222222222,
              "#7201a8"
             ],
             [
              0.3333333333333333,
              "#9c179e"
             ],
             [
              0.4444444444444444,
              "#bd3786"
             ],
             [
              0.5555555555555556,
              "#d8576b"
             ],
             [
              0.6666666666666666,
              "#ed7953"
             ],
             [
              0.7777777777777778,
              "#fb9f3a"
             ],
             [
              0.8888888888888888,
              "#fdca26"
             ],
             [
              1,
              "#f0f921"
             ]
            ],
            "type": "contour"
           }
          ],
          "contourcarpet": [
           {
            "colorbar": {
             "outlinewidth": 0,
             "ticks": ""
            },
            "type": "contourcarpet"
           }
          ],
          "heatmap": [
           {
            "colorbar": {
             "outlinewidth": 0,
             "ticks": ""
            },
            "colorscale": [
             [
              0,
              "#0d0887"
             ],
             [
              0.1111111111111111,
              "#46039f"
             ],
             [
              0.2222222222222222,
              "#7201a8"
             ],
             [
              0.3333333333333333,
              "#9c179e"
             ],
             [
              0.4444444444444444,
              "#bd3786"
             ],
             [
              0.5555555555555556,
              "#d8576b"
             ],
             [
              0.6666666666666666,
              "#ed7953"
             ],
             [
              0.7777777777777778,
              "#fb9f3a"
             ],
             [
              0.8888888888888888,
              "#fdca26"
             ],
             [
              1,
              "#f0f921"
             ]
            ],
            "type": "heatmap"
           }
          ],
          "heatmapgl": [
           {
            "colorbar": {
             "outlinewidth": 0,
             "ticks": ""
            },
            "colorscale": [
             [
              0,
              "#0d0887"
             ],
             [
              0.1111111111111111,
              "#46039f"
             ],
             [
              0.2222222222222222,
              "#7201a8"
             ],
             [
              0.3333333333333333,
              "#9c179e"
             ],
             [
              0.4444444444444444,
              "#bd3786"
             ],
             [
              0.5555555555555556,
              "#d8576b"
             ],
             [
              0.6666666666666666,
              "#ed7953"
             ],
             [
              0.7777777777777778,
              "#fb9f3a"
             ],
             [
              0.8888888888888888,
              "#fdca26"
             ],
             [
              1,
              "#f0f921"
             ]
            ],
            "type": "heatmapgl"
           }
          ],
          "histogram": [
           {
            "marker": {
             "pattern": {
              "fillmode": "overlay",
              "size": 10,
              "solidity": 0.2
             }
            },
            "type": "histogram"
           }
          ],
          "histogram2d": [
           {
            "colorbar": {
             "outlinewidth": 0,
             "ticks": ""
            },
            "colorscale": [
             [
              0,
              "#0d0887"
             ],
             [
              0.1111111111111111,
              "#46039f"
             ],
             [
              0.2222222222222222,
              "#7201a8"
             ],
             [
              0.3333333333333333,
              "#9c179e"
             ],
             [
              0.4444444444444444,
              "#bd3786"
             ],
             [
              0.5555555555555556,
              "#d8576b"
             ],
             [
              0.6666666666666666,
              "#ed7953"
             ],
             [
              0.7777777777777778,
              "#fb9f3a"
             ],
             [
              0.8888888888888888,
              "#fdca26"
             ],
             [
              1,
              "#f0f921"
             ]
            ],
            "type": "histogram2d"
           }
          ],
          "histogram2dcontour": [
           {
            "colorbar": {
             "outlinewidth": 0,
             "ticks": ""
            },
            "colorscale": [
             [
              0,
              "#0d0887"
             ],
             [
              0.1111111111111111,
              "#46039f"
             ],
             [
              0.2222222222222222,
              "#7201a8"
             ],
             [
              0.3333333333333333,
              "#9c179e"
             ],
             [
              0.4444444444444444,
              "#bd3786"
             ],
             [
              0.5555555555555556,
              "#d8576b"
             ],
             [
              0.6666666666666666,
              "#ed7953"
             ],
             [
              0.7777777777777778,
              "#fb9f3a"
             ],
             [
              0.8888888888888888,
              "#fdca26"
             ],
             [
              1,
              "#f0f921"
             ]
            ],
            "type": "histogram2dcontour"
           }
          ],
          "mesh3d": [
           {
            "colorbar": {
             "outlinewidth": 0,
             "ticks": ""
            },
            "type": "mesh3d"
           }
          ],
          "parcoords": [
           {
            "line": {
             "colorbar": {
              "outlinewidth": 0,
              "ticks": ""
             }
            },
            "type": "parcoords"
           }
          ],
          "pie": [
           {
            "automargin": true,
            "type": "pie"
           }
          ],
          "scatter": [
           {
            "fillpattern": {
             "fillmode": "overlay",
             "size": 10,
             "solidity": 0.2
            },
            "type": "scatter"
           }
          ],
          "scatter3d": [
           {
            "line": {
             "colorbar": {
              "outlinewidth": 0,
              "ticks": ""
             }
            },
            "marker": {
             "colorbar": {
              "outlinewidth": 0,
              "ticks": ""
             }
            },
            "type": "scatter3d"
           }
          ],
          "scattercarpet": [
           {
            "marker": {
             "colorbar": {
              "outlinewidth": 0,
              "ticks": ""
             }
            },
            "type": "scattercarpet"
           }
          ],
          "scattergeo": [
           {
            "marker": {
             "colorbar": {
              "outlinewidth": 0,
              "ticks": ""
             }
            },
            "type": "scattergeo"
           }
          ],
          "scattergl": [
           {
            "marker": {
             "colorbar": {
              "outlinewidth": 0,
              "ticks": ""
             }
            },
            "type": "scattergl"
           }
          ],
          "scattermapbox": [
           {
            "marker": {
             "colorbar": {
              "outlinewidth": 0,
              "ticks": ""
             }
            },
            "type": "scattermapbox"
           }
          ],
          "scatterpolar": [
           {
            "marker": {
             "colorbar": {
              "outlinewidth": 0,
              "ticks": ""
             }
            },
            "type": "scatterpolar"
           }
          ],
          "scatterpolargl": [
           {
            "marker": {
             "colorbar": {
              "outlinewidth": 0,
              "ticks": ""
             }
            },
            "type": "scatterpolargl"
           }
          ],
          "scatterternary": [
           {
            "marker": {
             "colorbar": {
              "outlinewidth": 0,
              "ticks": ""
             }
            },
            "type": "scatterternary"
           }
          ],
          "surface": [
           {
            "colorbar": {
             "outlinewidth": 0,
             "ticks": ""
            },
            "colorscale": [
             [
              0,
              "#0d0887"
             ],
             [
              0.1111111111111111,
              "#46039f"
             ],
             [
              0.2222222222222222,
              "#7201a8"
             ],
             [
              0.3333333333333333,
              "#9c179e"
             ],
             [
              0.4444444444444444,
              "#bd3786"
             ],
             [
              0.5555555555555556,
              "#d8576b"
             ],
             [
              0.6666666666666666,
              "#ed7953"
             ],
             [
              0.7777777777777778,
              "#fb9f3a"
             ],
             [
              0.8888888888888888,
              "#fdca26"
             ],
             [
              1,
              "#f0f921"
             ]
            ],
            "type": "surface"
           }
          ],
          "table": [
           {
            "cells": {
             "fill": {
              "color": "#EBF0F8"
             },
             "line": {
              "color": "white"
             }
            },
            "header": {
             "fill": {
              "color": "#C8D4E3"
             },
             "line": {
              "color": "white"
             }
            },
            "type": "table"
           }
          ]
         },
         "layout": {
          "annotationdefaults": {
           "arrowcolor": "#2a3f5f",
           "arrowhead": 0,
           "arrowwidth": 1
          },
          "autotypenumbers": "strict",
          "coloraxis": {
           "colorbar": {
            "outlinewidth": 0,
            "ticks": ""
           }
          },
          "colorscale": {
           "diverging": [
            [
             0,
             "#8e0152"
            ],
            [
             0.1,
             "#c51b7d"
            ],
            [
             0.2,
             "#de77ae"
            ],
            [
             0.3,
             "#f1b6da"
            ],
            [
             0.4,
             "#fde0ef"
            ],
            [
             0.5,
             "#f7f7f7"
            ],
            [
             0.6,
             "#e6f5d0"
            ],
            [
             0.7,
             "#b8e186"
            ],
            [
             0.8,
             "#7fbc41"
            ],
            [
             0.9,
             "#4d9221"
            ],
            [
             1,
             "#276419"
            ]
           ],
           "sequential": [
            [
             0,
             "#0d0887"
            ],
            [
             0.1111111111111111,
             "#46039f"
            ],
            [
             0.2222222222222222,
             "#7201a8"
            ],
            [
             0.3333333333333333,
             "#9c179e"
            ],
            [
             0.4444444444444444,
             "#bd3786"
            ],
            [
             0.5555555555555556,
             "#d8576b"
            ],
            [
             0.6666666666666666,
             "#ed7953"
            ],
            [
             0.7777777777777778,
             "#fb9f3a"
            ],
            [
             0.8888888888888888,
             "#fdca26"
            ],
            [
             1,
             "#f0f921"
            ]
           ],
           "sequentialminus": [
            [
             0,
             "#0d0887"
            ],
            [
             0.1111111111111111,
             "#46039f"
            ],
            [
             0.2222222222222222,
             "#7201a8"
            ],
            [
             0.3333333333333333,
             "#9c179e"
            ],
            [
             0.4444444444444444,
             "#bd3786"
            ],
            [
             0.5555555555555556,
             "#d8576b"
            ],
            [
             0.6666666666666666,
             "#ed7953"
            ],
            [
             0.7777777777777778,
             "#fb9f3a"
            ],
            [
             0.8888888888888888,
             "#fdca26"
            ],
            [
             1,
             "#f0f921"
            ]
           ]
          },
          "colorway": [
           "#636efa",
           "#EF553B",
           "#00cc96",
           "#ab63fa",
           "#FFA15A",
           "#19d3f3",
           "#FF6692",
           "#B6E880",
           "#FF97FF",
           "#FECB52"
          ],
          "font": {
           "color": "#2a3f5f"
          },
          "geo": {
           "bgcolor": "white",
           "lakecolor": "white",
           "landcolor": "#E5ECF6",
           "showlakes": true,
           "showland": true,
           "subunitcolor": "white"
          },
          "hoverlabel": {
           "align": "left"
          },
          "hovermode": "closest",
          "mapbox": {
           "style": "light"
          },
          "paper_bgcolor": "white",
          "plot_bgcolor": "#E5ECF6",
          "polar": {
           "angularaxis": {
            "gridcolor": "white",
            "linecolor": "white",
            "ticks": ""
           },
           "bgcolor": "#E5ECF6",
           "radialaxis": {
            "gridcolor": "white",
            "linecolor": "white",
            "ticks": ""
           }
          },
          "scene": {
           "xaxis": {
            "backgroundcolor": "#E5ECF6",
            "gridcolor": "white",
            "gridwidth": 2,
            "linecolor": "white",
            "showbackground": true,
            "ticks": "",
            "zerolinecolor": "white"
           },
           "yaxis": {
            "backgroundcolor": "#E5ECF6",
            "gridcolor": "white",
            "gridwidth": 2,
            "linecolor": "white",
            "showbackground": true,
            "ticks": "",
            "zerolinecolor": "white"
           },
           "zaxis": {
            "backgroundcolor": "#E5ECF6",
            "gridcolor": "white",
            "gridwidth": 2,
            "linecolor": "white",
            "showbackground": true,
            "ticks": "",
            "zerolinecolor": "white"
           }
          },
          "shapedefaults": {
           "line": {
            "color": "#2a3f5f"
           }
          },
          "ternary": {
           "aaxis": {
            "gridcolor": "white",
            "linecolor": "white",
            "ticks": ""
           },
           "baxis": {
            "gridcolor": "white",
            "linecolor": "white",
            "ticks": ""
           },
           "bgcolor": "#E5ECF6",
           "caxis": {
            "gridcolor": "white",
            "linecolor": "white",
            "ticks": ""
           }
          },
          "title": {
           "x": 0.05
          },
          "xaxis": {
           "automargin": true,
           "gridcolor": "white",
           "linecolor": "white",
           "ticks": "",
           "title": {
            "standoff": 15
           },
           "zerolinecolor": "white",
           "zerolinewidth": 2
          },
          "yaxis": {
           "automargin": true,
           "gridcolor": "white",
           "linecolor": "white",
           "ticks": "",
           "title": {
            "standoff": 15
           },
           "zerolinecolor": "white",
           "zerolinewidth": 2
          }
         }
        },
        "title": {
         "text": "YIELD PER region"
        },
        "xaxis": {
         "anchor": "y",
         "categoryarray": [
          "Central USA",
          "East Africa",
          "North India",
          "South India",
          "South USA"
         ],
         "categoryorder": "array",
         "domain": [
          0,
          1
         ],
         "title": {
          "text": "Region"
         }
        },
        "yaxis": {
         "anchor": "x",
         "domain": [
          0,
          1
         ],
         "title": {
          "text": "Yield (kg per hectare)"
         }
        }
       }
      }
     },
     "metadata": {},
     "output_type": "display_data"
    },
    {
     "data": {
      "application/vnd.plotly.v1+json": {
       "config": {
        "plotlyServerURL": "https://plot.ly"
       },
       "data": [
        {
         "alignmentgroup": "True",
         "hovertemplate": "Crop_type=%{x}<br>Yield (kg per hectare)=%{y}<extra></extra>",
         "legendgroup": "Cotton",
         "marker": {
          "color": "lightskyblue",
          "pattern": {
           "shape": ""
          }
         },
         "name": "Cotton",
         "offsetgroup": "Cotton",
         "orientation": "v",
         "showlegend": true,
         "textposition": "auto",
         "type": "bar",
         "x": [
          "Cotton"
         ],
         "xaxis": "x",
         "y": [
          3925.6030841121496
         ],
         "yaxis": "y"
        },
        {
         "alignmentgroup": "True",
         "hovertemplate": "Crop_type=%{x}<br>Yield (kg per hectare)=%{y}<extra></extra>",
         "legendgroup": "Maize",
         "marker": {
          "color": "lightskyblue",
          "pattern": {
           "shape": ""
          }
         },
         "name": "Maize",
         "offsetgroup": "Maize",
         "orientation": "v",
         "showlegend": true,
         "textposition": "auto",
         "type": "bar",
         "x": [
          "Maize"
         ],
         "xaxis": "x",
         "y": [
          3982.5538738738737
         ],
         "yaxis": "y"
        },
        {
         "alignmentgroup": "True",
         "hovertemplate": "Crop_type=%{x}<br>Yield (kg per hectare)=%{y}<extra></extra>",
         "legendgroup": "Rice",
         "marker": {
          "color": "lightskyblue",
          "pattern": {
           "shape": ""
          }
         },
         "name": "Rice",
         "offsetgroup": "Rice",
         "orientation": "v",
         "showlegend": true,
         "textposition": "auto",
         "type": "bar",
         "x": [
          "Rice"
         ],
         "xaxis": "x",
         "y": [
          3896.1800000000003
         ],
         "yaxis": "y"
        },
        {
         "alignmentgroup": "True",
         "hovertemplate": "Crop_type=%{x}<br>Yield (kg per hectare)=%{y}<extra></extra>",
         "legendgroup": "Soybean",
         "marker": {
          "color": "lightskyblue",
          "pattern": {
           "shape": ""
          }
         },
         "name": "Soybean",
         "offsetgroup": "Soybean",
         "orientation": "v",
         "showlegend": true,
         "textposition": "auto",
         "type": "bar",
         "x": [
          "Soybean"
         ],
         "xaxis": "x",
         "y": [
          4256.814074074074
         ],
         "yaxis": "y"
        },
        {
         "alignmentgroup": "True",
         "hovertemplate": "Crop_type=%{x}<br>Yield (kg per hectare)=%{y}<extra></extra>",
         "legendgroup": "Wheat",
         "marker": {
          "color": "lightskyblue",
          "pattern": {
           "shape": ""
          }
         },
         "name": "Wheat",
         "offsetgroup": "Wheat",
         "orientation": "v",
         "showlegend": true,
         "textposition": "auto",
         "type": "bar",
         "x": [
          "Wheat"
         ],
         "xaxis": "x",
         "y": [
          4077.584565217391
         ],
         "yaxis": "y"
        }
       ],
       "layout": {
        "barmode": "relative",
        "legend": {
         "title": {
          "text": "Crop_type"
         },
         "tracegroupgap": 0
        },
        "showlegend": false,
        "template": {
         "data": {
          "bar": [
           {
            "error_x": {
             "color": "#2a3f5f"
            },
            "error_y": {
             "color": "#2a3f5f"
            },
            "marker": {
             "line": {
              "color": "#E5ECF6",
              "width": 0.5
             },
             "pattern": {
              "fillmode": "overlay",
              "size": 10,
              "solidity": 0.2
             }
            },
            "type": "bar"
           }
          ],
          "barpolar": [
           {
            "marker": {
             "line": {
              "color": "#E5ECF6",
              "width": 0.5
             },
             "pattern": {
              "fillmode": "overlay",
              "size": 10,
              "solidity": 0.2
             }
            },
            "type": "barpolar"
           }
          ],
          "carpet": [
           {
            "aaxis": {
             "endlinecolor": "#2a3f5f",
             "gridcolor": "white",
             "linecolor": "white",
             "minorgridcolor": "white",
             "startlinecolor": "#2a3f5f"
            },
            "baxis": {
             "endlinecolor": "#2a3f5f",
             "gridcolor": "white",
             "linecolor": "white",
             "minorgridcolor": "white",
             "startlinecolor": "#2a3f5f"
            },
            "type": "carpet"
           }
          ],
          "choropleth": [
           {
            "colorbar": {
             "outlinewidth": 0,
             "ticks": ""
            },
            "type": "choropleth"
           }
          ],
          "contour": [
           {
            "colorbar": {
             "outlinewidth": 0,
             "ticks": ""
            },
            "colorscale": [
             [
              0,
              "#0d0887"
             ],
             [
              0.1111111111111111,
              "#46039f"
             ],
             [
              0.2222222222222222,
              "#7201a8"
             ],
             [
              0.3333333333333333,
              "#9c179e"
             ],
             [
              0.4444444444444444,
              "#bd3786"
             ],
             [
              0.5555555555555556,
              "#d8576b"
             ],
             [
              0.6666666666666666,
              "#ed7953"
             ],
             [
              0.7777777777777778,
              "#fb9f3a"
             ],
             [
              0.8888888888888888,
              "#fdca26"
             ],
             [
              1,
              "#f0f921"
             ]
            ],
            "type": "contour"
           }
          ],
          "contourcarpet": [
           {
            "colorbar": {
             "outlinewidth": 0,
             "ticks": ""
            },
            "type": "contourcarpet"
           }
          ],
          "heatmap": [
           {
            "colorbar": {
             "outlinewidth": 0,
             "ticks": ""
            },
            "colorscale": [
             [
              0,
              "#0d0887"
             ],
             [
              0.1111111111111111,
              "#46039f"
             ],
             [
              0.2222222222222222,
              "#7201a8"
             ],
             [
              0.3333333333333333,
              "#9c179e"
             ],
             [
              0.4444444444444444,
              "#bd3786"
             ],
             [
              0.5555555555555556,
              "#d8576b"
             ],
             [
              0.6666666666666666,
              "#ed7953"
             ],
             [
              0.7777777777777778,
              "#fb9f3a"
             ],
             [
              0.8888888888888888,
              "#fdca26"
             ],
             [
              1,
              "#f0f921"
             ]
            ],
            "type": "heatmap"
           }
          ],
          "heatmapgl": [
           {
            "colorbar": {
             "outlinewidth": 0,
             "ticks": ""
            },
            "colorscale": [
             [
              0,
              "#0d0887"
             ],
             [
              0.1111111111111111,
              "#46039f"
             ],
             [
              0.2222222222222222,
              "#7201a8"
             ],
             [
              0.3333333333333333,
              "#9c179e"
             ],
             [
              0.4444444444444444,
              "#bd3786"
             ],
             [
              0.5555555555555556,
              "#d8576b"
             ],
             [
              0.6666666666666666,
              "#ed7953"
             ],
             [
              0.7777777777777778,
              "#fb9f3a"
             ],
             [
              0.8888888888888888,
              "#fdca26"
             ],
             [
              1,
              "#f0f921"
             ]
            ],
            "type": "heatmapgl"
           }
          ],
          "histogram": [
           {
            "marker": {
             "pattern": {
              "fillmode": "overlay",
              "size": 10,
              "solidity": 0.2
             }
            },
            "type": "histogram"
           }
          ],
          "histogram2d": [
           {
            "colorbar": {
             "outlinewidth": 0,
             "ticks": ""
            },
            "colorscale": [
             [
              0,
              "#0d0887"
             ],
             [
              0.1111111111111111,
              "#46039f"
             ],
             [
              0.2222222222222222,
              "#7201a8"
             ],
             [
              0.3333333333333333,
              "#9c179e"
             ],
             [
              0.4444444444444444,
              "#bd3786"
             ],
             [
              0.5555555555555556,
              "#d8576b"
             ],
             [
              0.6666666666666666,
              "#ed7953"
             ],
             [
              0.7777777777777778,
              "#fb9f3a"
             ],
             [
              0.8888888888888888,
              "#fdca26"
             ],
             [
              1,
              "#f0f921"
             ]
            ],
            "type": "histogram2d"
           }
          ],
          "histogram2dcontour": [
           {
            "colorbar": {
             "outlinewidth": 0,
             "ticks": ""
            },
            "colorscale": [
             [
              0,
              "#0d0887"
             ],
             [
              0.1111111111111111,
              "#46039f"
             ],
             [
              0.2222222222222222,
              "#7201a8"
             ],
             [
              0.3333333333333333,
              "#9c179e"
             ],
             [
              0.4444444444444444,
              "#bd3786"
             ],
             [
              0.5555555555555556,
              "#d8576b"
             ],
             [
              0.6666666666666666,
              "#ed7953"
             ],
             [
              0.7777777777777778,
              "#fb9f3a"
             ],
             [
              0.8888888888888888,
              "#fdca26"
             ],
             [
              1,
              "#f0f921"
             ]
            ],
            "type": "histogram2dcontour"
           }
          ],
          "mesh3d": [
           {
            "colorbar": {
             "outlinewidth": 0,
             "ticks": ""
            },
            "type": "mesh3d"
           }
          ],
          "parcoords": [
           {
            "line": {
             "colorbar": {
              "outlinewidth": 0,
              "ticks": ""
             }
            },
            "type": "parcoords"
           }
          ],
          "pie": [
           {
            "automargin": true,
            "type": "pie"
           }
          ],
          "scatter": [
           {
            "fillpattern": {
             "fillmode": "overlay",
             "size": 10,
             "solidity": 0.2
            },
            "type": "scatter"
           }
          ],
          "scatter3d": [
           {
            "line": {
             "colorbar": {
              "outlinewidth": 0,
              "ticks": ""
             }
            },
            "marker": {
             "colorbar": {
              "outlinewidth": 0,
              "ticks": ""
             }
            },
            "type": "scatter3d"
           }
          ],
          "scattercarpet": [
           {
            "marker": {
             "colorbar": {
              "outlinewidth": 0,
              "ticks": ""
             }
            },
            "type": "scattercarpet"
           }
          ],
          "scattergeo": [
           {
            "marker": {
             "colorbar": {
              "outlinewidth": 0,
              "ticks": ""
             }
            },
            "type": "scattergeo"
           }
          ],
          "scattergl": [
           {
            "marker": {
             "colorbar": {
              "outlinewidth": 0,
              "ticks": ""
             }
            },
            "type": "scattergl"
           }
          ],
          "scattermapbox": [
           {
            "marker": {
             "colorbar": {
              "outlinewidth": 0,
              "ticks": ""
             }
            },
            "type": "scattermapbox"
           }
          ],
          "scatterpolar": [
           {
            "marker": {
             "colorbar": {
              "outlinewidth": 0,
              "ticks": ""
             }
            },
            "type": "scatterpolar"
           }
          ],
          "scatterpolargl": [
           {
            "marker": {
             "colorbar": {
              "outlinewidth": 0,
              "ticks": ""
             }
            },
            "type": "scatterpolargl"
           }
          ],
          "scatterternary": [
           {
            "marker": {
             "colorbar": {
              "outlinewidth": 0,
              "ticks": ""
             }
            },
            "type": "scatterternary"
           }
          ],
          "surface": [
           {
            "colorbar": {
             "outlinewidth": 0,
             "ticks": ""
            },
            "colorscale": [
             [
              0,
              "#0d0887"
             ],
             [
              0.1111111111111111,
              "#46039f"
             ],
             [
              0.2222222222222222,
              "#7201a8"
             ],
             [
              0.3333333333333333,
              "#9c179e"
             ],
             [
              0.4444444444444444,
              "#bd3786"
             ],
             [
              0.5555555555555556,
              "#d8576b"
             ],
             [
              0.6666666666666666,
              "#ed7953"
             ],
             [
              0.7777777777777778,
              "#fb9f3a"
             ],
             [
              0.8888888888888888,
              "#fdca26"
             ],
             [
              1,
              "#f0f921"
             ]
            ],
            "type": "surface"
           }
          ],
          "table": [
           {
            "cells": {
             "fill": {
              "color": "#EBF0F8"
             },
             "line": {
              "color": "white"
             }
            },
            "header": {
             "fill": {
              "color": "#C8D4E3"
             },
             "line": {
              "color": "white"
             }
            },
            "type": "table"
           }
          ]
         },
         "layout": {
          "annotationdefaults": {
           "arrowcolor": "#2a3f5f",
           "arrowhead": 0,
           "arrowwidth": 1
          },
          "autotypenumbers": "strict",
          "coloraxis": {
           "colorbar": {
            "outlinewidth": 0,
            "ticks": ""
           }
          },
          "colorscale": {
           "diverging": [
            [
             0,
             "#8e0152"
            ],
            [
             0.1,
             "#c51b7d"
            ],
            [
             0.2,
             "#de77ae"
            ],
            [
             0.3,
             "#f1b6da"
            ],
            [
             0.4,
             "#fde0ef"
            ],
            [
             0.5,
             "#f7f7f7"
            ],
            [
             0.6,
             "#e6f5d0"
            ],
            [
             0.7,
             "#b8e186"
            ],
            [
             0.8,
             "#7fbc41"
            ],
            [
             0.9,
             "#4d9221"
            ],
            [
             1,
             "#276419"
            ]
           ],
           "sequential": [
            [
             0,
             "#0d0887"
            ],
            [
             0.1111111111111111,
             "#46039f"
            ],
            [
             0.2222222222222222,
             "#7201a8"
            ],
            [
             0.3333333333333333,
             "#9c179e"
            ],
            [
             0.4444444444444444,
             "#bd3786"
            ],
            [
             0.5555555555555556,
             "#d8576b"
            ],
            [
             0.6666666666666666,
             "#ed7953"
            ],
            [
             0.7777777777777778,
             "#fb9f3a"
            ],
            [
             0.8888888888888888,
             "#fdca26"
            ],
            [
             1,
             "#f0f921"
            ]
           ],
           "sequentialminus": [
            [
             0,
             "#0d0887"
            ],
            [
             0.1111111111111111,
             "#46039f"
            ],
            [
             0.2222222222222222,
             "#7201a8"
            ],
            [
             0.3333333333333333,
             "#9c179e"
            ],
            [
             0.4444444444444444,
             "#bd3786"
            ],
            [
             0.5555555555555556,
             "#d8576b"
            ],
            [
             0.6666666666666666,
             "#ed7953"
            ],
            [
             0.7777777777777778,
             "#fb9f3a"
            ],
            [
             0.8888888888888888,
             "#fdca26"
            ],
            [
             1,
             "#f0f921"
            ]
           ]
          },
          "colorway": [
           "#636efa",
           "#EF553B",
           "#00cc96",
           "#ab63fa",
           "#FFA15A",
           "#19d3f3",
           "#FF6692",
           "#B6E880",
           "#FF97FF",
           "#FECB52"
          ],
          "font": {
           "color": "#2a3f5f"
          },
          "geo": {
           "bgcolor": "white",
           "lakecolor": "white",
           "landcolor": "#E5ECF6",
           "showlakes": true,
           "showland": true,
           "subunitcolor": "white"
          },
          "hoverlabel": {
           "align": "left"
          },
          "hovermode": "closest",
          "mapbox": {
           "style": "light"
          },
          "paper_bgcolor": "white",
          "plot_bgcolor": "#E5ECF6",
          "polar": {
           "angularaxis": {
            "gridcolor": "white",
            "linecolor": "white",
            "ticks": ""
           },
           "bgcolor": "#E5ECF6",
           "radialaxis": {
            "gridcolor": "white",
            "linecolor": "white",
            "ticks": ""
           }
          },
          "scene": {
           "xaxis": {
            "backgroundcolor": "#E5ECF6",
            "gridcolor": "white",
            "gridwidth": 2,
            "linecolor": "white",
            "showbackground": true,
            "ticks": "",
            "zerolinecolor": "white"
           },
           "yaxis": {
            "backgroundcolor": "#E5ECF6",
            "gridcolor": "white",
            "gridwidth": 2,
            "linecolor": "white",
            "showbackground": true,
            "ticks": "",
            "zerolinecolor": "white"
           },
           "zaxis": {
            "backgroundcolor": "#E5ECF6",
            "gridcolor": "white",
            "gridwidth": 2,
            "linecolor": "white",
            "showbackground": true,
            "ticks": "",
            "zerolinecolor": "white"
           }
          },
          "shapedefaults": {
           "line": {
            "color": "#2a3f5f"
           }
          },
          "ternary": {
           "aaxis": {
            "gridcolor": "white",
            "linecolor": "white",
            "ticks": ""
           },
           "baxis": {
            "gridcolor": "white",
            "linecolor": "white",
            "ticks": ""
           },
           "bgcolor": "#E5ECF6",
           "caxis": {
            "gridcolor": "white",
            "linecolor": "white",
            "ticks": ""
           }
          },
          "title": {
           "x": 0.05
          },
          "xaxis": {
           "automargin": true,
           "gridcolor": "white",
           "linecolor": "white",
           "ticks": "",
           "title": {
            "standoff": 15
           },
           "zerolinecolor": "white",
           "zerolinewidth": 2
          },
          "yaxis": {
           "automargin": true,
           "gridcolor": "white",
           "linecolor": "white",
           "ticks": "",
           "title": {
            "standoff": 15
           },
           "zerolinecolor": "white",
           "zerolinewidth": 2
          }
         }
        },
        "title": {
         "text": "YIELD PER crop_type"
        },
        "xaxis": {
         "anchor": "y",
         "categoryarray": [
          "Cotton",
          "Maize",
          "Rice",
          "Soybean",
          "Wheat"
         ],
         "categoryorder": "array",
         "domain": [
          0,
          1
         ],
         "title": {
          "text": "Crop_type"
         }
        },
        "yaxis": {
         "anchor": "x",
         "domain": [
          0,
          1
         ],
         "title": {
          "text": "Yield (kg per hectare)"
         }
        }
       }
      }
     },
     "metadata": {},
     "output_type": "display_data"
    },
    {
     "data": {
      "application/vnd.plotly.v1+json": {
       "config": {
        "plotlyServerURL": "https://plot.ly"
       },
       "data": [
        {
         "alignmentgroup": "True",
         "hovertemplate": "Irrigation_type=%{x}<br>Yield (kg per hectare)=%{y}<extra></extra>",
         "legendgroup": "Drip",
         "marker": {
          "color": "lightskyblue",
          "pattern": {
           "shape": ""
          }
         },
         "name": "Drip",
         "offsetgroup": "Drip",
         "orientation": "v",
         "showlegend": true,
         "textposition": "auto",
         "type": "bar",
         "x": [
          "Drip"
         ],
         "xaxis": "x",
         "y": [
          4019.4533333333334
         ],
         "yaxis": "y"
        },
        {
         "alignmentgroup": "True",
         "hovertemplate": "Irrigation_type=%{x}<br>Yield (kg per hectare)=%{y}<extra></extra>",
         "legendgroup": "Manual",
         "marker": {
          "color": "lightskyblue",
          "pattern": {
           "shape": ""
          }
         },
         "name": "Manual",
         "offsetgroup": "Manual",
         "orientation": "v",
         "showlegend": true,
         "textposition": "auto",
         "type": "bar",
         "x": [
          "Manual"
         ],
         "xaxis": "x",
         "y": [
          4070.093898305085
         ],
         "yaxis": "y"
        },
        {
         "alignmentgroup": "True",
         "hovertemplate": "Irrigation_type=%{x}<br>Yield (kg per hectare)=%{y}<extra></extra>",
         "legendgroup": "Sprinkler",
         "marker": {
          "color": "lightskyblue",
          "pattern": {
           "shape": ""
          }
         },
         "name": "Sprinkler",
         "offsetgroup": "Sprinkler",
         "orientation": "v",
         "showlegend": true,
         "textposition": "auto",
         "type": "bar",
         "x": [
          "Sprinkler"
         ],
         "xaxis": "x",
         "y": [
          4022.2622509225093
         ],
         "yaxis": "y"
        }
       ],
       "layout": {
        "barmode": "relative",
        "legend": {
         "title": {
          "text": "Irrigation_type"
         },
         "tracegroupgap": 0
        },
        "showlegend": false,
        "template": {
         "data": {
          "bar": [
           {
            "error_x": {
             "color": "#2a3f5f"
            },
            "error_y": {
             "color": "#2a3f5f"
            },
            "marker": {
             "line": {
              "color": "#E5ECF6",
              "width": 0.5
             },
             "pattern": {
              "fillmode": "overlay",
              "size": 10,
              "solidity": 0.2
             }
            },
            "type": "bar"
           }
          ],
          "barpolar": [
           {
            "marker": {
             "line": {
              "color": "#E5ECF6",
              "width": 0.5
             },
             "pattern": {
              "fillmode": "overlay",
              "size": 10,
              "solidity": 0.2
             }
            },
            "type": "barpolar"
           }
          ],
          "carpet": [
           {
            "aaxis": {
             "endlinecolor": "#2a3f5f",
             "gridcolor": "white",
             "linecolor": "white",
             "minorgridcolor": "white",
             "startlinecolor": "#2a3f5f"
            },
            "baxis": {
             "endlinecolor": "#2a3f5f",
             "gridcolor": "white",
             "linecolor": "white",
             "minorgridcolor": "white",
             "startlinecolor": "#2a3f5f"
            },
            "type": "carpet"
           }
          ],
          "choropleth": [
           {
            "colorbar": {
             "outlinewidth": 0,
             "ticks": ""
            },
            "type": "choropleth"
           }
          ],
          "contour": [
           {
            "colorbar": {
             "outlinewidth": 0,
             "ticks": ""
            },
            "colorscale": [
             [
              0,
              "#0d0887"
             ],
             [
              0.1111111111111111,
              "#46039f"
             ],
             [
              0.2222222222222222,
              "#7201a8"
             ],
             [
              0.3333333333333333,
              "#9c179e"
             ],
             [
              0.4444444444444444,
              "#bd3786"
             ],
             [
              0.5555555555555556,
              "#d8576b"
             ],
             [
              0.6666666666666666,
              "#ed7953"
             ],
             [
              0.7777777777777778,
              "#fb9f3a"
             ],
             [
              0.8888888888888888,
              "#fdca26"
             ],
             [
              1,
              "#f0f921"
             ]
            ],
            "type": "contour"
           }
          ],
          "contourcarpet": [
           {
            "colorbar": {
             "outlinewidth": 0,
             "ticks": ""
            },
            "type": "contourcarpet"
           }
          ],
          "heatmap": [
           {
            "colorbar": {
             "outlinewidth": 0,
             "ticks": ""
            },
            "colorscale": [
             [
              0,
              "#0d0887"
             ],
             [
              0.1111111111111111,
              "#46039f"
             ],
             [
              0.2222222222222222,
              "#7201a8"
             ],
             [
              0.3333333333333333,
              "#9c179e"
             ],
             [
              0.4444444444444444,
              "#bd3786"
             ],
             [
              0.5555555555555556,
              "#d8576b"
             ],
             [
              0.6666666666666666,
              "#ed7953"
             ],
             [
              0.7777777777777778,
              "#fb9f3a"
             ],
             [
              0.8888888888888888,
              "#fdca26"
             ],
             [
              1,
              "#f0f921"
             ]
            ],
            "type": "heatmap"
           }
          ],
          "heatmapgl": [
           {
            "colorbar": {
             "outlinewidth": 0,
             "ticks": ""
            },
            "colorscale": [
             [
              0,
              "#0d0887"
             ],
             [
              0.1111111111111111,
              "#46039f"
             ],
             [
              0.2222222222222222,
              "#7201a8"
             ],
             [
              0.3333333333333333,
              "#9c179e"
             ],
             [
              0.4444444444444444,
              "#bd3786"
             ],
             [
              0.5555555555555556,
              "#d8576b"
             ],
             [
              0.6666666666666666,
              "#ed7953"
             ],
             [
              0.7777777777777778,
              "#fb9f3a"
             ],
             [
              0.8888888888888888,
              "#fdca26"
             ],
             [
              1,
              "#f0f921"
             ]
            ],
            "type": "heatmapgl"
           }
          ],
          "histogram": [
           {
            "marker": {
             "pattern": {
              "fillmode": "overlay",
              "size": 10,
              "solidity": 0.2
             }
            },
            "type": "histogram"
           }
          ],
          "histogram2d": [
           {
            "colorbar": {
             "outlinewidth": 0,
             "ticks": ""
            },
            "colorscale": [
             [
              0,
              "#0d0887"
             ],
             [
              0.1111111111111111,
              "#46039f"
             ],
             [
              0.2222222222222222,
              "#7201a8"
             ],
             [
              0.3333333333333333,
              "#9c179e"
             ],
             [
              0.4444444444444444,
              "#bd3786"
             ],
             [
              0.5555555555555556,
              "#d8576b"
             ],
             [
              0.6666666666666666,
              "#ed7953"
             ],
             [
              0.7777777777777778,
              "#fb9f3a"
             ],
             [
              0.8888888888888888,
              "#fdca26"
             ],
             [
              1,
              "#f0f921"
             ]
            ],
            "type": "histogram2d"
           }
          ],
          "histogram2dcontour": [
           {
            "colorbar": {
             "outlinewidth": 0,
             "ticks": ""
            },
            "colorscale": [
             [
              0,
              "#0d0887"
             ],
             [
              0.1111111111111111,
              "#46039f"
             ],
             [
              0.2222222222222222,
              "#7201a8"
             ],
             [
              0.3333333333333333,
              "#9c179e"
             ],
             [
              0.4444444444444444,
              "#bd3786"
             ],
             [
              0.5555555555555556,
              "#d8576b"
             ],
             [
              0.6666666666666666,
              "#ed7953"
             ],
             [
              0.7777777777777778,
              "#fb9f3a"
             ],
             [
              0.8888888888888888,
              "#fdca26"
             ],
             [
              1,
              "#f0f921"
             ]
            ],
            "type": "histogram2dcontour"
           }
          ],
          "mesh3d": [
           {
            "colorbar": {
             "outlinewidth": 0,
             "ticks": ""
            },
            "type": "mesh3d"
           }
          ],
          "parcoords": [
           {
            "line": {
             "colorbar": {
              "outlinewidth": 0,
              "ticks": ""
             }
            },
            "type": "parcoords"
           }
          ],
          "pie": [
           {
            "automargin": true,
            "type": "pie"
           }
          ],
          "scatter": [
           {
            "fillpattern": {
             "fillmode": "overlay",
             "size": 10,
             "solidity": 0.2
            },
            "type": "scatter"
           }
          ],
          "scatter3d": [
           {
            "line": {
             "colorbar": {
              "outlinewidth": 0,
              "ticks": ""
             }
            },
            "marker": {
             "colorbar": {
              "outlinewidth": 0,
              "ticks": ""
             }
            },
            "type": "scatter3d"
           }
          ],
          "scattercarpet": [
           {
            "marker": {
             "colorbar": {
              "outlinewidth": 0,
              "ticks": ""
             }
            },
            "type": "scattercarpet"
           }
          ],
          "scattergeo": [
           {
            "marker": {
             "colorbar": {
              "outlinewidth": 0,
              "ticks": ""
             }
            },
            "type": "scattergeo"
           }
          ],
          "scattergl": [
           {
            "marker": {
             "colorbar": {
              "outlinewidth": 0,
              "ticks": ""
             }
            },
            "type": "scattergl"
           }
          ],
          "scattermapbox": [
           {
            "marker": {
             "colorbar": {
              "outlinewidth": 0,
              "ticks": ""
             }
            },
            "type": "scattermapbox"
           }
          ],
          "scatterpolar": [
           {
            "marker": {
             "colorbar": {
              "outlinewidth": 0,
              "ticks": ""
             }
            },
            "type": "scatterpolar"
           }
          ],
          "scatterpolargl": [
           {
            "marker": {
             "colorbar": {
              "outlinewidth": 0,
              "ticks": ""
             }
            },
            "type": "scatterpolargl"
           }
          ],
          "scatterternary": [
           {
            "marker": {
             "colorbar": {
              "outlinewidth": 0,
              "ticks": ""
             }
            },
            "type": "scatterternary"
           }
          ],
          "surface": [
           {
            "colorbar": {
             "outlinewidth": 0,
             "ticks": ""
            },
            "colorscale": [
             [
              0,
              "#0d0887"
             ],
             [
              0.1111111111111111,
              "#46039f"
             ],
             [
              0.2222222222222222,
              "#7201a8"
             ],
             [
              0.3333333333333333,
              "#9c179e"
             ],
             [
              0.4444444444444444,
              "#bd3786"
             ],
             [
              0.5555555555555556,
              "#d8576b"
             ],
             [
              0.6666666666666666,
              "#ed7953"
             ],
             [
              0.7777777777777778,
              "#fb9f3a"
             ],
             [
              0.8888888888888888,
              "#fdca26"
             ],
             [
              1,
              "#f0f921"
             ]
            ],
            "type": "surface"
           }
          ],
          "table": [
           {
            "cells": {
             "fill": {
              "color": "#EBF0F8"
             },
             "line": {
              "color": "white"
             }
            },
            "header": {
             "fill": {
              "color": "#C8D4E3"
             },
             "line": {
              "color": "white"
             }
            },
            "type": "table"
           }
          ]
         },
         "layout": {
          "annotationdefaults": {
           "arrowcolor": "#2a3f5f",
           "arrowhead": 0,
           "arrowwidth": 1
          },
          "autotypenumbers": "strict",
          "coloraxis": {
           "colorbar": {
            "outlinewidth": 0,
            "ticks": ""
           }
          },
          "colorscale": {
           "diverging": [
            [
             0,
             "#8e0152"
            ],
            [
             0.1,
             "#c51b7d"
            ],
            [
             0.2,
             "#de77ae"
            ],
            [
             0.3,
             "#f1b6da"
            ],
            [
             0.4,
             "#fde0ef"
            ],
            [
             0.5,
             "#f7f7f7"
            ],
            [
             0.6,
             "#e6f5d0"
            ],
            [
             0.7,
             "#b8e186"
            ],
            [
             0.8,
             "#7fbc41"
            ],
            [
             0.9,
             "#4d9221"
            ],
            [
             1,
             "#276419"
            ]
           ],
           "sequential": [
            [
             0,
             "#0d0887"
            ],
            [
             0.1111111111111111,
             "#46039f"
            ],
            [
             0.2222222222222222,
             "#7201a8"
            ],
            [
             0.3333333333333333,
             "#9c179e"
            ],
            [
             0.4444444444444444,
             "#bd3786"
            ],
            [
             0.5555555555555556,
             "#d8576b"
            ],
            [
             0.6666666666666666,
             "#ed7953"
            ],
            [
             0.7777777777777778,
             "#fb9f3a"
            ],
            [
             0.8888888888888888,
             "#fdca26"
            ],
            [
             1,
             "#f0f921"
            ]
           ],
           "sequentialminus": [
            [
             0,
             "#0d0887"
            ],
            [
             0.1111111111111111,
             "#46039f"
            ],
            [
             0.2222222222222222,
             "#7201a8"
            ],
            [
             0.3333333333333333,
             "#9c179e"
            ],
            [
             0.4444444444444444,
             "#bd3786"
            ],
            [
             0.5555555555555556,
             "#d8576b"
            ],
            [
             0.6666666666666666,
             "#ed7953"
            ],
            [
             0.7777777777777778,
             "#fb9f3a"
            ],
            [
             0.8888888888888888,
             "#fdca26"
            ],
            [
             1,
             "#f0f921"
            ]
           ]
          },
          "colorway": [
           "#636efa",
           "#EF553B",
           "#00cc96",
           "#ab63fa",
           "#FFA15A",
           "#19d3f3",
           "#FF6692",
           "#B6E880",
           "#FF97FF",
           "#FECB52"
          ],
          "font": {
           "color": "#2a3f5f"
          },
          "geo": {
           "bgcolor": "white",
           "lakecolor": "white",
           "landcolor": "#E5ECF6",
           "showlakes": true,
           "showland": true,
           "subunitcolor": "white"
          },
          "hoverlabel": {
           "align": "left"
          },
          "hovermode": "closest",
          "mapbox": {
           "style": "light"
          },
          "paper_bgcolor": "white",
          "plot_bgcolor": "#E5ECF6",
          "polar": {
           "angularaxis": {
            "gridcolor": "white",
            "linecolor": "white",
            "ticks": ""
           },
           "bgcolor": "#E5ECF6",
           "radialaxis": {
            "gridcolor": "white",
            "linecolor": "white",
            "ticks": ""
           }
          },
          "scene": {
           "xaxis": {
            "backgroundcolor": "#E5ECF6",
            "gridcolor": "white",
            "gridwidth": 2,
            "linecolor": "white",
            "showbackground": true,
            "ticks": "",
            "zerolinecolor": "white"
           },
           "yaxis": {
            "backgroundcolor": "#E5ECF6",
            "gridcolor": "white",
            "gridwidth": 2,
            "linecolor": "white",
            "showbackground": true,
            "ticks": "",
            "zerolinecolor": "white"
           },
           "zaxis": {
            "backgroundcolor": "#E5ECF6",
            "gridcolor": "white",
            "gridwidth": 2,
            "linecolor": "white",
            "showbackground": true,
            "ticks": "",
            "zerolinecolor": "white"
           }
          },
          "shapedefaults": {
           "line": {
            "color": "#2a3f5f"
           }
          },
          "ternary": {
           "aaxis": {
            "gridcolor": "white",
            "linecolor": "white",
            "ticks": ""
           },
           "baxis": {
            "gridcolor": "white",
            "linecolor": "white",
            "ticks": ""
           },
           "bgcolor": "#E5ECF6",
           "caxis": {
            "gridcolor": "white",
            "linecolor": "white",
            "ticks": ""
           }
          },
          "title": {
           "x": 0.05
          },
          "xaxis": {
           "automargin": true,
           "gridcolor": "white",
           "linecolor": "white",
           "ticks": "",
           "title": {
            "standoff": 15
           },
           "zerolinecolor": "white",
           "zerolinewidth": 2
          },
          "yaxis": {
           "automargin": true,
           "gridcolor": "white",
           "linecolor": "white",
           "ticks": "",
           "title": {
            "standoff": 15
           },
           "zerolinecolor": "white",
           "zerolinewidth": 2
          }
         }
        },
        "title": {
         "text": "YIELD PER irrigation_type"
        },
        "xaxis": {
         "anchor": "y",
         "categoryarray": [
          "Drip",
          "Manual",
          "Sprinkler"
         ],
         "categoryorder": "array",
         "domain": [
          0,
          1
         ],
         "title": {
          "text": "Irrigation_type"
         }
        },
        "yaxis": {
         "anchor": "x",
         "domain": [
          0,
          1
         ],
         "title": {
          "text": "Yield (kg per hectare)"
         }
        }
       }
      }
     },
     "metadata": {},
     "output_type": "display_data"
    },
    {
     "data": {
      "application/vnd.plotly.v1+json": {
       "config": {
        "plotlyServerURL": "https://plot.ly"
       },
       "data": [
        {
         "alignmentgroup": "True",
         "hovertemplate": "Fertilizer_type=%{x}<br>Yield (kg per hectare)=%{y}<extra></extra>",
         "legendgroup": "Inorganic",
         "marker": {
          "color": "lightskyblue",
          "pattern": {
           "shape": ""
          }
         },
         "name": "Inorganic",
         "offsetgroup": "Inorganic",
         "orientation": "v",
         "showlegend": true,
         "textposition": "auto",
         "type": "bar",
         "x": [
          "Inorganic"
         ],
         "xaxis": "x",
         "y": [
          4087.1228742514973
         ],
         "yaxis": "y"
        },
        {
         "alignmentgroup": "True",
         "hovertemplate": "Fertilizer_type=%{x}<br>Yield (kg per hectare)=%{y}<extra></extra>",
         "legendgroup": "Mixed",
         "marker": {
          "color": "lightskyblue",
          "pattern": {
           "shape": ""
          }
         },
         "name": "Mixed",
         "offsetgroup": "Mixed",
         "orientation": "v",
         "showlegend": true,
         "textposition": "auto",
         "type": "bar",
         "x": [
          "Mixed"
         ],
         "xaxis": "x",
         "y": [
          3972.4149700598805
         ],
         "yaxis": "y"
        },
        {
         "alignmentgroup": "True",
         "hovertemplate": "Fertilizer_type=%{x}<br>Yield (kg per hectare)=%{y}<extra></extra>",
         "legendgroup": "Organic",
         "marker": {
          "color": "lightskyblue",
          "pattern": {
           "shape": ""
          }
         },
         "name": "Organic",
         "offsetgroup": "Organic",
         "orientation": "v",
         "showlegend": true,
         "textposition": "auto",
         "type": "bar",
         "x": [
          "Organic"
         ],
         "xaxis": "x",
         "y": [
          4039.281024096386
         ],
         "yaxis": "y"
        }
       ],
       "layout": {
        "barmode": "relative",
        "legend": {
         "title": {
          "text": "Fertilizer_type"
         },
         "tracegroupgap": 0
        },
        "showlegend": false,
        "template": {
         "data": {
          "bar": [
           {
            "error_x": {
             "color": "#2a3f5f"
            },
            "error_y": {
             "color": "#2a3f5f"
            },
            "marker": {
             "line": {
              "color": "#E5ECF6",
              "width": 0.5
             },
             "pattern": {
              "fillmode": "overlay",
              "size": 10,
              "solidity": 0.2
             }
            },
            "type": "bar"
           }
          ],
          "barpolar": [
           {
            "marker": {
             "line": {
              "color": "#E5ECF6",
              "width": 0.5
             },
             "pattern": {
              "fillmode": "overlay",
              "size": 10,
              "solidity": 0.2
             }
            },
            "type": "barpolar"
           }
          ],
          "carpet": [
           {
            "aaxis": {
             "endlinecolor": "#2a3f5f",
             "gridcolor": "white",
             "linecolor": "white",
             "minorgridcolor": "white",
             "startlinecolor": "#2a3f5f"
            },
            "baxis": {
             "endlinecolor": "#2a3f5f",
             "gridcolor": "white",
             "linecolor": "white",
             "minorgridcolor": "white",
             "startlinecolor": "#2a3f5f"
            },
            "type": "carpet"
           }
          ],
          "choropleth": [
           {
            "colorbar": {
             "outlinewidth": 0,
             "ticks": ""
            },
            "type": "choropleth"
           }
          ],
          "contour": [
           {
            "colorbar": {
             "outlinewidth": 0,
             "ticks": ""
            },
            "colorscale": [
             [
              0,
              "#0d0887"
             ],
             [
              0.1111111111111111,
              "#46039f"
             ],
             [
              0.2222222222222222,
              "#7201a8"
             ],
             [
              0.3333333333333333,
              "#9c179e"
             ],
             [
              0.4444444444444444,
              "#bd3786"
             ],
             [
              0.5555555555555556,
              "#d8576b"
             ],
             [
              0.6666666666666666,
              "#ed7953"
             ],
             [
              0.7777777777777778,
              "#fb9f3a"
             ],
             [
              0.8888888888888888,
              "#fdca26"
             ],
             [
              1,
              "#f0f921"
             ]
            ],
            "type": "contour"
           }
          ],
          "contourcarpet": [
           {
            "colorbar": {
             "outlinewidth": 0,
             "ticks": ""
            },
            "type": "contourcarpet"
           }
          ],
          "heatmap": [
           {
            "colorbar": {
             "outlinewidth": 0,
             "ticks": ""
            },
            "colorscale": [
             [
              0,
              "#0d0887"
             ],
             [
              0.1111111111111111,
              "#46039f"
             ],
             [
              0.2222222222222222,
              "#7201a8"
             ],
             [
              0.3333333333333333,
              "#9c179e"
             ],
             [
              0.4444444444444444,
              "#bd3786"
             ],
             [
              0.5555555555555556,
              "#d8576b"
             ],
             [
              0.6666666666666666,
              "#ed7953"
             ],
             [
              0.7777777777777778,
              "#fb9f3a"
             ],
             [
              0.8888888888888888,
              "#fdca26"
             ],
             [
              1,
              "#f0f921"
             ]
            ],
            "type": "heatmap"
           }
          ],
          "heatmapgl": [
           {
            "colorbar": {
             "outlinewidth": 0,
             "ticks": ""
            },
            "colorscale": [
             [
              0,
              "#0d0887"
             ],
             [
              0.1111111111111111,
              "#46039f"
             ],
             [
              0.2222222222222222,
              "#7201a8"
             ],
             [
              0.3333333333333333,
              "#9c179e"
             ],
             [
              0.4444444444444444,
              "#bd3786"
             ],
             [
              0.5555555555555556,
              "#d8576b"
             ],
             [
              0.6666666666666666,
              "#ed7953"
             ],
             [
              0.7777777777777778,
              "#fb9f3a"
             ],
             [
              0.8888888888888888,
              "#fdca26"
             ],
             [
              1,
              "#f0f921"
             ]
            ],
            "type": "heatmapgl"
           }
          ],
          "histogram": [
           {
            "marker": {
             "pattern": {
              "fillmode": "overlay",
              "size": 10,
              "solidity": 0.2
             }
            },
            "type": "histogram"
           }
          ],
          "histogram2d": [
           {
            "colorbar": {
             "outlinewidth": 0,
             "ticks": ""
            },
            "colorscale": [
             [
              0,
              "#0d0887"
             ],
             [
              0.1111111111111111,
              "#46039f"
             ],
             [
              0.2222222222222222,
              "#7201a8"
             ],
             [
              0.3333333333333333,
              "#9c179e"
             ],
             [
              0.4444444444444444,
              "#bd3786"
             ],
             [
              0.5555555555555556,
              "#d8576b"
             ],
             [
              0.6666666666666666,
              "#ed7953"
             ],
             [
              0.7777777777777778,
              "#fb9f3a"
             ],
             [
              0.8888888888888888,
              "#fdca26"
             ],
             [
              1,
              "#f0f921"
             ]
            ],
            "type": "histogram2d"
           }
          ],
          "histogram2dcontour": [
           {
            "colorbar": {
             "outlinewidth": 0,
             "ticks": ""
            },
            "colorscale": [
             [
              0,
              "#0d0887"
             ],
             [
              0.1111111111111111,
              "#46039f"
             ],
             [
              0.2222222222222222,
              "#7201a8"
             ],
             [
              0.3333333333333333,
              "#9c179e"
             ],
             [
              0.4444444444444444,
              "#bd3786"
             ],
             [
              0.5555555555555556,
              "#d8576b"
             ],
             [
              0.6666666666666666,
              "#ed7953"
             ],
             [
              0.7777777777777778,
              "#fb9f3a"
             ],
             [
              0.8888888888888888,
              "#fdca26"
             ],
             [
              1,
              "#f0f921"
             ]
            ],
            "type": "histogram2dcontour"
           }
          ],
          "mesh3d": [
           {
            "colorbar": {
             "outlinewidth": 0,
             "ticks": ""
            },
            "type": "mesh3d"
           }
          ],
          "parcoords": [
           {
            "line": {
             "colorbar": {
              "outlinewidth": 0,
              "ticks": ""
             }
            },
            "type": "parcoords"
           }
          ],
          "pie": [
           {
            "automargin": true,
            "type": "pie"
           }
          ],
          "scatter": [
           {
            "fillpattern": {
             "fillmode": "overlay",
             "size": 10,
             "solidity": 0.2
            },
            "type": "scatter"
           }
          ],
          "scatter3d": [
           {
            "line": {
             "colorbar": {
              "outlinewidth": 0,
              "ticks": ""
             }
            },
            "marker": {
             "colorbar": {
              "outlinewidth": 0,
              "ticks": ""
             }
            },
            "type": "scatter3d"
           }
          ],
          "scattercarpet": [
           {
            "marker": {
             "colorbar": {
              "outlinewidth": 0,
              "ticks": ""
             }
            },
            "type": "scattercarpet"
           }
          ],
          "scattergeo": [
           {
            "marker": {
             "colorbar": {
              "outlinewidth": 0,
              "ticks": ""
             }
            },
            "type": "scattergeo"
           }
          ],
          "scattergl": [
           {
            "marker": {
             "colorbar": {
              "outlinewidth": 0,
              "ticks": ""
             }
            },
            "type": "scattergl"
           }
          ],
          "scattermapbox": [
           {
            "marker": {
             "colorbar": {
              "outlinewidth": 0,
              "ticks": ""
             }
            },
            "type": "scattermapbox"
           }
          ],
          "scatterpolar": [
           {
            "marker": {
             "colorbar": {
              "outlinewidth": 0,
              "ticks": ""
             }
            },
            "type": "scatterpolar"
           }
          ],
          "scatterpolargl": [
           {
            "marker": {
             "colorbar": {
              "outlinewidth": 0,
              "ticks": ""
             }
            },
            "type": "scatterpolargl"
           }
          ],
          "scatterternary": [
           {
            "marker": {
             "colorbar": {
              "outlinewidth": 0,
              "ticks": ""
             }
            },
            "type": "scatterternary"
           }
          ],
          "surface": [
           {
            "colorbar": {
             "outlinewidth": 0,
             "ticks": ""
            },
            "colorscale": [
             [
              0,
              "#0d0887"
             ],
             [
              0.1111111111111111,
              "#46039f"
             ],
             [
              0.2222222222222222,
              "#7201a8"
             ],
             [
              0.3333333333333333,
              "#9c179e"
             ],
             [
              0.4444444444444444,
              "#bd3786"
             ],
             [
              0.5555555555555556,
              "#d8576b"
             ],
             [
              0.6666666666666666,
              "#ed7953"
             ],
             [
              0.7777777777777778,
              "#fb9f3a"
             ],
             [
              0.8888888888888888,
              "#fdca26"
             ],
             [
              1,
              "#f0f921"
             ]
            ],
            "type": "surface"
           }
          ],
          "table": [
           {
            "cells": {
             "fill": {
              "color": "#EBF0F8"
             },
             "line": {
              "color": "white"
             }
            },
            "header": {
             "fill": {
              "color": "#C8D4E3"
             },
             "line": {
              "color": "white"
             }
            },
            "type": "table"
           }
          ]
         },
         "layout": {
          "annotationdefaults": {
           "arrowcolor": "#2a3f5f",
           "arrowhead": 0,
           "arrowwidth": 1
          },
          "autotypenumbers": "strict",
          "coloraxis": {
           "colorbar": {
            "outlinewidth": 0,
            "ticks": ""
           }
          },
          "colorscale": {
           "diverging": [
            [
             0,
             "#8e0152"
            ],
            [
             0.1,
             "#c51b7d"
            ],
            [
             0.2,
             "#de77ae"
            ],
            [
             0.3,
             "#f1b6da"
            ],
            [
             0.4,
             "#fde0ef"
            ],
            [
             0.5,
             "#f7f7f7"
            ],
            [
             0.6,
             "#e6f5d0"
            ],
            [
             0.7,
             "#b8e186"
            ],
            [
             0.8,
             "#7fbc41"
            ],
            [
             0.9,
             "#4d9221"
            ],
            [
             1,
             "#276419"
            ]
           ],
           "sequential": [
            [
             0,
             "#0d0887"
            ],
            [
             0.1111111111111111,
             "#46039f"
            ],
            [
             0.2222222222222222,
             "#7201a8"
            ],
            [
             0.3333333333333333,
             "#9c179e"
            ],
            [
             0.4444444444444444,
             "#bd3786"
            ],
            [
             0.5555555555555556,
             "#d8576b"
            ],
            [
             0.6666666666666666,
             "#ed7953"
            ],
            [
             0.7777777777777778,
             "#fb9f3a"
            ],
            [
             0.8888888888888888,
             "#fdca26"
            ],
            [
             1,
             "#f0f921"
            ]
           ],
           "sequentialminus": [
            [
             0,
             "#0d0887"
            ],
            [
             0.1111111111111111,
             "#46039f"
            ],
            [
             0.2222222222222222,
             "#7201a8"
            ],
            [
             0.3333333333333333,
             "#9c179e"
            ],
            [
             0.4444444444444444,
             "#bd3786"
            ],
            [
             0.5555555555555556,
             "#d8576b"
            ],
            [
             0.6666666666666666,
             "#ed7953"
            ],
            [
             0.7777777777777778,
             "#fb9f3a"
            ],
            [
             0.8888888888888888,
             "#fdca26"
            ],
            [
             1,
             "#f0f921"
            ]
           ]
          },
          "colorway": [
           "#636efa",
           "#EF553B",
           "#00cc96",
           "#ab63fa",
           "#FFA15A",
           "#19d3f3",
           "#FF6692",
           "#B6E880",
           "#FF97FF",
           "#FECB52"
          ],
          "font": {
           "color": "#2a3f5f"
          },
          "geo": {
           "bgcolor": "white",
           "lakecolor": "white",
           "landcolor": "#E5ECF6",
           "showlakes": true,
           "showland": true,
           "subunitcolor": "white"
          },
          "hoverlabel": {
           "align": "left"
          },
          "hovermode": "closest",
          "mapbox": {
           "style": "light"
          },
          "paper_bgcolor": "white",
          "plot_bgcolor": "#E5ECF6",
          "polar": {
           "angularaxis": {
            "gridcolor": "white",
            "linecolor": "white",
            "ticks": ""
           },
           "bgcolor": "#E5ECF6",
           "radialaxis": {
            "gridcolor": "white",
            "linecolor": "white",
            "ticks": ""
           }
          },
          "scene": {
           "xaxis": {
            "backgroundcolor": "#E5ECF6",
            "gridcolor": "white",
            "gridwidth": 2,
            "linecolor": "white",
            "showbackground": true,
            "ticks": "",
            "zerolinecolor": "white"
           },
           "yaxis": {
            "backgroundcolor": "#E5ECF6",
            "gridcolor": "white",
            "gridwidth": 2,
            "linecolor": "white",
            "showbackground": true,
            "ticks": "",
            "zerolinecolor": "white"
           },
           "zaxis": {
            "backgroundcolor": "#E5ECF6",
            "gridcolor": "white",
            "gridwidth": 2,
            "linecolor": "white",
            "showbackground": true,
            "ticks": "",
            "zerolinecolor": "white"
           }
          },
          "shapedefaults": {
           "line": {
            "color": "#2a3f5f"
           }
          },
          "ternary": {
           "aaxis": {
            "gridcolor": "white",
            "linecolor": "white",
            "ticks": ""
           },
           "baxis": {
            "gridcolor": "white",
            "linecolor": "white",
            "ticks": ""
           },
           "bgcolor": "#E5ECF6",
           "caxis": {
            "gridcolor": "white",
            "linecolor": "white",
            "ticks": ""
           }
          },
          "title": {
           "x": 0.05
          },
          "xaxis": {
           "automargin": true,
           "gridcolor": "white",
           "linecolor": "white",
           "ticks": "",
           "title": {
            "standoff": 15
           },
           "zerolinecolor": "white",
           "zerolinewidth": 2
          },
          "yaxis": {
           "automargin": true,
           "gridcolor": "white",
           "linecolor": "white",
           "ticks": "",
           "title": {
            "standoff": 15
           },
           "zerolinecolor": "white",
           "zerolinewidth": 2
          }
         }
        },
        "title": {
         "text": "YIELD PER fertilizer_type"
        },
        "xaxis": {
         "anchor": "y",
         "categoryarray": [
          "Inorganic",
          "Mixed",
          "Organic"
         ],
         "categoryorder": "array",
         "domain": [
          0,
          1
         ],
         "title": {
          "text": "Fertilizer_type"
         }
        },
        "yaxis": {
         "anchor": "x",
         "domain": [
          0,
          1
         ],
         "title": {
          "text": "Yield (kg per hectare)"
         }
        }
       }
      }
     },
     "metadata": {},
     "output_type": "display_data"
    },
    {
     "data": {
      "application/vnd.plotly.v1+json": {
       "config": {
        "plotlyServerURL": "https://plot.ly"
       },
       "data": [
        {
         "alignmentgroup": "True",
         "hovertemplate": "Crop_disease_status=%{x}<br>Yield (kg per hectare)=%{y}<extra></extra>",
         "legendgroup": "Mild",
         "marker": {
          "color": "lightskyblue",
          "pattern": {
           "shape": ""
          }
         },
         "name": "Mild",
         "offsetgroup": "Mild",
         "orientation": "v",
         "showlegend": true,
         "textposition": "auto",
         "type": "bar",
         "x": [
          "Mild"
         ],
         "xaxis": "x",
         "y": [
          4089.87176
         ],
         "yaxis": "y"
        },
        {
         "alignmentgroup": "True",
         "hovertemplate": "Crop_disease_status=%{x}<br>Yield (kg per hectare)=%{y}<extra></extra>",
         "legendgroup": "Moderate",
         "marker": {
          "color": "lightskyblue",
          "pattern": {
           "shape": ""
          }
         },
         "name": "Moderate",
         "offsetgroup": "Moderate",
         "orientation": "v",
         "showlegend": true,
         "textposition": "auto",
         "type": "bar",
         "x": [
          "Moderate"
         ],
         "xaxis": "x",
         "y": [
          3915.9153571428574
         ],
         "yaxis": "y"
        },
        {
         "alignmentgroup": "True",
         "hovertemplate": "Crop_disease_status=%{x}<br>Yield (kg per hectare)=%{y}<extra></extra>",
         "legendgroup": "Severe",
         "marker": {
          "color": "lightskyblue",
          "pattern": {
           "shape": ""
          }
         },
         "name": "Severe",
         "offsetgroup": "Severe",
         "orientation": "v",
         "showlegend": true,
         "textposition": "auto",
         "type": "bar",
         "x": [
          "Severe"
         ],
         "xaxis": "x",
         "y": [
          4055.691939163498
         ],
         "yaxis": "y"
        }
       ],
       "layout": {
        "barmode": "relative",
        "legend": {
         "title": {
          "text": "Crop_disease_status"
         },
         "tracegroupgap": 0
        },
        "showlegend": false,
        "template": {
         "data": {
          "bar": [
           {
            "error_x": {
             "color": "#2a3f5f"
            },
            "error_y": {
             "color": "#2a3f5f"
            },
            "marker": {
             "line": {
              "color": "#E5ECF6",
              "width": 0.5
             },
             "pattern": {
              "fillmode": "overlay",
              "size": 10,
              "solidity": 0.2
             }
            },
            "type": "bar"
           }
          ],
          "barpolar": [
           {
            "marker": {
             "line": {
              "color": "#E5ECF6",
              "width": 0.5
             },
             "pattern": {
              "fillmode": "overlay",
              "size": 10,
              "solidity": 0.2
             }
            },
            "type": "barpolar"
           }
          ],
          "carpet": [
           {
            "aaxis": {
             "endlinecolor": "#2a3f5f",
             "gridcolor": "white",
             "linecolor": "white",
             "minorgridcolor": "white",
             "startlinecolor": "#2a3f5f"
            },
            "baxis": {
             "endlinecolor": "#2a3f5f",
             "gridcolor": "white",
             "linecolor": "white",
             "minorgridcolor": "white",
             "startlinecolor": "#2a3f5f"
            },
            "type": "carpet"
           }
          ],
          "choropleth": [
           {
            "colorbar": {
             "outlinewidth": 0,
             "ticks": ""
            },
            "type": "choropleth"
           }
          ],
          "contour": [
           {
            "colorbar": {
             "outlinewidth": 0,
             "ticks": ""
            },
            "colorscale": [
             [
              0,
              "#0d0887"
             ],
             [
              0.1111111111111111,
              "#46039f"
             ],
             [
              0.2222222222222222,
              "#7201a8"
             ],
             [
              0.3333333333333333,
              "#9c179e"
             ],
             [
              0.4444444444444444,
              "#bd3786"
             ],
             [
              0.5555555555555556,
              "#d8576b"
             ],
             [
              0.6666666666666666,
              "#ed7953"
             ],
             [
              0.7777777777777778,
              "#fb9f3a"
             ],
             [
              0.8888888888888888,
              "#fdca26"
             ],
             [
              1,
              "#f0f921"
             ]
            ],
            "type": "contour"
           }
          ],
          "contourcarpet": [
           {
            "colorbar": {
             "outlinewidth": 0,
             "ticks": ""
            },
            "type": "contourcarpet"
           }
          ],
          "heatmap": [
           {
            "colorbar": {
             "outlinewidth": 0,
             "ticks": ""
            },
            "colorscale": [
             [
              0,
              "#0d0887"
             ],
             [
              0.1111111111111111,
              "#46039f"
             ],
             [
              0.2222222222222222,
              "#7201a8"
             ],
             [
              0.3333333333333333,
              "#9c179e"
             ],
             [
              0.4444444444444444,
              "#bd3786"
             ],
             [
              0.5555555555555556,
              "#d8576b"
             ],
             [
              0.6666666666666666,
              "#ed7953"
             ],
             [
              0.7777777777777778,
              "#fb9f3a"
             ],
             [
              0.8888888888888888,
              "#fdca26"
             ],
             [
              1,
              "#f0f921"
             ]
            ],
            "type": "heatmap"
           }
          ],
          "heatmapgl": [
           {
            "colorbar": {
             "outlinewidth": 0,
             "ticks": ""
            },
            "colorscale": [
             [
              0,
              "#0d0887"
             ],
             [
              0.1111111111111111,
              "#46039f"
             ],
             [
              0.2222222222222222,
              "#7201a8"
             ],
             [
              0.3333333333333333,
              "#9c179e"
             ],
             [
              0.4444444444444444,
              "#bd3786"
             ],
             [
              0.5555555555555556,
              "#d8576b"
             ],
             [
              0.6666666666666666,
              "#ed7953"
             ],
             [
              0.7777777777777778,
              "#fb9f3a"
             ],
             [
              0.8888888888888888,
              "#fdca26"
             ],
             [
              1,
              "#f0f921"
             ]
            ],
            "type": "heatmapgl"
           }
          ],
          "histogram": [
           {
            "marker": {
             "pattern": {
              "fillmode": "overlay",
              "size": 10,
              "solidity": 0.2
             }
            },
            "type": "histogram"
           }
          ],
          "histogram2d": [
           {
            "colorbar": {
             "outlinewidth": 0,
             "ticks": ""
            },
            "colorscale": [
             [
              0,
              "#0d0887"
             ],
             [
              0.1111111111111111,
              "#46039f"
             ],
             [
              0.2222222222222222,
              "#7201a8"
             ],
             [
              0.3333333333333333,
              "#9c179e"
             ],
             [
              0.4444444444444444,
              "#bd3786"
             ],
             [
              0.5555555555555556,
              "#d8576b"
             ],
             [
              0.6666666666666666,
              "#ed7953"
             ],
             [
              0.7777777777777778,
              "#fb9f3a"
             ],
             [
              0.8888888888888888,
              "#fdca26"
             ],
             [
              1,
              "#f0f921"
             ]
            ],
            "type": "histogram2d"
           }
          ],
          "histogram2dcontour": [
           {
            "colorbar": {
             "outlinewidth": 0,
             "ticks": ""
            },
            "colorscale": [
             [
              0,
              "#0d0887"
             ],
             [
              0.1111111111111111,
              "#46039f"
             ],
             [
              0.2222222222222222,
              "#7201a8"
             ],
             [
              0.3333333333333333,
              "#9c179e"
             ],
             [
              0.4444444444444444,
              "#bd3786"
             ],
             [
              0.5555555555555556,
              "#d8576b"
             ],
             [
              0.6666666666666666,
              "#ed7953"
             ],
             [
              0.7777777777777778,
              "#fb9f3a"
             ],
             [
              0.8888888888888888,
              "#fdca26"
             ],
             [
              1,
              "#f0f921"
             ]
            ],
            "type": "histogram2dcontour"
           }
          ],
          "mesh3d": [
           {
            "colorbar": {
             "outlinewidth": 0,
             "ticks": ""
            },
            "type": "mesh3d"
           }
          ],
          "parcoords": [
           {
            "line": {
             "colorbar": {
              "outlinewidth": 0,
              "ticks": ""
             }
            },
            "type": "parcoords"
           }
          ],
          "pie": [
           {
            "automargin": true,
            "type": "pie"
           }
          ],
          "scatter": [
           {
            "fillpattern": {
             "fillmode": "overlay",
             "size": 10,
             "solidity": 0.2
            },
            "type": "scatter"
           }
          ],
          "scatter3d": [
           {
            "line": {
             "colorbar": {
              "outlinewidth": 0,
              "ticks": ""
             }
            },
            "marker": {
             "colorbar": {
              "outlinewidth": 0,
              "ticks": ""
             }
            },
            "type": "scatter3d"
           }
          ],
          "scattercarpet": [
           {
            "marker": {
             "colorbar": {
              "outlinewidth": 0,
              "ticks": ""
             }
            },
            "type": "scattercarpet"
           }
          ],
          "scattergeo": [
           {
            "marker": {
             "colorbar": {
              "outlinewidth": 0,
              "ticks": ""
             }
            },
            "type": "scattergeo"
           }
          ],
          "scattergl": [
           {
            "marker": {
             "colorbar": {
              "outlinewidth": 0,
              "ticks": ""
             }
            },
            "type": "scattergl"
           }
          ],
          "scattermapbox": [
           {
            "marker": {
             "colorbar": {
              "outlinewidth": 0,
              "ticks": ""
             }
            },
            "type": "scattermapbox"
           }
          ],
          "scatterpolar": [
           {
            "marker": {
             "colorbar": {
              "outlinewidth": 0,
              "ticks": ""
             }
            },
            "type": "scatterpolar"
           }
          ],
          "scatterpolargl": [
           {
            "marker": {
             "colorbar": {
              "outlinewidth": 0,
              "ticks": ""
             }
            },
            "type": "scatterpolargl"
           }
          ],
          "scatterternary": [
           {
            "marker": {
             "colorbar": {
              "outlinewidth": 0,
              "ticks": ""
             }
            },
            "type": "scatterternary"
           }
          ],
          "surface": [
           {
            "colorbar": {
             "outlinewidth": 0,
             "ticks": ""
            },
            "colorscale": [
             [
              0,
              "#0d0887"
             ],
             [
              0.1111111111111111,
              "#46039f"
             ],
             [
              0.2222222222222222,
              "#7201a8"
             ],
             [
              0.3333333333333333,
              "#9c179e"
             ],
             [
              0.4444444444444444,
              "#bd3786"
             ],
             [
              0.5555555555555556,
              "#d8576b"
             ],
             [
              0.6666666666666666,
              "#ed7953"
             ],
             [
              0.7777777777777778,
              "#fb9f3a"
             ],
             [
              0.8888888888888888,
              "#fdca26"
             ],
             [
              1,
              "#f0f921"
             ]
            ],
            "type": "surface"
           }
          ],
          "table": [
           {
            "cells": {
             "fill": {
              "color": "#EBF0F8"
             },
             "line": {
              "color": "white"
             }
            },
            "header": {
             "fill": {
              "color": "#C8D4E3"
             },
             "line": {
              "color": "white"
             }
            },
            "type": "table"
           }
          ]
         },
         "layout": {
          "annotationdefaults": {
           "arrowcolor": "#2a3f5f",
           "arrowhead": 0,
           "arrowwidth": 1
          },
          "autotypenumbers": "strict",
          "coloraxis": {
           "colorbar": {
            "outlinewidth": 0,
            "ticks": ""
           }
          },
          "colorscale": {
           "diverging": [
            [
             0,
             "#8e0152"
            ],
            [
             0.1,
             "#c51b7d"
            ],
            [
             0.2,
             "#de77ae"
            ],
            [
             0.3,
             "#f1b6da"
            ],
            [
             0.4,
             "#fde0ef"
            ],
            [
             0.5,
             "#f7f7f7"
            ],
            [
             0.6,
             "#e6f5d0"
            ],
            [
             0.7,
             "#b8e186"
            ],
            [
             0.8,
             "#7fbc41"
            ],
            [
             0.9,
             "#4d9221"
            ],
            [
             1,
             "#276419"
            ]
           ],
           "sequential": [
            [
             0,
             "#0d0887"
            ],
            [
             0.1111111111111111,
             "#46039f"
            ],
            [
             0.2222222222222222,
             "#7201a8"
            ],
            [
             0.3333333333333333,
             "#9c179e"
            ],
            [
             0.4444444444444444,
             "#bd3786"
            ],
            [
             0.5555555555555556,
             "#d8576b"
            ],
            [
             0.6666666666666666,
             "#ed7953"
            ],
            [
             0.7777777777777778,
             "#fb9f3a"
            ],
            [
             0.8888888888888888,
             "#fdca26"
            ],
            [
             1,
             "#f0f921"
            ]
           ],
           "sequentialminus": [
            [
             0,
             "#0d0887"
            ],
            [
             0.1111111111111111,
             "#46039f"
            ],
            [
             0.2222222222222222,
             "#7201a8"
            ],
            [
             0.3333333333333333,
             "#9c179e"
            ],
            [
             0.4444444444444444,
             "#bd3786"
            ],
            [
             0.5555555555555556,
             "#d8576b"
            ],
            [
             0.6666666666666666,
             "#ed7953"
            ],
            [
             0.7777777777777778,
             "#fb9f3a"
            ],
            [
             0.8888888888888888,
             "#fdca26"
            ],
            [
             1,
             "#f0f921"
            ]
           ]
          },
          "colorway": [
           "#636efa",
           "#EF553B",
           "#00cc96",
           "#ab63fa",
           "#FFA15A",
           "#19d3f3",
           "#FF6692",
           "#B6E880",
           "#FF97FF",
           "#FECB52"
          ],
          "font": {
           "color": "#2a3f5f"
          },
          "geo": {
           "bgcolor": "white",
           "lakecolor": "white",
           "landcolor": "#E5ECF6",
           "showlakes": true,
           "showland": true,
           "subunitcolor": "white"
          },
          "hoverlabel": {
           "align": "left"
          },
          "hovermode": "closest",
          "mapbox": {
           "style": "light"
          },
          "paper_bgcolor": "white",
          "plot_bgcolor": "#E5ECF6",
          "polar": {
           "angularaxis": {
            "gridcolor": "white",
            "linecolor": "white",
            "ticks": ""
           },
           "bgcolor": "#E5ECF6",
           "radialaxis": {
            "gridcolor": "white",
            "linecolor": "white",
            "ticks": ""
           }
          },
          "scene": {
           "xaxis": {
            "backgroundcolor": "#E5ECF6",
            "gridcolor": "white",
            "gridwidth": 2,
            "linecolor": "white",
            "showbackground": true,
            "ticks": "",
            "zerolinecolor": "white"
           },
           "yaxis": {
            "backgroundcolor": "#E5ECF6",
            "gridcolor": "white",
            "gridwidth": 2,
            "linecolor": "white",
            "showbackground": true,
            "ticks": "",
            "zerolinecolor": "white"
           },
           "zaxis": {
            "backgroundcolor": "#E5ECF6",
            "gridcolor": "white",
            "gridwidth": 2,
            "linecolor": "white",
            "showbackground": true,
            "ticks": "",
            "zerolinecolor": "white"
           }
          },
          "shapedefaults": {
           "line": {
            "color": "#2a3f5f"
           }
          },
          "ternary": {
           "aaxis": {
            "gridcolor": "white",
            "linecolor": "white",
            "ticks": ""
           },
           "baxis": {
            "gridcolor": "white",
            "linecolor": "white",
            "ticks": ""
           },
           "bgcolor": "#E5ECF6",
           "caxis": {
            "gridcolor": "white",
            "linecolor": "white",
            "ticks": ""
           }
          },
          "title": {
           "x": 0.05
          },
          "xaxis": {
           "automargin": true,
           "gridcolor": "white",
           "linecolor": "white",
           "ticks": "",
           "title": {
            "standoff": 15
           },
           "zerolinecolor": "white",
           "zerolinewidth": 2
          },
          "yaxis": {
           "automargin": true,
           "gridcolor": "white",
           "linecolor": "white",
           "ticks": "",
           "title": {
            "standoff": 15
           },
           "zerolinecolor": "white",
           "zerolinewidth": 2
          }
         }
        },
        "title": {
         "text": "YIELD PER crop_disease_status"
        },
        "xaxis": {
         "anchor": "y",
         "categoryarray": [
          "Mild",
          "Moderate",
          "Severe"
         ],
         "categoryorder": "array",
         "domain": [
          0,
          1
         ],
         "title": {
          "text": "Crop_disease_status"
         }
        },
        "yaxis": {
         "anchor": "x",
         "domain": [
          0,
          1
         ],
         "title": {
          "text": "Yield (kg per hectare)"
         }
        }
       }
      }
     },
     "metadata": {},
     "output_type": "display_data"
    }
   ],
   "source": [
    "for col in categorical_features:\n",
    "    mean_df = df.groupby(col)['yield_kg_per_hectare'].mean().reset_index()\n",
    "\n",
    "    fig = px.bar(\n",
    "        mean_df,\n",
    "        x=col,\n",
    "        y='yield_kg_per_hectare',\n",
    "        title=f'YIELD PER {col}',\n",
    "        labels={\n",
    "            col: col.capitalize(),\n",
    "            'yield_kg_per_hectare': 'Yield (kg per hectare)'\n",
    "        },\n",
    "        color=col,\n",
    "        color_discrete_sequence=['lightskyblue']\n",
    "    )\n",
    "    fig.update_layout(showlegend=False)\n",
    "    fig.show()"
   ]
  },
  {
   "cell_type": "code",
   "execution_count": 97,
   "id": "10af8a8a",
   "metadata": {},
   "outputs": [
    {
     "data": {
      "application/vnd.plotly.v1+json": {
       "config": {
        "plotlyServerURL": "https://plot.ly"
       },
       "data": [
        {
         "alignmentgroup": "True",
         "bingroup": "x",
         "hovertemplate": "sowing_date=%{x}<br>count=%{y}<extra></extra>",
         "legendgroup": "",
         "marker": {
          "color": "lightskyblue",
          "pattern": {
           "shape": ""
          }
         },
         "name": "",
         "offsetgroup": "",
         "orientation": "v",
         "showlegend": false,
         "type": "histogram",
         "x": [
          "2024-01-08T00:00:00",
          "2024-02-04T00:00:00",
          "2024-02-03T00:00:00",
          "2024-02-21T00:00:00",
          "2024-02-05T00:00:00",
          "2024-01-13T00:00:00",
          "2024-03-04T00:00:00",
          "2024-01-24T00:00:00",
          "2024-03-12T00:00:00",
          "2024-01-18T00:00:00",
          "2024-02-26T00:00:00",
          "2024-01-06T00:00:00",
          "2024-01-02T00:00:00",
          "2024-03-03T00:00:00",
          "2024-01-03T00:00:00",
          "2024-02-22T00:00:00",
          "2024-02-02T00:00:00",
          "2024-02-12T00:00:00",
          "2024-03-11T00:00:00",
          "2024-01-25T00:00:00",
          "2024-03-04T00:00:00",
          "2024-02-11T00:00:00",
          "2024-03-07T00:00:00",
          "2024-02-20T00:00:00",
          "2024-03-17T00:00:00",
          "2024-02-15T00:00:00",
          "2024-03-07T00:00:00",
          "2024-02-18T00:00:00",
          "2024-01-28T00:00:00",
          "2024-01-08T00:00:00",
          "2024-02-19T00:00:00",
          "2024-03-21T00:00:00",
          "2024-03-09T00:00:00",
          "2024-03-23T00:00:00",
          "2024-02-22T00:00:00",
          "2024-02-09T00:00:00",
          "2024-02-04T00:00:00",
          "2024-01-18T00:00:00",
          "2024-01-08T00:00:00",
          "2024-01-21T00:00:00",
          "2024-03-09T00:00:00",
          "2024-01-16T00:00:00",
          "2024-01-22T00:00:00",
          "2024-03-01T00:00:00",
          "2024-01-20T00:00:00",
          "2024-02-11T00:00:00",
          "2024-03-05T00:00:00",
          "2024-02-21T00:00:00",
          "2024-01-15T00:00:00",
          "2024-02-19T00:00:00",
          "2024-01-13T00:00:00",
          "2024-01-20T00:00:00",
          "2024-03-12T00:00:00",
          "2024-02-01T00:00:00",
          "2024-03-10T00:00:00",
          "2024-01-14T00:00:00",
          "2024-01-04T00:00:00",
          "2024-01-26T00:00:00",
          "2024-03-14T00:00:00",
          "2024-02-14T00:00:00",
          "2024-01-28T00:00:00",
          "2024-01-03T00:00:00",
          "2024-03-07T00:00:00",
          "2024-03-09T00:00:00",
          "2024-01-12T00:00:00",
          "2024-02-04T00:00:00",
          "2024-01-05T00:00:00",
          "2024-01-11T00:00:00",
          "2024-01-17T00:00:00",
          "2024-03-15T00:00:00",
          "2024-02-03T00:00:00",
          "2024-03-06T00:00:00",
          "2024-02-10T00:00:00",
          "2024-03-26T00:00:00",
          "2024-02-28T00:00:00",
          "2024-03-24T00:00:00",
          "2024-01-27T00:00:00",
          "2024-01-27T00:00:00",
          "2024-02-23T00:00:00",
          "2024-03-15T00:00:00",
          "2024-03-17T00:00:00",
          "2024-03-11T00:00:00",
          "2024-01-25T00:00:00",
          "2024-03-09T00:00:00",
          "2024-02-20T00:00:00",
          "2024-03-02T00:00:00",
          "2024-02-23T00:00:00",
          "2024-01-18T00:00:00",
          "2024-03-05T00:00:00",
          "2024-01-27T00:00:00",
          "2024-03-19T00:00:00",
          "2024-03-10T00:00:00",
          "2024-02-13T00:00:00",
          "2024-03-11T00:00:00",
          "2024-03-22T00:00:00",
          "2024-03-22T00:00:00",
          "2024-03-05T00:00:00",
          "2024-02-19T00:00:00",
          "2024-01-02T00:00:00",
          "2024-03-16T00:00:00",
          "2024-03-16T00:00:00",
          "2024-02-21T00:00:00",
          "2024-03-16T00:00:00",
          "2024-01-06T00:00:00",
          "2024-02-09T00:00:00",
          "2024-02-22T00:00:00",
          "2024-02-10T00:00:00",
          "2024-02-25T00:00:00",
          "2024-01-11T00:00:00",
          "2024-01-24T00:00:00",
          "2024-02-15T00:00:00",
          "2024-03-18T00:00:00",
          "2024-03-22T00:00:00",
          "2024-01-22T00:00:00",
          "2024-02-06T00:00:00",
          "2024-01-18T00:00:00",
          "2024-03-04T00:00:00",
          "2024-03-16T00:00:00",
          "2024-02-18T00:00:00",
          "2024-01-27T00:00:00",
          "2024-03-14T00:00:00",
          "2024-02-15T00:00:00",
          "2024-03-28T00:00:00",
          "2024-03-05T00:00:00",
          "2024-01-27T00:00:00",
          "2024-01-23T00:00:00",
          "2024-03-17T00:00:00",
          "2024-01-09T00:00:00",
          "2024-02-27T00:00:00",
          "2024-02-13T00:00:00",
          "2024-03-10T00:00:00",
          "2024-03-22T00:00:00",
          "2024-02-25T00:00:00",
          "2024-02-24T00:00:00",
          "2024-03-06T00:00:00",
          "2024-02-07T00:00:00",
          "2024-03-05T00:00:00",
          "2024-02-05T00:00:00",
          "2024-03-01T00:00:00",
          "2024-01-14T00:00:00",
          "2024-02-06T00:00:00",
          "2024-02-02T00:00:00",
          "2024-02-23T00:00:00",
          "2024-03-05T00:00:00",
          "2024-02-03T00:00:00",
          "2024-02-27T00:00:00",
          "2024-01-20T00:00:00",
          "2024-01-09T00:00:00",
          "2024-01-16T00:00:00",
          "2024-01-26T00:00:00",
          "2024-03-21T00:00:00",
          "2024-01-23T00:00:00",
          "2024-02-23T00:00:00",
          "2024-02-12T00:00:00",
          "2024-03-02T00:00:00",
          "2024-03-25T00:00:00",
          "2024-01-23T00:00:00",
          "2024-02-26T00:00:00",
          "2024-02-28T00:00:00",
          "2024-02-18T00:00:00",
          "2024-01-07T00:00:00",
          "2024-01-09T00:00:00",
          "2024-03-26T00:00:00",
          "2024-03-08T00:00:00",
          "2024-03-01T00:00:00",
          "2024-01-11T00:00:00",
          "2024-01-24T00:00:00",
          "2024-03-11T00:00:00",
          "2024-01-08T00:00:00",
          "2024-01-10T00:00:00",
          "2024-02-07T00:00:00",
          "2024-03-20T00:00:00",
          "2024-02-02T00:00:00",
          "2024-02-19T00:00:00",
          "2024-03-05T00:00:00",
          "2024-01-19T00:00:00",
          "2024-03-23T00:00:00",
          "2024-03-15T00:00:00",
          "2024-01-25T00:00:00",
          "2024-02-16T00:00:00",
          "2024-03-14T00:00:00",
          "2024-02-15T00:00:00",
          "2024-02-21T00:00:00",
          "2024-02-10T00:00:00",
          "2024-01-10T00:00:00",
          "2024-02-02T00:00:00",
          "2024-03-06T00:00:00",
          "2024-02-13T00:00:00",
          "2024-03-10T00:00:00",
          "2024-03-05T00:00:00",
          "2024-02-13T00:00:00",
          "2024-01-10T00:00:00",
          "2024-01-27T00:00:00",
          "2024-02-14T00:00:00",
          "2024-02-23T00:00:00",
          "2024-03-27T00:00:00",
          "2024-03-17T00:00:00",
          "2024-02-11T00:00:00",
          "2024-01-13T00:00:00",
          "2024-03-20T00:00:00",
          "2024-03-24T00:00:00",
          "2024-03-17T00:00:00",
          "2024-02-20T00:00:00",
          "2024-03-10T00:00:00",
          "2024-03-04T00:00:00",
          "2024-03-24T00:00:00",
          "2024-02-27T00:00:00",
          "2024-02-05T00:00:00",
          "2024-02-17T00:00:00",
          "2024-03-01T00:00:00",
          "2024-02-16T00:00:00",
          "2024-03-24T00:00:00",
          "2024-02-14T00:00:00",
          "2024-02-13T00:00:00",
          "2024-03-05T00:00:00",
          "2024-03-26T00:00:00",
          "2024-01-07T00:00:00",
          "2024-02-16T00:00:00",
          "2024-03-07T00:00:00",
          "2024-03-08T00:00:00",
          "2024-02-02T00:00:00",
          "2024-01-17T00:00:00",
          "2024-02-24T00:00:00",
          "2024-01-17T00:00:00",
          "2024-02-06T00:00:00",
          "2024-03-17T00:00:00",
          "2024-03-25T00:00:00",
          "2024-03-07T00:00:00",
          "2024-03-16T00:00:00",
          "2024-03-01T00:00:00",
          "2024-02-01T00:00:00",
          "2024-02-19T00:00:00",
          "2024-02-11T00:00:00",
          "2024-01-13T00:00:00",
          "2024-02-11T00:00:00",
          "2024-01-03T00:00:00",
          "2024-03-05T00:00:00",
          "2024-02-06T00:00:00",
          "2024-01-18T00:00:00",
          "2024-03-02T00:00:00",
          "2024-01-19T00:00:00",
          "2024-03-13T00:00:00",
          "2024-01-05T00:00:00",
          "2024-01-03T00:00:00",
          "2024-03-18T00:00:00",
          "2024-01-12T00:00:00",
          "2024-03-24T00:00:00",
          "2024-02-07T00:00:00",
          "2024-02-23T00:00:00",
          "2024-02-08T00:00:00",
          "2024-02-07T00:00:00",
          "2024-02-25T00:00:00",
          "2024-01-23T00:00:00",
          "2024-02-10T00:00:00",
          "2024-02-25T00:00:00",
          "2024-03-23T00:00:00",
          "2024-01-24T00:00:00",
          "2024-03-19T00:00:00",
          "2024-03-14T00:00:00",
          "2024-01-07T00:00:00",
          "2024-03-07T00:00:00",
          "2024-01-28T00:00:00",
          "2024-01-08T00:00:00",
          "2024-03-07T00:00:00",
          "2024-02-20T00:00:00",
          "2024-03-26T00:00:00",
          "2024-03-02T00:00:00",
          "2024-03-23T00:00:00",
          "2024-01-17T00:00:00",
          "2024-01-14T00:00:00",
          "2024-03-24T00:00:00",
          "2024-03-20T00:00:00",
          "2024-01-02T00:00:00",
          "2024-01-20T00:00:00",
          "2024-03-02T00:00:00",
          "2024-03-18T00:00:00",
          "2024-02-03T00:00:00",
          "2024-01-14T00:00:00",
          "2024-03-16T00:00:00",
          "2024-03-10T00:00:00",
          "2024-02-27T00:00:00",
          "2024-03-26T00:00:00",
          "2024-01-15T00:00:00",
          "2024-01-04T00:00:00",
          "2024-03-11T00:00:00",
          "2024-02-13T00:00:00",
          "2024-01-25T00:00:00",
          "2024-02-13T00:00:00",
          "2024-02-09T00:00:00",
          "2024-01-10T00:00:00",
          "2024-02-27T00:00:00",
          "2024-01-05T00:00:00",
          "2024-03-04T00:00:00",
          "2024-03-14T00:00:00",
          "2024-03-27T00:00:00",
          "2024-01-07T00:00:00",
          "2024-02-04T00:00:00",
          "2024-03-05T00:00:00",
          "2024-03-27T00:00:00",
          "2024-03-03T00:00:00",
          "2024-02-18T00:00:00",
          "2024-01-19T00:00:00",
          "2024-03-24T00:00:00",
          "2024-01-22T00:00:00",
          "2024-02-09T00:00:00",
          "2024-01-09T00:00:00",
          "2024-03-15T00:00:00",
          "2024-02-10T00:00:00",
          "2024-02-07T00:00:00",
          "2024-01-22T00:00:00",
          "2024-02-11T00:00:00",
          "2024-01-21T00:00:00",
          "2024-01-11T00:00:00",
          "2024-01-01T00:00:00",
          "2024-03-19T00:00:00",
          "2024-03-20T00:00:00",
          "2024-01-20T00:00:00",
          "2024-03-07T00:00:00",
          "2024-01-18T00:00:00",
          "2024-01-13T00:00:00",
          "2024-03-02T00:00:00",
          "2024-02-28T00:00:00",
          "2024-02-24T00:00:00",
          "2024-01-01T00:00:00",
          "2024-03-11T00:00:00",
          "2024-03-02T00:00:00",
          "2024-02-12T00:00:00",
          "2024-01-07T00:00:00",
          "2024-03-05T00:00:00",
          "2024-01-26T00:00:00",
          "2024-03-26T00:00:00",
          "2024-01-13T00:00:00",
          "2024-03-16T00:00:00",
          "2024-03-28T00:00:00",
          "2024-03-15T00:00:00",
          "2024-03-25T00:00:00",
          "2024-02-08T00:00:00",
          "2024-03-16T00:00:00",
          "2024-02-12T00:00:00",
          "2024-03-12T00:00:00",
          "2024-01-04T00:00:00",
          "2024-01-07T00:00:00",
          "2024-01-25T00:00:00",
          "2024-01-27T00:00:00",
          "2024-02-14T00:00:00",
          "2024-03-10T00:00:00",
          "2024-03-22T00:00:00",
          "2024-03-19T00:00:00",
          "2024-01-27T00:00:00",
          "2024-03-09T00:00:00",
          "2024-02-05T00:00:00",
          "2024-01-19T00:00:00",
          "2024-03-03T00:00:00",
          "2024-02-04T00:00:00",
          "2024-02-19T00:00:00",
          "2024-02-22T00:00:00",
          "2024-01-17T00:00:00",
          "2024-01-13T00:00:00",
          "2024-03-28T00:00:00",
          "2024-03-17T00:00:00",
          "2024-01-06T00:00:00",
          "2024-02-01T00:00:00",
          "2024-02-09T00:00:00",
          "2024-02-23T00:00:00",
          "2024-03-05T00:00:00",
          "2024-02-26T00:00:00",
          "2024-02-20T00:00:00",
          "2024-01-20T00:00:00",
          "2024-02-23T00:00:00",
          "2024-03-13T00:00:00",
          "2024-01-05T00:00:00",
          "2024-01-08T00:00:00",
          "2024-02-06T00:00:00",
          "2024-03-04T00:00:00",
          "2024-03-10T00:00:00",
          "2024-03-05T00:00:00",
          "2024-02-20T00:00:00",
          "2024-03-10T00:00:00",
          "2024-03-22T00:00:00",
          "2024-03-20T00:00:00",
          "2024-03-22T00:00:00",
          "2024-02-05T00:00:00",
          "2024-03-14T00:00:00",
          "2024-03-11T00:00:00",
          "2024-03-22T00:00:00",
          "2024-02-10T00:00:00",
          "2024-01-25T00:00:00",
          "2024-01-06T00:00:00",
          "2024-01-08T00:00:00",
          "2024-03-26T00:00:00",
          "2024-03-23T00:00:00",
          "2024-03-21T00:00:00",
          "2024-02-17T00:00:00",
          "2024-03-04T00:00:00",
          "2024-03-07T00:00:00",
          "2024-03-14T00:00:00",
          "2024-01-20T00:00:00",
          "2024-01-06T00:00:00",
          "2024-02-25T00:00:00",
          "2024-03-21T00:00:00",
          "2024-01-01T00:00:00",
          "2024-02-03T00:00:00",
          "2024-01-14T00:00:00",
          "2024-02-21T00:00:00",
          "2024-01-18T00:00:00",
          "2024-02-02T00:00:00",
          "2024-01-22T00:00:00",
          "2024-03-21T00:00:00",
          "2024-03-01T00:00:00",
          "2024-03-17T00:00:00",
          "2024-01-23T00:00:00",
          "2024-02-14T00:00:00",
          "2024-01-19T00:00:00",
          "2024-01-02T00:00:00",
          "2024-02-08T00:00:00",
          "2024-03-09T00:00:00",
          "2024-03-11T00:00:00",
          "2024-03-23T00:00:00",
          "2024-03-07T00:00:00",
          "2024-02-02T00:00:00",
          "2024-01-11T00:00:00",
          "2024-01-25T00:00:00",
          "2024-03-25T00:00:00",
          "2024-02-07T00:00:00",
          "2024-02-26T00:00:00",
          "2024-03-07T00:00:00",
          "2024-02-13T00:00:00",
          "2024-02-28T00:00:00",
          "2024-03-25T00:00:00",
          "2024-02-03T00:00:00",
          "2024-01-10T00:00:00",
          "2024-02-14T00:00:00",
          "2024-02-15T00:00:00",
          "2024-03-04T00:00:00",
          "2024-02-07T00:00:00",
          "2024-01-18T00:00:00",
          "2024-01-07T00:00:00",
          "2024-02-01T00:00:00",
          "2024-01-04T00:00:00",
          "2024-03-06T00:00:00",
          "2024-03-08T00:00:00",
          "2024-03-20T00:00:00",
          "2024-03-23T00:00:00",
          "2024-02-24T00:00:00",
          "2024-02-14T00:00:00",
          "2024-02-10T00:00:00",
          "2024-03-19T00:00:00",
          "2024-02-14T00:00:00",
          "2024-01-21T00:00:00",
          "2024-03-28T00:00:00",
          "2024-02-06T00:00:00",
          "2024-03-04T00:00:00",
          "2024-01-13T00:00:00",
          "2024-01-01T00:00:00",
          "2024-03-27T00:00:00",
          "2024-01-24T00:00:00",
          "2024-03-08T00:00:00",
          "2024-03-21T00:00:00",
          "2024-01-10T00:00:00",
          "2024-02-25T00:00:00",
          "2024-01-24T00:00:00",
          "2024-01-28T00:00:00",
          "2024-02-25T00:00:00",
          "2024-03-16T00:00:00",
          "2024-02-06T00:00:00",
          "2024-03-13T00:00:00",
          "2024-03-23T00:00:00",
          "2024-01-06T00:00:00",
          "2024-01-14T00:00:00",
          "2024-01-08T00:00:00",
          "2024-02-22T00:00:00",
          "2024-03-08T00:00:00",
          "2024-01-06T00:00:00",
          "2024-03-18T00:00:00",
          "2024-03-15T00:00:00",
          "2024-01-06T00:00:00",
          "2024-01-27T00:00:00",
          "2024-01-14T00:00:00",
          "2024-02-02T00:00:00",
          "2024-03-09T00:00:00",
          "2024-01-05T00:00:00",
          "2024-03-27T00:00:00",
          "2024-02-03T00:00:00",
          "2024-03-21T00:00:00",
          "2024-02-02T00:00:00",
          "2024-01-14T00:00:00",
          "2024-01-04T00:00:00",
          "2024-01-05T00:00:00",
          "2024-03-05T00:00:00",
          "2024-01-01T00:00:00",
          "2024-01-09T00:00:00",
          "2024-02-11T00:00:00",
          "2024-03-21T00:00:00",
          "2024-02-24T00:00:00",
          "2024-02-01T00:00:00",
          "2024-01-16T00:00:00",
          "2024-01-01T00:00:00",
          "2024-01-02T00:00:00",
          "2024-01-25T00:00:00",
          "2024-02-16T00:00:00"
         ],
         "xaxis": "x",
         "yaxis": "y"
        }
       ],
       "layout": {
        "barmode": "relative",
        "legend": {
         "tracegroupgap": 0
        },
        "template": {
         "data": {
          "bar": [
           {
            "error_x": {
             "color": "#2a3f5f"
            },
            "error_y": {
             "color": "#2a3f5f"
            },
            "marker": {
             "line": {
              "color": "#E5ECF6",
              "width": 0.5
             },
             "pattern": {
              "fillmode": "overlay",
              "size": 10,
              "solidity": 0.2
             }
            },
            "type": "bar"
           }
          ],
          "barpolar": [
           {
            "marker": {
             "line": {
              "color": "#E5ECF6",
              "width": 0.5
             },
             "pattern": {
              "fillmode": "overlay",
              "size": 10,
              "solidity": 0.2
             }
            },
            "type": "barpolar"
           }
          ],
          "carpet": [
           {
            "aaxis": {
             "endlinecolor": "#2a3f5f",
             "gridcolor": "white",
             "linecolor": "white",
             "minorgridcolor": "white",
             "startlinecolor": "#2a3f5f"
            },
            "baxis": {
             "endlinecolor": "#2a3f5f",
             "gridcolor": "white",
             "linecolor": "white",
             "minorgridcolor": "white",
             "startlinecolor": "#2a3f5f"
            },
            "type": "carpet"
           }
          ],
          "choropleth": [
           {
            "colorbar": {
             "outlinewidth": 0,
             "ticks": ""
            },
            "type": "choropleth"
           }
          ],
          "contour": [
           {
            "colorbar": {
             "outlinewidth": 0,
             "ticks": ""
            },
            "colorscale": [
             [
              0,
              "#0d0887"
             ],
             [
              0.1111111111111111,
              "#46039f"
             ],
             [
              0.2222222222222222,
              "#7201a8"
             ],
             [
              0.3333333333333333,
              "#9c179e"
             ],
             [
              0.4444444444444444,
              "#bd3786"
             ],
             [
              0.5555555555555556,
              "#d8576b"
             ],
             [
              0.6666666666666666,
              "#ed7953"
             ],
             [
              0.7777777777777778,
              "#fb9f3a"
             ],
             [
              0.8888888888888888,
              "#fdca26"
             ],
             [
              1,
              "#f0f921"
             ]
            ],
            "type": "contour"
           }
          ],
          "contourcarpet": [
           {
            "colorbar": {
             "outlinewidth": 0,
             "ticks": ""
            },
            "type": "contourcarpet"
           }
          ],
          "heatmap": [
           {
            "colorbar": {
             "outlinewidth": 0,
             "ticks": ""
            },
            "colorscale": [
             [
              0,
              "#0d0887"
             ],
             [
              0.1111111111111111,
              "#46039f"
             ],
             [
              0.2222222222222222,
              "#7201a8"
             ],
             [
              0.3333333333333333,
              "#9c179e"
             ],
             [
              0.4444444444444444,
              "#bd3786"
             ],
             [
              0.5555555555555556,
              "#d8576b"
             ],
             [
              0.6666666666666666,
              "#ed7953"
             ],
             [
              0.7777777777777778,
              "#fb9f3a"
             ],
             [
              0.8888888888888888,
              "#fdca26"
             ],
             [
              1,
              "#f0f921"
             ]
            ],
            "type": "heatmap"
           }
          ],
          "heatmapgl": [
           {
            "colorbar": {
             "outlinewidth": 0,
             "ticks": ""
            },
            "colorscale": [
             [
              0,
              "#0d0887"
             ],
             [
              0.1111111111111111,
              "#46039f"
             ],
             [
              0.2222222222222222,
              "#7201a8"
             ],
             [
              0.3333333333333333,
              "#9c179e"
             ],
             [
              0.4444444444444444,
              "#bd3786"
             ],
             [
              0.5555555555555556,
              "#d8576b"
             ],
             [
              0.6666666666666666,
              "#ed7953"
             ],
             [
              0.7777777777777778,
              "#fb9f3a"
             ],
             [
              0.8888888888888888,
              "#fdca26"
             ],
             [
              1,
              "#f0f921"
             ]
            ],
            "type": "heatmapgl"
           }
          ],
          "histogram": [
           {
            "marker": {
             "pattern": {
              "fillmode": "overlay",
              "size": 10,
              "solidity": 0.2
             }
            },
            "type": "histogram"
           }
          ],
          "histogram2d": [
           {
            "colorbar": {
             "outlinewidth": 0,
             "ticks": ""
            },
            "colorscale": [
             [
              0,
              "#0d0887"
             ],
             [
              0.1111111111111111,
              "#46039f"
             ],
             [
              0.2222222222222222,
              "#7201a8"
             ],
             [
              0.3333333333333333,
              "#9c179e"
             ],
             [
              0.4444444444444444,
              "#bd3786"
             ],
             [
              0.5555555555555556,
              "#d8576b"
             ],
             [
              0.6666666666666666,
              "#ed7953"
             ],
             [
              0.7777777777777778,
              "#fb9f3a"
             ],
             [
              0.8888888888888888,
              "#fdca26"
             ],
             [
              1,
              "#f0f921"
             ]
            ],
            "type": "histogram2d"
           }
          ],
          "histogram2dcontour": [
           {
            "colorbar": {
             "outlinewidth": 0,
             "ticks": ""
            },
            "colorscale": [
             [
              0,
              "#0d0887"
             ],
             [
              0.1111111111111111,
              "#46039f"
             ],
             [
              0.2222222222222222,
              "#7201a8"
             ],
             [
              0.3333333333333333,
              "#9c179e"
             ],
             [
              0.4444444444444444,
              "#bd3786"
             ],
             [
              0.5555555555555556,
              "#d8576b"
             ],
             [
              0.6666666666666666,
              "#ed7953"
             ],
             [
              0.7777777777777778,
              "#fb9f3a"
             ],
             [
              0.8888888888888888,
              "#fdca26"
             ],
             [
              1,
              "#f0f921"
             ]
            ],
            "type": "histogram2dcontour"
           }
          ],
          "mesh3d": [
           {
            "colorbar": {
             "outlinewidth": 0,
             "ticks": ""
            },
            "type": "mesh3d"
           }
          ],
          "parcoords": [
           {
            "line": {
             "colorbar": {
              "outlinewidth": 0,
              "ticks": ""
             }
            },
            "type": "parcoords"
           }
          ],
          "pie": [
           {
            "automargin": true,
            "type": "pie"
           }
          ],
          "scatter": [
           {
            "fillpattern": {
             "fillmode": "overlay",
             "size": 10,
             "solidity": 0.2
            },
            "type": "scatter"
           }
          ],
          "scatter3d": [
           {
            "line": {
             "colorbar": {
              "outlinewidth": 0,
              "ticks": ""
             }
            },
            "marker": {
             "colorbar": {
              "outlinewidth": 0,
              "ticks": ""
             }
            },
            "type": "scatter3d"
           }
          ],
          "scattercarpet": [
           {
            "marker": {
             "colorbar": {
              "outlinewidth": 0,
              "ticks": ""
             }
            },
            "type": "scattercarpet"
           }
          ],
          "scattergeo": [
           {
            "marker": {
             "colorbar": {
              "outlinewidth": 0,
              "ticks": ""
             }
            },
            "type": "scattergeo"
           }
          ],
          "scattergl": [
           {
            "marker": {
             "colorbar": {
              "outlinewidth": 0,
              "ticks": ""
             }
            },
            "type": "scattergl"
           }
          ],
          "scattermapbox": [
           {
            "marker": {
             "colorbar": {
              "outlinewidth": 0,
              "ticks": ""
             }
            },
            "type": "scattermapbox"
           }
          ],
          "scatterpolar": [
           {
            "marker": {
             "colorbar": {
              "outlinewidth": 0,
              "ticks": ""
             }
            },
            "type": "scatterpolar"
           }
          ],
          "scatterpolargl": [
           {
            "marker": {
             "colorbar": {
              "outlinewidth": 0,
              "ticks": ""
             }
            },
            "type": "scatterpolargl"
           }
          ],
          "scatterternary": [
           {
            "marker": {
             "colorbar": {
              "outlinewidth": 0,
              "ticks": ""
             }
            },
            "type": "scatterternary"
           }
          ],
          "surface": [
           {
            "colorbar": {
             "outlinewidth": 0,
             "ticks": ""
            },
            "colorscale": [
             [
              0,
              "#0d0887"
             ],
             [
              0.1111111111111111,
              "#46039f"
             ],
             [
              0.2222222222222222,
              "#7201a8"
             ],
             [
              0.3333333333333333,
              "#9c179e"
             ],
             [
              0.4444444444444444,
              "#bd3786"
             ],
             [
              0.5555555555555556,
              "#d8576b"
             ],
             [
              0.6666666666666666,
              "#ed7953"
             ],
             [
              0.7777777777777778,
              "#fb9f3a"
             ],
             [
              0.8888888888888888,
              "#fdca26"
             ],
             [
              1,
              "#f0f921"
             ]
            ],
            "type": "surface"
           }
          ],
          "table": [
           {
            "cells": {
             "fill": {
              "color": "#EBF0F8"
             },
             "line": {
              "color": "white"
             }
            },
            "header": {
             "fill": {
              "color": "#C8D4E3"
             },
             "line": {
              "color": "white"
             }
            },
            "type": "table"
           }
          ]
         },
         "layout": {
          "annotationdefaults": {
           "arrowcolor": "#2a3f5f",
           "arrowhead": 0,
           "arrowwidth": 1
          },
          "autotypenumbers": "strict",
          "coloraxis": {
           "colorbar": {
            "outlinewidth": 0,
            "ticks": ""
           }
          },
          "colorscale": {
           "diverging": [
            [
             0,
             "#8e0152"
            ],
            [
             0.1,
             "#c51b7d"
            ],
            [
             0.2,
             "#de77ae"
            ],
            [
             0.3,
             "#f1b6da"
            ],
            [
             0.4,
             "#fde0ef"
            ],
            [
             0.5,
             "#f7f7f7"
            ],
            [
             0.6,
             "#e6f5d0"
            ],
            [
             0.7,
             "#b8e186"
            ],
            [
             0.8,
             "#7fbc41"
            ],
            [
             0.9,
             "#4d9221"
            ],
            [
             1,
             "#276419"
            ]
           ],
           "sequential": [
            [
             0,
             "#0d0887"
            ],
            [
             0.1111111111111111,
             "#46039f"
            ],
            [
             0.2222222222222222,
             "#7201a8"
            ],
            [
             0.3333333333333333,
             "#9c179e"
            ],
            [
             0.4444444444444444,
             "#bd3786"
            ],
            [
             0.5555555555555556,
             "#d8576b"
            ],
            [
             0.6666666666666666,
             "#ed7953"
            ],
            [
             0.7777777777777778,
             "#fb9f3a"
            ],
            [
             0.8888888888888888,
             "#fdca26"
            ],
            [
             1,
             "#f0f921"
            ]
           ],
           "sequentialminus": [
            [
             0,
             "#0d0887"
            ],
            [
             0.1111111111111111,
             "#46039f"
            ],
            [
             0.2222222222222222,
             "#7201a8"
            ],
            [
             0.3333333333333333,
             "#9c179e"
            ],
            [
             0.4444444444444444,
             "#bd3786"
            ],
            [
             0.5555555555555556,
             "#d8576b"
            ],
            [
             0.6666666666666666,
             "#ed7953"
            ],
            [
             0.7777777777777778,
             "#fb9f3a"
            ],
            [
             0.8888888888888888,
             "#fdca26"
            ],
            [
             1,
             "#f0f921"
            ]
           ]
          },
          "colorway": [
           "#636efa",
           "#EF553B",
           "#00cc96",
           "#ab63fa",
           "#FFA15A",
           "#19d3f3",
           "#FF6692",
           "#B6E880",
           "#FF97FF",
           "#FECB52"
          ],
          "font": {
           "color": "#2a3f5f"
          },
          "geo": {
           "bgcolor": "white",
           "lakecolor": "white",
           "landcolor": "#E5ECF6",
           "showlakes": true,
           "showland": true,
           "subunitcolor": "white"
          },
          "hoverlabel": {
           "align": "left"
          },
          "hovermode": "closest",
          "mapbox": {
           "style": "light"
          },
          "paper_bgcolor": "white",
          "plot_bgcolor": "#E5ECF6",
          "polar": {
           "angularaxis": {
            "gridcolor": "white",
            "linecolor": "white",
            "ticks": ""
           },
           "bgcolor": "#E5ECF6",
           "radialaxis": {
            "gridcolor": "white",
            "linecolor": "white",
            "ticks": ""
           }
          },
          "scene": {
           "xaxis": {
            "backgroundcolor": "#E5ECF6",
            "gridcolor": "white",
            "gridwidth": 2,
            "linecolor": "white",
            "showbackground": true,
            "ticks": "",
            "zerolinecolor": "white"
           },
           "yaxis": {
            "backgroundcolor": "#E5ECF6",
            "gridcolor": "white",
            "gridwidth": 2,
            "linecolor": "white",
            "showbackground": true,
            "ticks": "",
            "zerolinecolor": "white"
           },
           "zaxis": {
            "backgroundcolor": "#E5ECF6",
            "gridcolor": "white",
            "gridwidth": 2,
            "linecolor": "white",
            "showbackground": true,
            "ticks": "",
            "zerolinecolor": "white"
           }
          },
          "shapedefaults": {
           "line": {
            "color": "#2a3f5f"
           }
          },
          "ternary": {
           "aaxis": {
            "gridcolor": "white",
            "linecolor": "white",
            "ticks": ""
           },
           "baxis": {
            "gridcolor": "white",
            "linecolor": "white",
            "ticks": ""
           },
           "bgcolor": "#E5ECF6",
           "caxis": {
            "gridcolor": "white",
            "linecolor": "white",
            "ticks": ""
           }
          },
          "title": {
           "x": 0.05
          },
          "xaxis": {
           "automargin": true,
           "gridcolor": "white",
           "linecolor": "white",
           "ticks": "",
           "title": {
            "standoff": 15
           },
           "zerolinecolor": "white",
           "zerolinewidth": 2
          },
          "yaxis": {
           "automargin": true,
           "gridcolor": "white",
           "linecolor": "white",
           "ticks": "",
           "title": {
            "standoff": 15
           },
           "zerolinecolor": "white",
           "zerolinewidth": 2
          }
         }
        },
        "title": {
         "text": "Frequency of sowing_date"
        },
        "xaxis": {
         "anchor": "y",
         "domain": [
          0,
          1
         ],
         "title": {
          "text": "sowing_date"
         }
        },
        "yaxis": {
         "anchor": "x",
         "domain": [
          0,
          1
         ],
         "title": {
          "text": "count"
         }
        }
       }
      }
     },
     "metadata": {},
     "output_type": "display_data"
    },
    {
     "data": {
      "application/vnd.plotly.v1+json": {
       "config": {
        "plotlyServerURL": "https://plot.ly"
       },
       "data": [
        {
         "alignmentgroup": "True",
         "bingroup": "x",
         "hovertemplate": "harvest_date=%{x}<br>count=%{y}<extra></extra>",
         "legendgroup": "",
         "marker": {
          "color": "lightskyblue",
          "pattern": {
           "shape": ""
          }
         },
         "name": "",
         "offsetgroup": "",
         "orientation": "v",
         "showlegend": false,
         "type": "histogram",
         "x": [
          "2024-05-09T00:00:00",
          "2024-05-26T00:00:00",
          "2024-06-26T00:00:00",
          "2024-07-04T00:00:00",
          "2024-05-20T00:00:00",
          "2024-05-06T00:00:00",
          "2024-07-27T00:00:00",
          "2024-05-24T00:00:00",
          "2024-07-08T00:00:00",
          "2024-04-25T00:00:00",
          "2024-07-20T00:00:00",
          "2024-05-01T00:00:00",
          "2024-05-08T00:00:00",
          "2024-06-27T00:00:00",
          "2024-05-06T00:00:00",
          "2024-05-28T00:00:00",
          "2024-05-02T00:00:00",
          "2024-07-08T00:00:00",
          "2024-07-29T00:00:00",
          "2024-05-11T00:00:00",
          "2024-06-26T00:00:00",
          "2024-06-05T00:00:00",
          "2024-07-07T00:00:00",
          "2024-07-13T00:00:00",
          "2024-07-14T00:00:00",
          "2024-05-31T00:00:00",
          "2024-06-09T00:00:00",
          "2024-07-04T00:00:00",
          "2024-05-26T00:00:00",
          "2024-04-19T00:00:00",
          "2024-07-01T00:00:00",
          "2024-07-10T00:00:00",
          "2024-06-27T00:00:00",
          "2024-08-16T00:00:00",
          "2024-06-28T00:00:00",
          "2024-06-24T00:00:00",
          "2024-06-28T00:00:00",
          "2024-06-04T00:00:00",
          "2024-04-18T00:00:00",
          "2024-04-29T00:00:00",
          "2024-06-08T00:00:00",
          "2024-05-07T00:00:00",
          "2024-06-15T00:00:00",
          "2024-07-04T00:00:00",
          "2024-05-21T00:00:00",
          "2024-06-15T00:00:00",
          "2024-07-04T00:00:00",
          "2024-05-26T00:00:00",
          "2024-04-24T00:00:00",
          "2024-05-28T00:00:00",
          "2024-06-05T00:00:00",
          "2024-06-09T00:00:00",
          "2024-07-13T00:00:00",
          "2024-05-17T00:00:00",
          "2024-07-19T00:00:00",
          "2024-05-24T00:00:00",
          "2024-06-02T00:00:00",
          "2024-06-21T00:00:00",
          "2024-07-15T00:00:00",
          "2024-06-26T00:00:00",
          "2024-06-07T00:00:00",
          "2024-04-29T00:00:00",
          "2024-06-14T00:00:00",
          "2024-06-08T00:00:00",
          "2024-04-30T00:00:00",
          "2024-05-22T00:00:00",
          "2024-04-28T00:00:00",
          "2024-04-20T00:00:00",
          "2024-05-18T00:00:00",
          "2024-07-26T00:00:00",
          "2024-06-13T00:00:00",
          "2024-06-06T00:00:00",
          "2024-05-26T00:00:00",
          "2024-07-15T00:00:00",
          "2024-07-17T00:00:00",
          "2024-07-07T00:00:00",
          "2024-05-08T00:00:00",
          "2024-05-24T00:00:00",
          "2024-07-15T00:00:00",
          "2024-06-17T00:00:00",
          "2024-08-04T00:00:00",
          "2024-07-31T00:00:00",
          "2024-06-04T00:00:00",
          "2024-07-28T00:00:00",
          "2024-06-16T00:00:00",
          "2024-07-08T00:00:00",
          "2024-06-20T00:00:00",
          "2024-05-21T00:00:00",
          "2024-07-12T00:00:00",
          "2024-05-03T00:00:00",
          "2024-06-26T00:00:00",
          "2024-07-19T00:00:00",
          "2024-05-21T00:00:00",
          "2024-06-21T00:00:00",
          "2024-07-20T00:00:00",
          "2024-07-29T00:00:00",
          "2024-06-23T00:00:00",
          "2024-06-07T00:00:00",
          "2024-05-07T00:00:00",
          "2024-07-17T00:00:00",
          "2024-07-04T00:00:00",
          "2024-06-06T00:00:00",
          "2024-06-20T00:00:00",
          "2024-05-01T00:00:00",
          "2024-05-21T00:00:00",
          "2024-05-28T00:00:00",
          "2024-05-20T00:00:00",
          "2024-06-28T00:00:00",
          "2024-06-03T00:00:00",
          "2024-05-06T00:00:00",
          "2024-07-09T00:00:00",
          "2024-07-13T00:00:00",
          "2024-08-04T00:00:00",
          "2024-05-24T00:00:00",
          "2024-06-23T00:00:00",
          "2024-06-02T00:00:00",
          "2024-07-19T00:00:00",
          "2024-08-01T00:00:00",
          "2024-06-28T00:00:00",
          "2024-06-07T00:00:00",
          "2024-06-12T00:00:00",
          "2024-06-20T00:00:00",
          "2024-07-02T00:00:00",
          "2024-07-21T00:00:00",
          "2024-04-30T00:00:00",
          "2024-04-26T00:00:00",
          "2024-07-11T00:00:00",
          "2024-04-27T00:00:00",
          "2024-07-05T00:00:00",
          "2024-05-30T00:00:00",
          "2024-06-23T00:00:00",
          "2024-07-12T00:00:00",
          "2024-07-07T00:00:00",
          "2024-07-07T00:00:00",
          "2024-06-15T00:00:00",
          "2024-06-05T00:00:00",
          "2024-06-23T00:00:00",
          "2024-05-16T00:00:00",
          "2024-07-19T00:00:00",
          "2024-04-19T00:00:00",
          "2024-06-14T00:00:00",
          "2024-05-19T00:00:00",
          "2024-07-21T00:00:00",
          "2024-07-09T00:00:00",
          "2024-06-13T00:00:00",
          "2024-06-03T00:00:00",
          "2024-05-30T00:00:00",
          "2024-05-19T00:00:00",
          "2024-05-25T00:00:00",
          "2024-05-20T00:00:00",
          "2024-08-06T00:00:00",
          "2024-04-22T00:00:00",
          "2024-06-28T00:00:00",
          "2024-06-05T00:00:00",
          "2024-06-25T00:00:00",
          "2024-08-12T00:00:00",
          "2024-05-09T00:00:00",
          "2024-06-20T00:00:00",
          "2024-06-04T00:00:00",
          "2024-07-04T00:00:00",
          "2024-06-02T00:00:00",
          "2024-04-25T00:00:00",
          "2024-06-25T00:00:00",
          "2024-06-16T00:00:00",
          "2024-07-14T00:00:00",
          "2024-05-25T00:00:00",
          "2024-06-22T00:00:00",
          "2024-08-06T00:00:00",
          "2024-05-21T00:00:00",
          "2024-04-10T00:00:00",
          "2024-05-19T00:00:00",
          "2024-07-18T00:00:00",
          "2024-05-18T00:00:00",
          "2024-07-14T00:00:00",
          "2024-07-26T00:00:00",
          "2024-05-25T00:00:00",
          "2024-07-16T00:00:00",
          "2024-08-01T00:00:00",
          "2024-06-17T00:00:00",
          "2024-06-23T00:00:00",
          "2024-07-14T00:00:00",
          "2024-05-31T00:00:00",
          "2024-06-10T00:00:00",
          "2024-05-26T00:00:00",
          "2024-04-15T00:00:00",
          "2024-06-26T00:00:00",
          "2024-07-23T00:00:00",
          "2024-06-09T00:00:00",
          "2024-06-18T00:00:00",
          "2024-06-16T00:00:00",
          "2024-05-20T00:00:00",
          "2024-04-16T00:00:00",
          "2024-06-01T00:00:00",
          "2024-06-30T00:00:00",
          "2024-07-16T00:00:00",
          "2024-08-10T00:00:00",
          "2024-07-29T00:00:00",
          "2024-05-26T00:00:00",
          "2024-05-08T00:00:00",
          "2024-07-18T00:00:00",
          "2024-08-07T00:00:00",
          "2024-06-23T00:00:00",
          "2024-07-17T00:00:00",
          "2024-07-21T00:00:00",
          "2024-06-03T00:00:00",
          "2024-07-27T00:00:00",
          "2024-06-10T00:00:00",
          "2024-05-15T00:00:00",
          "2024-05-31T00:00:00",
          "2024-06-06T00:00:00",
          "2024-05-18T00:00:00",
          "2024-08-10T00:00:00",
          "2024-06-03T00:00:00",
          "2024-06-07T00:00:00",
          "2024-06-10T00:00:00",
          "2024-07-30T00:00:00",
          "2024-04-26T00:00:00",
          "2024-06-14T00:00:00",
          "2024-08-02T00:00:00",
          "2024-07-30T00:00:00",
          "2024-05-04T00:00:00",
          "2024-05-11T00:00:00",
          "2024-05-31T00:00:00",
          "2024-05-11T00:00:00",
          "2024-06-21T00:00:00",
          "2024-08-02T00:00:00",
          "2024-08-15T00:00:00",
          "2024-07-19T00:00:00",
          "2024-06-30T00:00:00",
          "2024-07-20T00:00:00",
          "2024-05-13T00:00:00",
          "2024-05-31T00:00:00",
          "2024-07-10T00:00:00",
          "2024-05-22T00:00:00",
          "2024-06-02T00:00:00",
          "2024-05-15T00:00:00",
          "2024-06-06T00:00:00",
          "2024-06-10T00:00:00",
          "2024-05-14T00:00:00",
          "2024-06-25T00:00:00",
          "2024-05-24T00:00:00",
          "2024-08-04T00:00:00",
          "2024-05-20T00:00:00",
          "2024-05-13T00:00:00",
          "2024-06-27T00:00:00",
          "2024-04-29T00:00:00",
          "2024-08-02T00:00:00",
          "2024-05-27T00:00:00",
          "2024-07-12T00:00:00",
          "2024-06-24T00:00:00",
          "2024-05-30T00:00:00",
          "2024-05-30T00:00:00",
          "2024-05-16T00:00:00",
          "2024-07-01T00:00:00",
          "2024-06-29T00:00:00",
          "2024-07-28T00:00:00",
          "2024-04-27T00:00:00",
          "2024-07-09T00:00:00",
          "2024-08-03T00:00:00",
          "2024-05-30T00:00:00",
          "2024-07-21T00:00:00",
          "2024-06-15T00:00:00",
          "2024-05-04T00:00:00",
          "2024-07-10T00:00:00",
          "2024-07-11T00:00:00",
          "2024-07-01T00:00:00",
          "2024-06-16T00:00:00",
          "2024-06-27T00:00:00",
          "2024-05-03T00:00:00",
          "2024-05-02T00:00:00",
          "2024-06-29T00:00:00",
          "2024-07-05T00:00:00",
          "2024-04-27T00:00:00",
          "2024-06-05T00:00:00",
          "2024-06-12T00:00:00",
          "2024-06-24T00:00:00",
          "2024-06-05T00:00:00",
          "2024-05-02T00:00:00",
          "2024-07-13T00:00:00",
          "2024-06-29T00:00:00",
          "2024-05-31T00:00:00",
          "2024-08-08T00:00:00",
          "2024-05-24T00:00:00",
          "2024-05-16T00:00:00",
          "2024-07-08T00:00:00",
          "2024-06-22T00:00:00",
          "2024-05-06T00:00:00",
          "2024-06-27T00:00:00",
          "2024-06-12T00:00:00",
          "2024-05-18T00:00:00",
          "2024-06-08T00:00:00",
          "2024-05-29T00:00:00",
          "2024-06-27T00:00:00",
          "2024-08-01T00:00:00",
          "2024-08-02T00:00:00",
          "2024-05-19T00:00:00",
          "2024-06-28T00:00:00",
          "2024-06-11T00:00:00",
          "2024-07-23T00:00:00",
          "2024-06-10T00:00:00",
          "2024-07-06T00:00:00",
          "2024-04-21T00:00:00",
          "2024-07-01T00:00:00",
          "2024-05-19T00:00:00",
          "2024-05-18T00:00:00",
          "2024-05-19T00:00:00",
          "2024-07-05T00:00:00",
          "2024-06-08T00:00:00",
          "2024-06-15T00:00:00",
          "2024-05-15T00:00:00",
          "2024-06-23T00:00:00",
          "2024-06-03T00:00:00",
          "2024-05-30T00:00:00",
          "2024-04-11T00:00:00",
          "2024-07-21T00:00:00",
          "2024-07-12T00:00:00",
          "2024-06-02T00:00:00",
          "2024-06-22T00:00:00",
          "2024-04-28T00:00:00",
          "2024-06-08T00:00:00",
          "2024-06-17T00:00:00",
          "2024-06-10T00:00:00",
          "2024-07-12T00:00:00",
          "2024-04-30T00:00:00",
          "2024-07-12T00:00:00",
          "2024-06-23T00:00:00",
          "2024-07-08T00:00:00",
          "2024-06-02T00:00:00",
          "2024-07-03T00:00:00",
          "2024-05-14T00:00:00",
          "2024-07-03T00:00:00",
          "2024-06-10T00:00:00",
          "2024-08-10T00:00:00",
          "2024-07-24T00:00:00",
          "2024-07-30T00:00:00",
          "2024-07-17T00:00:00",
          "2024-05-09T00:00:00",
          "2024-07-20T00:00:00",
          "2024-06-07T00:00:00",
          "2024-06-16T00:00:00",
          "2024-05-25T00:00:00",
          "2024-04-14T00:00:00",
          "2024-04-30T00:00:00",
          "2024-06-02T00:00:00",
          "2024-05-27T00:00:00",
          "2024-07-21T00:00:00",
          "2024-06-25T00:00:00",
          "2024-07-04T00:00:00",
          "2024-04-30T00:00:00",
          "2024-07-11T00:00:00",
          "2024-05-24T00:00:00",
          "2024-04-20T00:00:00",
          "2024-07-26T00:00:00",
          "2024-06-17T00:00:00",
          "2024-06-13T00:00:00",
          "2024-06-25T00:00:00",
          "2024-04-28T00:00:00",
          "2024-04-27T00:00:00",
          "2024-06-28T00:00:00",
          "2024-08-13T00:00:00",
          "2024-04-18T00:00:00",
          "2024-06-11T00:00:00",
          "2024-05-28T00:00:00",
          "2024-06-19T00:00:00",
          "2024-06-03T00:00:00",
          "2024-06-13T00:00:00",
          "2024-06-05T00:00:00",
          "2024-05-02T00:00:00",
          "2024-06-17T00:00:00",
          "2024-06-30T00:00:00",
          "2024-05-05T00:00:00",
          "2024-04-18T00:00:00",
          "2024-06-28T00:00:00",
          "2024-06-27T00:00:00",
          "2024-06-28T00:00:00",
          "2024-06-10T00:00:00",
          "2024-05-31T00:00:00",
          "2024-07-31T00:00:00",
          "2024-07-19T00:00:00",
          "2024-07-04T00:00:00",
          "2024-07-15T00:00:00",
          "2024-06-04T00:00:00",
          "2024-07-08T00:00:00",
          "2024-07-14T00:00:00",
          "2024-07-19T00:00:00",
          "2024-05-25T00:00:00",
          "2024-06-19T00:00:00",
          "2024-05-15T00:00:00",
          "2024-05-30T00:00:00",
          "2024-08-06T00:00:00",
          "2024-08-11T00:00:00",
          "2024-07-17T00:00:00",
          "2024-06-07T00:00:00",
          "2024-06-30T00:00:00",
          "2024-07-27T00:00:00",
          "2024-07-10T00:00:00",
          "2024-06-12T00:00:00",
          "2024-05-27T00:00:00",
          "2024-06-22T00:00:00",
          "2024-08-08T00:00:00",
          "2024-04-17T00:00:00",
          "2024-05-10T00:00:00",
          "2024-06-09T00:00:00",
          "2024-06-04T00:00:00",
          "2024-06-16T00:00:00",
          "2024-05-12T00:00:00",
          "2024-05-11T00:00:00",
          "2024-06-23T00:00:00",
          "2024-07-17T00:00:00",
          "2024-07-16T00:00:00",
          "2024-06-04T00:00:00",
          "2024-06-17T00:00:00",
          "2024-06-08T00:00:00",
          "2024-04-25T00:00:00",
          "2024-07-02T00:00:00",
          "2024-06-29T00:00:00",
          "2024-06-27T00:00:00",
          "2024-07-20T00:00:00",
          "2024-06-20T00:00:00",
          "2024-05-03T00:00:00",
          "2024-06-08T00:00:00",
          "2024-06-02T00:00:00",
          "2024-07-25T00:00:00",
          "2024-05-26T00:00:00",
          "2024-06-26T00:00:00",
          "2024-06-26T00:00:00",
          "2024-07-04T00:00:00",
          "2024-06-09T00:00:00",
          "2024-07-18T00:00:00",
          "2024-06-06T00:00:00",
          "2024-05-21T00:00:00",
          "2024-07-05T00:00:00",
          "2024-06-20T00:00:00",
          "2024-06-27T00:00:00",
          "2024-06-08T00:00:00",
          "2024-05-29T00:00:00",
          "2024-05-21T00:00:00",
          "2024-05-01T00:00:00",
          "2024-04-25T00:00:00",
          "2024-06-20T00:00:00",
          "2024-07-08T00:00:00",
          "2024-08-17T00:00:00",
          "2024-08-06T00:00:00",
          "2024-06-22T00:00:00",
          "2024-06-15T00:00:00",
          "2024-06-03T00:00:00",
          "2024-06-21T00:00:00",
          "2024-06-30T00:00:00",
          "2024-06-04T00:00:00",
          "2024-07-01T00:00:00",
          "2024-05-17T00:00:00",
          "2024-07-27T00:00:00",
          "2024-05-20T00:00:00",
          "2024-04-29T00:00:00",
          "2024-07-15T00:00:00",
          "2024-05-17T00:00:00",
          "2024-06-21T00:00:00",
          "2024-08-04T00:00:00",
          "2024-04-14T00:00:00",
          "2024-06-17T00:00:00",
          "2024-06-04T00:00:00",
          "2024-06-12T00:00:00",
          "2024-06-19T00:00:00",
          "2024-07-02T00:00:00",
          "2024-07-05T00:00:00",
          "2024-06-28T00:00:00",
          "2024-07-18T00:00:00",
          "2024-05-30T00:00:00",
          "2024-06-12T00:00:00",
          "2024-04-09T00:00:00",
          "2024-06-18T00:00:00",
          "2024-06-10T00:00:00",
          "2024-05-08T00:00:00",
          "2024-07-24T00:00:00",
          "2024-06-24T00:00:00",
          "2024-05-11T00:00:00",
          "2024-06-12T00:00:00",
          "2024-05-14T00:00:00",
          "2024-05-24T00:00:00",
          "2024-06-21T00:00:00",
          "2024-04-29T00:00:00",
          "2024-08-16T00:00:00",
          "2024-06-20T00:00:00",
          "2024-07-29T00:00:00",
          "2024-06-03T00:00:00",
          "2024-04-24T00:00:00",
          "2024-04-11T00:00:00",
          "2024-04-16T00:00:00",
          "2024-06-21T00:00:00",
          "2024-04-10T00:00:00",
          "2024-06-06T00:00:00",
          "2024-05-14T00:00:00",
          "2024-07-27T00:00:00",
          "2024-06-04T00:00:00",
          "2024-05-08T00:00:00",
          "2024-06-02T00:00:00",
          "2024-04-14T00:00:00",
          "2024-05-09T00:00:00",
          "2024-06-04T00:00:00",
          "2024-06-29T00:00:00"
         ],
         "xaxis": "x",
         "yaxis": "y"
        }
       ],
       "layout": {
        "barmode": "relative",
        "legend": {
         "tracegroupgap": 0
        },
        "template": {
         "data": {
          "bar": [
           {
            "error_x": {
             "color": "#2a3f5f"
            },
            "error_y": {
             "color": "#2a3f5f"
            },
            "marker": {
             "line": {
              "color": "#E5ECF6",
              "width": 0.5
             },
             "pattern": {
              "fillmode": "overlay",
              "size": 10,
              "solidity": 0.2
             }
            },
            "type": "bar"
           }
          ],
          "barpolar": [
           {
            "marker": {
             "line": {
              "color": "#E5ECF6",
              "width": 0.5
             },
             "pattern": {
              "fillmode": "overlay",
              "size": 10,
              "solidity": 0.2
             }
            },
            "type": "barpolar"
           }
          ],
          "carpet": [
           {
            "aaxis": {
             "endlinecolor": "#2a3f5f",
             "gridcolor": "white",
             "linecolor": "white",
             "minorgridcolor": "white",
             "startlinecolor": "#2a3f5f"
            },
            "baxis": {
             "endlinecolor": "#2a3f5f",
             "gridcolor": "white",
             "linecolor": "white",
             "minorgridcolor": "white",
             "startlinecolor": "#2a3f5f"
            },
            "type": "carpet"
           }
          ],
          "choropleth": [
           {
            "colorbar": {
             "outlinewidth": 0,
             "ticks": ""
            },
            "type": "choropleth"
           }
          ],
          "contour": [
           {
            "colorbar": {
             "outlinewidth": 0,
             "ticks": ""
            },
            "colorscale": [
             [
              0,
              "#0d0887"
             ],
             [
              0.1111111111111111,
              "#46039f"
             ],
             [
              0.2222222222222222,
              "#7201a8"
             ],
             [
              0.3333333333333333,
              "#9c179e"
             ],
             [
              0.4444444444444444,
              "#bd3786"
             ],
             [
              0.5555555555555556,
              "#d8576b"
             ],
             [
              0.6666666666666666,
              "#ed7953"
             ],
             [
              0.7777777777777778,
              "#fb9f3a"
             ],
             [
              0.8888888888888888,
              "#fdca26"
             ],
             [
              1,
              "#f0f921"
             ]
            ],
            "type": "contour"
           }
          ],
          "contourcarpet": [
           {
            "colorbar": {
             "outlinewidth": 0,
             "ticks": ""
            },
            "type": "contourcarpet"
           }
          ],
          "heatmap": [
           {
            "colorbar": {
             "outlinewidth": 0,
             "ticks": ""
            },
            "colorscale": [
             [
              0,
              "#0d0887"
             ],
             [
              0.1111111111111111,
              "#46039f"
             ],
             [
              0.2222222222222222,
              "#7201a8"
             ],
             [
              0.3333333333333333,
              "#9c179e"
             ],
             [
              0.4444444444444444,
              "#bd3786"
             ],
             [
              0.5555555555555556,
              "#d8576b"
             ],
             [
              0.6666666666666666,
              "#ed7953"
             ],
             [
              0.7777777777777778,
              "#fb9f3a"
             ],
             [
              0.8888888888888888,
              "#fdca26"
             ],
             [
              1,
              "#f0f921"
             ]
            ],
            "type": "heatmap"
           }
          ],
          "heatmapgl": [
           {
            "colorbar": {
             "outlinewidth": 0,
             "ticks": ""
            },
            "colorscale": [
             [
              0,
              "#0d0887"
             ],
             [
              0.1111111111111111,
              "#46039f"
             ],
             [
              0.2222222222222222,
              "#7201a8"
             ],
             [
              0.3333333333333333,
              "#9c179e"
             ],
             [
              0.4444444444444444,
              "#bd3786"
             ],
             [
              0.5555555555555556,
              "#d8576b"
             ],
             [
              0.6666666666666666,
              "#ed7953"
             ],
             [
              0.7777777777777778,
              "#fb9f3a"
             ],
             [
              0.8888888888888888,
              "#fdca26"
             ],
             [
              1,
              "#f0f921"
             ]
            ],
            "type": "heatmapgl"
           }
          ],
          "histogram": [
           {
            "marker": {
             "pattern": {
              "fillmode": "overlay",
              "size": 10,
              "solidity": 0.2
             }
            },
            "type": "histogram"
           }
          ],
          "histogram2d": [
           {
            "colorbar": {
             "outlinewidth": 0,
             "ticks": ""
            },
            "colorscale": [
             [
              0,
              "#0d0887"
             ],
             [
              0.1111111111111111,
              "#46039f"
             ],
             [
              0.2222222222222222,
              "#7201a8"
             ],
             [
              0.3333333333333333,
              "#9c179e"
             ],
             [
              0.4444444444444444,
              "#bd3786"
             ],
             [
              0.5555555555555556,
              "#d8576b"
             ],
             [
              0.6666666666666666,
              "#ed7953"
             ],
             [
              0.7777777777777778,
              "#fb9f3a"
             ],
             [
              0.8888888888888888,
              "#fdca26"
             ],
             [
              1,
              "#f0f921"
             ]
            ],
            "type": "histogram2d"
           }
          ],
          "histogram2dcontour": [
           {
            "colorbar": {
             "outlinewidth": 0,
             "ticks": ""
            },
            "colorscale": [
             [
              0,
              "#0d0887"
             ],
             [
              0.1111111111111111,
              "#46039f"
             ],
             [
              0.2222222222222222,
              "#7201a8"
             ],
             [
              0.3333333333333333,
              "#9c179e"
             ],
             [
              0.4444444444444444,
              "#bd3786"
             ],
             [
              0.5555555555555556,
              "#d8576b"
             ],
             [
              0.6666666666666666,
              "#ed7953"
             ],
             [
              0.7777777777777778,
              "#fb9f3a"
             ],
             [
              0.8888888888888888,
              "#fdca26"
             ],
             [
              1,
              "#f0f921"
             ]
            ],
            "type": "histogram2dcontour"
           }
          ],
          "mesh3d": [
           {
            "colorbar": {
             "outlinewidth": 0,
             "ticks": ""
            },
            "type": "mesh3d"
           }
          ],
          "parcoords": [
           {
            "line": {
             "colorbar": {
              "outlinewidth": 0,
              "ticks": ""
             }
            },
            "type": "parcoords"
           }
          ],
          "pie": [
           {
            "automargin": true,
            "type": "pie"
           }
          ],
          "scatter": [
           {
            "fillpattern": {
             "fillmode": "overlay",
             "size": 10,
             "solidity": 0.2
            },
            "type": "scatter"
           }
          ],
          "scatter3d": [
           {
            "line": {
             "colorbar": {
              "outlinewidth": 0,
              "ticks": ""
             }
            },
            "marker": {
             "colorbar": {
              "outlinewidth": 0,
              "ticks": ""
             }
            },
            "type": "scatter3d"
           }
          ],
          "scattercarpet": [
           {
            "marker": {
             "colorbar": {
              "outlinewidth": 0,
              "ticks": ""
             }
            },
            "type": "scattercarpet"
           }
          ],
          "scattergeo": [
           {
            "marker": {
             "colorbar": {
              "outlinewidth": 0,
              "ticks": ""
             }
            },
            "type": "scattergeo"
           }
          ],
          "scattergl": [
           {
            "marker": {
             "colorbar": {
              "outlinewidth": 0,
              "ticks": ""
             }
            },
            "type": "scattergl"
           }
          ],
          "scattermapbox": [
           {
            "marker": {
             "colorbar": {
              "outlinewidth": 0,
              "ticks": ""
             }
            },
            "type": "scattermapbox"
           }
          ],
          "scatterpolar": [
           {
            "marker": {
             "colorbar": {
              "outlinewidth": 0,
              "ticks": ""
             }
            },
            "type": "scatterpolar"
           }
          ],
          "scatterpolargl": [
           {
            "marker": {
             "colorbar": {
              "outlinewidth": 0,
              "ticks": ""
             }
            },
            "type": "scatterpolargl"
           }
          ],
          "scatterternary": [
           {
            "marker": {
             "colorbar": {
              "outlinewidth": 0,
              "ticks": ""
             }
            },
            "type": "scatterternary"
           }
          ],
          "surface": [
           {
            "colorbar": {
             "outlinewidth": 0,
             "ticks": ""
            },
            "colorscale": [
             [
              0,
              "#0d0887"
             ],
             [
              0.1111111111111111,
              "#46039f"
             ],
             [
              0.2222222222222222,
              "#7201a8"
             ],
             [
              0.3333333333333333,
              "#9c179e"
             ],
             [
              0.4444444444444444,
              "#bd3786"
             ],
             [
              0.5555555555555556,
              "#d8576b"
             ],
             [
              0.6666666666666666,
              "#ed7953"
             ],
             [
              0.7777777777777778,
              "#fb9f3a"
             ],
             [
              0.8888888888888888,
              "#fdca26"
             ],
             [
              1,
              "#f0f921"
             ]
            ],
            "type": "surface"
           }
          ],
          "table": [
           {
            "cells": {
             "fill": {
              "color": "#EBF0F8"
             },
             "line": {
              "color": "white"
             }
            },
            "header": {
             "fill": {
              "color": "#C8D4E3"
             },
             "line": {
              "color": "white"
             }
            },
            "type": "table"
           }
          ]
         },
         "layout": {
          "annotationdefaults": {
           "arrowcolor": "#2a3f5f",
           "arrowhead": 0,
           "arrowwidth": 1
          },
          "autotypenumbers": "strict",
          "coloraxis": {
           "colorbar": {
            "outlinewidth": 0,
            "ticks": ""
           }
          },
          "colorscale": {
           "diverging": [
            [
             0,
             "#8e0152"
            ],
            [
             0.1,
             "#c51b7d"
            ],
            [
             0.2,
             "#de77ae"
            ],
            [
             0.3,
             "#f1b6da"
            ],
            [
             0.4,
             "#fde0ef"
            ],
            [
             0.5,
             "#f7f7f7"
            ],
            [
             0.6,
             "#e6f5d0"
            ],
            [
             0.7,
             "#b8e186"
            ],
            [
             0.8,
             "#7fbc41"
            ],
            [
             0.9,
             "#4d9221"
            ],
            [
             1,
             "#276419"
            ]
           ],
           "sequential": [
            [
             0,
             "#0d0887"
            ],
            [
             0.1111111111111111,
             "#46039f"
            ],
            [
             0.2222222222222222,
             "#7201a8"
            ],
            [
             0.3333333333333333,
             "#9c179e"
            ],
            [
             0.4444444444444444,
             "#bd3786"
            ],
            [
             0.5555555555555556,
             "#d8576b"
            ],
            [
             0.6666666666666666,
             "#ed7953"
            ],
            [
             0.7777777777777778,
             "#fb9f3a"
            ],
            [
             0.8888888888888888,
             "#fdca26"
            ],
            [
             1,
             "#f0f921"
            ]
           ],
           "sequentialminus": [
            [
             0,
             "#0d0887"
            ],
            [
             0.1111111111111111,
             "#46039f"
            ],
            [
             0.2222222222222222,
             "#7201a8"
            ],
            [
             0.3333333333333333,
             "#9c179e"
            ],
            [
             0.4444444444444444,
             "#bd3786"
            ],
            [
             0.5555555555555556,
             "#d8576b"
            ],
            [
             0.6666666666666666,
             "#ed7953"
            ],
            [
             0.7777777777777778,
             "#fb9f3a"
            ],
            [
             0.8888888888888888,
             "#fdca26"
            ],
            [
             1,
             "#f0f921"
            ]
           ]
          },
          "colorway": [
           "#636efa",
           "#EF553B",
           "#00cc96",
           "#ab63fa",
           "#FFA15A",
           "#19d3f3",
           "#FF6692",
           "#B6E880",
           "#FF97FF",
           "#FECB52"
          ],
          "font": {
           "color": "#2a3f5f"
          },
          "geo": {
           "bgcolor": "white",
           "lakecolor": "white",
           "landcolor": "#E5ECF6",
           "showlakes": true,
           "showland": true,
           "subunitcolor": "white"
          },
          "hoverlabel": {
           "align": "left"
          },
          "hovermode": "closest",
          "mapbox": {
           "style": "light"
          },
          "paper_bgcolor": "white",
          "plot_bgcolor": "#E5ECF6",
          "polar": {
           "angularaxis": {
            "gridcolor": "white",
            "linecolor": "white",
            "ticks": ""
           },
           "bgcolor": "#E5ECF6",
           "radialaxis": {
            "gridcolor": "white",
            "linecolor": "white",
            "ticks": ""
           }
          },
          "scene": {
           "xaxis": {
            "backgroundcolor": "#E5ECF6",
            "gridcolor": "white",
            "gridwidth": 2,
            "linecolor": "white",
            "showbackground": true,
            "ticks": "",
            "zerolinecolor": "white"
           },
           "yaxis": {
            "backgroundcolor": "#E5ECF6",
            "gridcolor": "white",
            "gridwidth": 2,
            "linecolor": "white",
            "showbackground": true,
            "ticks": "",
            "zerolinecolor": "white"
           },
           "zaxis": {
            "backgroundcolor": "#E5ECF6",
            "gridcolor": "white",
            "gridwidth": 2,
            "linecolor": "white",
            "showbackground": true,
            "ticks": "",
            "zerolinecolor": "white"
           }
          },
          "shapedefaults": {
           "line": {
            "color": "#2a3f5f"
           }
          },
          "ternary": {
           "aaxis": {
            "gridcolor": "white",
            "linecolor": "white",
            "ticks": ""
           },
           "baxis": {
            "gridcolor": "white",
            "linecolor": "white",
            "ticks": ""
           },
           "bgcolor": "#E5ECF6",
           "caxis": {
            "gridcolor": "white",
            "linecolor": "white",
            "ticks": ""
           }
          },
          "title": {
           "x": 0.05
          },
          "xaxis": {
           "automargin": true,
           "gridcolor": "white",
           "linecolor": "white",
           "ticks": "",
           "title": {
            "standoff": 15
           },
           "zerolinecolor": "white",
           "zerolinewidth": 2
          },
          "yaxis": {
           "automargin": true,
           "gridcolor": "white",
           "linecolor": "white",
           "ticks": "",
           "title": {
            "standoff": 15
           },
           "zerolinecolor": "white",
           "zerolinewidth": 2
          }
         }
        },
        "title": {
         "text": "Frequency of harvest_date"
        },
        "xaxis": {
         "anchor": "y",
         "domain": [
          0,
          1
         ],
         "title": {
          "text": "harvest_date"
         }
        },
        "yaxis": {
         "anchor": "x",
         "domain": [
          0,
          1
         ],
         "title": {
          "text": "count"
         }
        }
       }
      }
     },
     "metadata": {},
     "output_type": "display_data"
    }
   ],
   "source": [
    "for col in date_features:\n",
    "    fig = px.histogram(df, x=col, title=f'Frequency of {col}', color_discrete_sequence=['lightskyblue'])\n",
    "    fig.show()"
   ]
  },
  {
   "cell_type": "code",
   "execution_count": 98,
   "id": "3e995e1f",
   "metadata": {},
   "outputs": [
    {
     "data": {
      "application/vnd.plotly.v1+json": {
       "config": {
        "plotlyServerURL": "https://plot.ly"
       },
       "data": [
        {
         "alignmentgroup": "True",
         "boxpoints": "outliers",
         "hovertemplate": "sowing_month=%{x}<br>yield_kg_per_hectare=%{y}<extra></extra>",
         "legendgroup": "",
         "marker": {
          "color": "lightskyblue"
         },
         "name": "",
         "notched": false,
         "offsetgroup": "",
         "orientation": "v",
         "showlegend": false,
         "type": "box",
         "x": [
          1,
          2,
          2,
          2,
          2,
          1,
          3,
          1,
          3,
          1,
          2,
          1,
          1,
          3,
          1,
          2,
          2,
          2,
          3,
          1,
          3,
          2,
          3,
          2,
          3,
          2,
          3,
          2,
          1,
          1,
          2,
          3,
          3,
          3,
          2,
          2,
          2,
          1,
          1,
          1,
          3,
          1,
          1,
          3,
          1,
          2,
          3,
          2,
          1,
          2,
          1,
          1,
          3,
          2,
          3,
          1,
          1,
          1,
          3,
          2,
          1,
          1,
          3,
          3,
          1,
          2,
          1,
          1,
          1,
          3,
          2,
          3,
          2,
          3,
          2,
          3,
          1,
          1,
          2,
          3,
          3,
          3,
          1,
          3,
          2,
          3,
          2,
          1,
          3,
          1,
          3,
          3,
          2,
          3,
          3,
          3,
          3,
          2,
          1,
          3,
          3,
          2,
          3,
          1,
          2,
          2,
          2,
          2,
          1,
          1,
          2,
          3,
          3,
          1,
          2,
          1,
          3,
          3,
          2,
          1,
          3,
          2,
          3,
          3,
          1,
          1,
          3,
          1,
          2,
          2,
          3,
          3,
          2,
          2,
          3,
          2,
          3,
          2,
          3,
          1,
          2,
          2,
          2,
          3,
          2,
          2,
          1,
          1,
          1,
          1,
          3,
          1,
          2,
          2,
          3,
          3,
          1,
          2,
          2,
          2,
          1,
          1,
          3,
          3,
          3,
          1,
          1,
          3,
          1,
          1,
          2,
          3,
          2,
          2,
          3,
          1,
          3,
          3,
          1,
          2,
          3,
          2,
          2,
          2,
          1,
          2,
          3,
          2,
          3,
          3,
          2,
          1,
          1,
          2,
          2,
          3,
          3,
          2,
          1,
          3,
          3,
          3,
          2,
          3,
          3,
          3,
          2,
          2,
          2,
          3,
          2,
          3,
          2,
          2,
          3,
          3,
          1,
          2,
          3,
          3,
          2,
          1,
          2,
          1,
          2,
          3,
          3,
          3,
          3,
          3,
          2,
          2,
          2,
          1,
          2,
          1,
          3,
          2,
          1,
          3,
          1,
          3,
          1,
          1,
          3,
          1,
          3,
          2,
          2,
          2,
          2,
          2,
          1,
          2,
          2,
          3,
          1,
          3,
          3,
          1,
          3,
          1,
          1,
          3,
          2,
          3,
          3,
          3,
          1,
          1,
          3,
          3,
          1,
          1,
          3,
          3,
          2,
          1,
          3,
          3,
          2,
          3,
          1,
          1,
          3,
          2,
          1,
          2,
          2,
          1,
          2,
          1,
          3,
          3,
          3,
          1,
          2,
          3,
          3,
          3,
          2,
          1,
          3,
          1,
          2,
          1,
          3,
          2,
          2,
          1,
          2,
          1,
          1,
          1,
          3,
          3,
          1,
          3,
          1,
          1,
          3,
          2,
          2,
          1,
          3,
          3,
          2,
          1,
          3,
          1,
          3,
          1,
          3,
          3,
          3,
          3,
          2,
          3,
          2,
          3,
          1,
          1,
          1,
          1,
          2,
          3,
          3,
          3,
          1,
          3,
          2,
          1,
          3,
          2,
          2,
          2,
          1,
          1,
          3,
          3,
          1,
          2,
          2,
          2,
          3,
          2,
          2,
          1,
          2,
          3,
          1,
          1,
          2,
          3,
          3,
          3,
          2,
          3,
          3,
          3,
          3,
          2,
          3,
          3,
          3,
          2,
          1,
          1,
          1,
          3,
          3,
          3,
          2,
          3,
          3,
          3,
          1,
          1,
          2,
          3,
          1,
          2,
          1,
          2,
          1,
          2,
          1,
          3,
          3,
          3,
          1,
          2,
          1,
          1,
          2,
          3,
          3,
          3,
          3,
          2,
          1,
          1,
          3,
          2,
          2,
          3,
          2,
          2,
          3,
          2,
          1,
          2,
          2,
          3,
          2,
          1,
          1,
          2,
          1,
          3,
          3,
          3,
          3,
          2,
          2,
          2,
          3,
          2,
          1,
          3,
          2,
          3,
          1,
          1,
          3,
          1,
          3,
          3,
          1,
          2,
          1,
          1,
          2,
          3,
          2,
          3,
          3,
          1,
          1,
          1,
          2,
          3,
          1,
          3,
          3,
          1,
          1,
          1,
          2,
          3,
          1,
          3,
          2,
          3,
          2,
          1,
          1,
          1,
          3,
          1,
          1,
          2,
          3,
          2,
          2,
          1,
          1,
          1,
          1,
          2
         ],
         "x0": " ",
         "xaxis": "x",
         "y": [
          4408.07,
          5389.98,
          2931.16,
          4227.8,
          4979.96,
          4383.55,
          4501.2,
          5264.09,
          5598.46,
          4893.41,
          2437.08,
          3942.56,
          4942.95,
          4629.49,
          2852.62,
          5755.72,
          3334.23,
          5732.35,
          5723.26,
          3404.58,
          5598.02,
          4788.83,
          3892.74,
          5073.96,
          2200.87,
          5007.11,
          3659.47,
          4938.54,
          2726.92,
          5356.92,
          5632.1,
          2050.61,
          5406.85,
          3105.07,
          3476.08,
          4358.35,
          2049.06,
          3664.7,
          4207.97,
          5633.65,
          2365.31,
          3633.39,
          4170.37,
          3631.96,
          4985.17,
          5051.49,
          5859.3,
          5407.06,
          4776,
          2928.75,
          3932.83,
          3409.28,
          4007.18,
          4146.29,
          3633.18,
          2396.09,
          5392.13,
          4383.93,
          2454.6,
          2431.85,
          4603.67,
          2386.26,
          4626.95,
          2721.66,
          4886.38,
          4712.87,
          4130.33,
          5205.29,
          2775.61,
          5696.62,
          5457,
          2990.97,
          4894.93,
          5252.74,
          2404.56,
          5878.35,
          5205.04,
          5538.52,
          2555.17,
          2443.43,
          5953.33,
          4571.18,
          2764.41,
          2330.45,
          3098.22,
          2613.75,
          2858.28,
          3161.45,
          5536.99,
          4072.41,
          2684.8,
          5826.6,
          5042.66,
          5052.49,
          3142.99,
          2475.24,
          5725.47,
          5187.02,
          5792.82,
          3507.3,
          3919.21,
          4989.35,
          4724.77,
          5528.98,
          5235.26,
          2739.12,
          3621.67,
          5207.98,
          4081.37,
          4313.25,
          5668.46,
          4127.73,
          5488.85,
          2884.17,
          4151.71,
          5317.63,
          5998.29,
          5358.92,
          5773.86,
          2194.06,
          2066.9,
          2972.83,
          5579.16,
          5282.76,
          3362.37,
          2328.15,
          2413.17,
          3073.63,
          3519.56,
          5265.98,
          3010.73,
          2665.35,
          4354.36,
          3809.79,
          4561.92,
          2455.82,
          2471.45,
          3258.32,
          5044.23,
          4943.95,
          2556.94,
          5468.19,
          5509.27,
          5409.69,
          3441.74,
          5952.62,
          2656.47,
          2336.99,
          4375.72,
          4026.44,
          5338.11,
          2655.33,
          4510.13,
          5680.91,
          2275.71,
          2980.51,
          2372.11,
          4802.9,
          2361.68,
          4200.48,
          4583.95,
          3784.05,
          5957.61,
          2400.54,
          4802.24,
          2709.84,
          3747.47,
          5235.23,
          2271.18,
          3274.87,
          3637.12,
          2798.7,
          3758.96,
          2942.57,
          4380.19,
          4330.71,
          2155.13,
          5303.29,
          4097.14,
          3784.41,
          2080.21,
          2872.84,
          5445.97,
          5627.65,
          3883.12,
          4537.59,
          2323.25,
          5861.31,
          2261.15,
          4936.31,
          4189.13,
          5139.04,
          4676.09,
          2463.6,
          3912.98,
          5893.78,
          4802.32,
          3323.58,
          2143.33,
          4866.63,
          3636.84,
          5855.42,
          4770.06,
          3381.17,
          3523.48,
          5459.37,
          5645.95,
          4335.94,
          5827.95,
          4675.75,
          3185.74,
          3740.95,
          2067.56,
          5288.49,
          2167.09,
          5409,
          3943.44,
          3781.43,
          2146.63,
          5856,
          5922.36,
          3411.59,
          3926.07,
          4397.43,
          4742.36,
          2470.07,
          4786.83,
          5217.15,
          5954.03,
          2364.35,
          5402.27,
          4070.97,
          2468.04,
          5154.62,
          2874.26,
          5823.12,
          4102.94,
          3051.4,
          5425.23,
          2395.9,
          4599.46,
          5628.29,
          2938.51,
          5726.36,
          4363.32,
          3876.79,
          3558.89,
          2077.58,
          2126.95,
          5978.14,
          5550.08,
          2994.89,
          3432.67,
          3053.4,
          2616.53,
          3023.75,
          5337.83,
          4697.97,
          4903.47,
          3259.62,
          2308.81,
          2906.87,
          3159.13,
          4463.99,
          5960.64,
          3220.47,
          2681.28,
          5615.49,
          5247.57,
          5638.94,
          2736.54,
          4422.42,
          5058.16,
          5297.31,
          3164.72,
          3572.27,
          4829.12,
          3238.07,
          3640.61,
          5681.54,
          5033.77,
          3148.75,
          5186.93,
          3333.13,
          5135.96,
          4137.09,
          5653.42,
          5459.24,
          3276.6,
          5568.97,
          4851.59,
          5582.8,
          5270.21,
          5920.82,
          5085.37,
          5509.7,
          3128.84,
          2046.41,
          3538.86,
          4920.74,
          2043.13,
          4625.28,
          4636.62,
          4904,
          4121.77,
          4336.71,
          2877.67,
          4641.91,
          3570.54,
          3065.75,
          3211.31,
          3437.04,
          4884.05,
          4530.65,
          2549.32,
          5110.65,
          2150.48,
          2212.28,
          2632.18,
          2882.65,
          2546.01,
          4366.32,
          4016.87,
          4676.14,
          2130.86,
          3465.73,
          3069.43,
          5535.92,
          3386.8,
          2686.95,
          2645.02,
          3997.67,
          2160.32,
          4708.25,
          5970.39,
          2353.79,
          5164.88,
          3744.27,
          4544.99,
          4137.68,
          2524.93,
          5924.44,
          5129.48,
          5052.98,
          4057,
          5904.72,
          2476.87,
          5025.21,
          3992.54,
          3374.46,
          4862.89,
          2512.79,
          3219.65,
          4700.45,
          5218.41,
          3253.41,
          3457.1,
          2454.23,
          5855.15,
          2482.57,
          5879.69,
          5867.22,
          2361,
          5507.04,
          3602.65,
          2794.65,
          2597,
          5980.83,
          4747.41,
          5910.1,
          5486.72,
          2143.45,
          2673.18,
          3494.23,
          5192.59,
          3194.19,
          3736.42,
          2994.61,
          2718.21,
          5486.46,
          5218.56,
          3687.52,
          5394.47,
          2254.04,
          2524.63,
          2837.73,
          4228.09,
          2472.24,
          5236.58,
          3447.1,
          4641.45,
          4789.88,
          5028.19,
          3191.84,
          5114.2,
          4756.07,
          3634.48,
          4958.64,
          4668.88,
          5086.38,
          5147.03,
          5919.14,
          3296.87,
          5654.94,
          3695.01,
          4956.73,
          3366.52,
          4154.6,
          3124.54,
          2681.91,
          4131.77,
          3795.45,
          4505.19,
          3253.12,
          4398.3,
          3684.03,
          3475.32,
          4399.05,
          3922.98,
          2796.49,
          2840.95,
          4349.3,
          3497.06,
          3700.09,
          3268.08,
          2786.59,
          4319.82,
          3715.17,
          5051.37,
          3545.74,
          4097.58,
          4838.69,
          2156.34,
          4794.58,
          2178.54,
          2969.17,
          2137.78,
          3348.47,
          3293.47,
          5836.14,
          4349.87,
          3774.9,
          2889.78,
          3245.85,
          4437.58,
          4248.57,
          3635.15,
          2987.17,
          5667.53,
          2437.1,
          3498.61,
          4545.73,
          4080.3,
          5482.17,
          2066.52,
          3175.45,
          2846.56,
          3967.84,
          2445.53,
          5190.07,
          5396.51,
          5737.73,
          3564.25,
          5588.87,
          2209.89,
          4529.33,
          3193.45,
          4396.41,
          4632.64,
          2752.29,
          5760.8,
          3080.5,
          4913.31,
          5528.08,
          3755.84,
          2229.65,
          2029.16,
          3516.38,
          2023.56,
          3882.79,
          3684.22,
          3555.39,
          3715.81,
          2594.9,
          3708.29,
          3009.05,
          4518.23,
          3672.85,
          2181.78,
          4287.59,
          2531.89,
          4503.82,
          4203.51,
          4590.26,
          5306.25,
          4251.4,
          3708.54,
          2604.41,
          2586.36,
          5891.4
         ],
         "y0": " ",
         "yaxis": "y"
        }
       ],
       "layout": {
        "boxmode": "group",
        "legend": {
         "tracegroupgap": 0
        },
        "template": {
         "data": {
          "bar": [
           {
            "error_x": {
             "color": "#2a3f5f"
            },
            "error_y": {
             "color": "#2a3f5f"
            },
            "marker": {
             "line": {
              "color": "#E5ECF6",
              "width": 0.5
             },
             "pattern": {
              "fillmode": "overlay",
              "size": 10,
              "solidity": 0.2
             }
            },
            "type": "bar"
           }
          ],
          "barpolar": [
           {
            "marker": {
             "line": {
              "color": "#E5ECF6",
              "width": 0.5
             },
             "pattern": {
              "fillmode": "overlay",
              "size": 10,
              "solidity": 0.2
             }
            },
            "type": "barpolar"
           }
          ],
          "carpet": [
           {
            "aaxis": {
             "endlinecolor": "#2a3f5f",
             "gridcolor": "white",
             "linecolor": "white",
             "minorgridcolor": "white",
             "startlinecolor": "#2a3f5f"
            },
            "baxis": {
             "endlinecolor": "#2a3f5f",
             "gridcolor": "white",
             "linecolor": "white",
             "minorgridcolor": "white",
             "startlinecolor": "#2a3f5f"
            },
            "type": "carpet"
           }
          ],
          "choropleth": [
           {
            "colorbar": {
             "outlinewidth": 0,
             "ticks": ""
            },
            "type": "choropleth"
           }
          ],
          "contour": [
           {
            "colorbar": {
             "outlinewidth": 0,
             "ticks": ""
            },
            "colorscale": [
             [
              0,
              "#0d0887"
             ],
             [
              0.1111111111111111,
              "#46039f"
             ],
             [
              0.2222222222222222,
              "#7201a8"
             ],
             [
              0.3333333333333333,
              "#9c179e"
             ],
             [
              0.4444444444444444,
              "#bd3786"
             ],
             [
              0.5555555555555556,
              "#d8576b"
             ],
             [
              0.6666666666666666,
              "#ed7953"
             ],
             [
              0.7777777777777778,
              "#fb9f3a"
             ],
             [
              0.8888888888888888,
              "#fdca26"
             ],
             [
              1,
              "#f0f921"
             ]
            ],
            "type": "contour"
           }
          ],
          "contourcarpet": [
           {
            "colorbar": {
             "outlinewidth": 0,
             "ticks": ""
            },
            "type": "contourcarpet"
           }
          ],
          "heatmap": [
           {
            "colorbar": {
             "outlinewidth": 0,
             "ticks": ""
            },
            "colorscale": [
             [
              0,
              "#0d0887"
             ],
             [
              0.1111111111111111,
              "#46039f"
             ],
             [
              0.2222222222222222,
              "#7201a8"
             ],
             [
              0.3333333333333333,
              "#9c179e"
             ],
             [
              0.4444444444444444,
              "#bd3786"
             ],
             [
              0.5555555555555556,
              "#d8576b"
             ],
             [
              0.6666666666666666,
              "#ed7953"
             ],
             [
              0.7777777777777778,
              "#fb9f3a"
             ],
             [
              0.8888888888888888,
              "#fdca26"
             ],
             [
              1,
              "#f0f921"
             ]
            ],
            "type": "heatmap"
           }
          ],
          "heatmapgl": [
           {
            "colorbar": {
             "outlinewidth": 0,
             "ticks": ""
            },
            "colorscale": [
             [
              0,
              "#0d0887"
             ],
             [
              0.1111111111111111,
              "#46039f"
             ],
             [
              0.2222222222222222,
              "#7201a8"
             ],
             [
              0.3333333333333333,
              "#9c179e"
             ],
             [
              0.4444444444444444,
              "#bd3786"
             ],
             [
              0.5555555555555556,
              "#d8576b"
             ],
             [
              0.6666666666666666,
              "#ed7953"
             ],
             [
              0.7777777777777778,
              "#fb9f3a"
             ],
             [
              0.8888888888888888,
              "#fdca26"
             ],
             [
              1,
              "#f0f921"
             ]
            ],
            "type": "heatmapgl"
           }
          ],
          "histogram": [
           {
            "marker": {
             "pattern": {
              "fillmode": "overlay",
              "size": 10,
              "solidity": 0.2
             }
            },
            "type": "histogram"
           }
          ],
          "histogram2d": [
           {
            "colorbar": {
             "outlinewidth": 0,
             "ticks": ""
            },
            "colorscale": [
             [
              0,
              "#0d0887"
             ],
             [
              0.1111111111111111,
              "#46039f"
             ],
             [
              0.2222222222222222,
              "#7201a8"
             ],
             [
              0.3333333333333333,
              "#9c179e"
             ],
             [
              0.4444444444444444,
              "#bd3786"
             ],
             [
              0.5555555555555556,
              "#d8576b"
             ],
             [
              0.6666666666666666,
              "#ed7953"
             ],
             [
              0.7777777777777778,
              "#fb9f3a"
             ],
             [
              0.8888888888888888,
              "#fdca26"
             ],
             [
              1,
              "#f0f921"
             ]
            ],
            "type": "histogram2d"
           }
          ],
          "histogram2dcontour": [
           {
            "colorbar": {
             "outlinewidth": 0,
             "ticks": ""
            },
            "colorscale": [
             [
              0,
              "#0d0887"
             ],
             [
              0.1111111111111111,
              "#46039f"
             ],
             [
              0.2222222222222222,
              "#7201a8"
             ],
             [
              0.3333333333333333,
              "#9c179e"
             ],
             [
              0.4444444444444444,
              "#bd3786"
             ],
             [
              0.5555555555555556,
              "#d8576b"
             ],
             [
              0.6666666666666666,
              "#ed7953"
             ],
             [
              0.7777777777777778,
              "#fb9f3a"
             ],
             [
              0.8888888888888888,
              "#fdca26"
             ],
             [
              1,
              "#f0f921"
             ]
            ],
            "type": "histogram2dcontour"
           }
          ],
          "mesh3d": [
           {
            "colorbar": {
             "outlinewidth": 0,
             "ticks": ""
            },
            "type": "mesh3d"
           }
          ],
          "parcoords": [
           {
            "line": {
             "colorbar": {
              "outlinewidth": 0,
              "ticks": ""
             }
            },
            "type": "parcoords"
           }
          ],
          "pie": [
           {
            "automargin": true,
            "type": "pie"
           }
          ],
          "scatter": [
           {
            "fillpattern": {
             "fillmode": "overlay",
             "size": 10,
             "solidity": 0.2
            },
            "type": "scatter"
           }
          ],
          "scatter3d": [
           {
            "line": {
             "colorbar": {
              "outlinewidth": 0,
              "ticks": ""
             }
            },
            "marker": {
             "colorbar": {
              "outlinewidth": 0,
              "ticks": ""
             }
            },
            "type": "scatter3d"
           }
          ],
          "scattercarpet": [
           {
            "marker": {
             "colorbar": {
              "outlinewidth": 0,
              "ticks": ""
             }
            },
            "type": "scattercarpet"
           }
          ],
          "scattergeo": [
           {
            "marker": {
             "colorbar": {
              "outlinewidth": 0,
              "ticks": ""
             }
            },
            "type": "scattergeo"
           }
          ],
          "scattergl": [
           {
            "marker": {
             "colorbar": {
              "outlinewidth": 0,
              "ticks": ""
             }
            },
            "type": "scattergl"
           }
          ],
          "scattermapbox": [
           {
            "marker": {
             "colorbar": {
              "outlinewidth": 0,
              "ticks": ""
             }
            },
            "type": "scattermapbox"
           }
          ],
          "scatterpolar": [
           {
            "marker": {
             "colorbar": {
              "outlinewidth": 0,
              "ticks": ""
             }
            },
            "type": "scatterpolar"
           }
          ],
          "scatterpolargl": [
           {
            "marker": {
             "colorbar": {
              "outlinewidth": 0,
              "ticks": ""
             }
            },
            "type": "scatterpolargl"
           }
          ],
          "scatterternary": [
           {
            "marker": {
             "colorbar": {
              "outlinewidth": 0,
              "ticks": ""
             }
            },
            "type": "scatterternary"
           }
          ],
          "surface": [
           {
            "colorbar": {
             "outlinewidth": 0,
             "ticks": ""
            },
            "colorscale": [
             [
              0,
              "#0d0887"
             ],
             [
              0.1111111111111111,
              "#46039f"
             ],
             [
              0.2222222222222222,
              "#7201a8"
             ],
             [
              0.3333333333333333,
              "#9c179e"
             ],
             [
              0.4444444444444444,
              "#bd3786"
             ],
             [
              0.5555555555555556,
              "#d8576b"
             ],
             [
              0.6666666666666666,
              "#ed7953"
             ],
             [
              0.7777777777777778,
              "#fb9f3a"
             ],
             [
              0.8888888888888888,
              "#fdca26"
             ],
             [
              1,
              "#f0f921"
             ]
            ],
            "type": "surface"
           }
          ],
          "table": [
           {
            "cells": {
             "fill": {
              "color": "#EBF0F8"
             },
             "line": {
              "color": "white"
             }
            },
            "header": {
             "fill": {
              "color": "#C8D4E3"
             },
             "line": {
              "color": "white"
             }
            },
            "type": "table"
           }
          ]
         },
         "layout": {
          "annotationdefaults": {
           "arrowcolor": "#2a3f5f",
           "arrowhead": 0,
           "arrowwidth": 1
          },
          "autotypenumbers": "strict",
          "coloraxis": {
           "colorbar": {
            "outlinewidth": 0,
            "ticks": ""
           }
          },
          "colorscale": {
           "diverging": [
            [
             0,
             "#8e0152"
            ],
            [
             0.1,
             "#c51b7d"
            ],
            [
             0.2,
             "#de77ae"
            ],
            [
             0.3,
             "#f1b6da"
            ],
            [
             0.4,
             "#fde0ef"
            ],
            [
             0.5,
             "#f7f7f7"
            ],
            [
             0.6,
             "#e6f5d0"
            ],
            [
             0.7,
             "#b8e186"
            ],
            [
             0.8,
             "#7fbc41"
            ],
            [
             0.9,
             "#4d9221"
            ],
            [
             1,
             "#276419"
            ]
           ],
           "sequential": [
            [
             0,
             "#0d0887"
            ],
            [
             0.1111111111111111,
             "#46039f"
            ],
            [
             0.2222222222222222,
             "#7201a8"
            ],
            [
             0.3333333333333333,
             "#9c179e"
            ],
            [
             0.4444444444444444,
             "#bd3786"
            ],
            [
             0.5555555555555556,
             "#d8576b"
            ],
            [
             0.6666666666666666,
             "#ed7953"
            ],
            [
             0.7777777777777778,
             "#fb9f3a"
            ],
            [
             0.8888888888888888,
             "#fdca26"
            ],
            [
             1,
             "#f0f921"
            ]
           ],
           "sequentialminus": [
            [
             0,
             "#0d0887"
            ],
            [
             0.1111111111111111,
             "#46039f"
            ],
            [
             0.2222222222222222,
             "#7201a8"
            ],
            [
             0.3333333333333333,
             "#9c179e"
            ],
            [
             0.4444444444444444,
             "#bd3786"
            ],
            [
             0.5555555555555556,
             "#d8576b"
            ],
            [
             0.6666666666666666,
             "#ed7953"
            ],
            [
             0.7777777777777778,
             "#fb9f3a"
            ],
            [
             0.8888888888888888,
             "#fdca26"
            ],
            [
             1,
             "#f0f921"
            ]
           ]
          },
          "colorway": [
           "#636efa",
           "#EF553B",
           "#00cc96",
           "#ab63fa",
           "#FFA15A",
           "#19d3f3",
           "#FF6692",
           "#B6E880",
           "#FF97FF",
           "#FECB52"
          ],
          "font": {
           "color": "#2a3f5f"
          },
          "geo": {
           "bgcolor": "white",
           "lakecolor": "white",
           "landcolor": "#E5ECF6",
           "showlakes": true,
           "showland": true,
           "subunitcolor": "white"
          },
          "hoverlabel": {
           "align": "left"
          },
          "hovermode": "closest",
          "mapbox": {
           "style": "light"
          },
          "paper_bgcolor": "white",
          "plot_bgcolor": "#E5ECF6",
          "polar": {
           "angularaxis": {
            "gridcolor": "white",
            "linecolor": "white",
            "ticks": ""
           },
           "bgcolor": "#E5ECF6",
           "radialaxis": {
            "gridcolor": "white",
            "linecolor": "white",
            "ticks": ""
           }
          },
          "scene": {
           "xaxis": {
            "backgroundcolor": "#E5ECF6",
            "gridcolor": "white",
            "gridwidth": 2,
            "linecolor": "white",
            "showbackground": true,
            "ticks": "",
            "zerolinecolor": "white"
           },
           "yaxis": {
            "backgroundcolor": "#E5ECF6",
            "gridcolor": "white",
            "gridwidth": 2,
            "linecolor": "white",
            "showbackground": true,
            "ticks": "",
            "zerolinecolor": "white"
           },
           "zaxis": {
            "backgroundcolor": "#E5ECF6",
            "gridcolor": "white",
            "gridwidth": 2,
            "linecolor": "white",
            "showbackground": true,
            "ticks": "",
            "zerolinecolor": "white"
           }
          },
          "shapedefaults": {
           "line": {
            "color": "#2a3f5f"
           }
          },
          "ternary": {
           "aaxis": {
            "gridcolor": "white",
            "linecolor": "white",
            "ticks": ""
           },
           "baxis": {
            "gridcolor": "white",
            "linecolor": "white",
            "ticks": ""
           },
           "bgcolor": "#E5ECF6",
           "caxis": {
            "gridcolor": "white",
            "linecolor": "white",
            "ticks": ""
           }
          },
          "title": {
           "x": 0.05
          },
          "xaxis": {
           "automargin": true,
           "gridcolor": "white",
           "linecolor": "white",
           "ticks": "",
           "title": {
            "standoff": 15
           },
           "zerolinecolor": "white",
           "zerolinewidth": 2
          },
          "yaxis": {
           "automargin": true,
           "gridcolor": "white",
           "linecolor": "white",
           "ticks": "",
           "title": {
            "standoff": 15
           },
           "zerolinecolor": "white",
           "zerolinewidth": 2
          }
         }
        },
        "title": {
         "text": "Yield per Sowing Month"
        },
        "xaxis": {
         "anchor": "y",
         "domain": [
          0,
          1
         ],
         "title": {
          "text": "sowing_month"
         }
        },
        "yaxis": {
         "anchor": "x",
         "domain": [
          0,
          1
         ],
         "title": {
          "text": "yield_kg_per_hectare"
         }
        }
       }
      }
     },
     "metadata": {},
     "output_type": "display_data"
    },
    {
     "data": {
      "application/vnd.plotly.v1+json": {
       "config": {
        "plotlyServerURL": "https://plot.ly"
       },
       "data": [
        {
         "alignmentgroup": "True",
         "boxpoints": "outliers",
         "hovertemplate": "harvest_month=%{x}<br>yield_kg_per_hectare=%{y}<extra></extra>",
         "legendgroup": "",
         "marker": {
          "color": "lightskyblue"
         },
         "name": "",
         "notched": false,
         "offsetgroup": "",
         "orientation": "v",
         "showlegend": false,
         "type": "box",
         "x": [
          5,
          5,
          6,
          7,
          5,
          5,
          7,
          5,
          7,
          4,
          7,
          5,
          5,
          6,
          5,
          5,
          5,
          7,
          7,
          5,
          6,
          6,
          7,
          7,
          7,
          5,
          6,
          7,
          5,
          4,
          7,
          7,
          6,
          8,
          6,
          6,
          6,
          6,
          4,
          4,
          6,
          5,
          6,
          7,
          5,
          6,
          7,
          5,
          4,
          5,
          6,
          6,
          7,
          5,
          7,
          5,
          6,
          6,
          7,
          6,
          6,
          4,
          6,
          6,
          4,
          5,
          4,
          4,
          5,
          7,
          6,
          6,
          5,
          7,
          7,
          7,
          5,
          5,
          7,
          6,
          8,
          7,
          6,
          7,
          6,
          7,
          6,
          5,
          7,
          5,
          6,
          7,
          5,
          6,
          7,
          7,
          6,
          6,
          5,
          7,
          7,
          6,
          6,
          5,
          5,
          5,
          5,
          6,
          6,
          5,
          7,
          7,
          8,
          5,
          6,
          6,
          7,
          8,
          6,
          6,
          6,
          6,
          7,
          7,
          4,
          4,
          7,
          4,
          7,
          5,
          6,
          7,
          7,
          7,
          6,
          6,
          6,
          5,
          7,
          4,
          6,
          5,
          7,
          7,
          6,
          6,
          5,
          5,
          5,
          5,
          8,
          4,
          6,
          6,
          6,
          8,
          5,
          6,
          6,
          7,
          6,
          4,
          6,
          6,
          7,
          5,
          6,
          8,
          5,
          4,
          5,
          7,
          5,
          7,
          7,
          5,
          7,
          8,
          6,
          6,
          7,
          5,
          6,
          5,
          4,
          6,
          7,
          6,
          6,
          6,
          5,
          4,
          6,
          6,
          7,
          8,
          7,
          5,
          5,
          7,
          8,
          6,
          7,
          7,
          6,
          7,
          6,
          5,
          5,
          6,
          5,
          8,
          6,
          6,
          6,
          7,
          4,
          6,
          8,
          7,
          5,
          5,
          5,
          5,
          6,
          8,
          8,
          7,
          6,
          7,
          5,
          5,
          7,
          5,
          6,
          5,
          6,
          6,
          5,
          6,
          5,
          8,
          5,
          5,
          6,
          4,
          8,
          5,
          7,
          6,
          5,
          5,
          5,
          7,
          6,
          7,
          4,
          7,
          8,
          5,
          7,
          6,
          5,
          7,
          7,
          7,
          6,
          6,
          5,
          5,
          6,
          7,
          4,
          6,
          6,
          6,
          6,
          5,
          7,
          6,
          5,
          8,
          5,
          5,
          7,
          6,
          5,
          6,
          6,
          5,
          6,
          5,
          6,
          8,
          8,
          5,
          6,
          6,
          7,
          6,
          7,
          4,
          7,
          5,
          5,
          5,
          7,
          6,
          6,
          5,
          6,
          6,
          5,
          4,
          7,
          7,
          6,
          6,
          4,
          6,
          6,
          6,
          7,
          4,
          7,
          6,
          7,
          6,
          7,
          5,
          7,
          6,
          8,
          7,
          7,
          7,
          5,
          7,
          6,
          6,
          5,
          4,
          4,
          6,
          5,
          7,
          6,
          7,
          4,
          7,
          5,
          4,
          7,
          6,
          6,
          6,
          4,
          4,
          6,
          8,
          4,
          6,
          5,
          6,
          6,
          6,
          6,
          5,
          6,
          6,
          5,
          4,
          6,
          6,
          6,
          6,
          5,
          7,
          7,
          7,
          7,
          6,
          7,
          7,
          7,
          5,
          6,
          5,
          5,
          8,
          8,
          7,
          6,
          6,
          7,
          7,
          6,
          5,
          6,
          8,
          4,
          5,
          6,
          6,
          6,
          5,
          5,
          6,
          7,
          7,
          6,
          6,
          6,
          4,
          7,
          6,
          6,
          7,
          6,
          5,
          6,
          6,
          7,
          5,
          6,
          6,
          7,
          6,
          7,
          6,
          5,
          7,
          6,
          6,
          6,
          5,
          5,
          5,
          4,
          6,
          7,
          8,
          8,
          6,
          6,
          6,
          6,
          6,
          6,
          7,
          5,
          7,
          5,
          4,
          7,
          5,
          6,
          8,
          4,
          6,
          6,
          6,
          6,
          7,
          7,
          6,
          7,
          5,
          6,
          4,
          6,
          6,
          5,
          7,
          6,
          5,
          6,
          5,
          5,
          6,
          4,
          8,
          6,
          7,
          6,
          4,
          4,
          4,
          6,
          4,
          6,
          5,
          7,
          6,
          5,
          6,
          4,
          5,
          6,
          6
         ],
         "x0": " ",
         "xaxis": "x",
         "y": [
          4408.07,
          5389.98,
          2931.16,
          4227.8,
          4979.96,
          4383.55,
          4501.2,
          5264.09,
          5598.46,
          4893.41,
          2437.08,
          3942.56,
          4942.95,
          4629.49,
          2852.62,
          5755.72,
          3334.23,
          5732.35,
          5723.26,
          3404.58,
          5598.02,
          4788.83,
          3892.74,
          5073.96,
          2200.87,
          5007.11,
          3659.47,
          4938.54,
          2726.92,
          5356.92,
          5632.1,
          2050.61,
          5406.85,
          3105.07,
          3476.08,
          4358.35,
          2049.06,
          3664.7,
          4207.97,
          5633.65,
          2365.31,
          3633.39,
          4170.37,
          3631.96,
          4985.17,
          5051.49,
          5859.3,
          5407.06,
          4776,
          2928.75,
          3932.83,
          3409.28,
          4007.18,
          4146.29,
          3633.18,
          2396.09,
          5392.13,
          4383.93,
          2454.6,
          2431.85,
          4603.67,
          2386.26,
          4626.95,
          2721.66,
          4886.38,
          4712.87,
          4130.33,
          5205.29,
          2775.61,
          5696.62,
          5457,
          2990.97,
          4894.93,
          5252.74,
          2404.56,
          5878.35,
          5205.04,
          5538.52,
          2555.17,
          2443.43,
          5953.33,
          4571.18,
          2764.41,
          2330.45,
          3098.22,
          2613.75,
          2858.28,
          3161.45,
          5536.99,
          4072.41,
          2684.8,
          5826.6,
          5042.66,
          5052.49,
          3142.99,
          2475.24,
          5725.47,
          5187.02,
          5792.82,
          3507.3,
          3919.21,
          4989.35,
          4724.77,
          5528.98,
          5235.26,
          2739.12,
          3621.67,
          5207.98,
          4081.37,
          4313.25,
          5668.46,
          4127.73,
          5488.85,
          2884.17,
          4151.71,
          5317.63,
          5998.29,
          5358.92,
          5773.86,
          2194.06,
          2066.9,
          2972.83,
          5579.16,
          5282.76,
          3362.37,
          2328.15,
          2413.17,
          3073.63,
          3519.56,
          5265.98,
          3010.73,
          2665.35,
          4354.36,
          3809.79,
          4561.92,
          2455.82,
          2471.45,
          3258.32,
          5044.23,
          4943.95,
          2556.94,
          5468.19,
          5509.27,
          5409.69,
          3441.74,
          5952.62,
          2656.47,
          2336.99,
          4375.72,
          4026.44,
          5338.11,
          2655.33,
          4510.13,
          5680.91,
          2275.71,
          2980.51,
          2372.11,
          4802.9,
          2361.68,
          4200.48,
          4583.95,
          3784.05,
          5957.61,
          2400.54,
          4802.24,
          2709.84,
          3747.47,
          5235.23,
          2271.18,
          3274.87,
          3637.12,
          2798.7,
          3758.96,
          2942.57,
          4380.19,
          4330.71,
          2155.13,
          5303.29,
          4097.14,
          3784.41,
          2080.21,
          2872.84,
          5445.97,
          5627.65,
          3883.12,
          4537.59,
          2323.25,
          5861.31,
          2261.15,
          4936.31,
          4189.13,
          5139.04,
          4676.09,
          2463.6,
          3912.98,
          5893.78,
          4802.32,
          3323.58,
          2143.33,
          4866.63,
          3636.84,
          5855.42,
          4770.06,
          3381.17,
          3523.48,
          5459.37,
          5645.95,
          4335.94,
          5827.95,
          4675.75,
          3185.74,
          3740.95,
          2067.56,
          5288.49,
          2167.09,
          5409,
          3943.44,
          3781.43,
          2146.63,
          5856,
          5922.36,
          3411.59,
          3926.07,
          4397.43,
          4742.36,
          2470.07,
          4786.83,
          5217.15,
          5954.03,
          2364.35,
          5402.27,
          4070.97,
          2468.04,
          5154.62,
          2874.26,
          5823.12,
          4102.94,
          3051.4,
          5425.23,
          2395.9,
          4599.46,
          5628.29,
          2938.51,
          5726.36,
          4363.32,
          3876.79,
          3558.89,
          2077.58,
          2126.95,
          5978.14,
          5550.08,
          2994.89,
          3432.67,
          3053.4,
          2616.53,
          3023.75,
          5337.83,
          4697.97,
          4903.47,
          3259.62,
          2308.81,
          2906.87,
          3159.13,
          4463.99,
          5960.64,
          3220.47,
          2681.28,
          5615.49,
          5247.57,
          5638.94,
          2736.54,
          4422.42,
          5058.16,
          5297.31,
          3164.72,
          3572.27,
          4829.12,
          3238.07,
          3640.61,
          5681.54,
          5033.77,
          3148.75,
          5186.93,
          3333.13,
          5135.96,
          4137.09,
          5653.42,
          5459.24,
          3276.6,
          5568.97,
          4851.59,
          5582.8,
          5270.21,
          5920.82,
          5085.37,
          5509.7,
          3128.84,
          2046.41,
          3538.86,
          4920.74,
          2043.13,
          4625.28,
          4636.62,
          4904,
          4121.77,
          4336.71,
          2877.67,
          4641.91,
          3570.54,
          3065.75,
          3211.31,
          3437.04,
          4884.05,
          4530.65,
          2549.32,
          5110.65,
          2150.48,
          2212.28,
          2632.18,
          2882.65,
          2546.01,
          4366.32,
          4016.87,
          4676.14,
          2130.86,
          3465.73,
          3069.43,
          5535.92,
          3386.8,
          2686.95,
          2645.02,
          3997.67,
          2160.32,
          4708.25,
          5970.39,
          2353.79,
          5164.88,
          3744.27,
          4544.99,
          4137.68,
          2524.93,
          5924.44,
          5129.48,
          5052.98,
          4057,
          5904.72,
          2476.87,
          5025.21,
          3992.54,
          3374.46,
          4862.89,
          2512.79,
          3219.65,
          4700.45,
          5218.41,
          3253.41,
          3457.1,
          2454.23,
          5855.15,
          2482.57,
          5879.69,
          5867.22,
          2361,
          5507.04,
          3602.65,
          2794.65,
          2597,
          5980.83,
          4747.41,
          5910.1,
          5486.72,
          2143.45,
          2673.18,
          3494.23,
          5192.59,
          3194.19,
          3736.42,
          2994.61,
          2718.21,
          5486.46,
          5218.56,
          3687.52,
          5394.47,
          2254.04,
          2524.63,
          2837.73,
          4228.09,
          2472.24,
          5236.58,
          3447.1,
          4641.45,
          4789.88,
          5028.19,
          3191.84,
          5114.2,
          4756.07,
          3634.48,
          4958.64,
          4668.88,
          5086.38,
          5147.03,
          5919.14,
          3296.87,
          5654.94,
          3695.01,
          4956.73,
          3366.52,
          4154.6,
          3124.54,
          2681.91,
          4131.77,
          3795.45,
          4505.19,
          3253.12,
          4398.3,
          3684.03,
          3475.32,
          4399.05,
          3922.98,
          2796.49,
          2840.95,
          4349.3,
          3497.06,
          3700.09,
          3268.08,
          2786.59,
          4319.82,
          3715.17,
          5051.37,
          3545.74,
          4097.58,
          4838.69,
          2156.34,
          4794.58,
          2178.54,
          2969.17,
          2137.78,
          3348.47,
          3293.47,
          5836.14,
          4349.87,
          3774.9,
          2889.78,
          3245.85,
          4437.58,
          4248.57,
          3635.15,
          2987.17,
          5667.53,
          2437.1,
          3498.61,
          4545.73,
          4080.3,
          5482.17,
          2066.52,
          3175.45,
          2846.56,
          3967.84,
          2445.53,
          5190.07,
          5396.51,
          5737.73,
          3564.25,
          5588.87,
          2209.89,
          4529.33,
          3193.45,
          4396.41,
          4632.64,
          2752.29,
          5760.8,
          3080.5,
          4913.31,
          5528.08,
          3755.84,
          2229.65,
          2029.16,
          3516.38,
          2023.56,
          3882.79,
          3684.22,
          3555.39,
          3715.81,
          2594.9,
          3708.29,
          3009.05,
          4518.23,
          3672.85,
          2181.78,
          4287.59,
          2531.89,
          4503.82,
          4203.51,
          4590.26,
          5306.25,
          4251.4,
          3708.54,
          2604.41,
          2586.36,
          5891.4
         ],
         "y0": " ",
         "yaxis": "y"
        }
       ],
       "layout": {
        "boxmode": "group",
        "legend": {
         "tracegroupgap": 0
        },
        "template": {
         "data": {
          "bar": [
           {
            "error_x": {
             "color": "#2a3f5f"
            },
            "error_y": {
             "color": "#2a3f5f"
            },
            "marker": {
             "line": {
              "color": "#E5ECF6",
              "width": 0.5
             },
             "pattern": {
              "fillmode": "overlay",
              "size": 10,
              "solidity": 0.2
             }
            },
            "type": "bar"
           }
          ],
          "barpolar": [
           {
            "marker": {
             "line": {
              "color": "#E5ECF6",
              "width": 0.5
             },
             "pattern": {
              "fillmode": "overlay",
              "size": 10,
              "solidity": 0.2
             }
            },
            "type": "barpolar"
           }
          ],
          "carpet": [
           {
            "aaxis": {
             "endlinecolor": "#2a3f5f",
             "gridcolor": "white",
             "linecolor": "white",
             "minorgridcolor": "white",
             "startlinecolor": "#2a3f5f"
            },
            "baxis": {
             "endlinecolor": "#2a3f5f",
             "gridcolor": "white",
             "linecolor": "white",
             "minorgridcolor": "white",
             "startlinecolor": "#2a3f5f"
            },
            "type": "carpet"
           }
          ],
          "choropleth": [
           {
            "colorbar": {
             "outlinewidth": 0,
             "ticks": ""
            },
            "type": "choropleth"
           }
          ],
          "contour": [
           {
            "colorbar": {
             "outlinewidth": 0,
             "ticks": ""
            },
            "colorscale": [
             [
              0,
              "#0d0887"
             ],
             [
              0.1111111111111111,
              "#46039f"
             ],
             [
              0.2222222222222222,
              "#7201a8"
             ],
             [
              0.3333333333333333,
              "#9c179e"
             ],
             [
              0.4444444444444444,
              "#bd3786"
             ],
             [
              0.5555555555555556,
              "#d8576b"
             ],
             [
              0.6666666666666666,
              "#ed7953"
             ],
             [
              0.7777777777777778,
              "#fb9f3a"
             ],
             [
              0.8888888888888888,
              "#fdca26"
             ],
             [
              1,
              "#f0f921"
             ]
            ],
            "type": "contour"
           }
          ],
          "contourcarpet": [
           {
            "colorbar": {
             "outlinewidth": 0,
             "ticks": ""
            },
            "type": "contourcarpet"
           }
          ],
          "heatmap": [
           {
            "colorbar": {
             "outlinewidth": 0,
             "ticks": ""
            },
            "colorscale": [
             [
              0,
              "#0d0887"
             ],
             [
              0.1111111111111111,
              "#46039f"
             ],
             [
              0.2222222222222222,
              "#7201a8"
             ],
             [
              0.3333333333333333,
              "#9c179e"
             ],
             [
              0.4444444444444444,
              "#bd3786"
             ],
             [
              0.5555555555555556,
              "#d8576b"
             ],
             [
              0.6666666666666666,
              "#ed7953"
             ],
             [
              0.7777777777777778,
              "#fb9f3a"
             ],
             [
              0.8888888888888888,
              "#fdca26"
             ],
             [
              1,
              "#f0f921"
             ]
            ],
            "type": "heatmap"
           }
          ],
          "heatmapgl": [
           {
            "colorbar": {
             "outlinewidth": 0,
             "ticks": ""
            },
            "colorscale": [
             [
              0,
              "#0d0887"
             ],
             [
              0.1111111111111111,
              "#46039f"
             ],
             [
              0.2222222222222222,
              "#7201a8"
             ],
             [
              0.3333333333333333,
              "#9c179e"
             ],
             [
              0.4444444444444444,
              "#bd3786"
             ],
             [
              0.5555555555555556,
              "#d8576b"
             ],
             [
              0.6666666666666666,
              "#ed7953"
             ],
             [
              0.7777777777777778,
              "#fb9f3a"
             ],
             [
              0.8888888888888888,
              "#fdca26"
             ],
             [
              1,
              "#f0f921"
             ]
            ],
            "type": "heatmapgl"
           }
          ],
          "histogram": [
           {
            "marker": {
             "pattern": {
              "fillmode": "overlay",
              "size": 10,
              "solidity": 0.2
             }
            },
            "type": "histogram"
           }
          ],
          "histogram2d": [
           {
            "colorbar": {
             "outlinewidth": 0,
             "ticks": ""
            },
            "colorscale": [
             [
              0,
              "#0d0887"
             ],
             [
              0.1111111111111111,
              "#46039f"
             ],
             [
              0.2222222222222222,
              "#7201a8"
             ],
             [
              0.3333333333333333,
              "#9c179e"
             ],
             [
              0.4444444444444444,
              "#bd3786"
             ],
             [
              0.5555555555555556,
              "#d8576b"
             ],
             [
              0.6666666666666666,
              "#ed7953"
             ],
             [
              0.7777777777777778,
              "#fb9f3a"
             ],
             [
              0.8888888888888888,
              "#fdca26"
             ],
             [
              1,
              "#f0f921"
             ]
            ],
            "type": "histogram2d"
           }
          ],
          "histogram2dcontour": [
           {
            "colorbar": {
             "outlinewidth": 0,
             "ticks": ""
            },
            "colorscale": [
             [
              0,
              "#0d0887"
             ],
             [
              0.1111111111111111,
              "#46039f"
             ],
             [
              0.2222222222222222,
              "#7201a8"
             ],
             [
              0.3333333333333333,
              "#9c179e"
             ],
             [
              0.4444444444444444,
              "#bd3786"
             ],
             [
              0.5555555555555556,
              "#d8576b"
             ],
             [
              0.6666666666666666,
              "#ed7953"
             ],
             [
              0.7777777777777778,
              "#fb9f3a"
             ],
             [
              0.8888888888888888,
              "#fdca26"
             ],
             [
              1,
              "#f0f921"
             ]
            ],
            "type": "histogram2dcontour"
           }
          ],
          "mesh3d": [
           {
            "colorbar": {
             "outlinewidth": 0,
             "ticks": ""
            },
            "type": "mesh3d"
           }
          ],
          "parcoords": [
           {
            "line": {
             "colorbar": {
              "outlinewidth": 0,
              "ticks": ""
             }
            },
            "type": "parcoords"
           }
          ],
          "pie": [
           {
            "automargin": true,
            "type": "pie"
           }
          ],
          "scatter": [
           {
            "fillpattern": {
             "fillmode": "overlay",
             "size": 10,
             "solidity": 0.2
            },
            "type": "scatter"
           }
          ],
          "scatter3d": [
           {
            "line": {
             "colorbar": {
              "outlinewidth": 0,
              "ticks": ""
             }
            },
            "marker": {
             "colorbar": {
              "outlinewidth": 0,
              "ticks": ""
             }
            },
            "type": "scatter3d"
           }
          ],
          "scattercarpet": [
           {
            "marker": {
             "colorbar": {
              "outlinewidth": 0,
              "ticks": ""
             }
            },
            "type": "scattercarpet"
           }
          ],
          "scattergeo": [
           {
            "marker": {
             "colorbar": {
              "outlinewidth": 0,
              "ticks": ""
             }
            },
            "type": "scattergeo"
           }
          ],
          "scattergl": [
           {
            "marker": {
             "colorbar": {
              "outlinewidth": 0,
              "ticks": ""
             }
            },
            "type": "scattergl"
           }
          ],
          "scattermapbox": [
           {
            "marker": {
             "colorbar": {
              "outlinewidth": 0,
              "ticks": ""
             }
            },
            "type": "scattermapbox"
           }
          ],
          "scatterpolar": [
           {
            "marker": {
             "colorbar": {
              "outlinewidth": 0,
              "ticks": ""
             }
            },
            "type": "scatterpolar"
           }
          ],
          "scatterpolargl": [
           {
            "marker": {
             "colorbar": {
              "outlinewidth": 0,
              "ticks": ""
             }
            },
            "type": "scatterpolargl"
           }
          ],
          "scatterternary": [
           {
            "marker": {
             "colorbar": {
              "outlinewidth": 0,
              "ticks": ""
             }
            },
            "type": "scatterternary"
           }
          ],
          "surface": [
           {
            "colorbar": {
             "outlinewidth": 0,
             "ticks": ""
            },
            "colorscale": [
             [
              0,
              "#0d0887"
             ],
             [
              0.1111111111111111,
              "#46039f"
             ],
             [
              0.2222222222222222,
              "#7201a8"
             ],
             [
              0.3333333333333333,
              "#9c179e"
             ],
             [
              0.4444444444444444,
              "#bd3786"
             ],
             [
              0.5555555555555556,
              "#d8576b"
             ],
             [
              0.6666666666666666,
              "#ed7953"
             ],
             [
              0.7777777777777778,
              "#fb9f3a"
             ],
             [
              0.8888888888888888,
              "#fdca26"
             ],
             [
              1,
              "#f0f921"
             ]
            ],
            "type": "surface"
           }
          ],
          "table": [
           {
            "cells": {
             "fill": {
              "color": "#EBF0F8"
             },
             "line": {
              "color": "white"
             }
            },
            "header": {
             "fill": {
              "color": "#C8D4E3"
             },
             "line": {
              "color": "white"
             }
            },
            "type": "table"
           }
          ]
         },
         "layout": {
          "annotationdefaults": {
           "arrowcolor": "#2a3f5f",
           "arrowhead": 0,
           "arrowwidth": 1
          },
          "autotypenumbers": "strict",
          "coloraxis": {
           "colorbar": {
            "outlinewidth": 0,
            "ticks": ""
           }
          },
          "colorscale": {
           "diverging": [
            [
             0,
             "#8e0152"
            ],
            [
             0.1,
             "#c51b7d"
            ],
            [
             0.2,
             "#de77ae"
            ],
            [
             0.3,
             "#f1b6da"
            ],
            [
             0.4,
             "#fde0ef"
            ],
            [
             0.5,
             "#f7f7f7"
            ],
            [
             0.6,
             "#e6f5d0"
            ],
            [
             0.7,
             "#b8e186"
            ],
            [
             0.8,
             "#7fbc41"
            ],
            [
             0.9,
             "#4d9221"
            ],
            [
             1,
             "#276419"
            ]
           ],
           "sequential": [
            [
             0,
             "#0d0887"
            ],
            [
             0.1111111111111111,
             "#46039f"
            ],
            [
             0.2222222222222222,
             "#7201a8"
            ],
            [
             0.3333333333333333,
             "#9c179e"
            ],
            [
             0.4444444444444444,
             "#bd3786"
            ],
            [
             0.5555555555555556,
             "#d8576b"
            ],
            [
             0.6666666666666666,
             "#ed7953"
            ],
            [
             0.7777777777777778,
             "#fb9f3a"
            ],
            [
             0.8888888888888888,
             "#fdca26"
            ],
            [
             1,
             "#f0f921"
            ]
           ],
           "sequentialminus": [
            [
             0,
             "#0d0887"
            ],
            [
             0.1111111111111111,
             "#46039f"
            ],
            [
             0.2222222222222222,
             "#7201a8"
            ],
            [
             0.3333333333333333,
             "#9c179e"
            ],
            [
             0.4444444444444444,
             "#bd3786"
            ],
            [
             0.5555555555555556,
             "#d8576b"
            ],
            [
             0.6666666666666666,
             "#ed7953"
            ],
            [
             0.7777777777777778,
             "#fb9f3a"
            ],
            [
             0.8888888888888888,
             "#fdca26"
            ],
            [
             1,
             "#f0f921"
            ]
           ]
          },
          "colorway": [
           "#636efa",
           "#EF553B",
           "#00cc96",
           "#ab63fa",
           "#FFA15A",
           "#19d3f3",
           "#FF6692",
           "#B6E880",
           "#FF97FF",
           "#FECB52"
          ],
          "font": {
           "color": "#2a3f5f"
          },
          "geo": {
           "bgcolor": "white",
           "lakecolor": "white",
           "landcolor": "#E5ECF6",
           "showlakes": true,
           "showland": true,
           "subunitcolor": "white"
          },
          "hoverlabel": {
           "align": "left"
          },
          "hovermode": "closest",
          "mapbox": {
           "style": "light"
          },
          "paper_bgcolor": "white",
          "plot_bgcolor": "#E5ECF6",
          "polar": {
           "angularaxis": {
            "gridcolor": "white",
            "linecolor": "white",
            "ticks": ""
           },
           "bgcolor": "#E5ECF6",
           "radialaxis": {
            "gridcolor": "white",
            "linecolor": "white",
            "ticks": ""
           }
          },
          "scene": {
           "xaxis": {
            "backgroundcolor": "#E5ECF6",
            "gridcolor": "white",
            "gridwidth": 2,
            "linecolor": "white",
            "showbackground": true,
            "ticks": "",
            "zerolinecolor": "white"
           },
           "yaxis": {
            "backgroundcolor": "#E5ECF6",
            "gridcolor": "white",
            "gridwidth": 2,
            "linecolor": "white",
            "showbackground": true,
            "ticks": "",
            "zerolinecolor": "white"
           },
           "zaxis": {
            "backgroundcolor": "#E5ECF6",
            "gridcolor": "white",
            "gridwidth": 2,
            "linecolor": "white",
            "showbackground": true,
            "ticks": "",
            "zerolinecolor": "white"
           }
          },
          "shapedefaults": {
           "line": {
            "color": "#2a3f5f"
           }
          },
          "ternary": {
           "aaxis": {
            "gridcolor": "white",
            "linecolor": "white",
            "ticks": ""
           },
           "baxis": {
            "gridcolor": "white",
            "linecolor": "white",
            "ticks": ""
           },
           "bgcolor": "#E5ECF6",
           "caxis": {
            "gridcolor": "white",
            "linecolor": "white",
            "ticks": ""
           }
          },
          "title": {
           "x": 0.05
          },
          "xaxis": {
           "automargin": true,
           "gridcolor": "white",
           "linecolor": "white",
           "ticks": "",
           "title": {
            "standoff": 15
           },
           "zerolinecolor": "white",
           "zerolinewidth": 2
          },
          "yaxis": {
           "automargin": true,
           "gridcolor": "white",
           "linecolor": "white",
           "ticks": "",
           "title": {
            "standoff": 15
           },
           "zerolinecolor": "white",
           "zerolinewidth": 2
          }
         }
        },
        "title": {
         "text": "Yield per Harvest Month"
        },
        "xaxis": {
         "anchor": "y",
         "domain": [
          0,
          1
         ],
         "title": {
          "text": "harvest_month"
         }
        },
        "yaxis": {
         "anchor": "x",
         "domain": [
          0,
          1
         ],
         "title": {
          "text": "yield_kg_per_hectare"
         }
        }
       }
      }
     },
     "metadata": {},
     "output_type": "display_data"
    },
    {
     "data": {
      "application/vnd.plotly.v1+json": {
       "config": {
        "plotlyServerURL": "https://plot.ly"
       },
       "data": [
        {
         "alignmentgroup": "True",
         "hovertemplate": "Harvest duration (days)=%{x}<br>Rendimiento (kg/ha)=%{y}<extra></extra>",
         "legendgroup": "",
         "marker": {
          "color": "lightskyblue"
         },
         "name": "",
         "notched": false,
         "offsetgroup": "",
         "orientation": "v",
         "showlegend": false,
         "type": "box",
         "x": [
          "(120, 125]",
          "(110, 115]",
          "(140, 145]",
          "(130, 135]",
          "(100, 105]",
          "(110, 115]",
          "(140, 145]",
          "(120, 125]",
          "(115, 120]",
          "(95, 100]",
          "(140, 145]",
          "(115, 120]",
          "(125, 130]",
          "(115, 120]",
          "(120, 125]",
          "(95, 100]",
          "(85, 90]",
          "(145, 150]",
          "(135, 140]",
          "(105, 110]",
          "(110, 115]",
          "(110, 115]",
          "(120, 125]",
          "(140, 145]",
          "(115, 120]",
          "(105, 110]",
          "(90, 95]",
          "(135, 140]",
          "(115, 120]",
          "(100, 105]",
          "(130, 135]",
          "(110, 115]",
          "(105, 110]",
          "(145, 150]",
          "(125, 130]",
          "(135, 140]",
          "(140, 145]",
          "(135, 140]",
          "(100, 105]",
          "(95, 100]",
          "(90, 95]",
          "(110, 115]",
          "(140, 145]",
          "(120, 125]",
          "(120, 125]",
          "(120, 125]",
          "(120, 125]",
          "(90, 95]",
          "(95, 100]",
          "(95, 100]",
          "(140, 145]",
          "(140, 145]",
          "(120, 125]",
          "(105, 110]",
          "(130, 135]",
          "(130, 135]",
          "(145, 150]",
          "(145, 150]",
          "(120, 125]",
          "(130, 135]",
          "(130, 135]",
          "(115, 120]",
          "(95, 100]",
          "(90, 95]",
          "(105, 110]",
          "(105, 110]",
          "(110, 115]",
          "(95, 100]",
          "(120, 125]",
          "(130, 135]",
          "(130, 135]",
          "(90, 95]",
          "(105, 110]",
          "(110, 115]",
          "(135, 140]",
          "(100, 105]",
          "(100, 105]",
          "(115, 120]",
          "(140, 145]",
          "(90, 95]",
          "(135, 140]",
          "(140, 145]",
          "(130, 135]",
          "(140, 145]",
          "(115, 120]",
          "(125, 130]",
          "(115, 120]",
          "(120, 125]",
          "(125, 130]",
          "(95, 100]",
          "(95, 100]",
          "(130, 135]",
          "(95, 100]",
          "(100, 105]",
          "(115, 120]",
          "(125, 130]",
          "(105, 110]",
          "(105, 110]",
          "(125, 130]",
          "(120, 125]",
          "(105, 110]",
          "(105, 110]",
          "(95, 100]",
          "(115, 120]",
          "(100, 105]",
          "(95, 100]",
          "(95, 100]",
          "(120, 125]",
          "(140, 145]",
          "(100, 105]",
          "(140, 145]",
          "(115, 120]",
          "(130, 135]",
          "(120, 125]",
          "(135, 140]",
          "(135, 140]",
          "(135, 140]",
          "(135, 140]",
          "(130, 135]",
          "(130, 135]",
          "(85, 90]",
          "(125, 130]",
          "(95, 100]",
          "(135, 140]",
          "(90, 95]",
          "(90, 95]",
          "(115, 120]",
          "(105, 110]",
          "(125, 130]",
          "(105, 110]",
          "(100, 105]",
          "(110, 115]",
          "(130, 135]",
          "(130, 135]",
          "(100, 105]",
          "(115, 120]",
          "(105, 110]",
          "(100, 105]",
          "(135, 140]",
          "(95, 100]",
          "(125, 130]",
          "(105, 110]",
          "(145, 150]",
          "(125, 130]",
          "(130, 135]",
          "(95, 100]",
          "(130, 135]",
          "(130, 135]",
          "(125, 130]",
          "(110, 115]",
          "(135, 140]",
          "(85, 90]",
          "(125, 130]",
          "(110, 115]",
          "(110, 115]",
          "(135, 140]",
          "(105, 110]",
          "(110, 115]",
          "(95, 100]",
          "(135, 140]",
          "(145, 150]",
          "(105, 110]",
          "(90, 95]",
          "(95, 100]",
          "(130, 135]",
          "(130, 135]",
          "(145, 150]",
          "(145, 150]",
          "(130, 135]",
          "(90, 95]",
          "(100, 105]",
          "(115, 120]",
          "(105, 110]",
          "(145, 150]",
          "(140, 145]",
          "(125, 130]",
          "(110, 115]",
          "(135, 140]",
          "(140, 145]",
          "(125, 130]",
          "(120, 125]",
          "(105, 110]",
          "(105, 110]",
          "(105, 110]",
          "(95, 100]",
          "(140, 145]",
          "(135, 140]",
          "(115, 120]",
          "(95, 100]",
          "(100, 105]",
          "(95, 100]",
          "(95, 100]",
          "(125, 130]",
          "(135, 140]",
          "(140, 145]",
          "(135, 140]",
          "(130, 135]",
          "(100, 105]",
          "(115, 120]",
          "(115, 120]",
          "(135, 140]",
          "(95, 100]",
          "(145, 150]",
          "(130, 135]",
          "(90, 95]",
          "(120, 125]",
          "(100, 105]",
          "(95, 100]",
          "(100, 105]",
          "(95, 100]",
          "(90, 95]",
          "(135, 140]",
          "(105, 110]",
          "(110, 115]",
          "(95, 100]",
          "(125, 130]",
          "(105, 110]",
          "(115, 120]",
          "(145, 150]",
          "(140, 145]",
          "(90, 95]",
          "(110, 115]",
          "(95, 100]",
          "(110, 115]",
          "(135, 140]",
          "(135, 140]",
          "(140, 145]",
          "(130, 135]",
          "(105, 110]",
          "(140, 145]",
          "(100, 105]",
          "(100, 105]",
          "(145, 150]",
          "(125, 130]",
          "(110, 115]",
          "(130, 135]",
          "(90, 95]",
          "(120, 125]",
          "(115, 120]",
          "(110, 115]",
          "(125, 130]",
          "(140, 145]",
          "(135, 140]",
          "(130, 135]",
          "(100, 105]",
          "(105, 110]",
          "(130, 135]",
          "(105, 110]",
          "(135, 140]",
          "(135, 140]",
          "(110, 115]",
          "(90, 95]",
          "(110, 115]",
          "(140, 145]",
          "(120, 125]",
          "(125, 130]",
          "(90, 95]",
          "(110, 115]",
          "(140, 145]",
          "(140, 145]",
          "(135, 140]",
          "(135, 140]",
          "(115, 120]",
          "(120, 125]",
          "(140, 145]",
          "(95, 100]",
          "(105, 110]",
          "(95, 100]",
          "(105, 110]",
          "(105, 110]",
          "(95, 100]",
          "(105, 110]",
          "(115, 120]",
          "(135, 140]",
          "(100, 105]",
          "(95, 100]",
          "(120, 125]",
          "(105, 110]",
          "(115, 120]",
          "(110, 115]",
          "(90, 95]",
          "(130, 135]",
          "(125, 130]",
          "(130, 135]",
          "(115, 120]",
          "(125, 130]",
          "(100, 105]",
          "(130, 135]",
          "(120, 125]",
          "(125, 130]",
          "(100, 105]",
          "(140, 145]",
          "(110, 115]",
          "(135, 140]",
          "(125, 130]",
          "(130, 135]",
          "(140, 145]",
          "(95, 100]",
          "(115, 120]",
          "(95, 100]",
          "(135, 140]",
          "(90, 95]",
          "(95, 100]",
          "(115, 120]",
          "(95, 100]",
          "(130, 135]",
          "(110, 115]",
          "(115, 120]",
          "(125, 130]",
          "(110, 115]",
          "(130, 135]",
          "(130, 135]",
          "(135, 140]",
          "(100, 105]",
          "(120, 125]",
          "(110, 115]",
          "(130, 135]",
          "(105, 110]",
          "(100, 105]",
          "(145, 150]",
          "(105, 110]",
          "(100, 105]",
          "(135, 140]",
          "(115, 120]",
          "(120, 125]",
          "(110, 115]",
          "(145, 150]",
          "(145, 150]",
          "(115, 120]",
          "(105, 110]",
          "(95, 100]",
          "(145, 150]",
          "(145, 150]",
          "(115, 120]",
          "(135, 140]",
          "(110, 115]",
          "(90, 95]",
          "(125, 130]",
          "(115, 120]",
          "(95, 100]",
          "(140, 145]",
          "(95, 100]",
          "(95, 100]",
          "(125, 130]",
          "(100, 105]",
          "(130, 135]",
          "(90, 95]",
          "(105, 110]",
          "(90, 95]",
          "(120, 125]",
          "(105, 110]",
          "(90, 95]",
          "(140, 145]",
          "(130, 135]",
          "(110, 115]",
          "(120, 125]",
          "(100, 105]",
          "(100, 105]",
          "(90, 95]",
          "(145, 150]",
          "(100, 105]",
          "(130, 135]",
          "(105, 110]",
          "(115, 120]",
          "(85, 90]",
          "(105, 110]",
          "(105, 110]",
          "(100, 105]",
          "(110, 115]",
          "(105, 110]",
          "(120, 125]",
          "(100, 105]",
          "(140, 145]",
          "(110, 115]",
          "(105, 110]",
          "(95, 100]",
          "(100, 105]",
          "(140, 145]",
          "(115, 120]",
          "(105, 110]",
          "(110, 115]",
          "(115, 120]",
          "(115, 120]",
          "(120, 125]",
          "(115, 120]",
          "(100, 105]",
          "(145, 150]",
          "(125, 130]",
          "(140, 145]",
          "(130, 135]",
          "(140, 145]",
          "(115, 120]",
          "(110, 115]",
          "(115, 120]",
          "(140, 145]",
          "(115, 120]",
          "(140, 145]",
          "(140, 145]",
          "(115, 120]",
          "(135, 140]",
          "(105, 110]",
          "(95, 100]",
          "(145, 150]",
          "(100, 105]",
          "(145, 150]",
          "(95, 100]",
          "(105, 110]",
          "(90, 95]",
          "(135, 140]",
          "(120, 125]",
          "(130, 135]",
          "(120, 125]",
          "(140, 145]",
          "(110, 115]",
          "(140, 145]",
          "(110, 115]",
          "(105, 110]",
          "(115, 120]",
          "(100, 105]",
          "(90, 95]",
          "(145, 150]",
          "(125, 130]",
          "(120, 125]",
          "(105, 110]",
          "(120, 125]",
          "(110, 115]",
          "(140, 145]",
          "(100, 105]",
          "(110, 115]",
          "(120, 125]",
          "(130, 135]",
          "(140, 145]",
          "(125, 130]",
          "(110, 115]",
          "(120, 125]",
          "(130, 135]",
          "(130, 135]",
          "(85, 90]",
          "(110, 115]",
          "(105, 110]",
          "(120, 125]",
          "(145, 150]",
          "(135, 140]",
          "(115, 120]",
          "(120, 125]",
          "(110, 115]",
          "(90, 95]",
          "(135, 140]",
          "(130, 135]",
          "(90, 95]",
          "(100, 105]",
          "(140, 145]",
          "(125, 130]",
          "(115, 120]",
          "(105, 110]",
          "(110, 115]",
          "(100, 105]",
          "(135, 140]",
          "(90, 95]",
          "(110, 115]",
          "(130, 135]",
          "(135, 140]",
          "(110, 115]",
          "(105, 110]",
          "(145, 150]",
          "(105, 110]",
          "(115, 120]",
          "(140, 145]",
          "(145, 150]",
          "(90, 95]",
          "(115, 120]",
          "(90, 95]",
          "(120, 125]",
          "(125, 130]",
          "(100, 105]",
          "(125, 130]",
          "(135, 140]",
          "(120, 125]",
          "(110, 115]",
          "(100, 105]",
          "(110, 115]",
          "(140, 145]",
          "(135, 140]",
          "(125, 130]",
          "(120, 125]",
          "(100, 105]",
          "(95, 100]",
          "(100, 105]",
          "(105, 110]",
          "(95, 100]",
          "(145, 150]",
          "(90, 95]",
          "(125, 130]",
          "(100, 105]",
          "(95, 100]",
          "(135, 140]",
          "(100, 105]",
          "(125, 130]",
          "(130, 135]",
          "(130, 135]"
         ],
         "x0": " ",
         "xaxis": "x",
         "y": [
          4408.07,
          5389.98,
          2931.16,
          4227.8,
          4979.96,
          4383.55,
          4501.2,
          5264.09,
          5598.46,
          4893.41,
          2437.08,
          3942.56,
          4942.95,
          4629.49,
          2852.62,
          5755.72,
          3334.23,
          5732.35,
          5723.26,
          3404.58,
          5598.02,
          4788.83,
          3892.74,
          5073.96,
          2200.87,
          5007.11,
          3659.47,
          4938.54,
          2726.92,
          5356.92,
          5632.1,
          2050.61,
          5406.85,
          3105.07,
          3476.08,
          4358.35,
          2049.06,
          3664.7,
          4207.97,
          5633.65,
          2365.31,
          3633.39,
          4170.37,
          3631.96,
          4985.17,
          5051.49,
          5859.3,
          5407.06,
          4776,
          2928.75,
          3932.83,
          3409.28,
          4007.18,
          4146.29,
          3633.18,
          2396.09,
          5392.13,
          4383.93,
          2454.6,
          2431.85,
          4603.67,
          2386.26,
          4626.95,
          2721.66,
          4886.38,
          4712.87,
          4130.33,
          5205.29,
          2775.61,
          5696.62,
          5457,
          2990.97,
          4894.93,
          5252.74,
          2404.56,
          5878.35,
          5205.04,
          5538.52,
          2555.17,
          2443.43,
          5953.33,
          4571.18,
          2764.41,
          2330.45,
          3098.22,
          2613.75,
          2858.28,
          3161.45,
          5536.99,
          4072.41,
          2684.8,
          5826.6,
          5042.66,
          5052.49,
          3142.99,
          2475.24,
          5725.47,
          5187.02,
          5792.82,
          3507.3,
          3919.21,
          4989.35,
          4724.77,
          5528.98,
          5235.26,
          2739.12,
          3621.67,
          5207.98,
          4081.37,
          4313.25,
          5668.46,
          4127.73,
          5488.85,
          2884.17,
          4151.71,
          5317.63,
          5998.29,
          5358.92,
          5773.86,
          2194.06,
          2066.9,
          2972.83,
          5579.16,
          5282.76,
          3362.37,
          2328.15,
          2413.17,
          3073.63,
          3519.56,
          5265.98,
          3010.73,
          2665.35,
          4354.36,
          3809.79,
          4561.92,
          2455.82,
          2471.45,
          3258.32,
          5044.23,
          4943.95,
          2556.94,
          5468.19,
          5509.27,
          5409.69,
          3441.74,
          5952.62,
          2656.47,
          2336.99,
          4375.72,
          4026.44,
          5338.11,
          2655.33,
          4510.13,
          5680.91,
          2275.71,
          2980.51,
          2372.11,
          4802.9,
          2361.68,
          4200.48,
          4583.95,
          3784.05,
          5957.61,
          2400.54,
          4802.24,
          2709.84,
          3747.47,
          5235.23,
          2271.18,
          3274.87,
          3637.12,
          2798.7,
          3758.96,
          2942.57,
          4380.19,
          4330.71,
          2155.13,
          5303.29,
          4097.14,
          3784.41,
          2080.21,
          2872.84,
          5445.97,
          5627.65,
          3883.12,
          4537.59,
          2323.25,
          5861.31,
          2261.15,
          4936.31,
          4189.13,
          5139.04,
          4676.09,
          2463.6,
          3912.98,
          5893.78,
          4802.32,
          3323.58,
          2143.33,
          4866.63,
          3636.84,
          5855.42,
          4770.06,
          3381.17,
          3523.48,
          5459.37,
          5645.95,
          4335.94,
          5827.95,
          4675.75,
          3185.74,
          3740.95,
          2067.56,
          5288.49,
          2167.09,
          5409,
          3943.44,
          3781.43,
          2146.63,
          5856,
          5922.36,
          3411.59,
          3926.07,
          4397.43,
          4742.36,
          2470.07,
          4786.83,
          5217.15,
          5954.03,
          2364.35,
          5402.27,
          4070.97,
          2468.04,
          5154.62,
          2874.26,
          5823.12,
          4102.94,
          3051.4,
          5425.23,
          2395.9,
          4599.46,
          5628.29,
          2938.51,
          5726.36,
          4363.32,
          3876.79,
          3558.89,
          2077.58,
          2126.95,
          5978.14,
          5550.08,
          2994.89,
          3432.67,
          3053.4,
          2616.53,
          3023.75,
          5337.83,
          4697.97,
          4903.47,
          3259.62,
          2308.81,
          2906.87,
          3159.13,
          4463.99,
          5960.64,
          3220.47,
          2681.28,
          5615.49,
          5247.57,
          5638.94,
          2736.54,
          4422.42,
          5058.16,
          5297.31,
          3164.72,
          3572.27,
          4829.12,
          3238.07,
          3640.61,
          5681.54,
          5033.77,
          3148.75,
          5186.93,
          3333.13,
          5135.96,
          4137.09,
          5653.42,
          5459.24,
          3276.6,
          5568.97,
          4851.59,
          5582.8,
          5270.21,
          5920.82,
          5085.37,
          5509.7,
          3128.84,
          2046.41,
          3538.86,
          4920.74,
          2043.13,
          4625.28,
          4636.62,
          4904,
          4121.77,
          4336.71,
          2877.67,
          4641.91,
          3570.54,
          3065.75,
          3211.31,
          3437.04,
          4884.05,
          4530.65,
          2549.32,
          5110.65,
          2150.48,
          2212.28,
          2632.18,
          2882.65,
          2546.01,
          4366.32,
          4016.87,
          4676.14,
          2130.86,
          3465.73,
          3069.43,
          5535.92,
          3386.8,
          2686.95,
          2645.02,
          3997.67,
          2160.32,
          4708.25,
          5970.39,
          2353.79,
          5164.88,
          3744.27,
          4544.99,
          4137.68,
          2524.93,
          5924.44,
          5129.48,
          5052.98,
          4057,
          5904.72,
          2476.87,
          5025.21,
          3992.54,
          3374.46,
          4862.89,
          2512.79,
          3219.65,
          4700.45,
          5218.41,
          3253.41,
          3457.1,
          2454.23,
          5855.15,
          2482.57,
          5879.69,
          5867.22,
          2361,
          5507.04,
          3602.65,
          2794.65,
          2597,
          5980.83,
          4747.41,
          5910.1,
          5486.72,
          2143.45,
          2673.18,
          3494.23,
          5192.59,
          3194.19,
          3736.42,
          2994.61,
          2718.21,
          5486.46,
          5218.56,
          3687.52,
          5394.47,
          2254.04,
          2524.63,
          2837.73,
          4228.09,
          2472.24,
          5236.58,
          3447.1,
          4641.45,
          4789.88,
          5028.19,
          3191.84,
          5114.2,
          4756.07,
          3634.48,
          4958.64,
          4668.88,
          5086.38,
          5147.03,
          5919.14,
          3296.87,
          5654.94,
          3695.01,
          4956.73,
          3366.52,
          4154.6,
          3124.54,
          2681.91,
          4131.77,
          3795.45,
          4505.19,
          3253.12,
          4398.3,
          3684.03,
          3475.32,
          4399.05,
          3922.98,
          2796.49,
          2840.95,
          4349.3,
          3497.06,
          3700.09,
          3268.08,
          2786.59,
          4319.82,
          3715.17,
          5051.37,
          3545.74,
          4097.58,
          4838.69,
          2156.34,
          4794.58,
          2178.54,
          2969.17,
          2137.78,
          3348.47,
          3293.47,
          5836.14,
          4349.87,
          3774.9,
          2889.78,
          3245.85,
          4437.58,
          4248.57,
          3635.15,
          2987.17,
          5667.53,
          2437.1,
          3498.61,
          4545.73,
          4080.3,
          5482.17,
          2066.52,
          3175.45,
          2846.56,
          3967.84,
          2445.53,
          5190.07,
          5396.51,
          5737.73,
          3564.25,
          5588.87,
          2209.89,
          4529.33,
          3193.45,
          4396.41,
          4632.64,
          2752.29,
          5760.8,
          3080.5,
          4913.31,
          5528.08,
          3755.84,
          2229.65,
          2029.16,
          3516.38,
          2023.56,
          3882.79,
          3684.22,
          3555.39,
          3715.81,
          2594.9,
          3708.29,
          3009.05,
          4518.23,
          3672.85,
          2181.78,
          4287.59,
          2531.89,
          4503.82,
          4203.51,
          4590.26,
          5306.25,
          4251.4,
          3708.54,
          2604.41,
          2586.36,
          5891.4
         ],
         "y0": " ",
         "yaxis": "y"
        }
       ],
       "layout": {
        "boxmode": "group",
        "legend": {
         "tracegroupgap": 0
        },
        "template": {
         "data": {
          "bar": [
           {
            "error_x": {
             "color": "#2a3f5f"
            },
            "error_y": {
             "color": "#2a3f5f"
            },
            "marker": {
             "line": {
              "color": "#E5ECF6",
              "width": 0.5
             },
             "pattern": {
              "fillmode": "overlay",
              "size": 10,
              "solidity": 0.2
             }
            },
            "type": "bar"
           }
          ],
          "barpolar": [
           {
            "marker": {
             "line": {
              "color": "#E5ECF6",
              "width": 0.5
             },
             "pattern": {
              "fillmode": "overlay",
              "size": 10,
              "solidity": 0.2
             }
            },
            "type": "barpolar"
           }
          ],
          "carpet": [
           {
            "aaxis": {
             "endlinecolor": "#2a3f5f",
             "gridcolor": "white",
             "linecolor": "white",
             "minorgridcolor": "white",
             "startlinecolor": "#2a3f5f"
            },
            "baxis": {
             "endlinecolor": "#2a3f5f",
             "gridcolor": "white",
             "linecolor": "white",
             "minorgridcolor": "white",
             "startlinecolor": "#2a3f5f"
            },
            "type": "carpet"
           }
          ],
          "choropleth": [
           {
            "colorbar": {
             "outlinewidth": 0,
             "ticks": ""
            },
            "type": "choropleth"
           }
          ],
          "contour": [
           {
            "colorbar": {
             "outlinewidth": 0,
             "ticks": ""
            },
            "colorscale": [
             [
              0,
              "#0d0887"
             ],
             [
              0.1111111111111111,
              "#46039f"
             ],
             [
              0.2222222222222222,
              "#7201a8"
             ],
             [
              0.3333333333333333,
              "#9c179e"
             ],
             [
              0.4444444444444444,
              "#bd3786"
             ],
             [
              0.5555555555555556,
              "#d8576b"
             ],
             [
              0.6666666666666666,
              "#ed7953"
             ],
             [
              0.7777777777777778,
              "#fb9f3a"
             ],
             [
              0.8888888888888888,
              "#fdca26"
             ],
             [
              1,
              "#f0f921"
             ]
            ],
            "type": "contour"
           }
          ],
          "contourcarpet": [
           {
            "colorbar": {
             "outlinewidth": 0,
             "ticks": ""
            },
            "type": "contourcarpet"
           }
          ],
          "heatmap": [
           {
            "colorbar": {
             "outlinewidth": 0,
             "ticks": ""
            },
            "colorscale": [
             [
              0,
              "#0d0887"
             ],
             [
              0.1111111111111111,
              "#46039f"
             ],
             [
              0.2222222222222222,
              "#7201a8"
             ],
             [
              0.3333333333333333,
              "#9c179e"
             ],
             [
              0.4444444444444444,
              "#bd3786"
             ],
             [
              0.5555555555555556,
              "#d8576b"
             ],
             [
              0.6666666666666666,
              "#ed7953"
             ],
             [
              0.7777777777777778,
              "#fb9f3a"
             ],
             [
              0.8888888888888888,
              "#fdca26"
             ],
             [
              1,
              "#f0f921"
             ]
            ],
            "type": "heatmap"
           }
          ],
          "heatmapgl": [
           {
            "colorbar": {
             "outlinewidth": 0,
             "ticks": ""
            },
            "colorscale": [
             [
              0,
              "#0d0887"
             ],
             [
              0.1111111111111111,
              "#46039f"
             ],
             [
              0.2222222222222222,
              "#7201a8"
             ],
             [
              0.3333333333333333,
              "#9c179e"
             ],
             [
              0.4444444444444444,
              "#bd3786"
             ],
             [
              0.5555555555555556,
              "#d8576b"
             ],
             [
              0.6666666666666666,
              "#ed7953"
             ],
             [
              0.7777777777777778,
              "#fb9f3a"
             ],
             [
              0.8888888888888888,
              "#fdca26"
             ],
             [
              1,
              "#f0f921"
             ]
            ],
            "type": "heatmapgl"
           }
          ],
          "histogram": [
           {
            "marker": {
             "pattern": {
              "fillmode": "overlay",
              "size": 10,
              "solidity": 0.2
             }
            },
            "type": "histogram"
           }
          ],
          "histogram2d": [
           {
            "colorbar": {
             "outlinewidth": 0,
             "ticks": ""
            },
            "colorscale": [
             [
              0,
              "#0d0887"
             ],
             [
              0.1111111111111111,
              "#46039f"
             ],
             [
              0.2222222222222222,
              "#7201a8"
             ],
             [
              0.3333333333333333,
              "#9c179e"
             ],
             [
              0.4444444444444444,
              "#bd3786"
             ],
             [
              0.5555555555555556,
              "#d8576b"
             ],
             [
              0.6666666666666666,
              "#ed7953"
             ],
             [
              0.7777777777777778,
              "#fb9f3a"
             ],
             [
              0.8888888888888888,
              "#fdca26"
             ],
             [
              1,
              "#f0f921"
             ]
            ],
            "type": "histogram2d"
           }
          ],
          "histogram2dcontour": [
           {
            "colorbar": {
             "outlinewidth": 0,
             "ticks": ""
            },
            "colorscale": [
             [
              0,
              "#0d0887"
             ],
             [
              0.1111111111111111,
              "#46039f"
             ],
             [
              0.2222222222222222,
              "#7201a8"
             ],
             [
              0.3333333333333333,
              "#9c179e"
             ],
             [
              0.4444444444444444,
              "#bd3786"
             ],
             [
              0.5555555555555556,
              "#d8576b"
             ],
             [
              0.6666666666666666,
              "#ed7953"
             ],
             [
              0.7777777777777778,
              "#fb9f3a"
             ],
             [
              0.8888888888888888,
              "#fdca26"
             ],
             [
              1,
              "#f0f921"
             ]
            ],
            "type": "histogram2dcontour"
           }
          ],
          "mesh3d": [
           {
            "colorbar": {
             "outlinewidth": 0,
             "ticks": ""
            },
            "type": "mesh3d"
           }
          ],
          "parcoords": [
           {
            "line": {
             "colorbar": {
              "outlinewidth": 0,
              "ticks": ""
             }
            },
            "type": "parcoords"
           }
          ],
          "pie": [
           {
            "automargin": true,
            "type": "pie"
           }
          ],
          "scatter": [
           {
            "fillpattern": {
             "fillmode": "overlay",
             "size": 10,
             "solidity": 0.2
            },
            "type": "scatter"
           }
          ],
          "scatter3d": [
           {
            "line": {
             "colorbar": {
              "outlinewidth": 0,
              "ticks": ""
             }
            },
            "marker": {
             "colorbar": {
              "outlinewidth": 0,
              "ticks": ""
             }
            },
            "type": "scatter3d"
           }
          ],
          "scattercarpet": [
           {
            "marker": {
             "colorbar": {
              "outlinewidth": 0,
              "ticks": ""
             }
            },
            "type": "scattercarpet"
           }
          ],
          "scattergeo": [
           {
            "marker": {
             "colorbar": {
              "outlinewidth": 0,
              "ticks": ""
             }
            },
            "type": "scattergeo"
           }
          ],
          "scattergl": [
           {
            "marker": {
             "colorbar": {
              "outlinewidth": 0,
              "ticks": ""
             }
            },
            "type": "scattergl"
           }
          ],
          "scattermapbox": [
           {
            "marker": {
             "colorbar": {
              "outlinewidth": 0,
              "ticks": ""
             }
            },
            "type": "scattermapbox"
           }
          ],
          "scatterpolar": [
           {
            "marker": {
             "colorbar": {
              "outlinewidth": 0,
              "ticks": ""
             }
            },
            "type": "scatterpolar"
           }
          ],
          "scatterpolargl": [
           {
            "marker": {
             "colorbar": {
              "outlinewidth": 0,
              "ticks": ""
             }
            },
            "type": "scatterpolargl"
           }
          ],
          "scatterternary": [
           {
            "marker": {
             "colorbar": {
              "outlinewidth": 0,
              "ticks": ""
             }
            },
            "type": "scatterternary"
           }
          ],
          "surface": [
           {
            "colorbar": {
             "outlinewidth": 0,
             "ticks": ""
            },
            "colorscale": [
             [
              0,
              "#0d0887"
             ],
             [
              0.1111111111111111,
              "#46039f"
             ],
             [
              0.2222222222222222,
              "#7201a8"
             ],
             [
              0.3333333333333333,
              "#9c179e"
             ],
             [
              0.4444444444444444,
              "#bd3786"
             ],
             [
              0.5555555555555556,
              "#d8576b"
             ],
             [
              0.6666666666666666,
              "#ed7953"
             ],
             [
              0.7777777777777778,
              "#fb9f3a"
             ],
             [
              0.8888888888888888,
              "#fdca26"
             ],
             [
              1,
              "#f0f921"
             ]
            ],
            "type": "surface"
           }
          ],
          "table": [
           {
            "cells": {
             "fill": {
              "color": "#EBF0F8"
             },
             "line": {
              "color": "white"
             }
            },
            "header": {
             "fill": {
              "color": "#C8D4E3"
             },
             "line": {
              "color": "white"
             }
            },
            "type": "table"
           }
          ]
         },
         "layout": {
          "annotationdefaults": {
           "arrowcolor": "#2a3f5f",
           "arrowhead": 0,
           "arrowwidth": 1
          },
          "autotypenumbers": "strict",
          "coloraxis": {
           "colorbar": {
            "outlinewidth": 0,
            "ticks": ""
           }
          },
          "colorscale": {
           "diverging": [
            [
             0,
             "#8e0152"
            ],
            [
             0.1,
             "#c51b7d"
            ],
            [
             0.2,
             "#de77ae"
            ],
            [
             0.3,
             "#f1b6da"
            ],
            [
             0.4,
             "#fde0ef"
            ],
            [
             0.5,
             "#f7f7f7"
            ],
            [
             0.6,
             "#e6f5d0"
            ],
            [
             0.7,
             "#b8e186"
            ],
            [
             0.8,
             "#7fbc41"
            ],
            [
             0.9,
             "#4d9221"
            ],
            [
             1,
             "#276419"
            ]
           ],
           "sequential": [
            [
             0,
             "#0d0887"
            ],
            [
             0.1111111111111111,
             "#46039f"
            ],
            [
             0.2222222222222222,
             "#7201a8"
            ],
            [
             0.3333333333333333,
             "#9c179e"
            ],
            [
             0.4444444444444444,
             "#bd3786"
            ],
            [
             0.5555555555555556,
             "#d8576b"
            ],
            [
             0.6666666666666666,
             "#ed7953"
            ],
            [
             0.7777777777777778,
             "#fb9f3a"
            ],
            [
             0.8888888888888888,
             "#fdca26"
            ],
            [
             1,
             "#f0f921"
            ]
           ],
           "sequentialminus": [
            [
             0,
             "#0d0887"
            ],
            [
             0.1111111111111111,
             "#46039f"
            ],
            [
             0.2222222222222222,
             "#7201a8"
            ],
            [
             0.3333333333333333,
             "#9c179e"
            ],
            [
             0.4444444444444444,
             "#bd3786"
            ],
            [
             0.5555555555555556,
             "#d8576b"
            ],
            [
             0.6666666666666666,
             "#ed7953"
            ],
            [
             0.7777777777777778,
             "#fb9f3a"
            ],
            [
             0.8888888888888888,
             "#fdca26"
            ],
            [
             1,
             "#f0f921"
            ]
           ]
          },
          "colorway": [
           "#636efa",
           "#EF553B",
           "#00cc96",
           "#ab63fa",
           "#FFA15A",
           "#19d3f3",
           "#FF6692",
           "#B6E880",
           "#FF97FF",
           "#FECB52"
          ],
          "font": {
           "color": "#2a3f5f"
          },
          "geo": {
           "bgcolor": "white",
           "lakecolor": "white",
           "landcolor": "#E5ECF6",
           "showlakes": true,
           "showland": true,
           "subunitcolor": "white"
          },
          "hoverlabel": {
           "align": "left"
          },
          "hovermode": "closest",
          "mapbox": {
           "style": "light"
          },
          "paper_bgcolor": "white",
          "plot_bgcolor": "#E5ECF6",
          "polar": {
           "angularaxis": {
            "gridcolor": "white",
            "linecolor": "white",
            "ticks": ""
           },
           "bgcolor": "#E5ECF6",
           "radialaxis": {
            "gridcolor": "white",
            "linecolor": "white",
            "ticks": ""
           }
          },
          "scene": {
           "xaxis": {
            "backgroundcolor": "#E5ECF6",
            "gridcolor": "white",
            "gridwidth": 2,
            "linecolor": "white",
            "showbackground": true,
            "ticks": "",
            "zerolinecolor": "white"
           },
           "yaxis": {
            "backgroundcolor": "#E5ECF6",
            "gridcolor": "white",
            "gridwidth": 2,
            "linecolor": "white",
            "showbackground": true,
            "ticks": "",
            "zerolinecolor": "white"
           },
           "zaxis": {
            "backgroundcolor": "#E5ECF6",
            "gridcolor": "white",
            "gridwidth": 2,
            "linecolor": "white",
            "showbackground": true,
            "ticks": "",
            "zerolinecolor": "white"
           }
          },
          "shapedefaults": {
           "line": {
            "color": "#2a3f5f"
           }
          },
          "ternary": {
           "aaxis": {
            "gridcolor": "white",
            "linecolor": "white",
            "ticks": ""
           },
           "baxis": {
            "gridcolor": "white",
            "linecolor": "white",
            "ticks": ""
           },
           "bgcolor": "#E5ECF6",
           "caxis": {
            "gridcolor": "white",
            "linecolor": "white",
            "ticks": ""
           }
          },
          "title": {
           "x": 0.05
          },
          "xaxis": {
           "automargin": true,
           "gridcolor": "white",
           "linecolor": "white",
           "ticks": "",
           "title": {
            "standoff": 15
           },
           "zerolinecolor": "white",
           "zerolinewidth": 2
          },
          "yaxis": {
           "automargin": true,
           "gridcolor": "white",
           "linecolor": "white",
           "ticks": "",
           "title": {
            "standoff": 15
           },
           "zerolinecolor": "white",
           "zerolinewidth": 2
          }
         }
        },
        "title": {
         "text": "Yield per Harvest Duration (grouped)"
        },
        "xaxis": {
         "anchor": "y",
         "domain": [
          0,
          1
         ],
         "title": {
          "text": "Harvest duration (days)"
         }
        },
        "yaxis": {
         "anchor": "x",
         "domain": [
          0,
          1
         ],
         "title": {
          "text": "Rendimiento (kg/ha)"
         }
        }
       }
      }
     },
     "metadata": {},
     "output_type": "display_data"
    }
   ],
   "source": [
    "# Extraer mes de siembra y cosecha\n",
    "df['sowing_month'] = df['sowing_date'].dt.month\n",
    "df['harvest_month'] = df['harvest_date'].dt.month\n",
    "\n",
    "# Boxplot por mes\n",
    "fig = px.box(df, x='sowing_month', y='yield_kg_per_hectare', points='outliers',\n",
    "             title='Yield per Sowing Month', color_discrete_sequence=['lightskyblue'])\n",
    "fig.show()\n",
    "\n",
    "fig = px.box(df, x='harvest_month', y='yield_kg_per_hectare', points='outliers',\n",
    "             title='Yield per Harvest Month',color_discrete_sequence=['lightskyblue'])\n",
    "fig.show()\n",
    "\n",
    "\n",
    "# Agrupar total_days en tramos de 5 días\n",
    "df['duration_group'] = pd.cut(df['total_days'], bins=range(85, 155, 5))\n",
    "\n",
    "# Convertir los intervalos en string para que plotly los entienda\n",
    "df['duration_group'] = df['duration_group'].astype(str)\n",
    "\n",
    "# Graficar boxplot\n",
    "fig = px.box(\n",
    "    df,\n",
    "    x='duration_group',\n",
    "    y='yield_kg_per_hectare',\n",
    "    title='Yield per Harvest Duration (grouped)',\n",
    "    color_discrete_sequence=['lightskyblue'],\n",
    "    labels={\n",
    "        'duration_group': 'Harvest duration (days)',\n",
    "        'yield_kg_per_hectare': 'Rendimiento (kg/ha)'\n",
    "    }\n",
    ")\n",
    "fig.show()\n"
   ]
  },
  {
   "cell_type": "markdown",
   "id": "2c2a9cd0",
   "metadata": {},
   "source": [
    "# 🌾 Detailed Insight on the Smart Farming Sensor Dataset\n",
    "\n",
    "## 1. General Overview of the Dataset\n",
    "The dataset simulates real-world smart farming operations driven by IoT sensors and satellite data. It captures environmental and operational variables affecting crop yield across 500 farms located in regions such as India, the USA, and Africa.\n",
    "\n",
    "---\n",
    "\n",
    "## 2. Data Quality and Structure\n",
    "\n",
    "**Completeness**:  \n",
    "After imputing missing values in `irrigation_type` and `crop_disease_status` (using the mode), the dataset is complete and ready for analysis.\n",
    "\n",
    "**Variable Types**:  \n",
    "Balanced mix of:\n",
    "\n",
    "- **Numerical**: `soil moisture`, `pH`, `temperature`, `NDVI`, etc.  \n",
    "- **Categorical**: `region`, `crop type`, `irrigation type`, `fertilizer type`, `disease status`.\n",
    "\n",
    "**Dates**: `sowing_date` and `harvest_date` allow extraction of:\n",
    "\n",
    "- `sowing_month`  \n",
    "- `harvest_month`  \n",
    "- `crop cycle duration`\n",
    "\n",
    "---\n",
    "\n",
    "## 3. Distribution and Key Trends\n",
    "\n",
    "### 🌱 Yield (`yield_kg_per_hectare`)\n",
    "- Distribution shows skewness and outliers (some farms perform significantly better or worse).\n",
    "- Yield varies by:\n",
    "  - Region\n",
    "  - Crop type\n",
    "  - Farming practices\n",
    "\n",
    "### 🔢 Categorical Variables\n",
    "- Most common irrigation: **Sprinkler → Manual → Drip**\n",
    "- Frequent disease statuses: **Severe, Mild** → crop health is a challenge.\n",
    "\n",
    "### 🌡️ Numerical Variables\n",
    "High variability in:\n",
    "\n",
    "- Soil moisture  \n",
    "- Temperature  \n",
    "- Rainfall  \n",
    "- Pesticide usage  \n",
    "\n",
    "Reflects diversity in environmental and farming conditions.\n",
    "\n",
    "---\n",
    "\n",
    "## 4. Relationships and Impact on Yield\n",
    "\n",
    "### 🌍 By Region and Crop Type\n",
    "- Yield varies notably by region and crop.\n",
    "- Some combinations consistently outperform others → potential for diversification or specialization.\n",
    "\n",
    "### 🚜 Agricultural Practices\n",
    "- **Irrigation and fertilizer type** matter:\n",
    "  - Drip irrigation + mixed fertilizers → better yield.\n",
    "- **Pesticide usage** is uneven → possible link to disease control and yield.\n",
    "\n",
    "### 🌞 Environmental Factors\n",
    "Positive correlation between yield and:\n",
    "\n",
    "- NDVI  \n",
    "- Soil moisture  \n",
    "- Sunlight hours\n",
    "\n",
    "### 📅 Seasonality\n",
    "- Sowing and harvest months impact yield.\n",
    "- Reinforces importance of crop calendar planning.\n",
    "\n",
    "---\n",
    "\n",
    "## 5. Opportunities for Optimization and Prediction\n",
    "\n",
    "- **Predictive Modeling**: Perfect dataset to train ML models for yield prediction.\n",
    "- **Decision Support**: Key factors can feed recommendation systems tailored by region/crop.\n",
    "- **Risk Identification**: Disease-yield links may help anticipate and prevent crop loss.\n",
    "\n",
    "---\n",
    "\n",
    "## 6. Recommendations for Dataset Users\n",
    "\n",
    "🔍 **Explore Correlations**:  \n",
    "Check correlation matrices among numerical variables (e.g., NDVI, moisture, temperature).\n",
    "\n",
    "🧩 **Analyze Interactions**:  \n",
    "Study combinations of practices + environment (e.g., irrigation × fertilizer).\n",
    "\n",
    "🗺️ **Regional Visualization**:  \n",
    "Use maps/dashboards to analyze efficiency and challenges by area.\n",
    "\n",
    "---\n",
    "\n",
    "## ✅ Conclusion\n",
    "The Smart Farming Sensor Dataset offers a rich, realistic view of modern agriculture. It enables the identification of key yield drivers, supports predictive modeling, and provides valuable insight for agricultural optimization and decision-making.\n"
   ]
  },
  {
   "cell_type": "markdown",
   "id": "a32655fd",
   "metadata": {},
   "source": []
  }
 ],
 "metadata": {
  "kernelspec": {
   "display_name": "Python 3",
   "language": "python",
   "name": "python3"
  },
  "language_info": {
   "codemirror_mode": {
    "name": "ipython",
    "version": 3
   },
   "file_extension": ".py",
   "mimetype": "text/x-python",
   "name": "python",
   "nbconvert_exporter": "python",
   "pygments_lexer": "ipython3",
   "version": "3.12.3"
  }
 },
 "nbformat": 4,
 "nbformat_minor": 5
}
